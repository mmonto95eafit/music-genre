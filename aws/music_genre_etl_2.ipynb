{
 "cells": [
  {
   "cell_type": "code",
   "execution_count": 9,
   "id": "97d629ef",
   "metadata": {},
   "outputs": [],
   "source": [
    "import pandas as pd\n",
    "import numpy as np\n",
    "from sklearn.preprocessing import MinMaxScaler"
   ]
  },
  {
   "cell_type": "code",
   "execution_count": 10,
   "id": "c164acdc",
   "metadata": {},
   "outputs": [],
   "source": [
    "bucket = 'musicgenredatalake'\n",
    "data_key='standardized/datasets/features_3_sec.csv'\n",
    "data_location = 's3://{}/{}'.format(bucket, data_key)\n",
    "df = pd.read_csv(data_location)"
   ]
  },
  {
   "cell_type": "code",
   "execution_count": 11,
   "id": "82fc16d3",
   "metadata": {},
   "outputs": [],
   "source": [
    "def mahalanobis(x=None, data=None, cov=None):\n",
    "\n",
    "    x_mu = x - np.mean(data)\n",
    "    #if not cov:\n",
    "        #cov = np.cov(x.T)\n",
    "    inv_cov = np.linalg.inv(cov)\n",
    "    mahalanobis_distances = np.diag(np.dot((x_mu @ inv_cov), x_mu.T))\n",
    "   \n",
    "    return mahalanobis_distances"
   ]
  },
  {
   "cell_type": "code",
   "execution_count": 12,
   "id": "218c51a0",
   "metadata": {},
   "outputs": [],
   "source": [
    "\n",
    "df['label'] = df['label'].astype('category')\n",
    "df['length'] = pd.to_numeric(df['length'])\n",
    "df_x = df.drop(['filename', 'label', 'length'], axis=1)\n",
    "x = np.array(df_x)\n",
    "y = df['label'].cat.codes.values\n",
    "scaler = MinMaxScaler()\n",
    "x_norm = scaler.fit_transform(x)\n",
    "data = df.iloc[:, 2:-1]\n",
    "data_norm = scaler.fit_transform(data)\n",
    "cov_h_norm = np.cov(x_norm.T)\n",
    "cov_i_norm = cov_h_norm + 10 * np.eye(57, 57)\n",
    "mahalanobis_dis_i_norm = mahalanobis(x=x_norm, data=data_norm, cov=cov_i_norm)\n",
    "p25 = np.percentile(mahalanobis_dis_i_norm, 25)\n",
    "p75 = np.percentile(mahalanobis_dis_i_norm, 75)\n",
    "threshold = p75 + 3 * (p75 - p25)\n",
    "x_fn = x_norm[mahalanobis_dis_i_norm < threshold]\n",
    "y_fn = y[mahalanobis_dis_i_norm < threshold]\n",
    "cols = df_x.columns\n",
    "df_X_fn = pd.DataFrame(x_fn)"
   ]
  },
  {
   "cell_type": "code",
   "execution_count": 13,
   "id": "3034cd29",
   "metadata": {},
   "outputs": [],
   "source": [
    "cols = ['chroma_stft_mean', 'chroma_stft_var', 'rms_mean',\n",
    "           'rms_var', 'spectral_centroid_mean', 'spectral_centroid_var',\n",
    "           'spectral_bandwidth_mean', 'spectral_bandwidth_var', 'rolloff_mean',\n",
    "           'rolloff_var', 'zero_crossing_rate_mean', 'zero_crossing_rate_var',\n",
    "           'harmony_mean', 'harmony_var', 'perceptr_mean', 'perceptr_var', 'tempo',\n",
    "           'mfcc1_mean', 'mfcc1_var', 'mfcc2_mean', 'mfcc2_var', 'mfcc3_mean',\n",
    "           'mfcc3_var', 'mfcc4_mean', 'mfcc4_var', 'mfcc5_mean', 'mfcc5_var',\n",
    "           'mfcc6_mean', 'mfcc6_var', 'mfcc7_mean', 'mfcc7_var', 'mfcc8_mean',\n",
    "           'mfcc8_var', 'mfcc9_mean', 'mfcc9_var', 'mfcc10_mean', 'mfcc10_var',\n",
    "           'mfcc11_mean', 'mfcc11_var', 'mfcc12_mean', 'mfcc12_var', 'mfcc13_mean',\n",
    "           'mfcc13_var', 'mfcc14_mean', 'mfcc14_var', 'mfcc15_mean', 'mfcc15_var',\n",
    "           'mfcc16_mean', 'mfcc16_var', 'mfcc17_mean', 'mfcc17_var', 'mfcc18_mean',\n",
    "           'mfcc18_var', 'mfcc19_mean', 'mfcc19_var', 'mfcc20_mean', 'mfcc20_var', 'label']"
   ]
  },
  {
   "cell_type": "code",
   "execution_count": 14,
   "id": "2dbcba5f",
   "metadata": {},
   "outputs": [],
   "source": [
    "df_X_fn['57']=y_fn\n",
    "df_fn=df_X_fn\n",
    "df_fn.columns=cols"
   ]
  },
  {
   "cell_type": "code",
   "execution_count": 15,
   "id": "257f8a7b",
   "metadata": {},
   "outputs": [],
   "source": [
    "df_fn.to_csv('s3://musicgenredatalake/trusted/datasets/features_3_sec.csv', index=False)"
   ]
  },
  {
   "cell_type": "code",
   "execution_count": null,
   "id": "24021c1b",
   "metadata": {},
   "outputs": [],
   "source": []
  }
 ],
 "metadata": {
  "kernelspec": {
   "display_name": "conda_python3",
   "language": "python",
   "name": "conda_python3"
  },
  "language_info": {
   "codemirror_mode": {
    "name": "ipython",
    "version": 3
   },
   "file_extension": ".py",
   "mimetype": "text/x-python",
   "name": "python",
   "nbconvert_exporter": "python",
   "pygments_lexer": "ipython3",
   "version": "3.6.13"
  }
 },
 "nbformat": 4,
 "nbformat_minor": 5
}
