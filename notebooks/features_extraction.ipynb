{
 "cells": [
  {
   "cell_type": "code",
   "execution_count": null,
   "outputs": [],
   "source": [
    "import librosa.display\n",
    "import matplotlib.pyplot as plt\n",
    "import numpy as np\n",
    "import pandas as pd\n",
    "\n",
    "import os\n",
    "from time import perf_counter"
   ],
   "metadata": {
    "collapsed": false,
    "pycharm": {
     "name": "#%%\n"
    }
   }
  },
  {
   "cell_type": "code",
   "execution_count": null,
   "outputs": [],
   "source": [
    "data_dir = '../data/genres_original'\n",
    "genres = ['blues', 'classical', 'country', 'disco', 'hiphop', 'jazz', 'metal', 'pop', 'reggae', 'rock']\n",
    "window_size = 3"
   ],
   "metadata": {
    "collapsed": false,
    "pycharm": {
     "name": "#%%\n"
    }
   }
  },
  {
   "cell_type": "code",
   "execution_count": null,
   "outputs": [],
   "source": [
    "columns = ['filename', 'length', 'chroma_stft_mean', 'chroma_stft_var', 'rms_mean',\n",
    "           'rms_var', 'spectral_centroid_mean', 'spectral_centroid_var',\n",
    "           'spectral_bandwidth_mean', 'spectral_bandwidth_var', 'rolloff_mean',\n",
    "           'rolloff_var', 'zero_crossing_rate_mean', 'zero_crossing_rate_var',\n",
    "           'harmony_mean', 'harmony_var', 'perceptr_mean', 'perceptr_var', 'tempo',\n",
    "           'mfcc1_mean', 'mfcc1_var', 'mfcc2_mean', 'mfcc2_var', 'mfcc3_mean',\n",
    "           'mfcc3_var', 'mfcc4_mean', 'mfcc4_var', 'mfcc5_mean', 'mfcc5_var',\n",
    "           'mfcc6_mean', 'mfcc6_var', 'mfcc7_mean', 'mfcc7_var', 'mfcc8_mean',\n",
    "           'mfcc8_var', 'mfcc9_mean', 'mfcc9_var', 'mfcc10_mean', 'mfcc10_var',\n",
    "           'mfcc11_mean', 'mfcc11_var', 'mfcc12_mean', 'mfcc12_var', 'mfcc13_mean',\n",
    "           'mfcc13_var', 'mfcc14_mean', 'mfcc14_var', 'mfcc15_mean', 'mfcc15_var',\n",
    "           'mfcc16_mean', 'mfcc16_var', 'mfcc17_mean', 'mfcc17_var', 'mfcc18_mean',\n",
    "           'mfcc18_var', 'mfcc19_mean', 'mfcc19_var', 'mfcc20_mean', 'mfcc20_var', 'label']"
   ],
   "metadata": {
    "collapsed": false,
    "pycharm": {
     "name": "#%%\n"
    }
   }
  },
  {
   "cell_type": "code",
   "execution_count": null,
   "outputs": [],
   "source": [
    "def extract_features(window):\n",
    "    chromogram = librosa.feature.chroma_stft(window)\n",
    "    rms = librosa.feature.rms(window)\n",
    "    centroid = librosa.feature.spectral_centroid(window)\n",
    "    bandwidth = librosa.feature.spectral_bandwidth(window)\n",
    "    roll_off = librosa.feature.spectral_rolloff(window)\n",
    "    zero_crossing_rate = librosa.feature.zero_crossing_rate(window)\n",
    "    harmony, perceptual = librosa.effects.hpss(window)\n",
    "    tempo, _ = librosa.beat.beat_track(window)\n",
    "    mfcc = librosa.feature.mfcc(window)\n",
    "\n",
    "    mfcc_values = []\n",
    "    for mean, var in zip(mfcc.mean(axis=1), np.var(mfcc, axis=1)):\n",
    "        mfcc_values.append(mean)\n",
    "        mfcc_values.append(var)\n",
    "\n",
    "    return [\n",
    "        chromogram.mean(),\n",
    "        np.var(chromogram),\n",
    "        rms.mean(),\n",
    "        np.var(rms),\n",
    "        centroid.mean(),\n",
    "        np.var(centroid),\n",
    "        bandwidth.mean(),\n",
    "        np.var(bandwidth),\n",
    "        roll_off.mean(),\n",
    "        np.var(roll_off),\n",
    "        zero_crossing_rate.mean(),\n",
    "        np.var(zero_crossing_rate),\n",
    "        harmony.mean(),\n",
    "        np.var(harmony),\n",
    "        perceptual.mean(),\n",
    "        np.var(perceptual),\n",
    "        tempo,\n",
    "        *mfcc_values\n",
    "    ]\n"
   ],
   "metadata": {
    "collapsed": false,
    "pycharm": {
     "name": "#%%\n"
    }
   }
  },
  {
   "cell_type": "code",
   "execution_count": null,
   "outputs": [],
   "source": [
    "t1 = perf_counter()\n",
    "features = []\n",
    "for genre in genres:\n",
    "    for file in os.listdir(f'{data_dir}/{genre}'):\n",
    "        try:\n",
    "            signal, sample_rate = librosa.load(f'{data_dir}/{genre}/{file}')\n",
    "            signal, _ = librosa.effects.trim(signal)  # Get rid of silence at the begining and end\n",
    "            n_points = window_size * sample_rate\n",
    "            for i in range(int(len(signal) / n_points)):\n",
    "                print(genre, file, i, end='\\r')\n",
    "                window = signal[i * n_points:(i + 1) * n_points]\n",
    "                if len(window):\n",
    "                    values = extract_features(window)\n",
    "                    values = [file.replace('.wav', f'.{i}.wav'), len(window), *values,genre]\n",
    "                    features.append(values)\n",
    "        except Exception as ex:\n",
    "            print(ex)\n",
    "\n",
    "t2 = perf_counter()\n",
    "print(int(t2 - t1), 'seconds')"
   ],
   "metadata": {
    "collapsed": false,
    "pycharm": {
     "name": "#%%\n"
    }
   }
  },
  {
   "cell_type": "code",
   "execution_count": 15,
   "outputs": [
    {
     "name": "stdout",
     "output_type": "stream",
     "text": [
      "2696 seconds\n"
     ]
    }
   ],
   "source": [
    "print(int(t2 - t1), 'seconds')"
   ],
   "metadata": {
    "collapsed": false,
    "pycharm": {
     "name": "#%%\n"
    }
   }
  },
  {
   "cell_type": "code",
   "execution_count": null,
   "outputs": [],
   "source": [
    "df = pd.DataFrame(features)"
   ],
   "metadata": {
    "collapsed": false,
    "pycharm": {
     "name": "#%%\n"
    }
   }
  },
  {
   "cell_type": "code",
   "execution_count": null,
   "outputs": [],
   "source": [
    "df.columns = columns"
   ],
   "metadata": {
    "collapsed": false,
    "pycharm": {
     "name": "#%%\n"
    }
   }
  },
  {
   "cell_type": "code",
   "execution_count": 16,
   "outputs": [
    {
     "data": {
      "text/plain": "               filename  length  chroma_stft_mean  chroma_stft_var  rms_mean  \\\n0     blues.00000.0.wav   66150          0.335434         0.091088  0.130405   \n1     blues.00000.1.wav   66150          0.343020         0.086142  0.112699   \n2     blues.00000.2.wav   66150          0.346838         0.092210  0.132002   \n3     blues.00000.3.wav   66150          0.363671         0.086856  0.132562   \n4     blues.00000.4.wav   66150          0.335927         0.088291  0.143289   \n...                 ...     ...               ...              ...       ...   \n9975   rock.00099.5.wav   66150          0.349242         0.080523  0.050019   \n9976   rock.00099.6.wav   66150          0.372667         0.082638  0.057897   \n9977   rock.00099.7.wav   66150          0.347207         0.088840  0.052402   \n9978   rock.00099.8.wav   66150          0.387354         0.084762  0.066430   \n9979   rock.00099.9.wav   66150          0.369244         0.086697  0.050524   \n\n       rms_var  spectral_centroid_mean  spectral_centroid_var  \\\n0     0.003521             1773.285877          168244.728448   \n1     0.001450             1816.195860           90703.325185   \n2     0.004620             1788.642783          111322.537051   \n3     0.002447             1654.902168          112316.264385   \n4     0.001701             1630.737017           79648.228297   \n...        ...                     ...                    ...   \n9975  0.000097             1499.033452          164296.530035   \n9976  0.000088             1847.993567          281007.290736   \n9977  0.000701             1346.166434          662977.657576   \n9978  0.000320             2084.876439          203148.324534   \n9979  0.000067             1634.338774          411437.299384   \n\n      spectral_bandwidth_mean  spectral_bandwidth_var  ...  mfcc16_var  \\\n0                 1972.723622           117298.851326  ...   39.725563   \n1                 2009.201575            65548.531475  ...   65.312973   \n2                 2085.045996            74755.260660  ...   67.582199   \n3                 1959.202709            83672.222326  ...   47.059677   \n4                 1948.459295            60221.595017  ...   30.307617   \n...                       ...                     ...  ...         ...   \n9975              1718.741487            85910.800698  ...   42.411770   \n9976              1906.381942            99815.431686  ...   32.480297   \n9977              1562.051940           139002.057676  ...   78.050781   \n9978              2019.066228            22200.073744  ...   28.323931   \n9979              1867.300771           119680.969895  ...   38.766556   \n\n      mfcc17_mean  mfcc17_var  mfcc18_mean  mfcc18_var  mfcc19_mean  \\\n0       -3.241225   36.486435     0.721986   38.096756    -5.043307   \n1       -6.100084   40.738815     0.219240   50.587799    -2.875456   \n2       -1.801321   28.132215     2.308315   48.102486    -1.931482   \n3       -3.859234   27.984928     1.255384   35.093281    -3.619866   \n4        0.629567   44.883640     1.709781   51.706692    -3.402106   \n...           ...         ...          ...         ...          ...   \n9975    -9.072773   38.522133    -4.239303   31.064833    -5.625192   \n9976   -12.389524   65.873482    -3.085007   54.283775   -11.963290   \n9977    -2.524271   21.777952     4.799636   25.962271     1.797535   \n9978    -5.370702   17.280422     6.469846   21.370140     2.359090   \n9979   -11.629149   58.856182    -0.163734   55.716461    -6.901930   \n\n      mfcc19_var  mfcc20_mean  mfcc20_var  label  \n0      33.608326    -0.237658   43.827770  blues  \n1      96.975441     5.800725   60.006119  blues  \n2      53.116814     2.522432   33.136238  blues  \n3      51.420628     3.639336   31.930040  blues  \n4      26.686306     0.546950   29.212286  blues  \n...          ...          ...         ...    ...  \n9975   48.812859     1.794132   38.993576   rock  \n9976   63.390671     0.404298   18.759731   rock  \n9977   48.307682    -0.320112   41.750011   rock  \n9978   24.827066     0.688447   12.747364   rock  \n9979   39.505505    -3.406076   31.736723   rock  \n\n[9980 rows x 60 columns]",
      "text/html": "<div>\n<style scoped>\n    .dataframe tbody tr th:only-of-type {\n        vertical-align: middle;\n    }\n\n    .dataframe tbody tr th {\n        vertical-align: top;\n    }\n\n    .dataframe thead th {\n        text-align: right;\n    }\n</style>\n<table border=\"1\" class=\"dataframe\">\n  <thead>\n    <tr style=\"text-align: right;\">\n      <th></th>\n      <th>filename</th>\n      <th>length</th>\n      <th>chroma_stft_mean</th>\n      <th>chroma_stft_var</th>\n      <th>rms_mean</th>\n      <th>rms_var</th>\n      <th>spectral_centroid_mean</th>\n      <th>spectral_centroid_var</th>\n      <th>spectral_bandwidth_mean</th>\n      <th>spectral_bandwidth_var</th>\n      <th>...</th>\n      <th>mfcc16_var</th>\n      <th>mfcc17_mean</th>\n      <th>mfcc17_var</th>\n      <th>mfcc18_mean</th>\n      <th>mfcc18_var</th>\n      <th>mfcc19_mean</th>\n      <th>mfcc19_var</th>\n      <th>mfcc20_mean</th>\n      <th>mfcc20_var</th>\n      <th>label</th>\n    </tr>\n  </thead>\n  <tbody>\n    <tr>\n      <th>0</th>\n      <td>blues.00000.0.wav</td>\n      <td>66150</td>\n      <td>0.335434</td>\n      <td>0.091088</td>\n      <td>0.130405</td>\n      <td>0.003521</td>\n      <td>1773.285877</td>\n      <td>168244.728448</td>\n      <td>1972.723622</td>\n      <td>117298.851326</td>\n      <td>...</td>\n      <td>39.725563</td>\n      <td>-3.241225</td>\n      <td>36.486435</td>\n      <td>0.721986</td>\n      <td>38.096756</td>\n      <td>-5.043307</td>\n      <td>33.608326</td>\n      <td>-0.237658</td>\n      <td>43.827770</td>\n      <td>blues</td>\n    </tr>\n    <tr>\n      <th>1</th>\n      <td>blues.00000.1.wav</td>\n      <td>66150</td>\n      <td>0.343020</td>\n      <td>0.086142</td>\n      <td>0.112699</td>\n      <td>0.001450</td>\n      <td>1816.195860</td>\n      <td>90703.325185</td>\n      <td>2009.201575</td>\n      <td>65548.531475</td>\n      <td>...</td>\n      <td>65.312973</td>\n      <td>-6.100084</td>\n      <td>40.738815</td>\n      <td>0.219240</td>\n      <td>50.587799</td>\n      <td>-2.875456</td>\n      <td>96.975441</td>\n      <td>5.800725</td>\n      <td>60.006119</td>\n      <td>blues</td>\n    </tr>\n    <tr>\n      <th>2</th>\n      <td>blues.00000.2.wav</td>\n      <td>66150</td>\n      <td>0.346838</td>\n      <td>0.092210</td>\n      <td>0.132002</td>\n      <td>0.004620</td>\n      <td>1788.642783</td>\n      <td>111322.537051</td>\n      <td>2085.045996</td>\n      <td>74755.260660</td>\n      <td>...</td>\n      <td>67.582199</td>\n      <td>-1.801321</td>\n      <td>28.132215</td>\n      <td>2.308315</td>\n      <td>48.102486</td>\n      <td>-1.931482</td>\n      <td>53.116814</td>\n      <td>2.522432</td>\n      <td>33.136238</td>\n      <td>blues</td>\n    </tr>\n    <tr>\n      <th>3</th>\n      <td>blues.00000.3.wav</td>\n      <td>66150</td>\n      <td>0.363671</td>\n      <td>0.086856</td>\n      <td>0.132562</td>\n      <td>0.002447</td>\n      <td>1654.902168</td>\n      <td>112316.264385</td>\n      <td>1959.202709</td>\n      <td>83672.222326</td>\n      <td>...</td>\n      <td>47.059677</td>\n      <td>-3.859234</td>\n      <td>27.984928</td>\n      <td>1.255384</td>\n      <td>35.093281</td>\n      <td>-3.619866</td>\n      <td>51.420628</td>\n      <td>3.639336</td>\n      <td>31.930040</td>\n      <td>blues</td>\n    </tr>\n    <tr>\n      <th>4</th>\n      <td>blues.00000.4.wav</td>\n      <td>66150</td>\n      <td>0.335927</td>\n      <td>0.088291</td>\n      <td>0.143289</td>\n      <td>0.001701</td>\n      <td>1630.737017</td>\n      <td>79648.228297</td>\n      <td>1948.459295</td>\n      <td>60221.595017</td>\n      <td>...</td>\n      <td>30.307617</td>\n      <td>0.629567</td>\n      <td>44.883640</td>\n      <td>1.709781</td>\n      <td>51.706692</td>\n      <td>-3.402106</td>\n      <td>26.686306</td>\n      <td>0.546950</td>\n      <td>29.212286</td>\n      <td>blues</td>\n    </tr>\n    <tr>\n      <th>...</th>\n      <td>...</td>\n      <td>...</td>\n      <td>...</td>\n      <td>...</td>\n      <td>...</td>\n      <td>...</td>\n      <td>...</td>\n      <td>...</td>\n      <td>...</td>\n      <td>...</td>\n      <td>...</td>\n      <td>...</td>\n      <td>...</td>\n      <td>...</td>\n      <td>...</td>\n      <td>...</td>\n      <td>...</td>\n      <td>...</td>\n      <td>...</td>\n      <td>...</td>\n      <td>...</td>\n    </tr>\n    <tr>\n      <th>9975</th>\n      <td>rock.00099.5.wav</td>\n      <td>66150</td>\n      <td>0.349242</td>\n      <td>0.080523</td>\n      <td>0.050019</td>\n      <td>0.000097</td>\n      <td>1499.033452</td>\n      <td>164296.530035</td>\n      <td>1718.741487</td>\n      <td>85910.800698</td>\n      <td>...</td>\n      <td>42.411770</td>\n      <td>-9.072773</td>\n      <td>38.522133</td>\n      <td>-4.239303</td>\n      <td>31.064833</td>\n      <td>-5.625192</td>\n      <td>48.812859</td>\n      <td>1.794132</td>\n      <td>38.993576</td>\n      <td>rock</td>\n    </tr>\n    <tr>\n      <th>9976</th>\n      <td>rock.00099.6.wav</td>\n      <td>66150</td>\n      <td>0.372667</td>\n      <td>0.082638</td>\n      <td>0.057897</td>\n      <td>0.000088</td>\n      <td>1847.993567</td>\n      <td>281007.290736</td>\n      <td>1906.381942</td>\n      <td>99815.431686</td>\n      <td>...</td>\n      <td>32.480297</td>\n      <td>-12.389524</td>\n      <td>65.873482</td>\n      <td>-3.085007</td>\n      <td>54.283775</td>\n      <td>-11.963290</td>\n      <td>63.390671</td>\n      <td>0.404298</td>\n      <td>18.759731</td>\n      <td>rock</td>\n    </tr>\n    <tr>\n      <th>9977</th>\n      <td>rock.00099.7.wav</td>\n      <td>66150</td>\n      <td>0.347207</td>\n      <td>0.088840</td>\n      <td>0.052402</td>\n      <td>0.000701</td>\n      <td>1346.166434</td>\n      <td>662977.657576</td>\n      <td>1562.051940</td>\n      <td>139002.057676</td>\n      <td>...</td>\n      <td>78.050781</td>\n      <td>-2.524271</td>\n      <td>21.777952</td>\n      <td>4.799636</td>\n      <td>25.962271</td>\n      <td>1.797535</td>\n      <td>48.307682</td>\n      <td>-0.320112</td>\n      <td>41.750011</td>\n      <td>rock</td>\n    </tr>\n    <tr>\n      <th>9978</th>\n      <td>rock.00099.8.wav</td>\n      <td>66150</td>\n      <td>0.387354</td>\n      <td>0.084762</td>\n      <td>0.066430</td>\n      <td>0.000320</td>\n      <td>2084.876439</td>\n      <td>203148.324534</td>\n      <td>2019.066228</td>\n      <td>22200.073744</td>\n      <td>...</td>\n      <td>28.323931</td>\n      <td>-5.370702</td>\n      <td>17.280422</td>\n      <td>6.469846</td>\n      <td>21.370140</td>\n      <td>2.359090</td>\n      <td>24.827066</td>\n      <td>0.688447</td>\n      <td>12.747364</td>\n      <td>rock</td>\n    </tr>\n    <tr>\n      <th>9979</th>\n      <td>rock.00099.9.wav</td>\n      <td>66150</td>\n      <td>0.369244</td>\n      <td>0.086697</td>\n      <td>0.050524</td>\n      <td>0.000067</td>\n      <td>1634.338774</td>\n      <td>411437.299384</td>\n      <td>1867.300771</td>\n      <td>119680.969895</td>\n      <td>...</td>\n      <td>38.766556</td>\n      <td>-11.629149</td>\n      <td>58.856182</td>\n      <td>-0.163734</td>\n      <td>55.716461</td>\n      <td>-6.901930</td>\n      <td>39.505505</td>\n      <td>-3.406076</td>\n      <td>31.736723</td>\n      <td>rock</td>\n    </tr>\n  </tbody>\n</table>\n<p>9980 rows × 60 columns</p>\n</div>"
     },
     "execution_count": 16,
     "metadata": {},
     "output_type": "execute_result"
    }
   ],
   "source": [
    "df"
   ],
   "metadata": {
    "collapsed": false,
    "pycharm": {
     "name": "#%%\n"
    }
   }
  },
  {
   "cell_type": "code",
   "execution_count": null,
   "outputs": [],
   "source": [
    "df.to_csv('../data/features_3_sec_own.csv', index=False)"
   ],
   "metadata": {
    "collapsed": false,
    "pycharm": {
     "name": "#%%\n"
    }
   }
  },
  {
   "cell_type": "code",
   "execution_count": null,
   "outputs": [],
   "source": [],
   "metadata": {
    "collapsed": false,
    "pycharm": {
     "name": "#%%\n"
    }
   }
  }
 ],
 "metadata": {
  "kernelspec": {
   "display_name": "Python 3",
   "language": "python",
   "name": "python3"
  },
  "language_info": {
   "codemirror_mode": {
    "name": "ipython",
    "version": 2
   },
   "file_extension": ".py",
   "mimetype": "text/x-python",
   "name": "python",
   "nbconvert_exporter": "python",
   "pygments_lexer": "ipython2",
   "version": "2.7.6"
  }
 },
 "nbformat": 4,
 "nbformat_minor": 0
}