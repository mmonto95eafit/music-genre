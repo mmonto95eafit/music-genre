{
 "cells": [
  {
   "cell_type": "markdown",
   "metadata": {},
   "source": [
    "## Creación de datasets de escenarios"
   ]
  },
  {
   "cell_type": "code",
   "execution_count": 13,
   "metadata": {},
   "outputs": [],
   "source": [
    "import numpy as np\n",
    "import pandas as pd\n",
    "from sklearn.preprocessing import MinMaxScaler\n",
    "from sklearn.model_selection import train_test_split"
   ]
  },
  {
   "cell_type": "code",
   "execution_count": 2,
   "metadata": {},
   "outputs": [],
   "source": [
    "data_path = '../data/features_3_sec.csv'\n",
    "df = pd.read_csv(data_path)\n",
    "df['label'] = df['label'].astype('category')\n",
    "df['length'] = pd.to_numeric(df['length'])"
   ]
  },
  {
   "cell_type": "code",
   "execution_count": 5,
   "metadata": {},
   "outputs": [],
   "source": [
    "# 1. DF original\n",
    "df_x = df.drop(['filename','label','length'],axis=1)\n",
    "X = np.array(df_x) \n",
    "y  = df['label'].cat.codes.values\n"
   ]
  },
  {
   "cell_type": "code",
   "execution_count": 6,
   "metadata": {},
   "outputs": [],
   "source": [
    "# 2. DF columnas filtradas\n",
    "\n",
    "df_x_cf = df_x.drop(['spectral_centroid_mean','spectral_bandwidth_mean','rolloff_mean'],axis=1)\n",
    "X_cf = np.array(df_x_cf) \n",
    "y_cf = y"
   ]
  },
  {
   "cell_type": "code",
   "execution_count": 8,
   "metadata": {},
   "outputs": [],
   "source": [
    "def mahalanobis(x=None, data=None, cov=None):\n",
    "\n",
    "    x_mu = x - np.mean(data)\n",
    "    #if not cov:\n",
    "        #cov = np.cov(x.T)\n",
    "    inv_cov = np.linalg.inv(cov)\n",
    "    mahalanobis_distances = np.diag(np.dot((x_mu @ inv_cov), x_mu.T))\n",
    "   \n",
    "    return mahalanobis_distances"
   ]
  },
  {
   "cell_type": "code",
   "execution_count": 10,
   "metadata": {},
   "outputs": [],
   "source": [
    "# 3. DF filtrado de outliers\n",
    "\n",
    "scaler = MinMaxScaler()\n",
    "x_norm = scaler.fit_transform(X)\n",
    "data = df.iloc[:,2:-1]\n",
    "data_norm = scaler.fit_transform(data)\n",
    "cov_h_norm = np.cov(x_norm.T)\n",
    "cov_i_norm = cov_h_norm + 10*np.eye(57, 57) ## ¿Cómo determinamos lamda?\n",
    "cond_i_norm = np.linalg.cond(cov_i_norm)\n",
    "det_i_norm = np.linalg.det(cov_i_norm)\n",
    "mahalanobis_dis_i_norm = mahalanobis(x=x_norm, data=data_norm, cov=cov_i_norm)\n",
    "mahalanobis_dis_i_norm\n",
    "x_fn = x_norm[mahalanobis_dis_i_norm < 0.4]\n",
    "y_fn = y[mahalanobis_dis_i_norm < 0.4]\n"
   ]
  },
  {
   "cell_type": "code",
   "execution_count": 12,
   "metadata": {},
   "outputs": [],
   "source": [
    "# 4. filtrado de outliers + filtrado columnas\n",
    "\n",
    "cols = df_x.columns\n",
    "df_x_fn = pd.DataFrame(x_fn,columns=cols)\n",
    "df_x_fn_cf = df_x_fn.drop(['spectral_centroid_mean','spectral_bandwidth_mean','rolloff_mean'],axis=1)\n",
    "X_fn_cf = np.array(df_x_fn_cf)\n",
    "y_fn_cf = y_fn"
   ]
  },
  {
   "cell_type": "code",
   "execution_count": 14,
   "metadata": {},
   "outputs": [],
   "source": [
    "# train test split de escenarios\n",
    "x_train, x_test, y_train, y_test = train_test_split(X,y)\n",
    "x_train_cf, x_test_cf, y_train_cf, y_test_cf = train_test_split(X_cf,y_cf)\n",
    "x_train_fn, x_test_fn, y_train_fn, y_test_fn = train_test_split(x_fn,y_fn)\n",
    "x_train_fn_cf, x_test_fn_cf, y_train_fn_cf, y_test_fn_cf = train_test_split(X_fn_cf,y_fn_cf)"
   ]
  },
  {
   "cell_type": "markdown",
   "metadata": {},
   "source": [
    "## Exploración de modelos"
   ]
  },
  {
   "cell_type": "markdown",
   "metadata": {},
   "source": [
    "* CART\n",
    "* Naive Bayes\n",
    "* KNN\n",
    "* Stochastic Gradient Descent\n",
    "* Random Forest\n",
    "* SVM\n",
    "* Logistic Regression"
   ]
  },
  {
   "cell_type": "markdown",
   "metadata": {},
   "source": [
    "### CART"
   ]
  },
  {
   "cell_type": "code",
   "execution_count": 16,
   "metadata": {},
   "outputs": [
    {
     "name": "stdout",
     "output_type": "stream",
     "text": [
      "Score de entrenamiento: \n",
      "0.9993326214628937\n",
      "Score de Testeo: \n",
      "0.6505204163330665\n"
     ]
    }
   ],
   "source": [
    "from sklearn.tree import DecisionTreeClassifier\n",
    "# Original\n",
    "tree = DecisionTreeClassifier().fit(x_train,y_train)\n",
    "tree_train = tree.score(x_train,y_train)\n",
    "tree_test = tree.score(x_test,y_test)\n",
    "print('Score de entrenamiento: ')\n",
    "print(tree_train)\n",
    "print('Score de Testeo: ')\n",
    "print(tree_test)\n",
    "\n",
    "\n"
   ]
  },
  {
   "cell_type": "code",
   "execution_count": 17,
   "metadata": {},
   "outputs": [
    {
     "name": "stdout",
     "output_type": "stream",
     "text": [
      "Score de entrenamiento: \n",
      "0.9991991457554725\n",
      "Score de Testeo: \n",
      "0.6585268214571657\n"
     ]
    }
   ],
   "source": [
    "#Columnas filtradas\n",
    "tree = DecisionTreeClassifier().fit(x_train_cf,y_train_cf)\n",
    "tree_train_cf = tree.score(x_train_cf,y_train_cf)\n",
    "tree_test_cf = tree.score(x_test_cf,y_test_cf)\n",
    "print('Score de entrenamiento: ')\n",
    "print(tree_train_cf)\n",
    "print('Score de Testeo: ')\n",
    "print(tree_test_cf)"
   ]
  },
  {
   "cell_type": "code",
   "execution_count": 18,
   "metadata": {},
   "outputs": [
    {
     "name": "stdout",
     "output_type": "stream",
     "text": [
      "Score de entrenamiento: \n",
      "0.999057619816909\n",
      "Score de Testeo: \n",
      "0.6591276252019386\n"
     ]
    }
   ],
   "source": [
    "#filtrado normalizado\n",
    "tree = DecisionTreeClassifier().fit(x_train_fn,y_train_fn)\n",
    "tree_train_fn = tree.score(x_train_fn,y_train_fn)\n",
    "tree_test_fn = tree.score(x_test_fn,y_test_fn)\n",
    "print('Score de entrenamiento: ')\n",
    "print(tree_train_fn)\n",
    "print('Score de Testeo: ')\n",
    "print(tree_test_fn)"
   ]
  },
  {
   "cell_type": "code",
   "execution_count": 19,
   "metadata": {},
   "outputs": [
    {
     "name": "stdout",
     "output_type": "stream",
     "text": [
      "Score de entrenamiento: \n",
      "0.9991922455573505\n",
      "Score de Testeo: \n",
      "0.6425686591276252\n"
     ]
    }
   ],
   "source": [
    "#filtrado normalizado + columnas filtradas\n",
    "tree = DecisionTreeClassifier().fit(x_train_fn_cf,y_train_fn_cf)\n",
    "tree_train_fn_cf = tree.score(x_train_fn_cf,y_train_fn_cf)\n",
    "tree_test_fn_cf = tree.score(x_test_fn_cf,y_test_fn_cf)\n",
    "print('Score de entrenamiento: ')\n",
    "print(tree_train_fn_cf)\n",
    "print('Score de Testeo: ')\n",
    "print(tree_test_fn_cf)"
   ]
  },
  {
   "cell_type": "markdown",
   "metadata": {},
   "source": [
    "### Naive Bayes"
   ]
  },
  {
   "cell_type": "code",
   "execution_count": 20,
   "metadata": {},
   "outputs": [
    {
     "name": "stdout",
     "output_type": "stream",
     "text": [
      "Score de entrenamiento: \n",
      "0.4223171382808329\n",
      "Score de Testeo: \n",
      "0.42954363490792635\n"
     ]
    }
   ],
   "source": [
    "from sklearn.naive_bayes import GaussianNB\n",
    "# Original\n",
    "gnb = GaussianNB().fit(x_train,y_train)\n",
    "gnb_train = gnb.score(x_train,y_train)\n",
    "gnb_test = gnb.score(x_test,y_test)\n",
    "print('Score de entrenamiento: ')\n",
    "print(gnb_train)\n",
    "print('Score de Testeo: ')\n",
    "print(gnb_test)\n"
   ]
  },
  {
   "cell_type": "code",
   "execution_count": 21,
   "metadata": {},
   "outputs": [
    {
     "name": "stdout",
     "output_type": "stream",
     "text": [
      "Score de entrenamiento: \n",
      "0.38587827015483184\n",
      "Score de Testeo: \n",
      "0.3710968775020016\n"
     ]
    }
   ],
   "source": [
    "# columnas filtradas\n",
    "gnb = GaussianNB().fit(x_train_cf,y_train_cf)\n",
    "gnb_train_cf = gnb.score(x_train_cf,y_train_cf)\n",
    "gnb_test_cf = gnb.score(x_test_cf,y_test_cf)\n",
    "print('Score de entrenamiento: ')\n",
    "print(gnb_train_cf)\n",
    "print('Score de Testeo: ')\n",
    "print(gnb_test_cf)"
   ]
  },
  {
   "cell_type": "code",
   "execution_count": 22,
   "metadata": {},
   "outputs": [
    {
     "name": "stdout",
     "output_type": "stream",
     "text": [
      "Score de entrenamiento: \n",
      "0.5238287560581584\n",
      "Score de Testeo: \n",
      "0.5266558966074314\n"
     ]
    }
   ],
   "source": [
    "# filtrado normalizado\n",
    "gnb = GaussianNB().fit(x_train_fn,y_train_fn)\n",
    "gnb_train_fn = gnb.score(x_train_fn,y_train_fn)\n",
    "gnb_test_fn = gnb.score(x_test_fn,y_test_fn)\n",
    "print('Score de entrenamiento: ')\n",
    "print(gnb_train_fn)\n",
    "print('Score de Testeo: ')\n",
    "print(gnb_test_fn)"
   ]
  },
  {
   "cell_type": "code",
   "execution_count": 23,
   "metadata": {},
   "outputs": [
    {
     "name": "stdout",
     "output_type": "stream",
     "text": [
      "Score de entrenamiento: \n",
      "0.531502423263328\n",
      "Score de Testeo: \n",
      "0.5359450726978998\n"
     ]
    }
   ],
   "source": [
    "# filtrado normalizado + columnas filtradas\n",
    "gnb = GaussianNB().fit(x_train_fn_cf,y_train_fn_cf)\n",
    "gnb_train_fn_cf = gnb.score(x_train_fn_cf,y_train_fn_cf)\n",
    "gnb_test_fn_cf = gnb.score(x_test_fn_cf,y_test_fn_cf)\n",
    "print('Score de entrenamiento: ')\n",
    "print(gnb_train_fn_cf)\n",
    "print('Score de Testeo: ')\n",
    "print(gnb_test_fn_cf)"
   ]
  },
  {
   "cell_type": "markdown",
   "metadata": {},
   "source": [
    "### KNN"
   ]
  },
  {
   "cell_type": "code",
   "execution_count": 42,
   "metadata": {},
   "outputs": [
    {
     "name": "stdout",
     "output_type": "stream",
     "text": [
      "Score de entrenamiento: \n",
      "0.32100907634810466\n",
      "Score de Testeo: \n",
      "0.30064051240992795\n"
     ]
    }
   ],
   "source": [
    "from sklearn.neighbors import KNeighborsClassifier\n",
    "# Original\n",
    "knn = KNeighborsClassifier(100).fit(x_train,y_train) # definir k\n",
    "knn_train = knn.score(x_train,y_train)\n",
    "knn_test = knn.score(x_test,y_test)\n",
    "print('Score de entrenamiento: ')\n",
    "print(knn_train)\n",
    "print('Score de Testeo: ')\n",
    "print(knn_test)"
   ]
  },
  {
   "cell_type": "code",
   "execution_count": 43,
   "metadata": {},
   "outputs": [
    {
     "name": "stdout",
     "output_type": "stream",
     "text": [
      "Score de entrenamiento: \n",
      "0.32020822210357713\n",
      "Score de Testeo: \n",
      "0.30384307445956765\n"
     ]
    }
   ],
   "source": [
    "# columnas filtradas\n",
    "knn = KNeighborsClassifier(100).fit(x_train_cf,y_train_cf) # definir k\n",
    "knn_train_cf = knn.score(x_train_cf,y_train_cf)\n",
    "knn_test_cf = knn.score(x_test_cf,y_test_cf)\n",
    "print('Score de entrenamiento: ')\n",
    "print(knn_train_cf)\n",
    "print('Score de Testeo: ')\n",
    "print(knn_test_cf)"
   ]
  },
  {
   "cell_type": "code",
   "execution_count": 48,
   "metadata": {},
   "outputs": [
    {
     "name": "stdout",
     "output_type": "stream",
     "text": [
      "Score de entrenamiento: \n",
      "0.9446688206785138\n",
      "Score de Testeo: \n",
      "0.9115508885298869\n"
     ]
    }
   ],
   "source": [
    "# filtrado normalizado\n",
    "knn = KNeighborsClassifier().fit(x_train_fn,y_train_fn) # definir k\n",
    "knn_train_fn = knn.score(x_train_fn,y_train_fn)\n",
    "knn_test_fn = knn.score(x_test_fn,y_test_fn)\n",
    "print('Score de entrenamiento: ')\n",
    "print(knn_train_fn)\n",
    "print('Score de Testeo: ')\n",
    "print(knn_test_fn)"
   ]
  },
  {
   "cell_type": "code",
   "execution_count": 57,
   "metadata": {},
   "outputs": [
    {
     "name": "stdout",
     "output_type": "stream",
     "text": [
      "Score de entrenamiento: \n",
      "0.9437264404954228\n",
      "Score de Testeo: \n",
      "0.8852988691437803\n"
     ]
    }
   ],
   "source": [
    "# filtrado normalizado + columnas filtradas\n",
    "knn = KNeighborsClassifier().fit(x_train_fn_cf,y_train_fn_cf) # definir k\n",
    "knn_train_fn_cf = knn.score(x_train_fn_cf,y_train_fn_cf)\n",
    "knn_test_fn_cf = knn.score(x_test_fn_cf,y_test_fn_cf)\n",
    "print('Score de entrenamiento: ')\n",
    "print(knn_train_fn_cf)\n",
    "print('Score de Testeo: ')\n",
    "print(knn_test_fn_cf)"
   ]
  },
  {
   "cell_type": "markdown",
   "metadata": {},
   "source": [
    "### Stochastic Gradient Descent"
   ]
  },
  {
   "cell_type": "code",
   "execution_count": 58,
   "metadata": {},
   "outputs": [
    {
     "name": "stdout",
     "output_type": "stream",
     "text": [
      "Score de entrenamiento: \n",
      "0.1528296849973305\n",
      "Score de Testeo: \n",
      "0.15812650120096078\n"
     ]
    }
   ],
   "source": [
    "from sklearn.linear_model import SGDClassifier\n",
    "# Original\n",
    "SGD = SGDClassifier().fit(x_train,y_train) # Muchos hiperparamétros por definir..\n",
    "SGD_train = SGD.score(x_train,y_train)\n",
    "SGD_test = SGD.score(x_test,y_test)\n",
    "print('Score de entrenamiento: ')\n",
    "print(SGD_train)\n",
    "print('Score de Testeo: ')\n",
    "print(SGD_test)"
   ]
  },
  {
   "cell_type": "code",
   "execution_count": 60,
   "metadata": {},
   "outputs": [
    {
     "name": "stdout",
     "output_type": "stream",
     "text": [
      "Score de entrenamiento: \n",
      "0.19927923117992524\n",
      "Score de Testeo: \n",
      "0.19855884707766214\n"
     ]
    }
   ],
   "source": [
    "# columnas filtradas\n",
    "SGD = SGDClassifier().fit(x_train_cf,y_train_cf) # Muchos hiperparamétros por definir..\n",
    "SGD_train_cf = SGD.score(x_train_cf,y_train_cf)\n",
    "SGD_test_cf = SGD.score(x_test_cf,y_test_cf)\n",
    "print('Score de entrenamiento: ')\n",
    "print(SGD_train_cf)\n",
    "print('Score de Testeo: ')\n",
    "print(SGD_test_cf)"
   ]
  },
  {
   "cell_type": "code",
   "execution_count": 61,
   "metadata": {},
   "outputs": [
    {
     "name": "stdout",
     "output_type": "stream",
     "text": [
      "Score de entrenamiento: \n",
      "0.6762250942380184\n",
      "Score de Testeo: \n",
      "0.6554927302100162\n"
     ]
    }
   ],
   "source": [
    "# filtrado normalizado\n",
    "SGD = SGDClassifier().fit(x_train_fn,y_train_fn) # Muchos hiperparamétros por definir..\n",
    "SGD_train_fn = SGD.score(x_train_fn,y_train_fn)\n",
    "SGD_test_fn = SGD.score(x_test_fn,y_test_fn)\n",
    "print('Score de entrenamiento: ')\n",
    "print(SGD_train_fn)\n",
    "print('Score de Testeo: ')\n",
    "print(SGD_test_fn)"
   ]
  },
  {
   "cell_type": "code",
   "execution_count": 62,
   "metadata": {},
   "outputs": [
    {
     "name": "stdout",
     "output_type": "stream",
     "text": [
      "Score de entrenamiento: \n",
      "0.6755519655358104\n",
      "Score de Testeo: \n",
      "0.6647819063004846\n"
     ]
    }
   ],
   "source": [
    "# filtrado normalizado + columnas filtradas\n",
    "SGD = SGDClassifier().fit(x_train_fn_cf,y_train_fn_cf) # Muchos hiperparamétros por definir..\n",
    "SGD_train_fn_cf = SGD.score(x_train_fn_cf,y_train_fn_cf)\n",
    "SGD_test_fn_cf = SGD.score(x_test_fn_cf,y_test_fn_cf)\n",
    "print('Score de entrenamiento: ')\n",
    "print(SGD_train_fn_cf)\n",
    "print('Score de Testeo: ')\n",
    "print(SGD_test_fn_cf)"
   ]
  },
  {
   "cell_type": "markdown",
   "metadata": {},
   "source": [
    "### Random Forest"
   ]
  },
  {
   "cell_type": "code",
   "execution_count": 63,
   "metadata": {},
   "outputs": [
    {
     "name": "stdout",
     "output_type": "stream",
     "text": [
      "Score de entrenamiento: \n",
      "0.9993326214628937\n",
      "Score de Testeo: \n",
      "0.8702962369895917\n"
     ]
    }
   ],
   "source": [
    "from sklearn.ensemble import RandomForestClassifier\n",
    "# Original\n",
    "rfc = RandomForestClassifier().fit(x_train,y_train) \n",
    "rfc_train = rfc.score(x_train,y_train)\n",
    "rfc_test = rfc.score(x_test,y_test)\n",
    "print('Score de entrenamiento: ')\n",
    "print(rfc_train)\n",
    "print('Score de Testeo: ')\n",
    "print(rfc_test)"
   ]
  },
  {
   "cell_type": "code",
   "execution_count": 64,
   "metadata": {},
   "outputs": [
    {
     "name": "stdout",
     "output_type": "stream",
     "text": [
      "Score de entrenamiento: \n",
      "0.9991991457554725\n",
      "Score de Testeo: \n",
      "0.8586869495596477\n"
     ]
    }
   ],
   "source": [
    "# columnas filtradas\n",
    "rfc = RandomForestClassifier().fit(x_train_cf,y_train_cf) \n",
    "rfc_train_cf = rfc.score(x_train_cf,y_train_cf)\n",
    "rfc_test_cf = rfc.score(x_test_cf,y_test_cf)\n",
    "print('Score de entrenamiento: ')\n",
    "print(rfc_train_cf)\n",
    "print('Score de Testeo: ')\n",
    "print(rfc_test_cf)"
   ]
  },
  {
   "cell_type": "code",
   "execution_count": 65,
   "metadata": {},
   "outputs": [
    {
     "name": "stdout",
     "output_type": "stream",
     "text": [
      "Score de entrenamiento: \n",
      "0.999057619816909\n",
      "Score de Testeo: \n",
      "0.8695476575121163\n"
     ]
    }
   ],
   "source": [
    "# filtrado normalizado\n",
    "rfc = RandomForestClassifier().fit(x_train_fn,y_train_fn) \n",
    "rfc_train_fn = rfc.score(x_train_fn,y_train_fn)\n",
    "rfc_test_fn = rfc.score(x_test_fn,y_test_fn)\n",
    "print('Score de entrenamiento: ')\n",
    "print(rfc_train_fn)\n",
    "print('Score de Testeo: ')\n",
    "print(rfc_test_fn)"
   ]
  },
  {
   "cell_type": "code",
   "execution_count": 67,
   "metadata": {},
   "outputs": [
    {
     "name": "stdout",
     "output_type": "stream",
     "text": [
      "Score de entrenamiento: \n",
      "0.9991922455573505\n",
      "Score de Testeo: \n",
      "0.8655088852988692\n"
     ]
    }
   ],
   "source": [
    "# filtrado normalizado + columnas filtradas\n",
    "rfc = RandomForestClassifier().fit(x_train_fn_cf,y_train_fn_cf) \n",
    "rfc_train_fn_cf = rfc.score(x_train_fn_cf,y_train_fn_cf)\n",
    "rfc_test_fn_cf = rfc.score(x_test_fn_cf,y_test_fn_cf)\n",
    "print('Score de entrenamiento: ')\n",
    "print(rfc_train_fn_cf)\n",
    "print('Score de Testeo: ')\n",
    "print(rfc_test_fn_cf)"
   ]
  },
  {
   "cell_type": "markdown",
   "metadata": {},
   "source": [
    "### Support Vector Machines"
   ]
  },
  {
   "cell_type": "code",
   "execution_count": 68,
   "metadata": {},
   "outputs": [
    {
     "name": "stdout",
     "output_type": "stream",
     "text": [
      "Score de entrenamiento: \n",
      "0.28750667378537104\n",
      "Score de Testeo: \n",
      "0.289031224979984\n"
     ]
    }
   ],
   "source": [
    "from sklearn import svm\n",
    "# Original\n",
    "svmc = svm.SVC().fit(x_train,y_train) \n",
    "svmc_train = svmc.score(x_train,y_train)\n",
    "svmc_test = svmc.score(x_test,y_test)\n",
    "print('Score de entrenamiento: ')\n",
    "print(svmc_train)\n",
    "print('Score de Testeo: ')\n",
    "print(svmc_test)"
   ]
  },
  {
   "cell_type": "code",
   "execution_count": 69,
   "metadata": {},
   "outputs": [
    {
     "name": "stdout",
     "output_type": "stream",
     "text": [
      "Score de entrenamiento: \n",
      "0.2920448478376935\n",
      "Score de Testeo: \n",
      "0.2838270616493195\n"
     ]
    }
   ],
   "source": [
    "# columnas filtradas\n",
    "svmc = svm.SVC().fit(x_train_cf,y_train_cf) \n",
    "svmc_train_cf = svmc.score(x_train_cf,y_train_cf)\n",
    "svmc_test_cf = svmc.score(x_test_cf,y_test_cf)\n",
    "print('Score de entrenamiento: ')\n",
    "print(svmc_train_cf)\n",
    "print('Score de Testeo: ')\n",
    "print(svmc_test_cf)"
   ]
  },
  {
   "cell_type": "code",
   "execution_count": 70,
   "metadata": {},
   "outputs": [
    {
     "name": "stdout",
     "output_type": "stream",
     "text": [
      "Score de entrenamiento: \n",
      "0.7700592353257943\n",
      "Score de Testeo: \n",
      "0.7681744749596123\n"
     ]
    }
   ],
   "source": [
    "# filtrado normalizado\n",
    "svmc = svm.SVC().fit(x_train_fn,y_train_fn) \n",
    "svmc_train_fn = svmc.score(x_train_fn,y_train_fn)\n",
    "svmc_test_fn = svmc.score(x_test_fn,y_test_fn)\n",
    "print('Score de entrenamiento: ')\n",
    "print(svmc_train_fn)\n",
    "print('Score de Testeo: ')\n",
    "print(svmc_test_fn)"
   ]
  },
  {
   "cell_type": "code",
   "execution_count": 71,
   "metadata": {},
   "outputs": [
    {
     "name": "stdout",
     "output_type": "stream",
     "text": [
      "Score de entrenamiento: \n",
      "0.7724824986537426\n",
      "Score de Testeo: \n",
      "0.7576736672051696\n"
     ]
    }
   ],
   "source": [
    "# filtrado normalizado + columnas filtradas\n",
    "svmc = svm.SVC().fit(x_train_fn_cf,y_train_fn_cf) \n",
    "svmc_train_fn_cf = svmc.score(x_train_fn_cf,y_train_fn_cf)\n",
    "svmc_test_fn_cf = svmc.score(x_test_fn_cf,y_test_fn_cf)\n",
    "print('Score de entrenamiento: ')\n",
    "print(svmc_train_fn_cf)\n",
    "print('Score de Testeo: ')\n",
    "print(svmc_test_fn_cf)"
   ]
  },
  {
   "cell_type": "markdown",
   "metadata": {},
   "source": [
    "### Logistic Regression\n"
   ]
  },
  {
   "cell_type": "code",
   "execution_count": 72,
   "metadata": {},
   "outputs": [
    {
     "name": "stdout",
     "output_type": "stream",
     "text": [
      "Score de entrenamiento: \n",
      "0.21489588894821143\n",
      "Score de Testeo: \n",
      "0.22417934347477983\n"
     ]
    },
    {
     "name": "stderr",
     "output_type": "stream",
     "text": [
      "C:\\Users\\kevin\\AppData\\Local\\Programs\\Python\\Python39\\lib\\site-packages\\sklearn\\linear_model\\_logistic.py:814: ConvergenceWarning: lbfgs failed to converge (status=1):\n",
      "STOP: TOTAL NO. of ITERATIONS REACHED LIMIT.\n",
      "\n",
      "Increase the number of iterations (max_iter) or scale the data as shown in:\n",
      "    https://scikit-learn.org/stable/modules/preprocessing.html\n",
      "Please also refer to the documentation for alternative solver options:\n",
      "    https://scikit-learn.org/stable/modules/linear_model.html#logistic-regression\n",
      "  n_iter_i = _check_optimize_result(\n"
     ]
    }
   ],
   "source": [
    "from sklearn.linear_model import LogisticRegression\n",
    "# Original\n",
    "lr = LogisticRegression(random_state=0).fit(x_train,y_train) \n",
    "lr_train = lr.score(x_train,y_train)\n",
    "lr_test = lr.score(x_test,y_test)\n",
    "print('Score de entrenamiento: ')\n",
    "print(lr_train)\n",
    "print('Score de Testeo: ')\n",
    "print(lr_test)"
   ]
  },
  {
   "cell_type": "code",
   "execution_count": 73,
   "metadata": {},
   "outputs": [
    {
     "name": "stdout",
     "output_type": "stream",
     "text": [
      "Score de entrenamiento: \n",
      "0.2207688200747464\n",
      "Score de Testeo: \n",
      "0.21297037630104082\n"
     ]
    },
    {
     "name": "stderr",
     "output_type": "stream",
     "text": [
      "C:\\Users\\kevin\\AppData\\Local\\Programs\\Python\\Python39\\lib\\site-packages\\sklearn\\linear_model\\_logistic.py:814: ConvergenceWarning: lbfgs failed to converge (status=1):\n",
      "STOP: TOTAL NO. of ITERATIONS REACHED LIMIT.\n",
      "\n",
      "Increase the number of iterations (max_iter) or scale the data as shown in:\n",
      "    https://scikit-learn.org/stable/modules/preprocessing.html\n",
      "Please also refer to the documentation for alternative solver options:\n",
      "    https://scikit-learn.org/stable/modules/linear_model.html#logistic-regression\n",
      "  n_iter_i = _check_optimize_result(\n"
     ]
    }
   ],
   "source": [
    "# columnas filtradas\n",
    "lr = LogisticRegression(random_state=0).fit(x_train_cf,y_train_cf) \n",
    "lr_train_cf = lr.score(x_train_cf,y_train_cf)\n",
    "lr_test_cf = lr.score(x_test_cf,y_test_cf)\n",
    "print('Score de entrenamiento: ')\n",
    "print(lr_train_cf)\n",
    "print('Score de Testeo: ')\n",
    "print(lr_test_cf)"
   ]
  },
  {
   "cell_type": "code",
   "execution_count": 74,
   "metadata": {},
   "outputs": [
    {
     "name": "stdout",
     "output_type": "stream",
     "text": [
      "Score de entrenamiento: \n",
      "0.6980344641895531\n",
      "Score de Testeo: \n",
      "0.6906300484652665\n"
     ]
    },
    {
     "name": "stderr",
     "output_type": "stream",
     "text": [
      "C:\\Users\\kevin\\AppData\\Local\\Programs\\Python\\Python39\\lib\\site-packages\\sklearn\\linear_model\\_logistic.py:814: ConvergenceWarning: lbfgs failed to converge (status=1):\n",
      "STOP: TOTAL NO. of ITERATIONS REACHED LIMIT.\n",
      "\n",
      "Increase the number of iterations (max_iter) or scale the data as shown in:\n",
      "    https://scikit-learn.org/stable/modules/preprocessing.html\n",
      "Please also refer to the documentation for alternative solver options:\n",
      "    https://scikit-learn.org/stable/modules/linear_model.html#logistic-regression\n",
      "  n_iter_i = _check_optimize_result(\n"
     ]
    }
   ],
   "source": [
    "# filtrado normalizado\n",
    "lr = LogisticRegression(random_state=0).fit(x_train_fn,y_train_fn) \n",
    "lr_train_fn = lr.score(x_train_fn,y_train_fn)\n",
    "lr_test_fn = lr.score(x_test_fn,y_test_fn)\n",
    "print('Score de entrenamiento: ')\n",
    "print(lr_train_fn)\n",
    "print('Score de Testeo: ')\n",
    "print(lr_test_fn)"
   ]
  },
  {
   "cell_type": "code",
   "execution_count": 75,
   "metadata": {},
   "outputs": [
    {
     "name": "stdout",
     "output_type": "stream",
     "text": [
      "Score de entrenamiento: \n",
      "0.6945341949380721\n",
      "Score de Testeo: \n",
      "0.6821486268174475\n"
     ]
    },
    {
     "name": "stderr",
     "output_type": "stream",
     "text": [
      "C:\\Users\\kevin\\AppData\\Local\\Programs\\Python\\Python39\\lib\\site-packages\\sklearn\\linear_model\\_logistic.py:814: ConvergenceWarning: lbfgs failed to converge (status=1):\n",
      "STOP: TOTAL NO. of ITERATIONS REACHED LIMIT.\n",
      "\n",
      "Increase the number of iterations (max_iter) or scale the data as shown in:\n",
      "    https://scikit-learn.org/stable/modules/preprocessing.html\n",
      "Please also refer to the documentation for alternative solver options:\n",
      "    https://scikit-learn.org/stable/modules/linear_model.html#logistic-regression\n",
      "  n_iter_i = _check_optimize_result(\n"
     ]
    }
   ],
   "source": [
    "# filtrado normalizado + columnas filtradas\n",
    "lr = LogisticRegression(random_state=0).fit(x_train_fn_cf,y_train_fn_cf) \n",
    "lr_train_fn_cf = lr.score(x_train_fn_cf,y_train_fn_cf)\n",
    "lr_test_fn_cf = lr.score(x_test_fn_cf,y_test_fn_cf)\n",
    "print('Score de entrenamiento: ')\n",
    "print(lr_train_fn_cf)\n",
    "print('Score de Testeo: ')\n",
    "print(lr_test_fn_cf)"
   ]
  }
 ],
 "metadata": {
  "interpreter": {
   "hash": "672f7affa5d7a2528902e5307c8d7c1ad39fed9ff332a8fdf3ee18432021f53e"
  },
  "kernelspec": {
   "display_name": "Python 3.9.6 64-bit",
   "language": "python",
   "name": "python3"
  },
  "language_info": {
   "codemirror_mode": {
    "name": "ipython",
    "version": 3
   },
   "file_extension": ".py",
   "mimetype": "text/x-python",
   "name": "python",
   "nbconvert_exporter": "python",
   "pygments_lexer": "ipython3",
   "version": "3.9.6"
  },
  "orig_nbformat": 4
 },
 "nbformat": 4,
 "nbformat_minor": 2
}
