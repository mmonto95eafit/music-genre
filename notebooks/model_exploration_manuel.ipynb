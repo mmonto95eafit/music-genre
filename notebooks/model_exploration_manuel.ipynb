{
 "cells": [
  {
   "cell_type": "code",
   "execution_count": 1,
   "outputs": [],
   "source": [
    "from helpers import get_datasets"
   ],
   "metadata": {
    "collapsed": false,
    "pycharm": {
     "name": "#%%\n"
    }
   }
  },
  {
   "cell_type": "code",
   "execution_count": 2,
   "outputs": [],
   "source": [
    "(\n",
    "    x_train, x_test, y_train, y_test,\n",
    "    x_train_cf, x_test_cf, y_train_cf, y_test_cf,\n",
    "    x_train_fn, x_test_fn, y_train_fn, y_test_fn,\n",
    "    x_train_fn_cf, x_test_fn_cf, y_train_fn_cf, y_test_fn_cf\n",
    ") = get_datasets()"
   ],
   "metadata": {
    "collapsed": false,
    "pycharm": {
     "name": "#%%\n"
    }
   }
  },
  {
   "cell_type": "markdown",
   "source": [
    "# KNN"
   ],
   "metadata": {
    "collapsed": false,
    "pycharm": {
     "name": "#%% md\n"
    }
   }
  },
  {
   "cell_type": "code",
   "execution_count": 3,
   "outputs": [],
   "source": [
    "from sklearn.neighbors import KNeighborsClassifier"
   ],
   "metadata": {
    "collapsed": false,
    "pycharm": {
     "name": "#%%\n"
    }
   }
  },
  {
   "cell_type": "code",
   "execution_count": 5,
   "outputs": [
    {
     "name": "stdout",
     "output_type": "stream",
     "text": [
      "Score de entrenamiento: \n",
      "0.9433609404221213\n",
      "Score de Testeo: \n",
      "0.8994391025641025\n"
     ]
    }
   ],
   "source": [
    "knn = KNeighborsClassifier().fit(x_train_fn,y_train_fn) # definir k\n",
    "knn_train_fn = knn.score(x_train_fn,y_train_fn)\n",
    "knn_test_fn = knn.score(x_test_fn,y_test_fn)\n",
    "print('Score de entrenamiento: ')\n",
    "print(knn_train_fn)\n",
    "print('Score de Testeo: ')\n",
    "print(knn_test_fn)"
   ],
   "metadata": {
    "collapsed": false,
    "pycharm": {
     "name": "#%%\n"
    }
   }
  },
  {
   "cell_type": "code",
   "execution_count": 7,
   "outputs": [
    {
     "name": "stdout",
     "output_type": "stream",
     "text": [
      "Score de entrenamiento: \n",
      "0.9437616884851723\n",
      "Score de Testeo: \n",
      "0.9038461538461539\n"
     ]
    }
   ],
   "source": [
    "# filtrado normalizado + columnas filtradas\n",
    "knn = KNeighborsClassifier().fit(x_train_fn_cf,y_train_fn_cf) # definir k\n",
    "knn_train_fn_cf = knn.score(x_train_fn_cf,y_train_fn_cf)\n",
    "knn_test_fn_cf = knn.score(x_test_fn_cf,y_test_fn_cf)\n",
    "print('Score de entrenamiento: ')\n",
    "print(knn_train_fn_cf)\n",
    "print('Score de Testeo: ')\n",
    "print(knn_test_fn_cf)"
   ],
   "metadata": {
    "collapsed": false,
    "pycharm": {
     "name": "#%%\n"
    }
   }
  },
  {
   "cell_type": "code",
   "execution_count": 8,
   "outputs": [
    {
     "name": "stdout",
     "output_type": "stream",
     "text": [
      "Score de entrenamiento: \n",
      "0.9993320865615816\n",
      "Score de Testeo: \n",
      "0.922676282051282\n"
     ]
    }
   ],
   "source": [
    "# filtrado normalizado + columnas filtradas\n",
    "knn = KNeighborsClassifier(1).fit(x_train_fn_cf,y_train_fn_cf) # definir k\n",
    "knn_train_fn_cf = knn.score(x_train_fn_cf,y_train_fn_cf)\n",
    "knn_test_fn_cf = knn.score(x_test_fn_cf,y_test_fn_cf)\n",
    "print('Score de entrenamiento: ')\n",
    "print(knn_train_fn_cf)\n",
    "print('Score de Testeo: ')\n",
    "print(knn_test_fn_cf)"
   ],
   "metadata": {
    "collapsed": false,
    "pycharm": {
     "name": "#%%\n"
    }
   }
  },
  {
   "cell_type": "code",
   "execution_count": 10,
   "outputs": [
    {
     "name": "stdout",
     "output_type": "stream",
     "text": [
      "Score de entrenamiento: \n",
      "0.9994656692492653\n",
      "Score de Testeo: \n",
      "0.9266826923076923\n"
     ]
    }
   ],
   "source": [
    "knn = KNeighborsClassifier(1).fit(x_train_fn,y_train_fn) # definir k\n",
    "knn_train_fn = knn.score(x_train_fn,y_train_fn)\n",
    "knn_test_fn = knn.score(x_test_fn,y_test_fn)\n",
    "print('Score de entrenamiento: ')\n",
    "print(knn_train_fn)\n",
    "print('Score de Testeo: ')\n",
    "print(knn_test_fn)"
   ],
   "metadata": {
    "collapsed": false,
    "pycharm": {
     "name": "#%%\n"
    }
   }
  },
  {
   "cell_type": "code",
   "execution_count": 17,
   "outputs": [
    {
     "name": "stdout",
     "output_type": "stream",
     "text": [
      "Score de entrenamiento: \n",
      "0.9632647608869891\n",
      "Score de Testeo: \n",
      "0.9082532051282052\n"
     ]
    }
   ],
   "source": [
    "knn = KNeighborsClassifier(3).fit(x_train_fn,y_train_fn) # definir k\n",
    "knn_train_fn = knn.score(x_train_fn,y_train_fn)\n",
    "knn_test_fn = knn.score(x_test_fn,y_test_fn)\n",
    "print('Score de entrenamiento: ')\n",
    "print(knn_train_fn)\n",
    "print('Score de Testeo: ')\n",
    "print(knn_test_fn)"
   ],
   "metadata": {
    "collapsed": false,
    "pycharm": {
     "name": "#%%\n"
    }
   }
  },
  {
   "cell_type": "code",
   "execution_count": 18,
   "outputs": [
    {
     "name": "stdout",
     "output_type": "stream",
     "text": [
      "Score de entrenamiento: \n",
      "0.9994656692492653\n",
      "Score de Testeo: \n",
      "0.9186698717948718\n"
     ]
    }
   ],
   "source": [
    "knn = KNeighborsClassifier(3, weights='distance').fit(x_train_fn,y_train_fn) # definir k\n",
    "knn_train_fn = knn.score(x_train_fn,y_train_fn)\n",
    "knn_test_fn = knn.score(x_test_fn,y_test_fn)\n",
    "print('Score de entrenamiento: ')\n",
    "print(knn_train_fn)\n",
    "print('Score de Testeo: ')\n",
    "print(knn_test_fn)"
   ],
   "metadata": {
    "collapsed": false,
    "pycharm": {
     "name": "#%%\n"
    }
   }
  },
  {
   "cell_type": "code",
   "execution_count": 21,
   "outputs": [
    {
     "name": "stdout",
     "output_type": "stream",
     "text": [
      "Score de entrenamiento: \n",
      "0.9993320865615816\n",
      "Score de Testeo: \n",
      "0.8910256410256411\n"
     ]
    }
   ],
   "source": [
    "knn = KNeighborsClassifier(3, weights='distance', metric='mahalanobis', n_jobs=-1).fit(x_train_fn, y_train_fn)  # definir k\n",
    "knn_train_fn = knn.score(x_train_fn, y_train_fn)\n",
    "knn_test_fn = knn.score(x_test_fn, y_test_fn)\n",
    "print('Score de entrenamiento: ')\n",
    "print(knn_train_fn)\n",
    "print('Score de Testeo: ')\n",
    "print(knn_test_fn)"
   ],
   "metadata": {
    "collapsed": false,
    "pycharm": {
     "name": "#%%\n"
    }
   }
  },
  {
   "cell_type": "code",
   "execution_count": 22,
   "outputs": [
    {
     "name": "stderr",
     "output_type": "stream",
     "text": [
      "C:\\Users\\Usuario\\anaconda3\\envs\\data-science\\lib\\site-packages\\sklearn\\metrics\\pairwise.py:1462: FutureWarning: from version 1.0 (renaming of 0.25), pairwise_distances for metric='mahalanobis' will require VI to be specified if Y is passed.\n",
      "  warnings.warn(\n"
     ]
    },
    {
     "name": "stdout",
     "output_type": "stream",
     "text": [
      "Score de entrenamiento: \n",
      "0.9993320865615816\n",
      "Score de Testeo: \n",
      "0.8990384615384616\n"
     ]
    }
   ],
   "source": [
    "knn = KNeighborsClassifier(1, metric='mahalanobis', n_jobs=-1).fit(x_train_fn, y_train_fn)  # definir k\n",
    "knn_train_fn = knn.score(x_train_fn, y_train_fn)\n",
    "knn_test_fn = knn.score(x_test_fn, y_test_fn)\n",
    "print('Score de entrenamiento: ')\n",
    "print(knn_train_fn)\n",
    "print('Score de Testeo: ')\n",
    "print(knn_test_fn)"
   ],
   "metadata": {
    "collapsed": false,
    "pycharm": {
     "name": "#%%\n"
    }
   }
  },
  {
   "cell_type": "code",
   "execution_count": 23,
   "outputs": [
    {
     "name": "stdout",
     "output_type": "stream",
     "text": [
      "Score de entrenamiento: \n",
      "0.9993320865615816\n",
      "Score de Testeo: \n",
      "0.9387019230769231\n"
     ]
    }
   ],
   "source": [
    "knn = KNeighborsClassifier(1, p=1, n_jobs=-1).fit(x_train_fn, y_train_fn)\n",
    "knn_train_fn = knn.score(x_train_fn, y_train_fn)\n",
    "knn_test_fn = knn.score(x_test_fn, y_test_fn)\n",
    "print('Score de entrenamiento: ')\n",
    "print(knn_train_fn)\n",
    "print('Score de Testeo: ')\n",
    "print(knn_test_fn)"
   ],
   "metadata": {
    "collapsed": false,
    "pycharm": {
     "name": "#%%\n"
    }
   }
  },
  {
   "cell_type": "code",
   "execution_count": 24,
   "outputs": [
    {
     "name": "stdout",
     "output_type": "stream",
     "text": [
      "Score de entrenamiento: \n",
      "0.9706118087095912\n",
      "Score de Testeo: \n",
      "0.9298878205128205\n"
     ]
    }
   ],
   "source": [
    "knn = KNeighborsClassifier(3, p=1, n_jobs=-1).fit(x_train_fn, y_train_fn)  # definir k\n",
    "knn_train_fn = knn.score(x_train_fn, y_train_fn)\n",
    "knn_test_fn = knn.score(x_test_fn, y_test_fn)\n",
    "print('Score de entrenamiento: ')\n",
    "print(knn_train_fn)\n",
    "print('Score de Testeo: ')\n",
    "print(knn_test_fn)"
   ],
   "metadata": {
    "collapsed": false,
    "pycharm": {
     "name": "#%%\n"
    }
   }
  },
  {
   "cell_type": "code",
   "execution_count": null,
   "outputs": [],
   "source": [
    "# ToDo: Probar la distancia del profe de estadística para los pesos del KNN"
   ],
   "metadata": {
    "collapsed": false,
    "pycharm": {
     "name": "#%%\n"
    }
   }
  },
  {
   "cell_type": "code",
   "execution_count": 25,
   "outputs": [
    {
     "name": "stdout",
     "output_type": "stream",
     "text": [
      "Score de entrenamiento: \n",
      "0.9993320865615816\n",
      "Score de Testeo: \n",
      "0.9350961538461539\n"
     ]
    }
   ],
   "source": [
    "knn = KNeighborsClassifier(3, p=1, weights='distance', n_jobs=-1).fit(x_train_fn, y_train_fn)  # definir k\n",
    "knn_train_fn = knn.score(x_train_fn, y_train_fn)\n",
    "knn_test_fn = knn.score(x_test_fn, y_test_fn)\n",
    "print('Score de entrenamiento: ')\n",
    "print(knn_train_fn)\n",
    "print('Score de Testeo: ')\n",
    "print(knn_test_fn)"
   ],
   "metadata": {
    "collapsed": false,
    "pycharm": {
     "name": "#%%\n"
    }
   }
  },
  {
   "cell_type": "code",
   "execution_count": 26,
   "outputs": [
    {
     "name": "stdout",
     "output_type": "stream",
     "text": [
      "Score de entrenamiento: \n",
      "0.9993320865615816\n",
      "Score de Testeo: \n",
      "0.9078525641025641\n"
     ]
    }
   ],
   "source": [
    "knn = KNeighborsClassifier(1, p=3, n_jobs=-1).fit(x_train_fn, y_train_fn)  # definir k\n",
    "knn_train_fn = knn.score(x_train_fn, y_train_fn)\n",
    "knn_test_fn = knn.score(x_test_fn, y_test_fn)\n",
    "print('Score de entrenamiento: ')\n",
    "print(knn_train_fn)\n",
    "print('Score de Testeo: ')\n",
    "print(knn_test_fn)"
   ],
   "metadata": {
    "collapsed": false,
    "pycharm": {
     "name": "#%%\n"
    }
   }
  },
  {
   "cell_type": "code",
   "execution_count": 27,
   "outputs": [
    {
     "name": "stdout",
     "output_type": "stream",
     "text": [
      "Score de entrenamiento: \n",
      "0.9993320865615816\n",
      "Score de Testeo: \n",
      "0.8277243589743589\n"
     ]
    }
   ],
   "source": [
    "knn = KNeighborsClassifier(1, metric='chebyshev', n_jobs=-1).fit(x_train_fn, y_train_fn)  # definir k\n",
    "knn_train_fn = knn.score(x_train_fn, y_train_fn)\n",
    "knn_test_fn = knn.score(x_test_fn, y_test_fn)\n",
    "print('Score de entrenamiento: ')\n",
    "print(knn_train_fn)\n",
    "print('Score de Testeo: ')\n",
    "print(knn_test_fn)"
   ],
   "metadata": {
    "collapsed": false,
    "pycharm": {
     "name": "#%%\n"
    }
   }
  },
  {
   "cell_type": "code",
   "execution_count": 28,
   "outputs": [
    {
     "name": "stdout",
     "output_type": "stream",
     "text": [
      "Score de entrenamiento: \n",
      "0.9023510553032327\n",
      "Score de Testeo: \n",
      "0.7900641025641025\n"
     ]
    }
   ],
   "source": [
    "knn = KNeighborsClassifier(3, metric='chebyshev', n_jobs=-1).fit(x_train_fn, y_train_fn)  # definir k\n",
    "knn_train_fn = knn.score(x_train_fn, y_train_fn)\n",
    "knn_test_fn = knn.score(x_test_fn, y_test_fn)\n",
    "print('Score de entrenamiento: ')\n",
    "print(knn_train_fn)\n",
    "print('Score de Testeo: ')\n",
    "print(knn_test_fn)"
   ],
   "metadata": {
    "collapsed": false,
    "pycharm": {
     "name": "#%%\n"
    }
   }
  },
  {
   "cell_type": "code",
   "execution_count": 29,
   "outputs": [
    {
     "name": "stdout",
     "output_type": "stream",
     "text": [
      "Score de entrenamiento: \n",
      "0.9993320865615816\n",
      "Score de Testeo: \n",
      "0.8088942307692307\n"
     ]
    }
   ],
   "source": [
    "knn = KNeighborsClassifier(3, weights='distance', metric='chebyshev', n_jobs=-1).fit(x_train_fn, y_train_fn)  # definir k\n",
    "knn_train_fn = knn.score(x_train_fn, y_train_fn)\n",
    "knn_test_fn = knn.score(x_test_fn, y_test_fn)\n",
    "print('Score de entrenamiento: ')\n",
    "print(knn_train_fn)\n",
    "print('Score de Testeo: ')\n",
    "print(knn_test_fn)"
   ],
   "metadata": {
    "collapsed": false,
    "pycharm": {
     "name": "#%%\n"
    }
   }
  },
  {
   "cell_type": "markdown",
   "source": [
    "# Random Forests"
   ],
   "metadata": {
    "collapsed": false,
    "pycharm": {
     "name": "#%% md\n"
    }
   }
  },
  {
   "cell_type": "code",
   "execution_count": 31,
   "outputs": [],
   "source": [
    "from sklearn.ensemble import RandomForestClassifier"
   ],
   "metadata": {
    "collapsed": false,
    "pycharm": {
     "name": "#%%\n"
    }
   }
  },
  {
   "cell_type": "code",
   "execution_count": 34,
   "outputs": [
    {
     "name": "stdout",
     "output_type": "stream",
     "text": [
      "Score de entrenamiento: \n",
      "0.9993320865615816\n",
      "Score de Testeo: \n",
      "0.8729967948717948\n"
     ]
    }
   ],
   "source": [
    "# filtrado normalizado\n",
    "rfc = RandomForestClassifier().fit(x_train_fn,y_train_fn)\n",
    "rfc_train_fn = rfc.score(x_train_fn,y_train_fn)\n",
    "rfc_test_fn = rfc.score(x_test_fn,y_test_fn)\n",
    "print('Score de entrenamiento: ')\n",
    "print(rfc_train_fn)\n",
    "print('Score de Testeo: ')\n",
    "print(rfc_test_fn)"
   ],
   "metadata": {
    "collapsed": false,
    "pycharm": {
     "name": "#%%\n"
    }
   }
  },
  {
   "cell_type": "code",
   "execution_count": 35,
   "outputs": [
    {
     "name": "stdout",
     "output_type": "stream",
     "text": [
      "Score de entrenamiento: \n",
      "0.9993320865615816\n",
      "Score de Testeo: \n",
      "0.8745993589743589\n"
     ]
    }
   ],
   "source": [
    "# filtrado normalizado\n",
    "rfc = RandomForestClassifier(n_estimators=200, n_jobs=-1).fit(x_train_fn,y_train_fn)\n",
    "rfc_train_fn = rfc.score(x_train_fn,y_train_fn)\n",
    "rfc_test_fn = rfc.score(x_test_fn,y_test_fn)\n",
    "print('Score de entrenamiento: ')\n",
    "print(rfc_train_fn)\n",
    "print('Score de Testeo: ')\n",
    "print(rfc_test_fn)"
   ],
   "metadata": {
    "collapsed": false,
    "pycharm": {
     "name": "#%%\n"
    }
   }
  },
  {
   "cell_type": "code",
   "execution_count": 36,
   "outputs": [
    {
     "name": "stdout",
     "output_type": "stream",
     "text": [
      "Score de entrenamiento: \n",
      "0.9993320865615816\n",
      "Score de Testeo: \n",
      "0.8806089743589743\n"
     ]
    }
   ],
   "source": [
    "# filtrado normalizado\n",
    "rfc = RandomForestClassifier(n_estimators=500, n_jobs=-1).fit(x_train_fn,y_train_fn)\n",
    "rfc_train_fn = rfc.score(x_train_fn,y_train_fn)\n",
    "rfc_test_fn = rfc.score(x_test_fn,y_test_fn)\n",
    "print('Score de entrenamiento: ')\n",
    "print(rfc_train_fn)\n",
    "print('Score de Testeo: ')\n",
    "print(rfc_test_fn)"
   ],
   "metadata": {
    "collapsed": false,
    "pycharm": {
     "name": "#%%\n"
    }
   }
  },
  {
   "cell_type": "code",
   "execution_count": 40,
   "outputs": [
    {
     "name": "stdout",
     "output_type": "stream",
     "text": [
      "Score de entrenamiento: \n",
      "0.9993320865615816\n",
      "Score de Testeo: \n",
      "0.8854166666666666\n"
     ]
    }
   ],
   "source": [
    "# filtrado normalizado\n",
    "rfc = RandomForestClassifier(n_estimators=500, max_depth=20, n_jobs=-1).fit(x_train_fn,y_train_fn)\n",
    "rfc_train_fn = rfc.score(x_train_fn,y_train_fn)\n",
    "rfc_test_fn = rfc.score(x_test_fn,y_test_fn)\n",
    "print('Score de entrenamiento: ')\n",
    "print(rfc_train_fn)\n",
    "print('Score de Testeo: ')\n",
    "print(rfc_test_fn)"
   ],
   "metadata": {
    "collapsed": false,
    "pycharm": {
     "name": "#%%\n"
    }
   }
  },
  {
   "cell_type": "code",
   "execution_count": 41,
   "outputs": [
    {
     "name": "stdout",
     "output_type": "stream",
     "text": [
      "Score de entrenamiento: \n",
      "0.9993320865615816\n",
      "Score de Testeo: \n",
      "0.8846153846153846\n"
     ]
    }
   ],
   "source": [
    "# filtrado normalizado\n",
    "rfc = RandomForestClassifier(n_estimators=1000, n_jobs=-1).fit(x_train_fn,y_train_fn)\n",
    "rfc_train_fn = rfc.score(x_train_fn,y_train_fn)\n",
    "rfc_test_fn = rfc.score(x_test_fn,y_test_fn)\n",
    "print('Score de entrenamiento: ')\n",
    "print(rfc_train_fn)\n",
    "print('Score de Testeo: ')\n",
    "print(rfc_test_fn)"
   ],
   "metadata": {
    "collapsed": false,
    "pycharm": {
     "name": "#%%\n"
    }
   }
  },
  {
   "cell_type": "code",
   "execution_count": 42,
   "outputs": [
    {
     "name": "stdout",
     "output_type": "stream",
     "text": [
      "Score de entrenamiento: \n",
      "0.9993320865615816\n",
      "Score de Testeo: \n",
      "0.8806089743589743\n"
     ]
    }
   ],
   "source": [
    "# filtrado normalizado\n",
    "rfc = RandomForestClassifier(n_estimators=1000, max_depth=20, n_jobs=-1).fit(x_train_fn, y_train_fn)\n",
    "rfc_train_fn = rfc.score(x_train_fn, y_train_fn)\n",
    "rfc_test_fn = rfc.score(x_test_fn, y_test_fn)\n",
    "print('Score de entrenamiento: ')\n",
    "print(rfc_train_fn)\n",
    "print('Score de Testeo: ')\n",
    "print(rfc_test_fn)"
   ],
   "metadata": {
    "collapsed": false,
    "pycharm": {
     "name": "#%%\n"
    }
   }
  },
  {
   "cell_type": "code",
   "execution_count": 44,
   "outputs": [
    {
     "name": "stdout",
     "output_type": "stream",
     "text": [
      "Score de entrenamiento: \n",
      "0.9993320865615816\n",
      "Score de Testeo: \n",
      "0.8693910256410257\n"
     ]
    }
   ],
   "source": [
    "# filtrado normalizado\n",
    "rfc = RandomForestClassifier(n_estimators=1000, max_depth=15, n_jobs=-1).fit(x_train_fn, y_train_fn)\n",
    "rfc_train_fn = rfc.score(x_train_fn, y_train_fn)\n",
    "rfc_test_fn = rfc.score(x_test_fn, y_test_fn)\n",
    "print('Score de entrenamiento: ')\n",
    "print(rfc_train_fn)\n",
    "print('Score de Testeo: ')\n",
    "print(rfc_test_fn)"
   ],
   "metadata": {
    "collapsed": false,
    "pycharm": {
     "name": "#%%\n"
    }
   }
  },
  {
   "cell_type": "code",
   "execution_count": 45,
   "outputs": [
    {
     "name": "stdout",
     "output_type": "stream",
     "text": [
      "Score de entrenamiento: \n",
      "0.9993320865615816\n",
      "Score de Testeo: \n",
      "0.8806089743589743\n"
     ]
    }
   ],
   "source": [
    "# filtrado normalizado\n",
    "rfc = RandomForestClassifier(n_estimators=2000, n_jobs=-1).fit(x_train_fn, y_train_fn)\n",
    "rfc_train_fn = rfc.score(x_train_fn, y_train_fn)\n",
    "rfc_test_fn = rfc.score(x_test_fn, y_test_fn)\n",
    "print('Score de entrenamiento: ')\n",
    "print(rfc_train_fn)\n",
    "print('Score de Testeo: ')\n",
    "print(rfc_test_fn)"
   ],
   "metadata": {
    "collapsed": false,
    "pycharm": {
     "name": "#%%\n"
    }
   }
  },
  {
   "cell_type": "code",
   "execution_count": 47,
   "outputs": [
    {
     "name": "stdout",
     "output_type": "stream",
     "text": [
      "Score de entrenamiento: \n",
      "0.9993320865615816\n",
      "Score de Testeo: \n",
      "0.8842147435897436\n"
     ]
    }
   ],
   "source": [
    "# filtrado normalizado\n",
    "rfc = RandomForestClassifier(n_estimators=5000, n_jobs=-1).fit(x_train_fn, y_train_fn)\n",
    "rfc_train_fn = rfc.score(x_train_fn, y_train_fn)\n",
    "rfc_test_fn = rfc.score(x_test_fn, y_test_fn)\n",
    "print('Score de entrenamiento: ')\n",
    "print(rfc_train_fn)\n",
    "print('Score de Testeo: ')\n",
    "print(rfc_test_fn)"
   ],
   "metadata": {
    "collapsed": false,
    "pycharm": {
     "name": "#%%\n"
    }
   }
  },
  {
   "cell_type": "code",
   "execution_count": 48,
   "outputs": [
    {
     "name": "stdout",
     "output_type": "stream",
     "text": [
      "Score de entrenamiento: \n",
      "0.9829014159764895\n",
      "Score de Testeo: \n",
      "0.8413461538461539\n"
     ]
    }
   ],
   "source": [
    "rfc = RandomForestClassifier(n_estimators=500, max_depth=20, min_samples_leaf=5, n_jobs=-1).fit(x_train_fn,y_train_fn)\n",
    "rfc_train_fn = rfc.score(x_train_fn,y_train_fn)\n",
    "rfc_test_fn = rfc.score(x_test_fn,y_test_fn)\n",
    "print('Score de entrenamiento: ')\n",
    "print(rfc_train_fn)\n",
    "print('Score de Testeo: ')\n",
    "print(rfc_test_fn)"
   ],
   "metadata": {
    "collapsed": false,
    "pycharm": {
     "name": "#%%\n"
    }
   }
  },
  {
   "cell_type": "code",
   "execution_count": 53,
   "outputs": [
    {
     "name": "stdout",
     "output_type": "stream",
     "text": [
      "Score de entrenamiento: \n",
      "0.998797755810847\n",
      "Score de Testeo: \n",
      "0.8717948717948718\n"
     ]
    }
   ],
   "source": [
    "rfc = RandomForestClassifier(n_estimators=500, min_samples_split=2, min_samples_leaf=2, max_depth=50, n_jobs=-1).fit(x_train_fn,y_train_fn)\n",
    "rfc_train_fn = rfc.score(x_train_fn,y_train_fn)\n",
    "rfc_test_fn = rfc.score(x_test_fn,y_test_fn)\n",
    "print('Score de entrenamiento: ')\n",
    "print(rfc_train_fn)\n",
    "print('Score de Testeo: ')\n",
    "print(rfc_test_fn)"
   ],
   "metadata": {
    "collapsed": false,
    "pycharm": {
     "name": "#%%\n"
    }
   }
  },
  {
   "cell_type": "markdown",
   "source": [
    "# Support Vector Machines"
   ],
   "metadata": {
    "collapsed": false
   }
  },
  {
   "cell_type": "code",
   "execution_count": 54,
   "outputs": [],
   "source": [
    "from sklearn import svm"
   ],
   "metadata": {
    "collapsed": false,
    "pycharm": {
     "name": "#%%\n"
    }
   }
  },
  {
   "cell_type": "code",
   "execution_count": 55,
   "outputs": [
    {
     "name": "stdout",
     "output_type": "stream",
     "text": [
      "Score de entrenamiento: \n",
      "0.7703713598717606\n",
      "Score de Testeo: \n",
      "0.7608173076923077\n"
     ]
    }
   ],
   "source": [
    "# filtrado normalizado\n",
    "svmc = svm.SVC().fit(x_train_fn,y_train_fn)\n",
    "svmc_train_fn = svmc.score(x_train_fn,y_train_fn)\n",
    "svmc_test_fn = svmc.score(x_test_fn,y_test_fn)\n",
    "print('Score de entrenamiento: ')\n",
    "print(svmc_train_fn)\n",
    "print('Score de Testeo: ')\n",
    "print(svmc_test_fn)"
   ],
   "metadata": {
    "collapsed": false,
    "pycharm": {
     "name": "#%%\n"
    }
   }
  },
  {
   "cell_type": "code",
   "execution_count": 57,
   "outputs": [
    {
     "name": "stdout",
     "output_type": "stream",
     "text": [
      "Score de entrenamiento: \n",
      "0.4143734971947636\n",
      "Score de Testeo: \n",
      "0.41346153846153844\n"
     ]
    }
   ],
   "source": [
    "# filtrado normalizado\n",
    "svmc = svm.SVC(C=0.01).fit(x_train_fn,y_train_fn)\n",
    "svmc_train_fn = svmc.score(x_train_fn,y_train_fn)\n",
    "svmc_test_fn = svmc.score(x_test_fn,y_test_fn)\n",
    "print('Score de entrenamiento: ')\n",
    "print(svmc_train_fn)\n",
    "print('Score de Testeo: ')\n",
    "print(svmc_test_fn)"
   ],
   "metadata": {
    "collapsed": false,
    "pycharm": {
     "name": "#%%\n"
    }
   }
  },
  {
   "cell_type": "code",
   "execution_count": 58,
   "outputs": [
    {
     "name": "stdout",
     "output_type": "stream",
     "text": [
      "Score de entrenamiento: \n",
      "0.8966069997328346\n",
      "Score de Testeo: \n",
      "0.8493589743589743\n"
     ]
    }
   ],
   "source": [
    "# filtrado normalizado\n",
    "svmc = svm.SVC(C=10).fit(x_train_fn,y_train_fn)\n",
    "svmc_train_fn = svmc.score(x_train_fn,y_train_fn)\n",
    "svmc_test_fn = svmc.score(x_test_fn,y_test_fn)\n",
    "print('Score de entrenamiento: ')\n",
    "print(svmc_train_fn)\n",
    "print('Score de Testeo: ')\n",
    "print(svmc_test_fn)"
   ],
   "metadata": {
    "collapsed": false,
    "pycharm": {
     "name": "#%%\n"
    }
   }
  },
  {
   "cell_type": "code",
   "execution_count": 64,
   "outputs": [
    {
     "name": "stdout",
     "output_type": "stream",
     "text": [
      "Score de entrenamiento: \n",
      "0.9853059043547956\n",
      "Score de Testeo: \n",
      "0.9014423076923077\n"
     ]
    }
   ],
   "source": [
    "# filtrado normalizado\n",
    "svmc = svm.SVC(C=100).fit(x_train_fn,y_train_fn)\n",
    "svmc_train_fn = svmc.score(x_train_fn,y_train_fn)\n",
    "svmc_test_fn = svmc.score(x_test_fn,y_test_fn)\n",
    "print('Score de entrenamiento: ')\n",
    "print(svmc_train_fn)\n",
    "print('Score de Testeo: ')\n",
    "print(svmc_test_fn)"
   ],
   "metadata": {
    "collapsed": false,
    "pycharm": {
     "name": "#%%\n"
    }
   }
  },
  {
   "cell_type": "code",
   "execution_count": 59,
   "outputs": [
    {
     "name": "stdout",
     "output_type": "stream",
     "text": [
      "Score de entrenamiento: \n",
      "0.9993320865615816\n",
      "Score de Testeo: \n",
      "0.8974358974358975\n"
     ]
    }
   ],
   "source": [
    "# filtrado normalizado\n",
    "svmc = svm.SVC(C=1000).fit(x_train_fn,y_train_fn)\n",
    "svmc_train_fn = svmc.score(x_train_fn,y_train_fn)\n",
    "svmc_test_fn = svmc.score(x_test_fn,y_test_fn)\n",
    "print('Score de entrenamiento: ')\n",
    "print(svmc_train_fn)\n",
    "print('Score de Testeo: ')\n",
    "print(svmc_test_fn)"
   ],
   "metadata": {
    "collapsed": false,
    "pycharm": {
     "name": "#%%\n"
    }
   }
  },
  {
   "cell_type": "code",
   "execution_count": 61,
   "outputs": [
    {
     "name": "stdout",
     "output_type": "stream",
     "text": [
      "Score de entrenamiento: \n",
      "0.9993320865615816\n",
      "Score de Testeo: \n",
      "0.8970352564102564\n"
     ]
    }
   ],
   "source": [
    "# filtrado normalizado\n",
    "svmc = svm.SVC(C=10000).fit(x_train_fn,y_train_fn)\n",
    "svmc_train_fn = svmc.score(x_train_fn,y_train_fn)\n",
    "svmc_test_fn = svmc.score(x_test_fn,y_test_fn)\n",
    "print('Score de entrenamiento: ')\n",
    "print(svmc_train_fn)\n",
    "print('Score de Testeo: ')\n",
    "print(svmc_test_fn)"
   ],
   "metadata": {
    "collapsed": false,
    "pycharm": {
     "name": "#%%\n"
    }
   }
  },
  {
   "cell_type": "code",
   "execution_count": 62,
   "outputs": [
    {
     "name": "stdout",
     "output_type": "stream",
     "text": [
      "Score de entrenamiento: \n",
      "0.998797755810847\n",
      "Score de Testeo: \n",
      "0.9022435897435898\n"
     ]
    }
   ],
   "source": [
    "# filtrado normalizado\n",
    "svmc = svm.SVC(C=500).fit(x_train_fn,y_train_fn)\n",
    "svmc_train_fn = svmc.score(x_train_fn,y_train_fn)\n",
    "svmc_test_fn = svmc.score(x_test_fn,y_test_fn)\n",
    "print('Score de entrenamiento: ')\n",
    "print(svmc_train_fn)\n",
    "print('Score de Testeo: ')\n",
    "print(svmc_test_fn)"
   ],
   "metadata": {
    "collapsed": false,
    "pycharm": {
     "name": "#%%\n"
    }
   }
  },
  {
   "cell_type": "code",
   "execution_count": 69,
   "outputs": [
    {
     "name": "stdout",
     "output_type": "stream",
     "text": [
      "Score de entrenamiento: \n",
      "0.9963932674325408\n",
      "Score de Testeo: \n",
      "0.905448717948718\n"
     ]
    }
   ],
   "source": [
    "# filtrado normalizado\n",
    "svmc = svm.SVC(C=250).fit(x_train_fn,y_train_fn)\n",
    "svmc_train_fn = svmc.score(x_train_fn,y_train_fn)\n",
    "svmc_test_fn = svmc.score(x_test_fn,y_test_fn)\n",
    "print('Score de entrenamiento: ')\n",
    "print(svmc_train_fn)\n",
    "print('Score de Testeo: ')\n",
    "print(svmc_test_fn)"
   ],
   "metadata": {
    "collapsed": false,
    "pycharm": {
     "name": "#%%\n"
    }
   }
  },
  {
   "cell_type": "code",
   "execution_count": 68,
   "outputs": [
    {
     "name": "stdout",
     "output_type": "stream",
     "text": [
      "Score de entrenamiento: \n",
      "0.9973283462463265\n",
      "Score de Testeo: \n",
      "0.9046474358974359\n"
     ]
    }
   ],
   "source": [
    "# filtrado normalizado\n",
    "svmc = svm.SVC(C=300).fit(x_train_fn,y_train_fn)\n",
    "svmc_train_fn = svmc.score(x_train_fn,y_train_fn)\n",
    "svmc_test_fn = svmc.score(x_test_fn,y_test_fn)\n",
    "print('Score de entrenamiento: ')\n",
    "print(svmc_train_fn)\n",
    "print('Score de Testeo: ')\n",
    "print(svmc_test_fn)"
   ],
   "metadata": {
    "collapsed": false,
    "pycharm": {
     "name": "#%%\n"
    }
   }
  },
  {
   "cell_type": "code",
   "execution_count": 71,
   "outputs": [
    {
     "name": "stdout",
     "output_type": "stream",
     "text": [
      "Score de entrenamiento: \n",
      "0.9989313384985306\n",
      "Score de Testeo: \n",
      "0.90625\n"
     ]
    }
   ],
   "source": [
    "# filtrado normalizado\n",
    "svmc = svm.SVC(C=250, gamma=0.5).fit(x_train_fn,y_train_fn)\n",
    "svmc_train_fn = svmc.score(x_train_fn,y_train_fn)\n",
    "svmc_test_fn = svmc.score(x_test_fn,y_test_fn)\n",
    "print('Score de entrenamiento: ')\n",
    "print(svmc_train_fn)\n",
    "print('Score de Testeo: ')\n",
    "print(svmc_test_fn)"
   ],
   "metadata": {
    "collapsed": false,
    "pycharm": {
     "name": "#%%\n"
    }
   }
  },
  {
   "cell_type": "code",
   "execution_count": 72,
   "outputs": [
    {
     "name": "stdout",
     "output_type": "stream",
     "text": [
      "Score de entrenamiento: \n",
      "0.9993320865615816\n",
      "Score de Testeo: \n",
      "0.9078525641025641\n"
     ]
    }
   ],
   "source": [
    "# filtrado normalizado\n",
    "svmc = svm.SVC(C=250, gamma=0.8).fit(x_train_fn,y_train_fn)\n",
    "svmc_train_fn = svmc.score(x_train_fn,y_train_fn)\n",
    "svmc_test_fn = svmc.score(x_test_fn,y_test_fn)\n",
    "print('Score de entrenamiento: ')\n",
    "print(svmc_train_fn)\n",
    "print('Score de Testeo: ')\n",
    "print(svmc_test_fn)"
   ],
   "metadata": {
    "collapsed": false,
    "pycharm": {
     "name": "#%%\n"
    }
   }
  },
  {
   "cell_type": "code",
   "execution_count": 73,
   "outputs": [
    {
     "name": "stdout",
     "output_type": "stream",
     "text": [
      "Score de entrenamiento: \n",
      "0.9993320865615816\n",
      "Score de Testeo: \n",
      "0.9126602564102564\n"
     ]
    }
   ],
   "source": [
    "# filtrado normalizado\n",
    "svmc = svm.SVC(C=250, gamma=1).fit(x_train_fn,y_train_fn)\n",
    "svmc_train_fn = svmc.score(x_train_fn,y_train_fn)\n",
    "svmc_test_fn = svmc.score(x_test_fn,y_test_fn)\n",
    "print('Score de entrenamiento: ')\n",
    "print(svmc_train_fn)\n",
    "print('Score de Testeo: ')\n",
    "print(svmc_test_fn)"
   ],
   "metadata": {
    "collapsed": false,
    "pycharm": {
     "name": "#%%\n"
    }
   }
  },
  {
   "cell_type": "code",
   "execution_count": 74,
   "outputs": [
    {
     "name": "stdout",
     "output_type": "stream",
     "text": [
      "Score de entrenamiento: \n",
      "0.9993320865615816\n",
      "Score de Testeo: \n",
      "0.9274839743589743\n"
     ]
    }
   ],
   "source": [
    "# filtrado normalizado\n",
    "svmc = svm.SVC(C=250, gamma=2).fit(x_train_fn,y_train_fn)\n",
    "svmc_train_fn = svmc.score(x_train_fn,y_train_fn)\n",
    "svmc_test_fn = svmc.score(x_test_fn,y_test_fn)\n",
    "print('Score de entrenamiento: ')\n",
    "print(svmc_train_fn)\n",
    "print('Score de Testeo: ')\n",
    "print(svmc_test_fn)"
   ],
   "metadata": {
    "collapsed": false,
    "pycharm": {
     "name": "#%%\n"
    }
   }
  },
  {
   "cell_type": "code",
   "execution_count": 75,
   "outputs": [
    {
     "name": "stdout",
     "output_type": "stream",
     "text": [
      "Score de entrenamiento: \n",
      "0.9993320865615816\n",
      "Score de Testeo: \n",
      "0.9326923076923077\n"
     ]
    }
   ],
   "source": [
    "# filtrado normalizado\n",
    "svmc = svm.SVC(C=250, gamma=3).fit(x_train_fn,y_train_fn)\n",
    "svmc_train_fn = svmc.score(x_train_fn,y_train_fn)\n",
    "svmc_test_fn = svmc.score(x_test_fn,y_test_fn)\n",
    "print('Score de entrenamiento: ')\n",
    "print(svmc_train_fn)\n",
    "print('Score de Testeo: ')\n",
    "print(svmc_test_fn)"
   ],
   "metadata": {
    "collapsed": false,
    "pycharm": {
     "name": "#%%\n"
    }
   }
  },
  {
   "cell_type": "code",
   "execution_count": 78,
   "outputs": [
    {
     "name": "stdout",
     "output_type": "stream",
     "text": [
      "Score de entrenamiento: \n",
      "0.9993320865615816\n",
      "Score de Testeo: \n",
      "0.9330929487179487\n"
     ]
    }
   ],
   "source": [
    "# filtrado normalizado\n",
    "svmc = svm.SVC(C=250, gamma=4).fit(x_train_fn,y_train_fn)\n",
    "svmc_train_fn = svmc.score(x_train_fn,y_train_fn)\n",
    "svmc_test_fn = svmc.score(x_test_fn,y_test_fn)\n",
    "print('Score de entrenamiento: ')\n",
    "print(svmc_train_fn)\n",
    "print('Score de Testeo: ')\n",
    "print(svmc_test_fn)"
   ],
   "metadata": {
    "collapsed": false,
    "pycharm": {
     "name": "#%%\n"
    }
   }
  },
  {
   "cell_type": "code",
   "execution_count": 79,
   "outputs": [
    {
     "name": "stdout",
     "output_type": "stream",
     "text": [
      "Score de entrenamiento: \n",
      "0.9993320865615816\n",
      "Score de Testeo: \n",
      "0.9286858974358975\n"
     ]
    }
   ],
   "source": [
    "# filtrado normalizado\n",
    "svmc = svm.SVC(C=250, gamma=6).fit(x_train_fn,y_train_fn)\n",
    "svmc_train_fn = svmc.score(x_train_fn,y_train_fn)\n",
    "svmc_test_fn = svmc.score(x_test_fn,y_test_fn)\n",
    "print('Score de entrenamiento: ')\n",
    "print(svmc_train_fn)\n",
    "print('Score de Testeo: ')\n",
    "print(svmc_test_fn)"
   ],
   "metadata": {
    "collapsed": false,
    "pycharm": {
     "name": "#%%\n"
    }
   }
  },
  {
   "cell_type": "code",
   "execution_count": 82,
   "outputs": [
    {
     "name": "stdout",
     "output_type": "stream",
     "text": [
      "Score de entrenamiento: \n",
      "0.9993320865615816\n",
      "Score de Testeo: \n",
      "0.9330929487179487\n"
     ]
    }
   ],
   "source": [
    "# filtrado normalizado\n",
    "svmc = svm.SVC(C=250, gamma=3.5).fit(x_train_fn,y_train_fn)\n",
    "svmc_train_fn = svmc.score(x_train_fn,y_train_fn)\n",
    "svmc_test_fn = svmc.score(x_test_fn,y_test_fn)\n",
    "print('Score de entrenamiento: ')\n",
    "print(svmc_train_fn)\n",
    "print('Score de Testeo: ')\n",
    "print(svmc_test_fn)"
   ],
   "metadata": {
    "collapsed": false,
    "pycharm": {
     "name": "#%%\n"
    }
   }
  },
  {
   "cell_type": "markdown",
   "source": [
    "# Extra Trees"
   ],
   "metadata": {
    "collapsed": false
   }
  },
  {
   "cell_type": "code",
   "execution_count": 83,
   "outputs": [],
   "source": [
    "from sklearn.ensemble import ExtraTreesClassifier"
   ],
   "metadata": {
    "collapsed": false,
    "pycharm": {
     "name": "#%%\n"
    }
   }
  },
  {
   "cell_type": "code",
   "execution_count": 84,
   "outputs": [
    {
     "name": "stdout",
     "output_type": "stream",
     "text": [
      "Score de entrenamiento: \n",
      "0.9993320865615816\n",
      "Score de Testeo: \n",
      "0.8994391025641025\n"
     ]
    }
   ],
   "source": [
    "# filtrado normalizado\n",
    "rfc = ExtraTreesClassifier().fit(x_train_fn,y_train_fn)\n",
    "rfc_train_fn = rfc.score(x_train_fn,y_train_fn)\n",
    "rfc_test_fn = rfc.score(x_test_fn,y_test_fn)\n",
    "print('Score de entrenamiento: ')\n",
    "print(rfc_train_fn)\n",
    "print('Score de Testeo: ')\n",
    "print(rfc_test_fn)"
   ],
   "metadata": {
    "collapsed": false,
    "pycharm": {
     "name": "#%%\n"
    }
   }
  },
  {
   "cell_type": "code",
   "execution_count": 86,
   "outputs": [
    {
     "name": "stdout",
     "output_type": "stream",
     "text": [
      "Score de entrenamiento: \n",
      "0.9993320865615816\n",
      "Score de Testeo: \n",
      "0.9086538461538461\n"
     ]
    }
   ],
   "source": [
    "# filtrado normalizado\n",
    "rfc = ExtraTreesClassifier(n_estimators=500, n_jobs=-1).fit(x_train_fn,y_train_fn)\n",
    "rfc_train_fn = rfc.score(x_train_fn,y_train_fn)\n",
    "rfc_test_fn = rfc.score(x_test_fn,y_test_fn)\n",
    "print('Score de entrenamiento: ')\n",
    "print(rfc_train_fn)\n",
    "print('Score de Testeo: ')\n",
    "print(rfc_test_fn)"
   ],
   "metadata": {
    "collapsed": false,
    "pycharm": {
     "name": "#%%\n"
    }
   }
  },
  {
   "cell_type": "code",
   "execution_count": 88,
   "outputs": [
    {
     "name": "stdout",
     "output_type": "stream",
     "text": [
      "Score de entrenamiento: \n",
      "0.9993320865615816\n",
      "Score de Testeo: \n",
      "0.9130608974358975\n"
     ]
    }
   ],
   "source": [
    "# filtrado normalizado\n",
    "rfc = ExtraTreesClassifier(n_estimators=5000, n_jobs=-1).fit(x_train_fn,y_train_fn)\n",
    "rfc_train_fn = rfc.score(x_train_fn,y_train_fn)\n",
    "rfc_test_fn = rfc.score(x_test_fn,y_test_fn)\n",
    "print('Score de entrenamiento: ')\n",
    "print(rfc_train_fn)\n",
    "print('Score de Testeo: ')\n",
    "print(rfc_test_fn)"
   ],
   "metadata": {
    "collapsed": false,
    "pycharm": {
     "name": "#%%\n"
    }
   }
  },
  {
   "cell_type": "code",
   "execution_count": 89,
   "outputs": [
    {
     "name": "stdout",
     "output_type": "stream",
     "text": [
      "Score de entrenamiento: \n",
      "0.9993320865615816\n",
      "Score de Testeo: \n",
      "0.9134615384615384\n"
     ]
    }
   ],
   "source": [
    "# filtrado normalizado\n",
    "rfc = ExtraTreesClassifier(n_estimators=1000, n_jobs=-1).fit(x_train_fn,y_train_fn)\n",
    "rfc_train_fn = rfc.score(x_train_fn,y_train_fn)\n",
    "rfc_test_fn = rfc.score(x_test_fn,y_test_fn)\n",
    "print('Score de entrenamiento: ')\n",
    "print(rfc_train_fn)\n",
    "print('Score de Testeo: ')\n",
    "print(rfc_test_fn)"
   ],
   "metadata": {
    "collapsed": false,
    "pycharm": {
     "name": "#%%\n"
    }
   }
  },
  {
   "cell_type": "code",
   "execution_count": 90,
   "outputs": [
    {
     "name": "stdout",
     "output_type": "stream",
     "text": [
      "Score de entrenamiento: \n",
      "0.9993320865615816\n",
      "Score de Testeo: \n",
      "0.9126602564102564\n"
     ]
    }
   ],
   "source": [
    "# filtrado normalizado\n",
    "rfc = ExtraTreesClassifier(n_estimators=10000, n_jobs=-1).fit(x_train_fn,y_train_fn)\n",
    "rfc_train_fn = rfc.score(x_train_fn,y_train_fn)\n",
    "rfc_test_fn = rfc.score(x_test_fn,y_test_fn)\n",
    "print('Score de entrenamiento: ')\n",
    "print(rfc_train_fn)\n",
    "print('Score de Testeo: ')\n",
    "print(rfc_test_fn)"
   ],
   "metadata": {
    "collapsed": false,
    "pycharm": {
     "name": "#%%\n"
    }
   }
  },
  {
   "cell_type": "code",
   "execution_count": 95,
   "outputs": [
    {
     "name": "stdout",
     "output_type": "stream",
     "text": [
      "Score de entrenamiento: \n",
      "0.9131712530056105\n",
      "Score de Testeo: \n",
      "0.7568108974358975\n"
     ]
    }
   ],
   "source": [
    "# filtrado normalizado\n",
    "rfc = ExtraTreesClassifier(n_estimators=50000, max_depth=10, n_jobs=-1).fit(x_train_fn,y_train_fn)\n",
    "rfc_train_fn = rfc.score(x_train_fn,y_train_fn)\n",
    "rfc_test_fn = rfc.score(x_test_fn,y_test_fn)\n",
    "print('Score de entrenamiento: ')\n",
    "print(rfc_train_fn)\n",
    "print('Score de Testeo: ')\n",
    "print(rfc_test_fn)"
   ],
   "metadata": {
    "collapsed": false,
    "pycharm": {
     "name": "#%%\n"
    }
   }
  },
  {
   "cell_type": "code",
   "execution_count": 96,
   "outputs": [],
   "source": [
    "from joblib import dump, load"
   ],
   "metadata": {
    "collapsed": false,
    "pycharm": {
     "name": "#%%\n"
    }
   }
  },
  {
   "cell_type": "code",
   "execution_count": 97,
   "outputs": [
    {
     "data": {
      "text/plain": "['../data/models/rfc_50000_10.joblib']"
     },
     "execution_count": 97,
     "metadata": {},
     "output_type": "execute_result"
    }
   ],
   "source": [
    "dump(rfc, '../data/models/rfc_50000_10.joblib')"
   ],
   "metadata": {
    "collapsed": false,
    "pycharm": {
     "name": "#%%\n"
    }
   }
  },
  {
   "cell_type": "code",
   "execution_count": null,
   "outputs": [],
   "source": [],
   "metadata": {
    "collapsed": false,
    "pycharm": {
     "name": "#%%\n"
    }
   }
  }
 ],
 "metadata": {
  "kernelspec": {
   "display_name": "Python 3",
   "language": "python",
   "name": "python3"
  },
  "language_info": {
   "codemirror_mode": {
    "name": "ipython",
    "version": 2
   },
   "file_extension": ".py",
   "mimetype": "text/x-python",
   "name": "python",
   "nbconvert_exporter": "python",
   "pygments_lexer": "ipython2",
   "version": "2.7.6"
  }
 },
 "nbformat": 4,
 "nbformat_minor": 0
}