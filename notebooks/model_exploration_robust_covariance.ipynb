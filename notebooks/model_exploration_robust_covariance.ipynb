{
 "cells": [
  {
   "cell_type": "code",
   "execution_count": 1,
   "metadata": {
    "collapsed": true
   },
   "outputs": [],
   "source": [
    "import pandas as pd\n",
    "import numpy as np\n",
    "from joblib import dump\n",
    "from sklearn.model_selection import train_test_split\n",
    "from sklearn.preprocessing import MinMaxScaler\n",
    "\n",
    "from sklearn.neighbors import KNeighborsClassifier\n",
    "from sklearn.ensemble import ExtraTreesClassifier\n",
    "from sklearn.ensemble import RandomForestClassifier\n",
    "from sklearn import svm"
   ]
  },
  {
   "cell_type": "code",
   "execution_count": 2,
   "outputs": [],
   "source": [
    "data_path = '../data/features_3_sec.csv'\n",
    "df = pd.read_csv(data_path)\n",
    "df['label'] = df['label'].astype('category')\n",
    "\n",
    "scaler = MinMaxScaler()\n",
    "x_scaled = scaler.fit_transform(df.loc[:, 'chroma_stft_mean':'mfcc20_var'].values)\n",
    "y = df['label'].cat.codes.values\n",
    "\n",
    "cov = pd.read_csv('../data/kur_covariance_scaled.csv', header=None).values\n",
    "\n",
    "v = x_scaled - x_scaled.mean(axis=0)\n",
    "mahalanobis_distances = np.diag(v @ np.linalg.inv(cov) @ v.T)\n",
    "p25 = np.percentile(mahalanobis_distances, 25)\n",
    "p75 = np.percentile(mahalanobis_distances, 75)\n",
    "threshold = p75 + 3 * (p75 - p25)\n",
    "x_filtered = x_scaled[mahalanobis_distances < threshold]\n",
    "y_filtered = y[mahalanobis_distances < threshold]\n",
    "\n",
    "x_train, x_test, y_train, y_test = train_test_split(x_filtered, y_filtered, random_state=42)"
   ],
   "metadata": {
    "collapsed": false,
    "pycharm": {
     "name": "#%%\n"
    }
   }
  },
  {
   "cell_type": "code",
   "execution_count": 3,
   "outputs": [
    {
     "name": "stdout",
     "output_type": "stream",
     "text": [
      "Score de entrenamiento: \n",
      "0.9991865509761388\n",
      "Score de Testeo: \n",
      "0.9459129727531517\n"
     ]
    }
   ],
   "source": [
    "knn = KNeighborsClassifier(1, p=1, n_jobs=-1).fit(x_train, y_train)\n",
    "knn_train_fn = knn.score(x_train, y_train)\n",
    "knn_test_fn = knn.score(x_test, y_test)\n",
    "print('Score de entrenamiento: ')\n",
    "print(knn_train_fn)\n",
    "print('Score de Testeo: ')\n",
    "print(knn_test_fn)"
   ],
   "metadata": {
    "collapsed": false,
    "pycharm": {
     "name": "#%%\n"
    }
   }
  },
  {
   "cell_type": "code",
   "execution_count": 4,
   "outputs": [
    {
     "data": {
      "text/plain": "['../data/models/knn_937.joblib']"
     },
     "execution_count": 4,
     "metadata": {},
     "output_type": "execute_result"
    }
   ],
   "source": [
    "dump(knn, '../data/models/knn_937.joblib')"
   ],
   "metadata": {
    "collapsed": false,
    "pycharm": {
     "name": "#%%\n"
    }
   }
  },
  {
   "cell_type": "code",
   "execution_count": 5,
   "outputs": [
    {
     "data": {
      "text/plain": "['../data/models/knn_937_scaler.joblib']"
     },
     "execution_count": 5,
     "metadata": {},
     "output_type": "execute_result"
    }
   ],
   "source": [
    "dump(scaler, '../data/models/knn_937_scaler.joblib')"
   ],
   "metadata": {
    "collapsed": false,
    "pycharm": {
     "name": "#%%\n"
    }
   }
  },
  {
   "cell_type": "code",
   "execution_count": null,
   "outputs": [],
   "source": [
    "# ToDo: Probar norma 1 para filtrado de outliers"
   ],
   "metadata": {
    "collapsed": false,
    "pycharm": {
     "name": "#%%\n"
    }
   }
  },
  {
   "cell_type": "code",
   "execution_count": 18,
   "outputs": [
    {
     "name": "stdout",
     "output_type": "stream",
     "text": [
      "Score de entrenamiento: \n",
      "0.9991710417242332\n",
      "Score de Testeo: \n",
      "0.129714048901782\n"
     ]
    }
   ],
   "source": [
    "svmc = svm.SVC(C=250, gamma=4).fit(x_train, y_train)\n",
    "svmc_train_fn = svmc.score(x_train, y_train)\n",
    "svmc_test_fn = svmc.score(x_test, y_test)\n",
    "print('Score de entrenamiento: ')\n",
    "print(svmc_train_fn)\n",
    "print('Score de Testeo: ')\n",
    "print(svmc_test_fn)"
   ],
   "metadata": {
    "collapsed": false,
    "pycharm": {
     "name": "#%%\n"
    }
   }
  },
  {
   "cell_type": "code",
   "execution_count": 56,
   "outputs": [
    {
     "name": "stdout",
     "output_type": "stream",
     "text": [
      "Score de entrenamiento: \n",
      "0.9991710417242332\n",
      "Score de Testeo: \n",
      "0.9365934521342727\n"
     ]
    }
   ],
   "source": [
    "svmc = svm.SVC(C=80, gamma=0.0295).fit(x_train, y_train)\n",
    "svmc_train_fn = svmc.score(x_train, y_train)\n",
    "svmc_test_fn = svmc.score(x_test, y_test)\n",
    "print('Score de entrenamiento: ')\n",
    "print(svmc_train_fn)\n",
    "print('Score de Testeo: ')\n",
    "print(svmc_test_fn)"
   ],
   "metadata": {
    "collapsed": false,
    "pycharm": {
     "name": "#%%\n"
    }
   }
  },
  {
   "cell_type": "code",
   "execution_count": 60,
   "outputs": [
    {
     "name": "stdout",
     "output_type": "stream",
     "text": [
      "Score de entrenamiento: \n",
      "0.9991710417242332\n",
      "Score de Testeo: \n",
      "0.904268545379196\n"
     ]
    }
   ],
   "source": [
    "etc = ExtraTreesClassifier(n_estimators=10000, n_jobs=-1).fit(x_train, y_train)\n",
    "etc_train = etc.score(x_train, y_train)\n",
    "etc_test = etc.score(x_test, y_test)\n",
    "print('Score de entrenamiento: ')\n",
    "print(etc_train)\n",
    "print('Score de Testeo: ')\n",
    "print(etc_test)"
   ],
   "metadata": {
    "collapsed": false,
    "pycharm": {
     "name": "#%%\n"
    }
   }
  },
  {
   "cell_type": "code",
   "execution_count": 63,
   "outputs": [
    {
     "name": "stdout",
     "output_type": "stream",
     "text": [
      "Score de entrenamiento: \n",
      "0.9991710417242332\n",
      "Score de Testeo: \n",
      "0.8736013261500207\n"
     ]
    }
   ],
   "source": [
    "rfc = RandomForestClassifier(n_estimators=1000, n_jobs=-1).fit(x_train, y_train)\n",
    "rfc_train_fn = rfc.score(x_train, y_train)\n",
    "rfc_test_fn = rfc.score(x_test, y_test)\n",
    "print('Score de entrenamiento: ')\n",
    "print(rfc_train_fn)\n",
    "print('Score de Testeo: ')\n",
    "print(rfc_test_fn)"
   ],
   "metadata": {
    "collapsed": false,
    "pycharm": {
     "name": "#%%\n"
    }
   }
  },
  {
   "cell_type": "code",
   "execution_count": null,
   "outputs": [],
   "source": [],
   "metadata": {
    "collapsed": false,
    "pycharm": {
     "name": "#%%\n"
    }
   }
  }
 ],
 "metadata": {
  "kernelspec": {
   "display_name": "Python 3",
   "language": "python",
   "name": "python3"
  },
  "language_info": {
   "codemirror_mode": {
    "name": "ipython",
    "version": 2
   },
   "file_extension": ".py",
   "mimetype": "text/x-python",
   "name": "python",
   "nbconvert_exporter": "python",
   "pygments_lexer": "ipython2",
   "version": "2.7.6"
  }
 },
 "nbformat": 4,
 "nbformat_minor": 0
}