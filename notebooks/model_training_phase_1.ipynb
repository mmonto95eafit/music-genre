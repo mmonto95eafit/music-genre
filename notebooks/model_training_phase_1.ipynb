{
 "cells": [
  {
   "cell_type": "code",
   "execution_count": 139,
   "metadata": {},
   "outputs": [],
   "source": [
    "import pandas as pd\n",
    "import numpy as np\n",
    "import plotly.figure_factory as ff\n",
    "from sklearn.model_selection import train_test_split\n",
    "from sklearn.preprocessing import MinMaxScaler\n",
    "from sklearn.neighbors import KNeighborsClassifier\n",
    "from sklearn.ensemble import ExtraTreesClassifier\n",
    "from sklearn import svm\n",
    "from sklearn.metrics import precision_recall_fscore_support, confusion_matrix\n",
    "from sklearn.tree import DecisionTreeClassifier\n",
    "from sklearn.naive_bayes import GaussianNB\n",
    "from sklearn.linear_model import SGDClassifier\n",
    "from sklearn.ensemble import RandomForestClassifier\n",
    "from sklearn.linear_model import LogisticRegression\n",
    "from sklearn.ensemble import GradientBoostingClassifier\n",
    "from sklearn.ensemble import AdaBoostClassifier\n",
    "\n",
    "\n",
    "from helpers import get_datasets\n",
    "from helpers import MUSIC_GENRES"
   ]
  },
  {
   "cell_type": "markdown",
   "metadata": {},
   "source": [
    "# Preparación de datos"
   ]
  },
  {
   "cell_type": "code",
   "execution_count": 140,
   "metadata": {},
   "outputs": [],
   "source": [
    "(\n",
    "    x_train, x_test, y_train, y_test,\n",
    "    x_train_cf, x_test_cf, y_train_cf, y_test_cf,\n",
    "    x_train_filtered, x_test_filtered, y_train_filtered, y_test_filtered,\n",
    "    x_train_filtered_cf, x_test_filtered_cf, y_train_filtered_cf, y_test_filtered_cf\n",
    ") = get_datasets()"
   ]
  },
  {
   "cell_type": "code",
   "execution_count": 141,
   "metadata": {},
   "outputs": [],
   "source": [
    "modelo_list = []\n",
    "escenario_list = []\n",
    "train_score_list = []\n",
    "test_score_list = []\n",
    "precision_list = []\n",
    "recall_list = []\n",
    "fscore_list = []"
   ]
  },
  {
   "cell_type": "markdown",
   "metadata": {},
   "source": [
    "## CART"
   ]
  },
  {
   "cell_type": "markdown",
   "metadata": {},
   "source": [
    "### Original"
   ]
  },
  {
   "cell_type": "code",
   "execution_count": 142,
   "metadata": {},
   "outputs": [
    {
     "name": "stdout",
     "output_type": "stream",
     "text": [
      "Score de entrenamiento: \n",
      "0.9991991457554725\n",
      "Precisión:  0.6408821386325125  - Recall:  0.6397117694155324  - f1:  0.639702040054553\n"
     ]
    }
   ],
   "source": [
    "tree = DecisionTreeClassifier().fit(x_train,y_train)\n",
    "\n",
    "train_score = tree.score(x_train,y_train)\n",
    "\n",
    "print('Score de entrenamiento: ')\n",
    "print(train_score)\n",
    "\n",
    "y_pred = tree.predict(x_test)\n",
    "precision, recall, fscore, _ = precision_recall_fscore_support(y_test, y_pred, average='weighted')\n",
    "print('Precisión: ', precision, ' - Recall: ', recall, ' - f1: ', fscore)\n",
    "######\n",
    "modelo_list.append('CART')\n",
    "escenario_list.append('Original')\n",
    "train_score_list.append(train_score)\n",
    "precision_list.append(precision)\n",
    "recall_list.append(recall)\n",
    "fscore_list.append(fscore)\n",
    "test_score = tree.score(x_test,y_test)\n",
    "test_score_list.append(test_score)"
   ]
  },
  {
   "cell_type": "code",
   "execution_count": 143,
   "metadata": {},
   "outputs": [
    {
     "name": "stdout",
     "output_type": "stream",
     "text": [
      "['CART']\n",
      "['Original']\n",
      "[0.9991991457554725]\n",
      "[0.6408821386325125]\n",
      "[0.6397117694155324]\n",
      "[0.639702040054553]\n"
     ]
    }
   ],
   "source": [
    "print(modelo_list)\n",
    "print(escenario_list)\n",
    "print(train_score_list)\n",
    "print(precision_list)\n",
    "print(recall_list)\n",
    "print(fscore_list)"
   ]
  },
  {
   "cell_type": "markdown",
   "metadata": {},
   "source": [
    "### Columnas filtradas"
   ]
  },
  {
   "cell_type": "code",
   "execution_count": 144,
   "metadata": {},
   "outputs": [
    {
     "name": "stdout",
     "output_type": "stream",
     "text": [
      "Score de entrenamiento: \n",
      "0.9991991457554725\n",
      "Precisión:  0.6603051370203716  - Recall:  0.6601281024819856  - f1:  0.6596911234263239\n"
     ]
    }
   ],
   "source": [
    "tree = DecisionTreeClassifier().fit(x_train_cf,y_train_cf)\n",
    "\n",
    "train_score = tree.score(x_train_cf,y_train_cf)\n",
    "\n",
    "print('Score de entrenamiento: ')\n",
    "print(train_score)\n",
    "\n",
    "y_pred = tree.predict(x_test_cf)\n",
    "precision, recall, fscore, _ = precision_recall_fscore_support(y_test_cf, y_pred, average='weighted')\n",
    "print('Precisión: ', precision, ' - Recall: ', recall, ' - f1: ', fscore)\n",
    "######\n",
    "modelo_list.append('CART')\n",
    "escenario_list.append('Columnas filtradas')\n",
    "train_score_list.append(train_score)\n",
    "precision_list.append(precision)\n",
    "recall_list.append(recall)\n",
    "fscore_list.append(fscore)\n",
    "test_score = tree.score(x_test_cf,y_test_cf)\n",
    "test_score_list.append(test_score)"
   ]
  },
  {
   "cell_type": "markdown",
   "metadata": {},
   "source": [
    "### Outliers filtrados"
   ]
  },
  {
   "cell_type": "code",
   "execution_count": 145,
   "metadata": {},
   "outputs": [
    {
     "name": "stdout",
     "output_type": "stream",
     "text": [
      "Score de entrenamiento: \n",
      "0.9991865509761388\n",
      "Precisión:  0.6479391091504287  - Recall:  0.6482309882065881  - f1:  0.6476004536198635\n"
     ]
    }
   ],
   "source": [
    "tree = DecisionTreeClassifier().fit(x_train_filtered,y_train_filtered)\n",
    "\n",
    "train_score = tree.score(x_train_filtered,y_train_filtered)\n",
    "\n",
    "print('Score de entrenamiento: ')\n",
    "print(train_score)\n",
    "\n",
    "y_pred = tree.predict(x_test_filtered)\n",
    "precision, recall, fscore, _ = precision_recall_fscore_support(y_test_filtered, y_pred, average='weighted')\n",
    "print('Precisión: ', precision, ' - Recall: ', recall, ' - f1: ', fscore)\n",
    "######\n",
    "modelo_list.append('CART')\n",
    "escenario_list.append('Outliers filtrados')\n",
    "train_score_list.append(train_score)\n",
    "precision_list.append(precision)\n",
    "recall_list.append(recall)\n",
    "fscore_list.append(fscore)\n",
    "test_score = tree.score(x_test_filtered,y_test_filtered)\n",
    "test_score_list.append(test_score)"
   ]
  },
  {
   "cell_type": "markdown",
   "metadata": {},
   "source": [
    "### Columnas filtradas + Outliers filtrados"
   ]
  },
  {
   "cell_type": "code",
   "execution_count": 146,
   "metadata": {},
   "outputs": [
    {
     "name": "stdout",
     "output_type": "stream",
     "text": [
      "Score de entrenamiento: \n",
      "0.9991865509761388\n",
      "Precisión:  0.6502822388858542  - Recall:  0.6486376575843839  - f1:  0.6490504038057148\n"
     ]
    }
   ],
   "source": [
    "tree = DecisionTreeClassifier().fit(x_train_filtered_cf,y_train_filtered_cf)\n",
    "\n",
    "train_score = tree.score(x_train_filtered_cf,y_train_filtered_cf)\n",
    "\n",
    "print('Score de entrenamiento: ')\n",
    "print(train_score)\n",
    "\n",
    "y_pred = tree.predict(x_test_filtered_cf)\n",
    "precision, recall, fscore, _ = precision_recall_fscore_support(y_test_filtered_cf, y_pred, average='weighted')\n",
    "print('Precisión: ', precision, ' - Recall: ', recall, ' - f1: ', fscore)\n",
    "######\n",
    "modelo_list.append('CART')\n",
    "escenario_list.append('Outliers filtrados + Columnas filtradas')\n",
    "train_score_list.append(train_score)\n",
    "precision_list.append(precision)\n",
    "recall_list.append(recall)\n",
    "fscore_list.append(fscore)\n",
    "test_score = tree.score(x_test_filtered_cf,y_test_filtered_cf)\n",
    "test_score_list.append(test_score)"
   ]
  },
  {
   "cell_type": "markdown",
   "metadata": {},
   "source": [
    "## Naive Bayes"
   ]
  },
  {
   "cell_type": "markdown",
   "metadata": {},
   "source": [
    "### Original"
   ]
  },
  {
   "cell_type": "code",
   "execution_count": 147,
   "metadata": {},
   "outputs": [
    {
     "name": "stdout",
     "output_type": "stream",
     "text": [
      "Score de entrenamiento: \n",
      "0.4237853710624666\n",
      "Precisión:  0.4395225944025703  - Recall:  0.42193755004003203  - f1:  0.3928869371730821\n"
     ]
    }
   ],
   "source": [
    "model = GaussianNB().fit(x_train,y_train)\n",
    "\n",
    "train_score = model.score(x_train,y_train)\n",
    "\n",
    "print('Score de entrenamiento: ')\n",
    "print(train_score)\n",
    "\n",
    "y_pred = model.predict(x_test)\n",
    "precision, recall, fscore, _ = precision_recall_fscore_support(y_test, y_pred, average='weighted')\n",
    "print('Precisión: ', precision, ' - Recall: ', recall, ' - f1: ', fscore)\n",
    "######\n",
    "modelo_list.append('Naive Bayes')\n",
    "escenario_list.append('Original')\n",
    "train_score_list.append(train_score)\n",
    "precision_list.append(precision)\n",
    "recall_list.append(recall)\n",
    "fscore_list.append(fscore)\n",
    "test_score = model.score(x_test,y_test)\n",
    "test_score_list.append(test_score)"
   ]
  },
  {
   "cell_type": "markdown",
   "metadata": {},
   "source": [
    "### Columnas filtradas"
   ]
  },
  {
   "cell_type": "code",
   "execution_count": 148,
   "metadata": {},
   "outputs": [
    {
     "name": "stdout",
     "output_type": "stream",
     "text": [
      "Score de entrenamiento: \n",
      "0.38320875600640686\n",
      "Precisión:  0.44554780314941916  - Recall:  0.3767013610888711  - f1:  0.359777778474413\n"
     ]
    }
   ],
   "source": [
    "model = GaussianNB().fit(x_train_cf,y_train_cf)\n",
    "\n",
    "train_score = model.score(x_train_cf,y_train_cf)\n",
    "\n",
    "print('Score de entrenamiento: ')\n",
    "print(train_score)\n",
    "\n",
    "y_pred = model.predict(x_test_cf)\n",
    "precision, recall, fscore, _ = precision_recall_fscore_support(y_test_cf, y_pred, average='weighted')\n",
    "print('Precisión: ', precision, ' - Recall: ', recall, ' - f1: ', fscore)\n",
    "######\n",
    "modelo_list.append('Naive Bayes')\n",
    "escenario_list.append('Columnas filtradas')\n",
    "train_score_list.append(train_score)\n",
    "precision_list.append(precision)\n",
    "recall_list.append(recall)\n",
    "fscore_list.append(fscore)\n",
    "test_score = model.score(x_test_cf,y_test_cf)\n",
    "test_score_list.append(test_score)"
   ]
  },
  {
   "cell_type": "markdown",
   "metadata": {},
   "source": [
    "### Outliers filtrados"
   ]
  },
  {
   "cell_type": "code",
   "execution_count": 149,
   "metadata": {},
   "outputs": [
    {
     "name": "stdout",
     "output_type": "stream",
     "text": [
      "Score de entrenamiento: \n",
      "0.521556399132321\n",
      "Precisión:  0.5295568048584859  - Recall:  0.5144367629117528  - f1:  0.4951908635416927\n"
     ]
    }
   ],
   "source": [
    "model = GaussianNB().fit(x_train_filtered,y_train_filtered)\n",
    "\n",
    "train_score = model.score(x_train_filtered,y_train_filtered)\n",
    "\n",
    "print('Score de entrenamiento: ')\n",
    "print(train_score)\n",
    "\n",
    "y_pred = model.predict(x_test_filtered)\n",
    "precision, recall, fscore, _ = precision_recall_fscore_support(y_test_filtered, y_pred, average='weighted')\n",
    "print('Precisión: ', precision, ' - Recall: ', recall, ' - f1: ', fscore)\n",
    "######\n",
    "modelo_list.append('Naive Bayes')\n",
    "escenario_list.append('Outliers filtrados')\n",
    "train_score_list.append(train_score)\n",
    "precision_list.append(precision)\n",
    "recall_list.append(recall)\n",
    "fscore_list.append(fscore)\n",
    "test_score = model.score(x_test_filtered,y_test_filtered)\n",
    "test_score_list.append(test_score)"
   ]
  },
  {
   "cell_type": "markdown",
   "metadata": {},
   "source": [
    "### Outliers filtrados + Columnas filtradas"
   ]
  },
  {
   "cell_type": "code",
   "execution_count": 150,
   "metadata": {},
   "outputs": [
    {
     "name": "stdout",
     "output_type": "stream",
     "text": [
      "Score de entrenamiento: \n",
      "0.5281995661605207\n",
      "Precisión:  0.5324569630298007  - Recall:  0.5152501016673444  - f1:  0.49602366110689855\n"
     ]
    }
   ],
   "source": [
    "model = GaussianNB().fit(x_train_filtered_cf,y_train_filtered_cf)\n",
    "\n",
    "train_score = model.score(x_train_filtered_cf,y_train_filtered_cf)\n",
    "\n",
    "print('Score de entrenamiento: ')\n",
    "print(train_score)\n",
    "\n",
    "y_pred = model.predict(x_test_filtered_cf)\n",
    "precision, recall, fscore, _ = precision_recall_fscore_support(y_test_filtered_cf, y_pred, average='weighted')\n",
    "print('Precisión: ', precision, ' - Recall: ', recall, ' - f1: ', fscore)\n",
    "######\n",
    "modelo_list.append('Naive Bayes')\n",
    "escenario_list.append('Outliers filtrados + Columnas filtradas')\n",
    "train_score_list.append(train_score)\n",
    "precision_list.append(precision)\n",
    "recall_list.append(recall)\n",
    "fscore_list.append(fscore)\n",
    "test_score = model.score(x_test_filtered_cf,y_test_filtered_cf)\n",
    "test_score_list.append(test_score)"
   ]
  },
  {
   "cell_type": "markdown",
   "metadata": {},
   "source": [
    "## KNN"
   ]
  },
  {
   "cell_type": "markdown",
   "metadata": {},
   "source": [
    "### Original"
   ]
  },
  {
   "cell_type": "code",
   "execution_count": 151,
   "metadata": {},
   "outputs": [
    {
     "name": "stdout",
     "output_type": "stream",
     "text": [
      "Score de entrenamiento: \n",
      "0.48852108916177256\n",
      "Precisión:  0.2751846383544419  - Recall:  0.27942353883106485  - f1:  0.27437544365920985\n"
     ]
    }
   ],
   "source": [
    "model = KNeighborsClassifier().fit(x_train,y_train)\n",
    "\n",
    "train_score = model.score(x_train,y_train)\n",
    "\n",
    "print('Score de entrenamiento: ')\n",
    "print(train_score)\n",
    "\n",
    "y_pred = model.predict(x_test)\n",
    "precision, recall, fscore, _ = precision_recall_fscore_support(y_test, y_pred, average='weighted')\n",
    "print('Precisión: ', precision, ' - Recall: ', recall, ' - f1: ', fscore)\n",
    "######\n",
    "modelo_list.append('Knn')\n",
    "escenario_list.append('Original')\n",
    "train_score_list.append(train_score)\n",
    "precision_list.append(precision)\n",
    "recall_list.append(recall)\n",
    "fscore_list.append(fscore)\n",
    "test_score = model.score(x_test,y_test)\n",
    "test_score_list.append(test_score)"
   ]
  },
  {
   "cell_type": "markdown",
   "metadata": {},
   "source": [
    "### Columnas filtradas"
   ]
  },
  {
   "cell_type": "code",
   "execution_count": 152,
   "metadata": {},
   "outputs": [
    {
     "name": "stdout",
     "output_type": "stream",
     "text": [
      "Score de entrenamiento: \n",
      "0.48678590496529633\n",
      "Precisión:  0.27320542192199926  - Recall:  0.27742193755004  - f1:  0.2724562378662088\n"
     ]
    }
   ],
   "source": [
    "model = KNeighborsClassifier().fit(x_train_cf,y_train_cf)\n",
    "\n",
    "train_score = model.score(x_train_cf,y_train_cf)\n",
    "\n",
    "print('Score de entrenamiento: ')\n",
    "print(train_score)\n",
    "\n",
    "y_pred = model.predict(x_test_cf)\n",
    "precision, recall, fscore, _ = precision_recall_fscore_support(y_test_cf, y_pred, average='weighted')\n",
    "print('Precisión: ', precision, ' - Recall: ', recall, ' - f1: ', fscore)\n",
    "######\n",
    "modelo_list.append('Knn')\n",
    "escenario_list.append('Columnas filtradas')\n",
    "train_score_list.append(train_score)\n",
    "precision_list.append(precision)\n",
    "recall_list.append(recall)\n",
    "fscore_list.append(fscore)\n",
    "test_score = model.score(x_test_cf,y_test_cf)\n",
    "test_score_list.append(test_score)"
   ]
  },
  {
   "cell_type": "markdown",
   "metadata": {},
   "source": [
    "### Outliers filtrados"
   ]
  },
  {
   "cell_type": "code",
   "execution_count": 153,
   "metadata": {},
   "outputs": [
    {
     "name": "stdout",
     "output_type": "stream",
     "text": [
      "Score de entrenamiento: \n",
      "0.9433297180043384\n",
      "Precisión:  0.9028051117771679  - Recall:  0.9007726718178121  - f1:  0.900877190097251\n"
     ]
    }
   ],
   "source": [
    "model = KNeighborsClassifier().fit(x_train_filtered,y_train_filtered)\n",
    "\n",
    "train_score = model.score(x_train_filtered,y_train_filtered)\n",
    "\n",
    "print('Score de entrenamiento: ')\n",
    "print(train_score)\n",
    "\n",
    "y_pred = model.predict(x_test_filtered)\n",
    "precision, recall, fscore, _ = precision_recall_fscore_support(y_test_filtered, y_pred, average='weighted')\n",
    "print('Precisión: ', precision, ' - Recall: ', recall, ' - f1: ', fscore)\n",
    "######\n",
    "modelo_list.append('Knn')\n",
    "escenario_list.append('Outliers filtrados')\n",
    "train_score_list.append(train_score)\n",
    "precision_list.append(precision)\n",
    "recall_list.append(recall)\n",
    "fscore_list.append(fscore)\n",
    "test_score = model.score(x_test_filtered,y_test_filtered)\n",
    "test_score_list.append(test_score)"
   ]
  },
  {
   "cell_type": "markdown",
   "metadata": {},
   "source": [
    "### Outliers filtrados + Columnas filtradas"
   ]
  },
  {
   "cell_type": "code",
   "execution_count": 154,
   "metadata": {},
   "outputs": [
    {
     "name": "stdout",
     "output_type": "stream",
     "text": [
      "Score de entrenamiento: \n",
      "0.940347071583514\n",
      "Precisión:  0.8956228252932336  - Recall:  0.8938592923952826  - f1:  0.8938944606275244\n"
     ]
    }
   ],
   "source": [
    "model = KNeighborsClassifier().fit(x_train_filtered_cf,y_train_filtered_cf)\n",
    "\n",
    "train_score = model.score(x_train_filtered_cf,y_train_filtered_cf)\n",
    "\n",
    "print('Score de entrenamiento: ')\n",
    "print(train_score)\n",
    "\n",
    "y_pred = model.predict(x_test_filtered_cf)\n",
    "precision, recall, fscore, _ = precision_recall_fscore_support(y_test_filtered_cf, y_pred, average='weighted')\n",
    "print('Precisión: ', precision, ' - Recall: ', recall, ' - f1: ', fscore)\n",
    "######\n",
    "modelo_list.append('Knn')\n",
    "escenario_list.append('Outliers filtrados + Columnas filtradas')\n",
    "train_score_list.append(train_score)\n",
    "precision_list.append(precision)\n",
    "recall_list.append(recall)\n",
    "fscore_list.append(fscore)\n",
    "test_score = model.score(x_test_filtered_cf,y_test_filtered_cf)\n",
    "test_score_list.append(test_score)"
   ]
  },
  {
   "cell_type": "markdown",
   "metadata": {},
   "source": [
    "## Stochastic Gradient Descent"
   ]
  },
  {
   "cell_type": "markdown",
   "metadata": {},
   "source": [
    "### Original"
   ]
  },
  {
   "cell_type": "code",
   "execution_count": 155,
   "metadata": {},
   "outputs": [
    {
     "name": "stdout",
     "output_type": "stream",
     "text": [
      "Score de entrenamiento: \n",
      "0.16577682861719167\n",
      "Precisión:  0.1649967479431264  - Recall:  0.1489191353082466  - f1:  0.09253516879359204\n"
     ]
    },
    {
     "name": "stderr",
     "output_type": "stream",
     "text": [
      "C:\\Users\\kevin\\AppData\\Local\\Programs\\Python\\Python39\\lib\\site-packages\\sklearn\\metrics\\_classification.py:1308: UndefinedMetricWarning:\n",
      "\n",
      "Precision and F-score are ill-defined and being set to 0.0 in labels with no predicted samples. Use `zero_division` parameter to control this behavior.\n",
      "\n"
     ]
    }
   ],
   "source": [
    "model = SGDClassifier().fit(x_train,y_train)\n",
    "\n",
    "train_score = model.score(x_train,y_train)\n",
    "\n",
    "print('Score de entrenamiento: ')\n",
    "print(train_score)\n",
    "\n",
    "y_pred = model.predict(x_test)\n",
    "precision, recall, fscore, _ = precision_recall_fscore_support(y_test, y_pred, average='weighted')\n",
    "print('Precisión: ', precision, ' - Recall: ', recall, ' - f1: ', fscore)\n",
    "######\n",
    "modelo_list.append('Stochastic Gradient Descent')\n",
    "escenario_list.append('Original')\n",
    "train_score_list.append(train_score)\n",
    "precision_list.append(precision)\n",
    "recall_list.append(recall)\n",
    "fscore_list.append(fscore)\n",
    "test_score = model.score(x_test,y_test)\n",
    "test_score_list.append(test_score)"
   ]
  },
  {
   "cell_type": "markdown",
   "metadata": {},
   "source": [
    "### Columnas filtradas"
   ]
  },
  {
   "cell_type": "code",
   "execution_count": 156,
   "metadata": {},
   "outputs": [
    {
     "name": "stdout",
     "output_type": "stream",
     "text": [
      "Score de entrenamiento: \n",
      "0.13214095034703685\n",
      "Precisión:  0.13260607984862183  - Recall:  0.12409927942353884  - f1:  0.062344949370177545\n"
     ]
    },
    {
     "name": "stderr",
     "output_type": "stream",
     "text": [
      "C:\\Users\\kevin\\AppData\\Local\\Programs\\Python\\Python39\\lib\\site-packages\\sklearn\\metrics\\_classification.py:1308: UndefinedMetricWarning:\n",
      "\n",
      "Precision and F-score are ill-defined and being set to 0.0 in labels with no predicted samples. Use `zero_division` parameter to control this behavior.\n",
      "\n"
     ]
    }
   ],
   "source": [
    "model = SGDClassifier().fit(x_train_cf,y_train_cf)\n",
    "\n",
    "train_score = model.score(x_train_cf,y_train_cf)\n",
    "\n",
    "print('Score de entrenamiento: ')\n",
    "print(train_score)\n",
    "\n",
    "y_pred = model.predict(x_test_cf)\n",
    "precision, recall, fscore, _ = precision_recall_fscore_support(y_test_cf, y_pred, average='weighted')\n",
    "print('Precisión: ', precision, ' - Recall: ', recall, ' - f1: ', fscore)\n",
    "######\n",
    "modelo_list.append('Stochastic Gradient Descent')\n",
    "escenario_list.append('Columnas filtradas')\n",
    "train_score_list.append(train_score)\n",
    "precision_list.append(precision)\n",
    "recall_list.append(recall)\n",
    "fscore_list.append(fscore)\n",
    "test_score = model.score(x_test_cf,y_test_cf)\n",
    "test_score_list.append(test_score)"
   ]
  },
  {
   "cell_type": "markdown",
   "metadata": {},
   "source": [
    "### Outliers filtrados"
   ]
  },
  {
   "cell_type": "code",
   "execution_count": 157,
   "metadata": {},
   "outputs": [
    {
     "name": "stdout",
     "output_type": "stream",
     "text": [
      "Score de entrenamiento: \n",
      "0.6973969631236443\n",
      "Precisión:  0.6911158944532606  - Recall:  0.6657177714518097  - f1:  0.6659983772412743\n"
     ]
    }
   ],
   "source": [
    "model = SGDClassifier().fit(x_train_filtered,y_train_filtered)\n",
    "\n",
    "train_score = model.score(x_train_filtered,y_train_filtered)\n",
    "\n",
    "print('Score de entrenamiento: ')\n",
    "print(train_score)\n",
    "\n",
    "y_pred = model.predict(x_test_filtered)\n",
    "precision, recall, fscore, _ = precision_recall_fscore_support(y_test_filtered, y_pred, average='weighted')\n",
    "print('Precisión: ', precision, ' - Recall: ', recall, ' - f1: ', fscore)\n",
    "######\n",
    "modelo_list.append('Stochastic Gradient Descent')\n",
    "escenario_list.append('Outliers filtrados')\n",
    "train_score_list.append(train_score)\n",
    "precision_list.append(precision)\n",
    "recall_list.append(recall)\n",
    "fscore_list.append(fscore)\n",
    "test_score = model.score(x_test_filtered,y_test_filtered)\n",
    "test_score_list.append(test_score)"
   ]
  },
  {
   "cell_type": "markdown",
   "metadata": {},
   "source": [
    "### Outliers filtrados + Columnas filtradas"
   ]
  },
  {
   "cell_type": "code",
   "execution_count": 158,
   "metadata": {},
   "outputs": [
    {
     "name": "stdout",
     "output_type": "stream",
     "text": [
      "Score de entrenamiento: \n",
      "0.6496746203904555\n",
      "Precisión:  0.671830675942693  - Recall:  0.618137454249695  - f1:  0.5939382115561507\n"
     ]
    }
   ],
   "source": [
    "model = SGDClassifier().fit(x_train_filtered_cf,y_train_filtered_cf)\n",
    "\n",
    "train_score = model.score(x_train_filtered_cf,y_train_filtered_cf)\n",
    "\n",
    "print('Score de entrenamiento: ')\n",
    "print(train_score)\n",
    "\n",
    "y_pred = model.predict(x_test_filtered_cf)\n",
    "precision, recall, fscore, _ = precision_recall_fscore_support(y_test_filtered_cf, y_pred, average='weighted')\n",
    "print('Precisión: ', precision, ' - Recall: ', recall, ' - f1: ', fscore)\n",
    "######\n",
    "modelo_list.append('Stochastic Gradient Descent')\n",
    "escenario_list.append('Outliers filtrados + Columnas filtradas')\n",
    "train_score_list.append(train_score)\n",
    "precision_list.append(precision)\n",
    "recall_list.append(recall)\n",
    "fscore_list.append(fscore)\n",
    "test_score = model.score(x_test_filtered_cf,y_test_filtered_cf)\n",
    "test_score_list.append(test_score)"
   ]
  },
  {
   "cell_type": "markdown",
   "metadata": {},
   "source": [
    "## Random Forest"
   ]
  },
  {
   "cell_type": "markdown",
   "metadata": {},
   "source": [
    "### Original"
   ]
  },
  {
   "cell_type": "code",
   "execution_count": 159,
   "metadata": {},
   "outputs": [
    {
     "name": "stdout",
     "output_type": "stream",
     "text": [
      "Score de entrenamiento: \n",
      "0.9991991457554725\n",
      "Precisión:  0.8767116986452436  - Recall:  0.8767013610888711  - f1:  0.8757216526920107\n"
     ]
    }
   ],
   "source": [
    "model = RandomForestClassifier().fit(x_train,y_train)\n",
    "\n",
    "train_score = model.score(x_train,y_train)\n",
    "\n",
    "print('Score de entrenamiento: ')\n",
    "print(train_score)\n",
    "\n",
    "y_pred = model.predict(x_test)\n",
    "precision, recall, fscore, _ = precision_recall_fscore_support(y_test, y_pred, average='weighted')\n",
    "print('Precisión: ', precision, ' - Recall: ', recall, ' - f1: ', fscore)\n",
    "######\n",
    "modelo_list.append('Random Forest')\n",
    "escenario_list.append('Original')\n",
    "train_score_list.append(train_score)\n",
    "precision_list.append(precision)\n",
    "recall_list.append(recall)\n",
    "fscore_list.append(fscore)\n",
    "test_score = model.score(x_test,y_test)\n",
    "test_score_list.append(test_score)"
   ]
  },
  {
   "cell_type": "markdown",
   "metadata": {},
   "source": [
    "### Columnas filtradas"
   ]
  },
  {
   "cell_type": "code",
   "execution_count": 160,
   "metadata": {},
   "outputs": [
    {
     "name": "stdout",
     "output_type": "stream",
     "text": [
      "Score de entrenamiento: \n",
      "0.9991991457554725\n",
      "Precisión:  0.8701796493511303  - Recall:  0.8698959167333867  - f1:  0.8688565850105179\n"
     ]
    }
   ],
   "source": [
    "model = RandomForestClassifier().fit(x_train_cf,y_train_cf)\n",
    "\n",
    "train_score = model.score(x_train_cf,y_train_cf)\n",
    "\n",
    "print('Score de entrenamiento: ')\n",
    "print(train_score)\n",
    "\n",
    "y_pred = model.predict(x_test_cf)\n",
    "precision, recall, fscore, _ = precision_recall_fscore_support(y_test_cf, y_pred, average='weighted')\n",
    "print('Precisión: ', precision, ' - Recall: ', recall, ' - f1: ', fscore)\n",
    "######\n",
    "modelo_list.append('Random Forest')\n",
    "escenario_list.append('Columnas filtradas')\n",
    "train_score_list.append(train_score)\n",
    "precision_list.append(precision)\n",
    "recall_list.append(recall)\n",
    "fscore_list.append(fscore)\n",
    "test_score = model.score(x_test_cf,y_test_cf)\n",
    "test_score_list.append(test_score)"
   ]
  },
  {
   "cell_type": "markdown",
   "metadata": {},
   "source": [
    "### Outliers filtrados"
   ]
  },
  {
   "cell_type": "code",
   "execution_count": 161,
   "metadata": {},
   "outputs": [
    {
     "name": "stdout",
     "output_type": "stream",
     "text": [
      "Score de entrenamiento: \n",
      "0.9991865509761388\n",
      "Precisión:  0.8687650203696349  - Recall:  0.8662057747051647  - f1:  0.8659691299250831\n"
     ]
    }
   ],
   "source": [
    "model = RandomForestClassifier().fit(x_train_filtered,y_train_filtered)\n",
    "\n",
    "train_score = model.score(x_train_filtered,y_train_filtered)\n",
    "\n",
    "print('Score de entrenamiento: ')\n",
    "print(train_score)\n",
    "\n",
    "y_pred = model.predict(x_test_filtered)\n",
    "precision, recall, fscore, _ = precision_recall_fscore_support(y_test_filtered, y_pred, average='weighted')\n",
    "print('Precisión: ', precision, ' - Recall: ', recall, ' - f1: ', fscore)\n",
    "######\n",
    "modelo_list.append('Random Forest')\n",
    "escenario_list.append('Outliers filtrados')\n",
    "train_score_list.append(train_score)\n",
    "precision_list.append(precision)\n",
    "recall_list.append(recall)\n",
    "fscore_list.append(fscore)\n",
    "test_score = model.score(x_test_filtered,y_test_filtered)\n",
    "test_score_list.append(test_score)"
   ]
  },
  {
   "cell_type": "markdown",
   "metadata": {},
   "source": [
    "### Outliers filtrados + Columnas filtradas"
   ]
  },
  {
   "cell_type": "code",
   "execution_count": 162,
   "metadata": {},
   "outputs": [
    {
     "name": "stdout",
     "output_type": "stream",
     "text": [
      "Score de entrenamiento: \n",
      "0.9991865509761388\n",
      "Precisión:  0.8682262121552883  - Recall:  0.8657991053273688  - f1:  0.8657652654463462\n"
     ]
    }
   ],
   "source": [
    "model = RandomForestClassifier().fit(x_train_filtered_cf,y_train_filtered_cf)\n",
    "\n",
    "train_score = model.score(x_train_filtered_cf,y_train_filtered_cf)\n",
    "\n",
    "print('Score de entrenamiento: ')\n",
    "print(train_score)\n",
    "\n",
    "y_pred = model.predict(x_test_filtered_cf)\n",
    "precision, recall, fscore, _ = precision_recall_fscore_support(y_test_filtered_cf, y_pred, average='weighted')\n",
    "print('Precisión: ', precision, ' - Recall: ', recall, ' - f1: ', fscore)\n",
    "######\n",
    "modelo_list.append('Random Forest')\n",
    "escenario_list.append('Outliers filtrados + Columnas filtradas')\n",
    "train_score_list.append(train_score)\n",
    "precision_list.append(precision)\n",
    "recall_list.append(recall)\n",
    "fscore_list.append(fscore)\n",
    "test_score = model.score(x_test_filtered_cf,y_test_filtered_cf)\n",
    "test_score_list.append(test_score)"
   ]
  },
  {
   "cell_type": "markdown",
   "metadata": {},
   "source": [
    "## Support Vector Machines"
   ]
  },
  {
   "cell_type": "markdown",
   "metadata": {},
   "source": [
    "### Original"
   ]
  },
  {
   "cell_type": "code",
   "execution_count": 163,
   "metadata": {},
   "outputs": [
    {
     "name": "stdout",
     "output_type": "stream",
     "text": [
      "Score de entrenamiento: \n",
      "0.9991991457554725\n"
     ]
    },
    {
     "name": "stderr",
     "output_type": "stream",
     "text": [
      "C:\\Users\\kevin\\AppData\\Local\\Programs\\Python\\Python39\\lib\\site-packages\\sklearn\\metrics\\_classification.py:1308: UndefinedMetricWarning:\n",
      "\n",
      "Precision and F-score are ill-defined and being set to 0.0 in labels with no predicted samples. Use `zero_division` parameter to control this behavior.\n",
      "\n"
     ]
    },
    {
     "name": "stdout",
     "output_type": "stream",
     "text": [
      "Precisión:  0.41197356582334277  - Recall:  0.10488390712570056  - f1:  0.04359413176170824\n"
     ]
    }
   ],
   "source": [
    "model = svm.SVC(C=250, gamma=0.8).fit(x_train,y_train)\n",
    "\n",
    "train_score = model.score(x_train,y_train)\n",
    "\n",
    "print('Score de entrenamiento: ')\n",
    "print(train_score)\n",
    "\n",
    "y_pred = model.predict(x_test)\n",
    "precision, recall, fscore, _ = precision_recall_fscore_support(y_test, y_pred, average='weighted')\n",
    "print('Precisión: ', precision, ' - Recall: ', recall, ' - f1: ', fscore)\n",
    "######\n",
    "modelo_list.append('Support Vector Machines')\n",
    "escenario_list.append('Original')\n",
    "train_score_list.append(train_score)\n",
    "precision_list.append(precision)\n",
    "recall_list.append(recall)\n",
    "fscore_list.append(fscore)\n",
    "test_score = model.score(x_test,y_test)\n",
    "test_score_list.append(test_score)"
   ]
  },
  {
   "cell_type": "markdown",
   "metadata": {},
   "source": [
    "### Columnas filtradas"
   ]
  },
  {
   "cell_type": "code",
   "execution_count": 164,
   "metadata": {},
   "outputs": [
    {
     "name": "stdout",
     "output_type": "stream",
     "text": [
      "Score de entrenamiento: \n",
      "0.9991991457554725\n"
     ]
    },
    {
     "name": "stderr",
     "output_type": "stream",
     "text": [
      "C:\\Users\\kevin\\AppData\\Local\\Programs\\Python\\Python39\\lib\\site-packages\\sklearn\\metrics\\_classification.py:1308: UndefinedMetricWarning:\n",
      "\n",
      "Precision and F-score are ill-defined and being set to 0.0 in labels with no predicted samples. Use `zero_division` parameter to control this behavior.\n",
      "\n"
     ]
    },
    {
     "name": "stdout",
     "output_type": "stream",
     "text": [
      "Precisión:  0.41197356582334277  - Recall:  0.10488390712570056  - f1:  0.04359413176170824\n"
     ]
    }
   ],
   "source": [
    "model = svm.SVC(C=250, gamma=0.8).fit(x_train_cf,y_train_cf)\n",
    "\n",
    "train_score = model.score(x_train_cf,y_train_cf)\n",
    "\n",
    "print('Score de entrenamiento: ')\n",
    "print(train_score)\n",
    "\n",
    "y_pred = model.predict(x_test_cf)\n",
    "precision, recall, fscore, _ = precision_recall_fscore_support(y_test_cf, y_pred, average='weighted')\n",
    "print('Precisión: ', precision, ' - Recall: ', recall, ' - f1: ', fscore)\n",
    "######\n",
    "modelo_list.append('Support Vector Machines')\n",
    "escenario_list.append('Columnas filtradas')\n",
    "train_score_list.append(train_score)\n",
    "precision_list.append(precision)\n",
    "recall_list.append(recall)\n",
    "fscore_list.append(fscore)\n",
    "test_score = model.score(x_test_cf,y_test_cf)\n",
    "test_score_list.append(test_score)"
   ]
  },
  {
   "cell_type": "markdown",
   "metadata": {},
   "source": [
    "### Outliers filtrados"
   ]
  },
  {
   "cell_type": "code",
   "execution_count": 165,
   "metadata": {},
   "outputs": [
    {
     "name": "stdout",
     "output_type": "stream",
     "text": [
      "Score de entrenamiento: \n",
      "0.9991865509761388\n",
      "Precisión:  0.9133429123638513  - Recall:  0.9133794225294836  - f1:  0.9132225446584054\n"
     ]
    }
   ],
   "source": [
    "model = svm.SVC(C=250, gamma=0.8).fit(x_train_filtered,y_train_filtered)\n",
    "\n",
    "train_score = model.score(x_train_filtered,y_train_filtered)\n",
    "\n",
    "print('Score de entrenamiento: ')\n",
    "print(train_score)\n",
    "\n",
    "y_pred = model.predict(x_test_filtered)\n",
    "precision, recall, fscore, _ = precision_recall_fscore_support(y_test_filtered, y_pred, average='weighted')\n",
    "print('Precisión: ', precision, ' - Recall: ', recall, ' - f1: ', fscore)\n",
    "######\n",
    "modelo_list.append('Support Vector Machines')\n",
    "escenario_list.append('Outliers filtrados')\n",
    "train_score_list.append(train_score)\n",
    "precision_list.append(precision)\n",
    "recall_list.append(recall)\n",
    "fscore_list.append(fscore)\n",
    "test_score = model.score(x_test_filtered,y_test_filtered)\n",
    "test_score_list.append(test_score)"
   ]
  },
  {
   "cell_type": "markdown",
   "metadata": {},
   "source": [
    "### Outliers filtrados + Columnas filtrados"
   ]
  },
  {
   "cell_type": "code",
   "execution_count": 166,
   "metadata": {},
   "outputs": [
    {
     "name": "stdout",
     "output_type": "stream",
     "text": [
      "Score de entrenamiento: \n",
      "0.9991865509761388\n",
      "Precisión:  0.9108623332405617  - Recall:  0.9109394062627084  - f1:  0.910730015965815\n"
     ]
    }
   ],
   "source": [
    "model = svm.SVC(C=250, gamma=0.8).fit(x_train_filtered_cf,y_train_filtered_cf)\n",
    "\n",
    "train_score = model.score(x_train_filtered_cf,y_train_filtered_cf)\n",
    "\n",
    "print('Score de entrenamiento: ')\n",
    "print(train_score)\n",
    "\n",
    "y_pred = model.predict(x_test_filtered_cf)\n",
    "precision, recall, fscore, _ = precision_recall_fscore_support(y_test_filtered_cf, y_pred, average='weighted')\n",
    "print('Precisión: ', precision, ' - Recall: ', recall, ' - f1: ', fscore)\n",
    "######\n",
    "modelo_list.append('Support Vector Machines')\n",
    "escenario_list.append('Columnas filtradas')\n",
    "train_score_list.append(train_score)\n",
    "precision_list.append(precision)\n",
    "recall_list.append(recall)\n",
    "fscore_list.append(fscore)\n",
    "test_score = model.score(x_test_filtered_cf,y_test_filtered_cf)\n",
    "test_score_list.append(test_score)"
   ]
  },
  {
   "cell_type": "markdown",
   "metadata": {},
   "source": [
    "## Logistic Regression"
   ]
  },
  {
   "cell_type": "markdown",
   "metadata": {},
   "source": [
    "### Original"
   ]
  },
  {
   "cell_type": "code",
   "execution_count": 167,
   "metadata": {},
   "outputs": [
    {
     "name": "stdout",
     "output_type": "stream",
     "text": [
      "Score de entrenamiento: \n",
      "0.22504004271222638\n",
      "Precisión:  0.23104652930006403  - Recall:  0.20816653322658127  - f1:  0.16158378779086163\n"
     ]
    },
    {
     "name": "stderr",
     "output_type": "stream",
     "text": [
      "C:\\Users\\kevin\\AppData\\Local\\Programs\\Python\\Python39\\lib\\site-packages\\sklearn\\linear_model\\_logistic.py:814: ConvergenceWarning:\n",
      "\n",
      "lbfgs failed to converge (status=1):\n",
      "STOP: TOTAL NO. of ITERATIONS REACHED LIMIT.\n",
      "\n",
      "Increase the number of iterations (max_iter) or scale the data as shown in:\n",
      "    https://scikit-learn.org/stable/modules/preprocessing.html\n",
      "Please also refer to the documentation for alternative solver options:\n",
      "    https://scikit-learn.org/stable/modules/linear_model.html#logistic-regression\n",
      "\n",
      "C:\\Users\\kevin\\AppData\\Local\\Programs\\Python\\Python39\\lib\\site-packages\\sklearn\\metrics\\_classification.py:1308: UndefinedMetricWarning:\n",
      "\n",
      "Precision and F-score are ill-defined and being set to 0.0 in labels with no predicted samples. Use `zero_division` parameter to control this behavior.\n",
      "\n"
     ]
    }
   ],
   "source": [
    "model = LogisticRegression(random_state=0).fit(x_train,y_train)\n",
    "\n",
    "train_score = model.score(x_train,y_train)\n",
    "\n",
    "print('Score de entrenamiento: ')\n",
    "print(train_score)\n",
    "\n",
    "y_pred = model.predict(x_test)\n",
    "precision, recall, fscore, _ = precision_recall_fscore_support(y_test, y_pred, average='weighted')\n",
    "print('Precisión: ', precision, ' - Recall: ', recall, ' - f1: ', fscore)\n",
    "######\n",
    "modelo_list.append('Logistic Regression')\n",
    "escenario_list.append('Original')\n",
    "train_score_list.append(train_score)\n",
    "precision_list.append(precision)\n",
    "recall_list.append(recall)\n",
    "fscore_list.append(fscore)\n",
    "test_score = model.score(x_test,y_test)\n",
    "test_score_list.append(test_score)"
   ]
  },
  {
   "cell_type": "markdown",
   "metadata": {},
   "source": [
    "### Columnas filtradas"
   ]
  },
  {
   "cell_type": "code",
   "execution_count": 168,
   "metadata": {},
   "outputs": [
    {
     "name": "stdout",
     "output_type": "stream",
     "text": [
      "Score de entrenamiento: \n",
      "0.22303790710090762\n",
      "Precisión:  0.19465709718143212  - Recall:  0.20176140912730184  - f1:  0.1534737673666398\n"
     ]
    },
    {
     "name": "stderr",
     "output_type": "stream",
     "text": [
      "C:\\Users\\kevin\\AppData\\Local\\Programs\\Python\\Python39\\lib\\site-packages\\sklearn\\linear_model\\_logistic.py:814: ConvergenceWarning:\n",
      "\n",
      "lbfgs failed to converge (status=1):\n",
      "STOP: TOTAL NO. of ITERATIONS REACHED LIMIT.\n",
      "\n",
      "Increase the number of iterations (max_iter) or scale the data as shown in:\n",
      "    https://scikit-learn.org/stable/modules/preprocessing.html\n",
      "Please also refer to the documentation for alternative solver options:\n",
      "    https://scikit-learn.org/stable/modules/linear_model.html#logistic-regression\n",
      "\n",
      "C:\\Users\\kevin\\AppData\\Local\\Programs\\Python\\Python39\\lib\\site-packages\\sklearn\\metrics\\_classification.py:1308: UndefinedMetricWarning:\n",
      "\n",
      "Precision and F-score are ill-defined and being set to 0.0 in labels with no predicted samples. Use `zero_division` parameter to control this behavior.\n",
      "\n"
     ]
    }
   ],
   "source": [
    "model = LogisticRegression(random_state=0).fit(x_train_cf,y_train_cf)\n",
    "\n",
    "train_score = model.score(x_train_cf,y_train_cf)\n",
    "\n",
    "print('Score de entrenamiento: ')\n",
    "print(train_score)\n",
    "\n",
    "y_pred = model.predict(x_test_cf)\n",
    "precision, recall, fscore, _ = precision_recall_fscore_support(y_test_cf, y_pred, average='weighted')\n",
    "print('Precisión: ', precision, ' - Recall: ', recall, ' - f1: ', fscore)\n",
    "######\n",
    "modelo_list.append('Logistic Regression')\n",
    "escenario_list.append('Columnas filtradas')\n",
    "train_score_list.append(train_score)\n",
    "precision_list.append(precision)\n",
    "recall_list.append(recall)\n",
    "fscore_list.append(fscore)\n",
    "test_score = model.score(x_test_cf,y_test_cf)\n",
    "test_score_list.append(test_score)"
   ]
  },
  {
   "cell_type": "markdown",
   "metadata": {},
   "source": [
    "### Outliers filtrados"
   ]
  },
  {
   "cell_type": "code",
   "execution_count": 169,
   "metadata": {},
   "outputs": [
    {
     "name": "stdout",
     "output_type": "stream",
     "text": [
      "Score de entrenamiento: \n",
      "0.7040401301518439\n",
      "Precisión:  0.6798166145544465  - Recall:  0.6832045546970313  - f1:  0.6800010872351886\n"
     ]
    },
    {
     "name": "stderr",
     "output_type": "stream",
     "text": [
      "C:\\Users\\kevin\\AppData\\Local\\Programs\\Python\\Python39\\lib\\site-packages\\sklearn\\linear_model\\_logistic.py:814: ConvergenceWarning:\n",
      "\n",
      "lbfgs failed to converge (status=1):\n",
      "STOP: TOTAL NO. of ITERATIONS REACHED LIMIT.\n",
      "\n",
      "Increase the number of iterations (max_iter) or scale the data as shown in:\n",
      "    https://scikit-learn.org/stable/modules/preprocessing.html\n",
      "Please also refer to the documentation for alternative solver options:\n",
      "    https://scikit-learn.org/stable/modules/linear_model.html#logistic-regression\n",
      "\n"
     ]
    }
   ],
   "source": [
    "model = LogisticRegression(random_state=0).fit(x_train_filtered,y_train_filtered)\n",
    "\n",
    "train_score = model.score(x_train_filtered,y_train_filtered)\n",
    "\n",
    "print('Score de entrenamiento: ')\n",
    "print(train_score)\n",
    "\n",
    "y_pred = model.predict(x_test_filtered)\n",
    "precision, recall, fscore, _ = precision_recall_fscore_support(y_test_filtered, y_pred, average='weighted')\n",
    "print('Precisión: ', precision, ' - Recall: ', recall, ' - f1: ', fscore)\n",
    "######\n",
    "modelo_list.append('Logistic Regression')\n",
    "escenario_list.append('Outliers filtrados')\n",
    "train_score_list.append(train_score)\n",
    "precision_list.append(precision)\n",
    "recall_list.append(recall)\n",
    "fscore_list.append(fscore)\n",
    "test_score = model.score(x_test_filtered,y_test_filtered)\n",
    "test_score_list.append(test_score)"
   ]
  },
  {
   "cell_type": "markdown",
   "metadata": {},
   "source": [
    "### Outliers filtrados + Columnas filtradas"
   ]
  },
  {
   "cell_type": "code",
   "execution_count": 170,
   "metadata": {},
   "outputs": [
    {
     "name": "stdout",
     "output_type": "stream",
     "text": [
      "Score de entrenamiento: \n",
      "0.6998373101952278\n",
      "Precisión:  0.6771734437665846  - Recall:  0.6807645384302562  - f1:  0.6772741053761625\n"
     ]
    },
    {
     "name": "stderr",
     "output_type": "stream",
     "text": [
      "C:\\Users\\kevin\\AppData\\Local\\Programs\\Python\\Python39\\lib\\site-packages\\sklearn\\linear_model\\_logistic.py:814: ConvergenceWarning:\n",
      "\n",
      "lbfgs failed to converge (status=1):\n",
      "STOP: TOTAL NO. of ITERATIONS REACHED LIMIT.\n",
      "\n",
      "Increase the number of iterations (max_iter) or scale the data as shown in:\n",
      "    https://scikit-learn.org/stable/modules/preprocessing.html\n",
      "Please also refer to the documentation for alternative solver options:\n",
      "    https://scikit-learn.org/stable/modules/linear_model.html#logistic-regression\n",
      "\n"
     ]
    }
   ],
   "source": [
    "model = LogisticRegression(random_state=0).fit(x_train_filtered_cf,y_train_filtered_cf)\n",
    "\n",
    "train_score = model.score(x_train_filtered_cf,y_train_filtered_cf)\n",
    "\n",
    "print('Score de entrenamiento: ')\n",
    "print(train_score)\n",
    "\n",
    "y_pred = model.predict(x_test_filtered_cf)\n",
    "precision, recall, fscore, _ = precision_recall_fscore_support(y_test_filtered_cf, y_pred, average='weighted')\n",
    "print('Precisión: ', precision, ' - Recall: ', recall, ' - f1: ', fscore)\n",
    "######\n",
    "modelo_list.append('Logistic Regression')\n",
    "escenario_list.append('Outliers filtrados + Columnas filtradas')\n",
    "train_score_list.append(train_score)\n",
    "precision_list.append(precision)\n",
    "recall_list.append(recall)\n",
    "fscore_list.append(fscore)\n",
    "test_score = model.score(x_test_filtered_cf,y_test_filtered_cf)\n",
    "test_score_list.append(test_score)"
   ]
  },
  {
   "cell_type": "markdown",
   "metadata": {},
   "source": [
    "## Extra Trees"
   ]
  },
  {
   "cell_type": "markdown",
   "metadata": {},
   "source": [
    "### Original"
   ]
  },
  {
   "cell_type": "code",
   "execution_count": 171,
   "metadata": {},
   "outputs": [
    {
     "name": "stdout",
     "output_type": "stream",
     "text": [
      "Score de entrenamiento: \n",
      "0.9991991457554725\n",
      "Precisión:  0.8896895687475057  - Recall:  0.88871096877502  - f1:  0.8881292469536146\n"
     ]
    }
   ],
   "source": [
    "model = ExtraTreesClassifier().fit(x_train,y_train)\n",
    "\n",
    "train_score = model.score(x_train,y_train)\n",
    "\n",
    "print('Score de entrenamiento: ')\n",
    "print(train_score)\n",
    "\n",
    "y_pred = model.predict(x_test)\n",
    "precision, recall, fscore, _ = precision_recall_fscore_support(y_test, y_pred, average='weighted')\n",
    "print('Precisión: ', precision, ' - Recall: ', recall, ' - f1: ', fscore)\n",
    "######\n",
    "modelo_list.append('Extra Trees')\n",
    "escenario_list.append('Original')\n",
    "train_score_list.append(train_score)\n",
    "precision_list.append(precision)\n",
    "recall_list.append(recall)\n",
    "fscore_list.append(fscore)\n",
    "test_score = model.score(x_test,y_test)\n",
    "test_score_list.append(test_score)"
   ]
  },
  {
   "cell_type": "markdown",
   "metadata": {},
   "source": [
    "### Columnas filtradas"
   ]
  },
  {
   "cell_type": "code",
   "execution_count": 172,
   "metadata": {},
   "outputs": [
    {
     "name": "stdout",
     "output_type": "stream",
     "text": [
      "Score de entrenamiento: \n",
      "0.9991991457554725\n",
      "Precisión:  0.8898802415271728  - Recall:  0.888310648518815  - f1:  0.8879885489741495\n"
     ]
    }
   ],
   "source": [
    "model = ExtraTreesClassifier().fit(x_train_cf,y_train_cf)\n",
    "\n",
    "train_score = model.score(x_train_cf,y_train_cf)\n",
    "\n",
    "print('Score de entrenamiento: ')\n",
    "print(train_score)\n",
    "\n",
    "y_pred = model.predict(x_test_cf)\n",
    "precision, recall, fscore, _ = precision_recall_fscore_support(y_test_cf, y_pred, average='weighted')\n",
    "print('Precisión: ', precision, ' - Recall: ', recall, ' - f1: ', fscore)\n",
    "######\n",
    "modelo_list.append('Extra Trees')\n",
    "escenario_list.append('Columnas filtradas')\n",
    "train_score_list.append(train_score)\n",
    "precision_list.append(precision)\n",
    "recall_list.append(recall)\n",
    "fscore_list.append(fscore)\n",
    "test_score = model.score(x_test_cf,y_test_cf)\n",
    "test_score_list.append(test_score)"
   ]
  },
  {
   "cell_type": "markdown",
   "metadata": {},
   "source": [
    "### Outliers filtrados"
   ]
  },
  {
   "cell_type": "code",
   "execution_count": 173,
   "metadata": {},
   "outputs": [
    {
     "name": "stdout",
     "output_type": "stream",
     "text": [
      "Score de entrenamiento: \n",
      "0.9991865509761388\n",
      "Precisión:  0.9022873230282322  - Recall:  0.9003660024400163  - f1:  0.9002685178825804\n"
     ]
    }
   ],
   "source": [
    "model = ExtraTreesClassifier(n_estimators=500, n_jobs=-1).fit(x_train_filtered,y_train_filtered)\n",
    "\n",
    "train_score = model.score(x_train_filtered,y_train_filtered)\n",
    "\n",
    "print('Score de entrenamiento: ')\n",
    "print(train_score)\n",
    "\n",
    "y_pred = model.predict(x_test_filtered)\n",
    "precision, recall, fscore, _ = precision_recall_fscore_support(y_test_filtered, y_pred, average='weighted')\n",
    "print('Precisión: ', precision, ' - Recall: ', recall, ' - f1: ', fscore)\n",
    "######\n",
    "modelo_list.append('Extra Trees')\n",
    "escenario_list.append('Outliers filtrados')\n",
    "train_score_list.append(train_score)\n",
    "precision_list.append(precision)\n",
    "recall_list.append(recall)\n",
    "fscore_list.append(fscore)\n",
    "test_score = model.score(x_test_filtered,y_test_filtered)\n",
    "test_score_list.append(test_score)"
   ]
  },
  {
   "cell_type": "markdown",
   "metadata": {},
   "source": [
    "### Outliers filtrados + Columnas filtradas"
   ]
  },
  {
   "cell_type": "code",
   "execution_count": 174,
   "metadata": {},
   "outputs": [
    {
     "name": "stdout",
     "output_type": "stream",
     "text": [
      "Score de entrenamiento: \n",
      "0.9991865509761388\n",
      "Precisión:  0.89435201163598  - Recall:  0.8914192761285076  - f1:  0.891435894637359\n"
     ]
    }
   ],
   "source": [
    "model = ExtraTreesClassifier(n_estimators=500, n_jobs=-1).fit(x_train_filtered_cf,y_train_filtered_cf)\n",
    "\n",
    "train_score = model.score(x_train_filtered_cf,y_train_filtered_cf)\n",
    "\n",
    "print('Score de entrenamiento: ')\n",
    "print(train_score)\n",
    "\n",
    "y_pred = model.predict(x_test_filtered_cf)\n",
    "precision, recall, fscore, _ = precision_recall_fscore_support(y_test_filtered_cf, y_pred, average='weighted')\n",
    "print('Precisión: ', precision, ' - Recall: ', recall, ' - f1: ', fscore)\n",
    "######\n",
    "modelo_list.append('Extra Trees')\n",
    "escenario_list.append('Outliers filtrados + Columnas filtradas')\n",
    "train_score_list.append(train_score)\n",
    "precision_list.append(precision)\n",
    "recall_list.append(recall)\n",
    "fscore_list.append(fscore)\n",
    "test_score = model.score(x_test_filtered_cf,y_test_filtered_cf)\n",
    "test_score_list.append(test_score)"
   ]
  },
  {
   "cell_type": "markdown",
   "metadata": {},
   "source": [
    "## Gradient Boosting"
   ]
  },
  {
   "cell_type": "markdown",
   "metadata": {},
   "source": [
    "### Original"
   ]
  },
  {
   "cell_type": "code",
   "execution_count": 175,
   "metadata": {},
   "outputs": [
    {
     "name": "stdout",
     "output_type": "stream",
     "text": [
      "Score de entrenamiento: \n",
      "0.952349172450614\n",
      "Precisión:  0.8414039832245899  - Recall:  0.8402722177742193  - f1:  0.840198366656622\n"
     ]
    }
   ],
   "source": [
    "model = GradientBoostingClassifier().fit(x_train,y_train)\n",
    "\n",
    "train_score = model.score(x_train,y_train)\n",
    "\n",
    "print('Score de entrenamiento: ')\n",
    "print(train_score)\n",
    "\n",
    "y_pred = model.predict(x_test)\n",
    "precision, recall, fscore, _ = precision_recall_fscore_support(y_test, y_pred, average='weighted')\n",
    "print('Precisión: ', precision, ' - Recall: ', recall, ' - f1: ', fscore)\n",
    "######\n",
    "modelo_list.append('Gradient Boosting')\n",
    "escenario_list.append('Original')\n",
    "train_score_list.append(train_score)\n",
    "precision_list.append(precision)\n",
    "recall_list.append(recall)\n",
    "fscore_list.append(fscore)\n",
    "test_score = model.score(x_test,y_test)\n",
    "test_score_list.append(test_score)"
   ]
  },
  {
   "cell_type": "markdown",
   "metadata": {},
   "source": [
    "### Columnas filtradas"
   ]
  },
  {
   "cell_type": "code",
   "execution_count": 176,
   "metadata": {},
   "outputs": [
    {
     "name": "stdout",
     "output_type": "stream",
     "text": [
      "Score de entrenamiento: \n",
      "0.9510144153764015\n",
      "Precisión:  0.8364636035717103  - Recall:  0.8362690152121698  - f1:  0.8356300103266742\n"
     ]
    }
   ],
   "source": [
    "model = GradientBoostingClassifier().fit(x_train_cf,y_train_cf)\n",
    "\n",
    "train_score = model.score(x_train_cf,y_train_cf)\n",
    "\n",
    "print('Score de entrenamiento: ')\n",
    "print(train_score)\n",
    "\n",
    "y_pred = model.predict(x_test_cf)\n",
    "precision, recall, fscore, _ = precision_recall_fscore_support(y_test_cf, y_pred, average='weighted')\n",
    "print('Precisión: ', precision, ' - Recall: ', recall, ' - f1: ', fscore)\n",
    "######\n",
    "modelo_list.append('Gradient Boosting')\n",
    "escenario_list.append('Columnas filtradas')\n",
    "train_score_list.append(train_score)\n",
    "precision_list.append(precision)\n",
    "recall_list.append(recall)\n",
    "fscore_list.append(fscore)\n",
    "test_score = model.score(x_test_cf,y_test_cf)\n",
    "test_score_list.append(test_score)"
   ]
  },
  {
   "cell_type": "markdown",
   "metadata": {},
   "source": [
    "### Outliers filtrados"
   ]
  },
  {
   "cell_type": "code",
   "execution_count": 177,
   "metadata": {},
   "outputs": [
    {
     "name": "stdout",
     "output_type": "stream",
     "text": [
      "Score de entrenamiento: \n",
      "0.9575650759219089\n",
      "Precisión:  0.8179777318090669  - Recall:  0.815778771858479  - f1:  0.816245763848645\n"
     ]
    }
   ],
   "source": [
    "model = GradientBoostingClassifier().fit(x_train_filtered,y_train_filtered)\n",
    "\n",
    "train_score = model.score(x_train_filtered,y_train_filtered)\n",
    "\n",
    "print('Score de entrenamiento: ')\n",
    "print(train_score)\n",
    "\n",
    "y_pred = model.predict(x_test_filtered)\n",
    "precision, recall, fscore, _ = precision_recall_fscore_support(y_test_filtered, y_pred, average='weighted')\n",
    "print('Precisión: ', precision, ' - Recall: ', recall, ' - f1: ', fscore)\n",
    "######\n",
    "modelo_list.append('Gradient Boosting')\n",
    "escenario_list.append('Outliers filtrados')\n",
    "train_score_list.append(train_score)\n",
    "precision_list.append(precision)\n",
    "recall_list.append(recall)\n",
    "fscore_list.append(fscore)\n",
    "test_score = model.score(x_test_filtered,y_test_filtered)\n",
    "test_score_list.append(test_score)"
   ]
  },
  {
   "cell_type": "markdown",
   "metadata": {},
   "source": [
    "### Outliers filtrados + Columnas filtradas"
   ]
  },
  {
   "cell_type": "code",
   "execution_count": 178,
   "metadata": {},
   "outputs": [
    {
     "name": "stdout",
     "output_type": "stream",
     "text": [
      "Score de entrenamiento: \n",
      "0.9545824295010846\n",
      "Precisión:  0.815737387189836  - Recall:  0.8141520943472956  - f1:  0.8142121397386144\n"
     ]
    }
   ],
   "source": [
    "model = GradientBoostingClassifier().fit(x_train_filtered_cf,y_train_filtered_cf)\n",
    "\n",
    "train_score = model.score(x_train_filtered_cf,y_train_filtered_cf)\n",
    "\n",
    "print('Score de entrenamiento: ')\n",
    "print(train_score)\n",
    "\n",
    "y_pred = model.predict(x_test_filtered_cf)\n",
    "precision, recall, fscore, _ = precision_recall_fscore_support(y_test_filtered_cf, y_pred, average='weighted')\n",
    "print('Precisión: ', precision, ' - Recall: ', recall, ' - f1: ', fscore)\n",
    "######\n",
    "modelo_list.append('Gradient Boosting')\n",
    "escenario_list.append('Outliers filtrados + Columnas filtradas')\n",
    "train_score_list.append(train_score)\n",
    "precision_list.append(precision)\n",
    "recall_list.append(recall)\n",
    "fscore_list.append(fscore)\n",
    "test_score = model.score(x_test_filtered_cf,y_test_filtered_cf)\n",
    "test_score_list.append(test_score)"
   ]
  },
  {
   "cell_type": "markdown",
   "metadata": {},
   "source": [
    "## AdaBoost"
   ]
  },
  {
   "cell_type": "markdown",
   "metadata": {},
   "source": [
    "### Original"
   ]
  },
  {
   "cell_type": "code",
   "execution_count": 179,
   "metadata": {},
   "outputs": [
    {
     "name": "stdout",
     "output_type": "stream",
     "text": [
      "Score de entrenamiento: \n",
      "0.48932194340630003\n",
      "Precisión:  0.466329269653537  - Recall:  0.47598078462770216  - f1:  0.46037225734615345\n"
     ]
    }
   ],
   "source": [
    "model = AdaBoostClassifier().fit(x_train,y_train)\n",
    "\n",
    "train_score = model.score(x_train,y_train)\n",
    "\n",
    "print('Score de entrenamiento: ')\n",
    "print(train_score)\n",
    "\n",
    "y_pred = model.predict(x_test)\n",
    "precision, recall, fscore, _ = precision_recall_fscore_support(y_test, y_pred, average='weighted')\n",
    "print('Precisión: ', precision, ' - Recall: ', recall, ' - f1: ', fscore)\n",
    "######\n",
    "modelo_list.append('AdaBoost')\n",
    "escenario_list.append('Original')\n",
    "train_score_list.append(train_score)\n",
    "precision_list.append(precision)\n",
    "recall_list.append(recall)\n",
    "fscore_list.append(fscore)\n",
    "test_score = model.score(x_test,y_test)\n",
    "test_score_list.append(test_score)"
   ]
  },
  {
   "cell_type": "markdown",
   "metadata": {},
   "source": [
    "### Columnas filtradas"
   ]
  },
  {
   "cell_type": "code",
   "execution_count": 180,
   "metadata": {},
   "outputs": [
    {
     "name": "stdout",
     "output_type": "stream",
     "text": [
      "Score de entrenamiento: \n",
      "0.4766417512012814\n",
      "Precisión:  0.4560695359175033  - Recall:  0.4643714971977582  - f1:  0.44451060178342994\n"
     ]
    }
   ],
   "source": [
    "model = AdaBoostClassifier().fit(x_train_cf,y_train_cf)\n",
    "\n",
    "train_score = model.score(x_train_cf,y_train_cf)\n",
    "\n",
    "print('Score de entrenamiento: ')\n",
    "print(train_score)\n",
    "\n",
    "y_pred = model.predict(x_test_cf)\n",
    "precision, recall, fscore, _ = precision_recall_fscore_support(y_test_cf, y_pred, average='weighted')\n",
    "print('Precisión: ', precision, ' - Recall: ', recall, ' - f1: ', fscore)\n",
    "######\n",
    "modelo_list.append('AdaBoost')\n",
    "escenario_list.append('Columnas filtradas')\n",
    "train_score_list.append(train_score)\n",
    "precision_list.append(precision)\n",
    "recall_list.append(recall)\n",
    "fscore_list.append(fscore)\n",
    "test_score = model.score(x_test_cf,y_test_cf)\n",
    "test_score_list.append(test_score)"
   ]
  },
  {
   "cell_type": "markdown",
   "metadata": {},
   "source": [
    "### Outliers filtrados"
   ]
  },
  {
   "cell_type": "code",
   "execution_count": 181,
   "metadata": {},
   "outputs": [
    {
     "name": "stdout",
     "output_type": "stream",
     "text": [
      "Score de entrenamiento: \n",
      "0.47071583514099785\n",
      "Precisión:  0.4516785541493694  - Recall:  0.4591297275315169  - f1:  0.4306611273314511\n"
     ]
    }
   ],
   "source": [
    "model = AdaBoostClassifier().fit(x_train_filtered,y_train_filtered)\n",
    "\n",
    "train_score = model.score(x_train_filtered,y_train_filtered)\n",
    "\n",
    "print('Score de entrenamiento: ')\n",
    "print(train_score)\n",
    "\n",
    "y_pred = model.predict(x_test_filtered)\n",
    "precision, recall, fscore, _ = precision_recall_fscore_support(y_test_filtered, y_pred, average='weighted')\n",
    "print('Precisión: ', precision, ' - Recall: ', recall, ' - f1: ', fscore)\n",
    "######\n",
    "modelo_list.append('AdaBoost')\n",
    "escenario_list.append('Outliers filtrados')\n",
    "train_score_list.append(train_score)\n",
    "precision_list.append(precision)\n",
    "recall_list.append(recall)\n",
    "fscore_list.append(fscore)\n",
    "test_score = model.score(x_test_filtered,y_test_filtered)\n",
    "test_score_list.append(test_score)"
   ]
  },
  {
   "cell_type": "markdown",
   "metadata": {},
   "source": [
    "### Outleirs filtrados + Columnas filtradas"
   ]
  },
  {
   "cell_type": "code",
   "execution_count": 182,
   "metadata": {},
   "outputs": [
    {
     "name": "stdout",
     "output_type": "stream",
     "text": [
      "Score de entrenamiento: \n",
      "0.47369848156182215\n",
      "Precisión:  0.44484405753786627  - Recall:  0.4668564457096381  - f1:  0.443178346049311\n"
     ]
    }
   ],
   "source": [
    "model = AdaBoostClassifier().fit(x_train_filtered_cf,y_train_filtered_cf)\n",
    "\n",
    "train_score = model.score(x_train_filtered_cf,y_train_filtered_cf)\n",
    "\n",
    "print('Score de entrenamiento: ')\n",
    "print(train_score)\n",
    "\n",
    "y_pred = model.predict(x_test_filtered_cf)\n",
    "precision, recall, fscore, _ = precision_recall_fscore_support(y_test_filtered_cf, y_pred, average='weighted')\n",
    "print('Precisión: ', precision, ' - Recall: ', recall, ' - f1: ', fscore)\n",
    "######\n",
    "modelo_list.append('AdaBoost')\n",
    "escenario_list.append('Outliers filtrados + Columnas filtradas')\n",
    "train_score_list.append(train_score)\n",
    "precision_list.append(precision)\n",
    "recall_list.append(recall)\n",
    "fscore_list.append(fscore)\n",
    "test_score = model.score(x_test_filtered_cf,y_test_filtered_cf)\n",
    "test_score_list.append(test_score)"
   ]
  },
  {
   "cell_type": "code",
   "execution_count": 184,
   "metadata": {},
   "outputs": [
    {
     "data": {
      "text/html": [
       "<div>\n",
       "<style scoped>\n",
       "    .dataframe tbody tr th:only-of-type {\n",
       "        vertical-align: middle;\n",
       "    }\n",
       "\n",
       "    .dataframe tbody tr th {\n",
       "        vertical-align: top;\n",
       "    }\n",
       "\n",
       "    .dataframe thead th {\n",
       "        text-align: right;\n",
       "    }\n",
       "</style>\n",
       "<table border=\"1\" class=\"dataframe\">\n",
       "  <thead>\n",
       "    <tr style=\"text-align: right;\">\n",
       "      <th></th>\n",
       "      <th>Modelo</th>\n",
       "      <th>Escenario</th>\n",
       "      <th>Score entrenamiento</th>\n",
       "      <th>Score testeo</th>\n",
       "      <th>Precisión</th>\n",
       "      <th>Recall</th>\n",
       "      <th>F1 Score</th>\n",
       "    </tr>\n",
       "  </thead>\n",
       "  <tbody>\n",
       "    <tr>\n",
       "      <th>22</th>\n",
       "      <td>Support Vector Machines</td>\n",
       "      <td>Outliers filtrados</td>\n",
       "      <td>0.999187</td>\n",
       "      <td>0.913379</td>\n",
       "      <td>0.913343</td>\n",
       "      <td>0.913379</td>\n",
       "      <td>0.913223</td>\n",
       "    </tr>\n",
       "    <tr>\n",
       "      <th>23</th>\n",
       "      <td>Support Vector Machines</td>\n",
       "      <td>Columnas filtradas</td>\n",
       "      <td>0.999187</td>\n",
       "      <td>0.910939</td>\n",
       "      <td>0.910862</td>\n",
       "      <td>0.910939</td>\n",
       "      <td>0.910730</td>\n",
       "    </tr>\n",
       "    <tr>\n",
       "      <th>10</th>\n",
       "      <td>Knn</td>\n",
       "      <td>Outliers filtrados</td>\n",
       "      <td>0.943330</td>\n",
       "      <td>0.900773</td>\n",
       "      <td>0.902805</td>\n",
       "      <td>0.900773</td>\n",
       "      <td>0.900877</td>\n",
       "    </tr>\n",
       "    <tr>\n",
       "      <th>30</th>\n",
       "      <td>Extra Trees</td>\n",
       "      <td>Outliers filtrados</td>\n",
       "      <td>0.999187</td>\n",
       "      <td>0.900366</td>\n",
       "      <td>0.902287</td>\n",
       "      <td>0.900366</td>\n",
       "      <td>0.900269</td>\n",
       "    </tr>\n",
       "    <tr>\n",
       "      <th>11</th>\n",
       "      <td>Knn</td>\n",
       "      <td>Outliers filtrados + Columnas filtradas</td>\n",
       "      <td>0.940347</td>\n",
       "      <td>0.893859</td>\n",
       "      <td>0.895623</td>\n",
       "      <td>0.893859</td>\n",
       "      <td>0.893894</td>\n",
       "    </tr>\n",
       "    <tr>\n",
       "      <th>31</th>\n",
       "      <td>Extra Trees</td>\n",
       "      <td>Outliers filtrados + Columnas filtradas</td>\n",
       "      <td>0.999187</td>\n",
       "      <td>0.891419</td>\n",
       "      <td>0.894352</td>\n",
       "      <td>0.891419</td>\n",
       "      <td>0.891436</td>\n",
       "    </tr>\n",
       "    <tr>\n",
       "      <th>28</th>\n",
       "      <td>Extra Trees</td>\n",
       "      <td>Original</td>\n",
       "      <td>0.999199</td>\n",
       "      <td>0.888711</td>\n",
       "      <td>0.889690</td>\n",
       "      <td>0.888711</td>\n",
       "      <td>0.888129</td>\n",
       "    </tr>\n",
       "    <tr>\n",
       "      <th>29</th>\n",
       "      <td>Extra Trees</td>\n",
       "      <td>Columnas filtradas</td>\n",
       "      <td>0.999199</td>\n",
       "      <td>0.888311</td>\n",
       "      <td>0.889880</td>\n",
       "      <td>0.888311</td>\n",
       "      <td>0.887989</td>\n",
       "    </tr>\n",
       "    <tr>\n",
       "      <th>16</th>\n",
       "      <td>Random Forest</td>\n",
       "      <td>Original</td>\n",
       "      <td>0.999199</td>\n",
       "      <td>0.876701</td>\n",
       "      <td>0.876712</td>\n",
       "      <td>0.876701</td>\n",
       "      <td>0.875722</td>\n",
       "    </tr>\n",
       "    <tr>\n",
       "      <th>17</th>\n",
       "      <td>Random Forest</td>\n",
       "      <td>Columnas filtradas</td>\n",
       "      <td>0.999199</td>\n",
       "      <td>0.869896</td>\n",
       "      <td>0.870180</td>\n",
       "      <td>0.869896</td>\n",
       "      <td>0.868857</td>\n",
       "    </tr>\n",
       "    <tr>\n",
       "      <th>18</th>\n",
       "      <td>Random Forest</td>\n",
       "      <td>Outliers filtrados</td>\n",
       "      <td>0.999187</td>\n",
       "      <td>0.866206</td>\n",
       "      <td>0.868765</td>\n",
       "      <td>0.866206</td>\n",
       "      <td>0.865969</td>\n",
       "    </tr>\n",
       "    <tr>\n",
       "      <th>19</th>\n",
       "      <td>Random Forest</td>\n",
       "      <td>Outliers filtrados + Columnas filtradas</td>\n",
       "      <td>0.999187</td>\n",
       "      <td>0.865799</td>\n",
       "      <td>0.868226</td>\n",
       "      <td>0.865799</td>\n",
       "      <td>0.865765</td>\n",
       "    </tr>\n",
       "    <tr>\n",
       "      <th>32</th>\n",
       "      <td>Gradient Boosting</td>\n",
       "      <td>Original</td>\n",
       "      <td>0.952349</td>\n",
       "      <td>0.840272</td>\n",
       "      <td>0.841404</td>\n",
       "      <td>0.840272</td>\n",
       "      <td>0.840198</td>\n",
       "    </tr>\n",
       "    <tr>\n",
       "      <th>33</th>\n",
       "      <td>Gradient Boosting</td>\n",
       "      <td>Columnas filtradas</td>\n",
       "      <td>0.951014</td>\n",
       "      <td>0.836269</td>\n",
       "      <td>0.836464</td>\n",
       "      <td>0.836269</td>\n",
       "      <td>0.835630</td>\n",
       "    </tr>\n",
       "    <tr>\n",
       "      <th>34</th>\n",
       "      <td>Gradient Boosting</td>\n",
       "      <td>Outliers filtrados</td>\n",
       "      <td>0.957565</td>\n",
       "      <td>0.815779</td>\n",
       "      <td>0.817978</td>\n",
       "      <td>0.815779</td>\n",
       "      <td>0.816246</td>\n",
       "    </tr>\n",
       "    <tr>\n",
       "      <th>35</th>\n",
       "      <td>Gradient Boosting</td>\n",
       "      <td>Outliers filtrados + Columnas filtradas</td>\n",
       "      <td>0.954582</td>\n",
       "      <td>0.814152</td>\n",
       "      <td>0.815737</td>\n",
       "      <td>0.814152</td>\n",
       "      <td>0.814212</td>\n",
       "    </tr>\n",
       "    <tr>\n",
       "      <th>26</th>\n",
       "      <td>Logistic Regression</td>\n",
       "      <td>Outliers filtrados</td>\n",
       "      <td>0.704040</td>\n",
       "      <td>0.683205</td>\n",
       "      <td>0.679817</td>\n",
       "      <td>0.683205</td>\n",
       "      <td>0.680001</td>\n",
       "    </tr>\n",
       "    <tr>\n",
       "      <th>27</th>\n",
       "      <td>Logistic Regression</td>\n",
       "      <td>Outliers filtrados + Columnas filtradas</td>\n",
       "      <td>0.699837</td>\n",
       "      <td>0.680765</td>\n",
       "      <td>0.677173</td>\n",
       "      <td>0.680765</td>\n",
       "      <td>0.677274</td>\n",
       "    </tr>\n",
       "    <tr>\n",
       "      <th>14</th>\n",
       "      <td>Stochastic Gradient Descent</td>\n",
       "      <td>Outliers filtrados</td>\n",
       "      <td>0.697397</td>\n",
       "      <td>0.665718</td>\n",
       "      <td>0.691116</td>\n",
       "      <td>0.665718</td>\n",
       "      <td>0.665998</td>\n",
       "    </tr>\n",
       "    <tr>\n",
       "      <th>1</th>\n",
       "      <td>CART</td>\n",
       "      <td>Columnas filtradas</td>\n",
       "      <td>0.999199</td>\n",
       "      <td>0.660128</td>\n",
       "      <td>0.660305</td>\n",
       "      <td>0.660128</td>\n",
       "      <td>0.659691</td>\n",
       "    </tr>\n",
       "    <tr>\n",
       "      <th>3</th>\n",
       "      <td>CART</td>\n",
       "      <td>Outliers filtrados + Columnas filtradas</td>\n",
       "      <td>0.999187</td>\n",
       "      <td>0.648638</td>\n",
       "      <td>0.650282</td>\n",
       "      <td>0.648638</td>\n",
       "      <td>0.649050</td>\n",
       "    </tr>\n",
       "    <tr>\n",
       "      <th>2</th>\n",
       "      <td>CART</td>\n",
       "      <td>Outliers filtrados</td>\n",
       "      <td>0.999187</td>\n",
       "      <td>0.648231</td>\n",
       "      <td>0.647939</td>\n",
       "      <td>0.648231</td>\n",
       "      <td>0.647600</td>\n",
       "    </tr>\n",
       "    <tr>\n",
       "      <th>0</th>\n",
       "      <td>CART</td>\n",
       "      <td>Original</td>\n",
       "      <td>0.999199</td>\n",
       "      <td>0.639712</td>\n",
       "      <td>0.640882</td>\n",
       "      <td>0.639712</td>\n",
       "      <td>0.639702</td>\n",
       "    </tr>\n",
       "    <tr>\n",
       "      <th>15</th>\n",
       "      <td>Stochastic Gradient Descent</td>\n",
       "      <td>Outliers filtrados + Columnas filtradas</td>\n",
       "      <td>0.649675</td>\n",
       "      <td>0.618137</td>\n",
       "      <td>0.671831</td>\n",
       "      <td>0.618137</td>\n",
       "      <td>0.593938</td>\n",
       "    </tr>\n",
       "    <tr>\n",
       "      <th>7</th>\n",
       "      <td>Naive Bayes</td>\n",
       "      <td>Outliers filtrados + Columnas filtradas</td>\n",
       "      <td>0.528200</td>\n",
       "      <td>0.515250</td>\n",
       "      <td>0.532457</td>\n",
       "      <td>0.515250</td>\n",
       "      <td>0.496024</td>\n",
       "    </tr>\n",
       "    <tr>\n",
       "      <th>6</th>\n",
       "      <td>Naive Bayes</td>\n",
       "      <td>Outliers filtrados</td>\n",
       "      <td>0.521556</td>\n",
       "      <td>0.514437</td>\n",
       "      <td>0.529557</td>\n",
       "      <td>0.514437</td>\n",
       "      <td>0.495191</td>\n",
       "    </tr>\n",
       "    <tr>\n",
       "      <th>36</th>\n",
       "      <td>AdaBoost</td>\n",
       "      <td>Original</td>\n",
       "      <td>0.489322</td>\n",
       "      <td>0.475981</td>\n",
       "      <td>0.466329</td>\n",
       "      <td>0.475981</td>\n",
       "      <td>0.460372</td>\n",
       "    </tr>\n",
       "    <tr>\n",
       "      <th>39</th>\n",
       "      <td>AdaBoost</td>\n",
       "      <td>Outliers filtrados + Columnas filtradas</td>\n",
       "      <td>0.473698</td>\n",
       "      <td>0.466856</td>\n",
       "      <td>0.444844</td>\n",
       "      <td>0.466856</td>\n",
       "      <td>0.443178</td>\n",
       "    </tr>\n",
       "    <tr>\n",
       "      <th>37</th>\n",
       "      <td>AdaBoost</td>\n",
       "      <td>Columnas filtradas</td>\n",
       "      <td>0.476642</td>\n",
       "      <td>0.464371</td>\n",
       "      <td>0.456070</td>\n",
       "      <td>0.464371</td>\n",
       "      <td>0.444511</td>\n",
       "    </tr>\n",
       "    <tr>\n",
       "      <th>38</th>\n",
       "      <td>AdaBoost</td>\n",
       "      <td>Outliers filtrados</td>\n",
       "      <td>0.470716</td>\n",
       "      <td>0.459130</td>\n",
       "      <td>0.451679</td>\n",
       "      <td>0.459130</td>\n",
       "      <td>0.430661</td>\n",
       "    </tr>\n",
       "    <tr>\n",
       "      <th>4</th>\n",
       "      <td>Naive Bayes</td>\n",
       "      <td>Original</td>\n",
       "      <td>0.423785</td>\n",
       "      <td>0.421938</td>\n",
       "      <td>0.439523</td>\n",
       "      <td>0.421938</td>\n",
       "      <td>0.392887</td>\n",
       "    </tr>\n",
       "    <tr>\n",
       "      <th>5</th>\n",
       "      <td>Naive Bayes</td>\n",
       "      <td>Columnas filtradas</td>\n",
       "      <td>0.383209</td>\n",
       "      <td>0.376701</td>\n",
       "      <td>0.445548</td>\n",
       "      <td>0.376701</td>\n",
       "      <td>0.359778</td>\n",
       "    </tr>\n",
       "    <tr>\n",
       "      <th>8</th>\n",
       "      <td>Knn</td>\n",
       "      <td>Original</td>\n",
       "      <td>0.488521</td>\n",
       "      <td>0.279424</td>\n",
       "      <td>0.275185</td>\n",
       "      <td>0.279424</td>\n",
       "      <td>0.274375</td>\n",
       "    </tr>\n",
       "    <tr>\n",
       "      <th>9</th>\n",
       "      <td>Knn</td>\n",
       "      <td>Columnas filtradas</td>\n",
       "      <td>0.486786</td>\n",
       "      <td>0.277422</td>\n",
       "      <td>0.273205</td>\n",
       "      <td>0.277422</td>\n",
       "      <td>0.272456</td>\n",
       "    </tr>\n",
       "    <tr>\n",
       "      <th>24</th>\n",
       "      <td>Logistic Regression</td>\n",
       "      <td>Original</td>\n",
       "      <td>0.225040</td>\n",
       "      <td>0.208167</td>\n",
       "      <td>0.231047</td>\n",
       "      <td>0.208167</td>\n",
       "      <td>0.161584</td>\n",
       "    </tr>\n",
       "    <tr>\n",
       "      <th>25</th>\n",
       "      <td>Logistic Regression</td>\n",
       "      <td>Columnas filtradas</td>\n",
       "      <td>0.223038</td>\n",
       "      <td>0.201761</td>\n",
       "      <td>0.194657</td>\n",
       "      <td>0.201761</td>\n",
       "      <td>0.153474</td>\n",
       "    </tr>\n",
       "    <tr>\n",
       "      <th>12</th>\n",
       "      <td>Stochastic Gradient Descent</td>\n",
       "      <td>Original</td>\n",
       "      <td>0.165777</td>\n",
       "      <td>0.148919</td>\n",
       "      <td>0.164997</td>\n",
       "      <td>0.148919</td>\n",
       "      <td>0.092535</td>\n",
       "    </tr>\n",
       "    <tr>\n",
       "      <th>13</th>\n",
       "      <td>Stochastic Gradient Descent</td>\n",
       "      <td>Columnas filtradas</td>\n",
       "      <td>0.132141</td>\n",
       "      <td>0.124099</td>\n",
       "      <td>0.132606</td>\n",
       "      <td>0.124099</td>\n",
       "      <td>0.062345</td>\n",
       "    </tr>\n",
       "    <tr>\n",
       "      <th>21</th>\n",
       "      <td>Support Vector Machines</td>\n",
       "      <td>Columnas filtradas</td>\n",
       "      <td>0.999199</td>\n",
       "      <td>0.104884</td>\n",
       "      <td>0.411974</td>\n",
       "      <td>0.104884</td>\n",
       "      <td>0.043594</td>\n",
       "    </tr>\n",
       "    <tr>\n",
       "      <th>20</th>\n",
       "      <td>Support Vector Machines</td>\n",
       "      <td>Original</td>\n",
       "      <td>0.999199</td>\n",
       "      <td>0.104884</td>\n",
       "      <td>0.411974</td>\n",
       "      <td>0.104884</td>\n",
       "      <td>0.043594</td>\n",
       "    </tr>\n",
       "  </tbody>\n",
       "</table>\n",
       "</div>"
      ],
      "text/plain": [
       "                         Modelo                                Escenario  \\\n",
       "22      Support Vector Machines                       Outliers filtrados   \n",
       "23      Support Vector Machines                       Columnas filtradas   \n",
       "10                          Knn                       Outliers filtrados   \n",
       "30                  Extra Trees                       Outliers filtrados   \n",
       "11                          Knn  Outliers filtrados + Columnas filtradas   \n",
       "31                  Extra Trees  Outliers filtrados + Columnas filtradas   \n",
       "28                  Extra Trees                                 Original   \n",
       "29                  Extra Trees                       Columnas filtradas   \n",
       "16                Random Forest                                 Original   \n",
       "17                Random Forest                       Columnas filtradas   \n",
       "18                Random Forest                       Outliers filtrados   \n",
       "19                Random Forest  Outliers filtrados + Columnas filtradas   \n",
       "32            Gradient Boosting                                 Original   \n",
       "33            Gradient Boosting                       Columnas filtradas   \n",
       "34            Gradient Boosting                       Outliers filtrados   \n",
       "35            Gradient Boosting  Outliers filtrados + Columnas filtradas   \n",
       "26          Logistic Regression                       Outliers filtrados   \n",
       "27          Logistic Regression  Outliers filtrados + Columnas filtradas   \n",
       "14  Stochastic Gradient Descent                       Outliers filtrados   \n",
       "1                          CART                       Columnas filtradas   \n",
       "3                          CART  Outliers filtrados + Columnas filtradas   \n",
       "2                          CART                       Outliers filtrados   \n",
       "0                          CART                                 Original   \n",
       "15  Stochastic Gradient Descent  Outliers filtrados + Columnas filtradas   \n",
       "7                   Naive Bayes  Outliers filtrados + Columnas filtradas   \n",
       "6                   Naive Bayes                       Outliers filtrados   \n",
       "36                     AdaBoost                                 Original   \n",
       "39                     AdaBoost  Outliers filtrados + Columnas filtradas   \n",
       "37                     AdaBoost                       Columnas filtradas   \n",
       "38                     AdaBoost                       Outliers filtrados   \n",
       "4                   Naive Bayes                                 Original   \n",
       "5                   Naive Bayes                       Columnas filtradas   \n",
       "8                           Knn                                 Original   \n",
       "9                           Knn                       Columnas filtradas   \n",
       "24          Logistic Regression                                 Original   \n",
       "25          Logistic Regression                       Columnas filtradas   \n",
       "12  Stochastic Gradient Descent                                 Original   \n",
       "13  Stochastic Gradient Descent                       Columnas filtradas   \n",
       "21      Support Vector Machines                       Columnas filtradas   \n",
       "20      Support Vector Machines                                 Original   \n",
       "\n",
       "    Score entrenamiento  Score testeo  Precisión    Recall  F1 Score  \n",
       "22             0.999187      0.913379   0.913343  0.913379  0.913223  \n",
       "23             0.999187      0.910939   0.910862  0.910939  0.910730  \n",
       "10             0.943330      0.900773   0.902805  0.900773  0.900877  \n",
       "30             0.999187      0.900366   0.902287  0.900366  0.900269  \n",
       "11             0.940347      0.893859   0.895623  0.893859  0.893894  \n",
       "31             0.999187      0.891419   0.894352  0.891419  0.891436  \n",
       "28             0.999199      0.888711   0.889690  0.888711  0.888129  \n",
       "29             0.999199      0.888311   0.889880  0.888311  0.887989  \n",
       "16             0.999199      0.876701   0.876712  0.876701  0.875722  \n",
       "17             0.999199      0.869896   0.870180  0.869896  0.868857  \n",
       "18             0.999187      0.866206   0.868765  0.866206  0.865969  \n",
       "19             0.999187      0.865799   0.868226  0.865799  0.865765  \n",
       "32             0.952349      0.840272   0.841404  0.840272  0.840198  \n",
       "33             0.951014      0.836269   0.836464  0.836269  0.835630  \n",
       "34             0.957565      0.815779   0.817978  0.815779  0.816246  \n",
       "35             0.954582      0.814152   0.815737  0.814152  0.814212  \n",
       "26             0.704040      0.683205   0.679817  0.683205  0.680001  \n",
       "27             0.699837      0.680765   0.677173  0.680765  0.677274  \n",
       "14             0.697397      0.665718   0.691116  0.665718  0.665998  \n",
       "1              0.999199      0.660128   0.660305  0.660128  0.659691  \n",
       "3              0.999187      0.648638   0.650282  0.648638  0.649050  \n",
       "2              0.999187      0.648231   0.647939  0.648231  0.647600  \n",
       "0              0.999199      0.639712   0.640882  0.639712  0.639702  \n",
       "15             0.649675      0.618137   0.671831  0.618137  0.593938  \n",
       "7              0.528200      0.515250   0.532457  0.515250  0.496024  \n",
       "6              0.521556      0.514437   0.529557  0.514437  0.495191  \n",
       "36             0.489322      0.475981   0.466329  0.475981  0.460372  \n",
       "39             0.473698      0.466856   0.444844  0.466856  0.443178  \n",
       "37             0.476642      0.464371   0.456070  0.464371  0.444511  \n",
       "38             0.470716      0.459130   0.451679  0.459130  0.430661  \n",
       "4              0.423785      0.421938   0.439523  0.421938  0.392887  \n",
       "5              0.383209      0.376701   0.445548  0.376701  0.359778  \n",
       "8              0.488521      0.279424   0.275185  0.279424  0.274375  \n",
       "9              0.486786      0.277422   0.273205  0.277422  0.272456  \n",
       "24             0.225040      0.208167   0.231047  0.208167  0.161584  \n",
       "25             0.223038      0.201761   0.194657  0.201761  0.153474  \n",
       "12             0.165777      0.148919   0.164997  0.148919  0.092535  \n",
       "13             0.132141      0.124099   0.132606  0.124099  0.062345  \n",
       "21             0.999199      0.104884   0.411974  0.104884  0.043594  \n",
       "20             0.999199      0.104884   0.411974  0.104884  0.043594  "
      ]
     },
     "execution_count": 184,
     "metadata": {},
     "output_type": "execute_result"
    }
   ],
   "source": [
    "df_resultados = pd.DataFrame(list(zip(modelo_list,escenario_list,train_score_list,test_score_list,precision_list,recall_list,fscore_list)),columns=['Modelo','Escenario','Score entrenamiento','Score testeo','Precisión','Recall','F1 Score'])\n",
    "df_resultados = df_resultados.sort_values('Score testeo',ascending=False)\n",
    "df_resultados"
   ]
  },
  {
   "cell_type": "code",
   "execution_count": null,
   "metadata": {},
   "outputs": [],
   "source": []
  },
  {
   "cell_type": "code",
   "execution_count": 185,
   "metadata": {},
   "outputs": [
    {
     "name": "stdout",
     "output_type": "stream",
     "text": [
      "Score de entrenamiento: \n",
      "0.9991865509761388\n",
      "Precisión:  0.9133429123638513  - Recall:  0.9133794225294836  - f1:  0.9132225446584054\n"
     ]
    }
   ],
   "source": [
    "model = svm.SVC(C=250, gamma=0.8).fit(x_train_filtered,y_train_filtered)\n",
    "\n",
    "train_score = model.score(x_train_filtered,y_train_filtered)\n",
    "\n",
    "print('Score de entrenamiento: ')\n",
    "print(train_score)\n",
    "\n",
    "y_pred = model.predict(x_test_filtered)\n",
    "precision, recall, fscore, _ = precision_recall_fscore_support(y_test_filtered, y_pred, average='weighted')\n",
    "print('Precisión: ', precision, ' - Recall: ', recall, ' - f1: ', fscore)\n",
    "######\n",
    "modelo_list.append('Support Vector Machines')\n",
    "escenario_list.append('Outliers filtrados')\n",
    "train_score_list.append(train_score)\n",
    "precision_list.append(precision)\n",
    "recall_list.append(recall)\n",
    "fscore_list.append(fscore)\n",
    "test_score = model.score(x_test_filtered,y_test_filtered)\n",
    "test_score_list.append(test_score)"
   ]
  },
  {
   "cell_type": "code",
   "execution_count": 187,
   "metadata": {},
   "outputs": [
    {
     "data": {
      "application/vnd.plotly.v1+json": {
       "config": {
        "plotlyServerURL": "https://plot.ly"
       },
       "data": [
        {
         "colorscale": [
          [
           0,
           "#440154"
          ],
          [
           0.1111111111111111,
           "#482878"
          ],
          [
           0.2222222222222222,
           "#3e4989"
          ],
          [
           0.3333333333333333,
           "#31688e"
          ],
          [
           0.4444444444444444,
           "#26828e"
          ],
          [
           0.5555555555555556,
           "#1f9e89"
          ],
          [
           0.6666666666666666,
           "#35b779"
          ],
          [
           0.7777777777777778,
           "#6ece58"
          ],
          [
           0.8888888888888888,
           "#b5de2b"
          ],
          [
           1,
           "#fde725"
          ]
         ],
         "reversescale": false,
         "showscale": false,
         "type": "heatmap",
         "x": [
          "blues",
          "classical",
          "country",
          "disco",
          "hiphop",
          "jazz",
          "metal",
          "pop",
          "reggae",
          "rock"
         ],
         "y": [
          "blues",
          "classical",
          "country",
          "disco",
          "hiphop",
          "jazz",
          "metal",
          "pop",
          "reggae",
          "rock"
         ],
         "z": [
          [
           239,
           3,
           2,
           1,
           1,
           3,
           1,
           0,
           3,
           4
          ],
          [
           0,
           243,
           0,
           0,
           0,
           5,
           0,
           1,
           0,
           0
          ],
          [
           4,
           2,
           209,
           4,
           1,
           7,
           0,
           3,
           2,
           7
          ],
          [
           1,
           1,
           2,
           219,
           1,
           0,
           4,
           4,
           3,
           10
          ],
          [
           2,
           0,
           3,
           2,
           236,
           0,
           3,
           5,
           3,
           0
          ],
          [
           1,
           10,
           4,
           1,
           1,
           226,
           0,
           1,
           1,
           0
          ],
          [
           0,
           0,
           3,
           6,
           0,
           0,
           233,
           0,
           0,
           4
          ],
          [
           0,
           0,
           2,
           6,
           3,
           0,
           0,
           212,
           3,
           4
          ],
          [
           0,
           0,
           5,
           5,
           7,
           4,
           0,
           5,
           224,
           0
          ],
          [
           4,
           0,
           8,
           6,
           4,
           4,
           6,
           4,
           3,
           205
          ]
         ]
        }
       ],
       "layout": {
        "annotations": [
         {
          "font": {
           "color": "#000000"
          },
          "showarrow": false,
          "text": "239",
          "x": "blues",
          "xref": "x",
          "y": "blues",
          "yref": "y"
         },
         {
          "font": {
           "color": "#FFFFFF"
          },
          "showarrow": false,
          "text": "3",
          "x": "classical",
          "xref": "x",
          "y": "blues",
          "yref": "y"
         },
         {
          "font": {
           "color": "#FFFFFF"
          },
          "showarrow": false,
          "text": "2",
          "x": "country",
          "xref": "x",
          "y": "blues",
          "yref": "y"
         },
         {
          "font": {
           "color": "#FFFFFF"
          },
          "showarrow": false,
          "text": "1",
          "x": "disco",
          "xref": "x",
          "y": "blues",
          "yref": "y"
         },
         {
          "font": {
           "color": "#FFFFFF"
          },
          "showarrow": false,
          "text": "1",
          "x": "hiphop",
          "xref": "x",
          "y": "blues",
          "yref": "y"
         },
         {
          "font": {
           "color": "#FFFFFF"
          },
          "showarrow": false,
          "text": "3",
          "x": "jazz",
          "xref": "x",
          "y": "blues",
          "yref": "y"
         },
         {
          "font": {
           "color": "#FFFFFF"
          },
          "showarrow": false,
          "text": "1",
          "x": "metal",
          "xref": "x",
          "y": "blues",
          "yref": "y"
         },
         {
          "font": {
           "color": "#FFFFFF"
          },
          "showarrow": false,
          "text": "0",
          "x": "pop",
          "xref": "x",
          "y": "blues",
          "yref": "y"
         },
         {
          "font": {
           "color": "#FFFFFF"
          },
          "showarrow": false,
          "text": "3",
          "x": "reggae",
          "xref": "x",
          "y": "blues",
          "yref": "y"
         },
         {
          "font": {
           "color": "#FFFFFF"
          },
          "showarrow": false,
          "text": "4",
          "x": "rock",
          "xref": "x",
          "y": "blues",
          "yref": "y"
         },
         {
          "font": {
           "color": "#FFFFFF"
          },
          "showarrow": false,
          "text": "0",
          "x": "blues",
          "xref": "x",
          "y": "classical",
          "yref": "y"
         },
         {
          "font": {
           "color": "#000000"
          },
          "showarrow": false,
          "text": "243",
          "x": "classical",
          "xref": "x",
          "y": "classical",
          "yref": "y"
         },
         {
          "font": {
           "color": "#FFFFFF"
          },
          "showarrow": false,
          "text": "0",
          "x": "country",
          "xref": "x",
          "y": "classical",
          "yref": "y"
         },
         {
          "font": {
           "color": "#FFFFFF"
          },
          "showarrow": false,
          "text": "0",
          "x": "disco",
          "xref": "x",
          "y": "classical",
          "yref": "y"
         },
         {
          "font": {
           "color": "#FFFFFF"
          },
          "showarrow": false,
          "text": "0",
          "x": "hiphop",
          "xref": "x",
          "y": "classical",
          "yref": "y"
         },
         {
          "font": {
           "color": "#FFFFFF"
          },
          "showarrow": false,
          "text": "5",
          "x": "jazz",
          "xref": "x",
          "y": "classical",
          "yref": "y"
         },
         {
          "font": {
           "color": "#FFFFFF"
          },
          "showarrow": false,
          "text": "0",
          "x": "metal",
          "xref": "x",
          "y": "classical",
          "yref": "y"
         },
         {
          "font": {
           "color": "#FFFFFF"
          },
          "showarrow": false,
          "text": "1",
          "x": "pop",
          "xref": "x",
          "y": "classical",
          "yref": "y"
         },
         {
          "font": {
           "color": "#FFFFFF"
          },
          "showarrow": false,
          "text": "0",
          "x": "reggae",
          "xref": "x",
          "y": "classical",
          "yref": "y"
         },
         {
          "font": {
           "color": "#FFFFFF"
          },
          "showarrow": false,
          "text": "0",
          "x": "rock",
          "xref": "x",
          "y": "classical",
          "yref": "y"
         },
         {
          "font": {
           "color": "#FFFFFF"
          },
          "showarrow": false,
          "text": "4",
          "x": "blues",
          "xref": "x",
          "y": "country",
          "yref": "y"
         },
         {
          "font": {
           "color": "#FFFFFF"
          },
          "showarrow": false,
          "text": "2",
          "x": "classical",
          "xref": "x",
          "y": "country",
          "yref": "y"
         },
         {
          "font": {
           "color": "#000000"
          },
          "showarrow": false,
          "text": "209",
          "x": "country",
          "xref": "x",
          "y": "country",
          "yref": "y"
         },
         {
          "font": {
           "color": "#FFFFFF"
          },
          "showarrow": false,
          "text": "4",
          "x": "disco",
          "xref": "x",
          "y": "country",
          "yref": "y"
         },
         {
          "font": {
           "color": "#FFFFFF"
          },
          "showarrow": false,
          "text": "1",
          "x": "hiphop",
          "xref": "x",
          "y": "country",
          "yref": "y"
         },
         {
          "font": {
           "color": "#FFFFFF"
          },
          "showarrow": false,
          "text": "7",
          "x": "jazz",
          "xref": "x",
          "y": "country",
          "yref": "y"
         },
         {
          "font": {
           "color": "#FFFFFF"
          },
          "showarrow": false,
          "text": "0",
          "x": "metal",
          "xref": "x",
          "y": "country",
          "yref": "y"
         },
         {
          "font": {
           "color": "#FFFFFF"
          },
          "showarrow": false,
          "text": "3",
          "x": "pop",
          "xref": "x",
          "y": "country",
          "yref": "y"
         },
         {
          "font": {
           "color": "#FFFFFF"
          },
          "showarrow": false,
          "text": "2",
          "x": "reggae",
          "xref": "x",
          "y": "country",
          "yref": "y"
         },
         {
          "font": {
           "color": "#FFFFFF"
          },
          "showarrow": false,
          "text": "7",
          "x": "rock",
          "xref": "x",
          "y": "country",
          "yref": "y"
         },
         {
          "font": {
           "color": "#FFFFFF"
          },
          "showarrow": false,
          "text": "1",
          "x": "blues",
          "xref": "x",
          "y": "disco",
          "yref": "y"
         },
         {
          "font": {
           "color": "#FFFFFF"
          },
          "showarrow": false,
          "text": "1",
          "x": "classical",
          "xref": "x",
          "y": "disco",
          "yref": "y"
         },
         {
          "font": {
           "color": "#FFFFFF"
          },
          "showarrow": false,
          "text": "2",
          "x": "country",
          "xref": "x",
          "y": "disco",
          "yref": "y"
         },
         {
          "font": {
           "color": "#000000"
          },
          "showarrow": false,
          "text": "219",
          "x": "disco",
          "xref": "x",
          "y": "disco",
          "yref": "y"
         },
         {
          "font": {
           "color": "#FFFFFF"
          },
          "showarrow": false,
          "text": "1",
          "x": "hiphop",
          "xref": "x",
          "y": "disco",
          "yref": "y"
         },
         {
          "font": {
           "color": "#FFFFFF"
          },
          "showarrow": false,
          "text": "0",
          "x": "jazz",
          "xref": "x",
          "y": "disco",
          "yref": "y"
         },
         {
          "font": {
           "color": "#FFFFFF"
          },
          "showarrow": false,
          "text": "4",
          "x": "metal",
          "xref": "x",
          "y": "disco",
          "yref": "y"
         },
         {
          "font": {
           "color": "#FFFFFF"
          },
          "showarrow": false,
          "text": "4",
          "x": "pop",
          "xref": "x",
          "y": "disco",
          "yref": "y"
         },
         {
          "font": {
           "color": "#FFFFFF"
          },
          "showarrow": false,
          "text": "3",
          "x": "reggae",
          "xref": "x",
          "y": "disco",
          "yref": "y"
         },
         {
          "font": {
           "color": "#FFFFFF"
          },
          "showarrow": false,
          "text": "10",
          "x": "rock",
          "xref": "x",
          "y": "disco",
          "yref": "y"
         },
         {
          "font": {
           "color": "#FFFFFF"
          },
          "showarrow": false,
          "text": "2",
          "x": "blues",
          "xref": "x",
          "y": "hiphop",
          "yref": "y"
         },
         {
          "font": {
           "color": "#FFFFFF"
          },
          "showarrow": false,
          "text": "0",
          "x": "classical",
          "xref": "x",
          "y": "hiphop",
          "yref": "y"
         },
         {
          "font": {
           "color": "#FFFFFF"
          },
          "showarrow": false,
          "text": "3",
          "x": "country",
          "xref": "x",
          "y": "hiphop",
          "yref": "y"
         },
         {
          "font": {
           "color": "#FFFFFF"
          },
          "showarrow": false,
          "text": "2",
          "x": "disco",
          "xref": "x",
          "y": "hiphop",
          "yref": "y"
         },
         {
          "font": {
           "color": "#000000"
          },
          "showarrow": false,
          "text": "236",
          "x": "hiphop",
          "xref": "x",
          "y": "hiphop",
          "yref": "y"
         },
         {
          "font": {
           "color": "#FFFFFF"
          },
          "showarrow": false,
          "text": "0",
          "x": "jazz",
          "xref": "x",
          "y": "hiphop",
          "yref": "y"
         },
         {
          "font": {
           "color": "#FFFFFF"
          },
          "showarrow": false,
          "text": "3",
          "x": "metal",
          "xref": "x",
          "y": "hiphop",
          "yref": "y"
         },
         {
          "font": {
           "color": "#FFFFFF"
          },
          "showarrow": false,
          "text": "5",
          "x": "pop",
          "xref": "x",
          "y": "hiphop",
          "yref": "y"
         },
         {
          "font": {
           "color": "#FFFFFF"
          },
          "showarrow": false,
          "text": "3",
          "x": "reggae",
          "xref": "x",
          "y": "hiphop",
          "yref": "y"
         },
         {
          "font": {
           "color": "#FFFFFF"
          },
          "showarrow": false,
          "text": "0",
          "x": "rock",
          "xref": "x",
          "y": "hiphop",
          "yref": "y"
         },
         {
          "font": {
           "color": "#FFFFFF"
          },
          "showarrow": false,
          "text": "1",
          "x": "blues",
          "xref": "x",
          "y": "jazz",
          "yref": "y"
         },
         {
          "font": {
           "color": "#FFFFFF"
          },
          "showarrow": false,
          "text": "10",
          "x": "classical",
          "xref": "x",
          "y": "jazz",
          "yref": "y"
         },
         {
          "font": {
           "color": "#FFFFFF"
          },
          "showarrow": false,
          "text": "4",
          "x": "country",
          "xref": "x",
          "y": "jazz",
          "yref": "y"
         },
         {
          "font": {
           "color": "#FFFFFF"
          },
          "showarrow": false,
          "text": "1",
          "x": "disco",
          "xref": "x",
          "y": "jazz",
          "yref": "y"
         },
         {
          "font": {
           "color": "#FFFFFF"
          },
          "showarrow": false,
          "text": "1",
          "x": "hiphop",
          "xref": "x",
          "y": "jazz",
          "yref": "y"
         },
         {
          "font": {
           "color": "#000000"
          },
          "showarrow": false,
          "text": "226",
          "x": "jazz",
          "xref": "x",
          "y": "jazz",
          "yref": "y"
         },
         {
          "font": {
           "color": "#FFFFFF"
          },
          "showarrow": false,
          "text": "0",
          "x": "metal",
          "xref": "x",
          "y": "jazz",
          "yref": "y"
         },
         {
          "font": {
           "color": "#FFFFFF"
          },
          "showarrow": false,
          "text": "1",
          "x": "pop",
          "xref": "x",
          "y": "jazz",
          "yref": "y"
         },
         {
          "font": {
           "color": "#FFFFFF"
          },
          "showarrow": false,
          "text": "1",
          "x": "reggae",
          "xref": "x",
          "y": "jazz",
          "yref": "y"
         },
         {
          "font": {
           "color": "#FFFFFF"
          },
          "showarrow": false,
          "text": "0",
          "x": "rock",
          "xref": "x",
          "y": "jazz",
          "yref": "y"
         },
         {
          "font": {
           "color": "#FFFFFF"
          },
          "showarrow": false,
          "text": "0",
          "x": "blues",
          "xref": "x",
          "y": "metal",
          "yref": "y"
         },
         {
          "font": {
           "color": "#FFFFFF"
          },
          "showarrow": false,
          "text": "0",
          "x": "classical",
          "xref": "x",
          "y": "metal",
          "yref": "y"
         },
         {
          "font": {
           "color": "#FFFFFF"
          },
          "showarrow": false,
          "text": "3",
          "x": "country",
          "xref": "x",
          "y": "metal",
          "yref": "y"
         },
         {
          "font": {
           "color": "#FFFFFF"
          },
          "showarrow": false,
          "text": "6",
          "x": "disco",
          "xref": "x",
          "y": "metal",
          "yref": "y"
         },
         {
          "font": {
           "color": "#FFFFFF"
          },
          "showarrow": false,
          "text": "0",
          "x": "hiphop",
          "xref": "x",
          "y": "metal",
          "yref": "y"
         },
         {
          "font": {
           "color": "#FFFFFF"
          },
          "showarrow": false,
          "text": "0",
          "x": "jazz",
          "xref": "x",
          "y": "metal",
          "yref": "y"
         },
         {
          "font": {
           "color": "#000000"
          },
          "showarrow": false,
          "text": "233",
          "x": "metal",
          "xref": "x",
          "y": "metal",
          "yref": "y"
         },
         {
          "font": {
           "color": "#FFFFFF"
          },
          "showarrow": false,
          "text": "0",
          "x": "pop",
          "xref": "x",
          "y": "metal",
          "yref": "y"
         },
         {
          "font": {
           "color": "#FFFFFF"
          },
          "showarrow": false,
          "text": "0",
          "x": "reggae",
          "xref": "x",
          "y": "metal",
          "yref": "y"
         },
         {
          "font": {
           "color": "#FFFFFF"
          },
          "showarrow": false,
          "text": "4",
          "x": "rock",
          "xref": "x",
          "y": "metal",
          "yref": "y"
         },
         {
          "font": {
           "color": "#FFFFFF"
          },
          "showarrow": false,
          "text": "0",
          "x": "blues",
          "xref": "x",
          "y": "pop",
          "yref": "y"
         },
         {
          "font": {
           "color": "#FFFFFF"
          },
          "showarrow": false,
          "text": "0",
          "x": "classical",
          "xref": "x",
          "y": "pop",
          "yref": "y"
         },
         {
          "font": {
           "color": "#FFFFFF"
          },
          "showarrow": false,
          "text": "2",
          "x": "country",
          "xref": "x",
          "y": "pop",
          "yref": "y"
         },
         {
          "font": {
           "color": "#FFFFFF"
          },
          "showarrow": false,
          "text": "6",
          "x": "disco",
          "xref": "x",
          "y": "pop",
          "yref": "y"
         },
         {
          "font": {
           "color": "#FFFFFF"
          },
          "showarrow": false,
          "text": "3",
          "x": "hiphop",
          "xref": "x",
          "y": "pop",
          "yref": "y"
         },
         {
          "font": {
           "color": "#FFFFFF"
          },
          "showarrow": false,
          "text": "0",
          "x": "jazz",
          "xref": "x",
          "y": "pop",
          "yref": "y"
         },
         {
          "font": {
           "color": "#FFFFFF"
          },
          "showarrow": false,
          "text": "0",
          "x": "metal",
          "xref": "x",
          "y": "pop",
          "yref": "y"
         },
         {
          "font": {
           "color": "#000000"
          },
          "showarrow": false,
          "text": "212",
          "x": "pop",
          "xref": "x",
          "y": "pop",
          "yref": "y"
         },
         {
          "font": {
           "color": "#FFFFFF"
          },
          "showarrow": false,
          "text": "3",
          "x": "reggae",
          "xref": "x",
          "y": "pop",
          "yref": "y"
         },
         {
          "font": {
           "color": "#FFFFFF"
          },
          "showarrow": false,
          "text": "4",
          "x": "rock",
          "xref": "x",
          "y": "pop",
          "yref": "y"
         },
         {
          "font": {
           "color": "#FFFFFF"
          },
          "showarrow": false,
          "text": "0",
          "x": "blues",
          "xref": "x",
          "y": "reggae",
          "yref": "y"
         },
         {
          "font": {
           "color": "#FFFFFF"
          },
          "showarrow": false,
          "text": "0",
          "x": "classical",
          "xref": "x",
          "y": "reggae",
          "yref": "y"
         },
         {
          "font": {
           "color": "#FFFFFF"
          },
          "showarrow": false,
          "text": "5",
          "x": "country",
          "xref": "x",
          "y": "reggae",
          "yref": "y"
         },
         {
          "font": {
           "color": "#FFFFFF"
          },
          "showarrow": false,
          "text": "5",
          "x": "disco",
          "xref": "x",
          "y": "reggae",
          "yref": "y"
         },
         {
          "font": {
           "color": "#FFFFFF"
          },
          "showarrow": false,
          "text": "7",
          "x": "hiphop",
          "xref": "x",
          "y": "reggae",
          "yref": "y"
         },
         {
          "font": {
           "color": "#FFFFFF"
          },
          "showarrow": false,
          "text": "4",
          "x": "jazz",
          "xref": "x",
          "y": "reggae",
          "yref": "y"
         },
         {
          "font": {
           "color": "#FFFFFF"
          },
          "showarrow": false,
          "text": "0",
          "x": "metal",
          "xref": "x",
          "y": "reggae",
          "yref": "y"
         },
         {
          "font": {
           "color": "#FFFFFF"
          },
          "showarrow": false,
          "text": "5",
          "x": "pop",
          "xref": "x",
          "y": "reggae",
          "yref": "y"
         },
         {
          "font": {
           "color": "#000000"
          },
          "showarrow": false,
          "text": "224",
          "x": "reggae",
          "xref": "x",
          "y": "reggae",
          "yref": "y"
         },
         {
          "font": {
           "color": "#FFFFFF"
          },
          "showarrow": false,
          "text": "0",
          "x": "rock",
          "xref": "x",
          "y": "reggae",
          "yref": "y"
         },
         {
          "font": {
           "color": "#FFFFFF"
          },
          "showarrow": false,
          "text": "4",
          "x": "blues",
          "xref": "x",
          "y": "rock",
          "yref": "y"
         },
         {
          "font": {
           "color": "#FFFFFF"
          },
          "showarrow": false,
          "text": "0",
          "x": "classical",
          "xref": "x",
          "y": "rock",
          "yref": "y"
         },
         {
          "font": {
           "color": "#FFFFFF"
          },
          "showarrow": false,
          "text": "8",
          "x": "country",
          "xref": "x",
          "y": "rock",
          "yref": "y"
         },
         {
          "font": {
           "color": "#FFFFFF"
          },
          "showarrow": false,
          "text": "6",
          "x": "disco",
          "xref": "x",
          "y": "rock",
          "yref": "y"
         },
         {
          "font": {
           "color": "#FFFFFF"
          },
          "showarrow": false,
          "text": "4",
          "x": "hiphop",
          "xref": "x",
          "y": "rock",
          "yref": "y"
         },
         {
          "font": {
           "color": "#FFFFFF"
          },
          "showarrow": false,
          "text": "4",
          "x": "jazz",
          "xref": "x",
          "y": "rock",
          "yref": "y"
         },
         {
          "font": {
           "color": "#FFFFFF"
          },
          "showarrow": false,
          "text": "6",
          "x": "metal",
          "xref": "x",
          "y": "rock",
          "yref": "y"
         },
         {
          "font": {
           "color": "#FFFFFF"
          },
          "showarrow": false,
          "text": "4",
          "x": "pop",
          "xref": "x",
          "y": "rock",
          "yref": "y"
         },
         {
          "font": {
           "color": "#FFFFFF"
          },
          "showarrow": false,
          "text": "3",
          "x": "reggae",
          "xref": "x",
          "y": "rock",
          "yref": "y"
         },
         {
          "font": {
           "color": "#000000"
          },
          "showarrow": false,
          "text": "205",
          "x": "rock",
          "xref": "x",
          "y": "rock",
          "yref": "y"
         }
        ],
        "template": {
         "data": {
          "bar": [
           {
            "error_x": {
             "color": "#2a3f5f"
            },
            "error_y": {
             "color": "#2a3f5f"
            },
            "marker": {
             "line": {
              "color": "#E5ECF6",
              "width": 0.5
             },
             "pattern": {
              "fillmode": "overlay",
              "size": 10,
              "solidity": 0.2
             }
            },
            "type": "bar"
           }
          ],
          "barpolar": [
           {
            "marker": {
             "line": {
              "color": "#E5ECF6",
              "width": 0.5
             },
             "pattern": {
              "fillmode": "overlay",
              "size": 10,
              "solidity": 0.2
             }
            },
            "type": "barpolar"
           }
          ],
          "carpet": [
           {
            "aaxis": {
             "endlinecolor": "#2a3f5f",
             "gridcolor": "white",
             "linecolor": "white",
             "minorgridcolor": "white",
             "startlinecolor": "#2a3f5f"
            },
            "baxis": {
             "endlinecolor": "#2a3f5f",
             "gridcolor": "white",
             "linecolor": "white",
             "minorgridcolor": "white",
             "startlinecolor": "#2a3f5f"
            },
            "type": "carpet"
           }
          ],
          "choropleth": [
           {
            "colorbar": {
             "outlinewidth": 0,
             "ticks": ""
            },
            "type": "choropleth"
           }
          ],
          "contour": [
           {
            "colorbar": {
             "outlinewidth": 0,
             "ticks": ""
            },
            "colorscale": [
             [
              0,
              "#0d0887"
             ],
             [
              0.1111111111111111,
              "#46039f"
             ],
             [
              0.2222222222222222,
              "#7201a8"
             ],
             [
              0.3333333333333333,
              "#9c179e"
             ],
             [
              0.4444444444444444,
              "#bd3786"
             ],
             [
              0.5555555555555556,
              "#d8576b"
             ],
             [
              0.6666666666666666,
              "#ed7953"
             ],
             [
              0.7777777777777778,
              "#fb9f3a"
             ],
             [
              0.8888888888888888,
              "#fdca26"
             ],
             [
              1,
              "#f0f921"
             ]
            ],
            "type": "contour"
           }
          ],
          "contourcarpet": [
           {
            "colorbar": {
             "outlinewidth": 0,
             "ticks": ""
            },
            "type": "contourcarpet"
           }
          ],
          "heatmap": [
           {
            "colorbar": {
             "outlinewidth": 0,
             "ticks": ""
            },
            "colorscale": [
             [
              0,
              "#0d0887"
             ],
             [
              0.1111111111111111,
              "#46039f"
             ],
             [
              0.2222222222222222,
              "#7201a8"
             ],
             [
              0.3333333333333333,
              "#9c179e"
             ],
             [
              0.4444444444444444,
              "#bd3786"
             ],
             [
              0.5555555555555556,
              "#d8576b"
             ],
             [
              0.6666666666666666,
              "#ed7953"
             ],
             [
              0.7777777777777778,
              "#fb9f3a"
             ],
             [
              0.8888888888888888,
              "#fdca26"
             ],
             [
              1,
              "#f0f921"
             ]
            ],
            "type": "heatmap"
           }
          ],
          "heatmapgl": [
           {
            "colorbar": {
             "outlinewidth": 0,
             "ticks": ""
            },
            "colorscale": [
             [
              0,
              "#0d0887"
             ],
             [
              0.1111111111111111,
              "#46039f"
             ],
             [
              0.2222222222222222,
              "#7201a8"
             ],
             [
              0.3333333333333333,
              "#9c179e"
             ],
             [
              0.4444444444444444,
              "#bd3786"
             ],
             [
              0.5555555555555556,
              "#d8576b"
             ],
             [
              0.6666666666666666,
              "#ed7953"
             ],
             [
              0.7777777777777778,
              "#fb9f3a"
             ],
             [
              0.8888888888888888,
              "#fdca26"
             ],
             [
              1,
              "#f0f921"
             ]
            ],
            "type": "heatmapgl"
           }
          ],
          "histogram": [
           {
            "marker": {
             "pattern": {
              "fillmode": "overlay",
              "size": 10,
              "solidity": 0.2
             }
            },
            "type": "histogram"
           }
          ],
          "histogram2d": [
           {
            "colorbar": {
             "outlinewidth": 0,
             "ticks": ""
            },
            "colorscale": [
             [
              0,
              "#0d0887"
             ],
             [
              0.1111111111111111,
              "#46039f"
             ],
             [
              0.2222222222222222,
              "#7201a8"
             ],
             [
              0.3333333333333333,
              "#9c179e"
             ],
             [
              0.4444444444444444,
              "#bd3786"
             ],
             [
              0.5555555555555556,
              "#d8576b"
             ],
             [
              0.6666666666666666,
              "#ed7953"
             ],
             [
              0.7777777777777778,
              "#fb9f3a"
             ],
             [
              0.8888888888888888,
              "#fdca26"
             ],
             [
              1,
              "#f0f921"
             ]
            ],
            "type": "histogram2d"
           }
          ],
          "histogram2dcontour": [
           {
            "colorbar": {
             "outlinewidth": 0,
             "ticks": ""
            },
            "colorscale": [
             [
              0,
              "#0d0887"
             ],
             [
              0.1111111111111111,
              "#46039f"
             ],
             [
              0.2222222222222222,
              "#7201a8"
             ],
             [
              0.3333333333333333,
              "#9c179e"
             ],
             [
              0.4444444444444444,
              "#bd3786"
             ],
             [
              0.5555555555555556,
              "#d8576b"
             ],
             [
              0.6666666666666666,
              "#ed7953"
             ],
             [
              0.7777777777777778,
              "#fb9f3a"
             ],
             [
              0.8888888888888888,
              "#fdca26"
             ],
             [
              1,
              "#f0f921"
             ]
            ],
            "type": "histogram2dcontour"
           }
          ],
          "mesh3d": [
           {
            "colorbar": {
             "outlinewidth": 0,
             "ticks": ""
            },
            "type": "mesh3d"
           }
          ],
          "parcoords": [
           {
            "line": {
             "colorbar": {
              "outlinewidth": 0,
              "ticks": ""
             }
            },
            "type": "parcoords"
           }
          ],
          "pie": [
           {
            "automargin": true,
            "type": "pie"
           }
          ],
          "scatter": [
           {
            "marker": {
             "colorbar": {
              "outlinewidth": 0,
              "ticks": ""
             }
            },
            "type": "scatter"
           }
          ],
          "scatter3d": [
           {
            "line": {
             "colorbar": {
              "outlinewidth": 0,
              "ticks": ""
             }
            },
            "marker": {
             "colorbar": {
              "outlinewidth": 0,
              "ticks": ""
             }
            },
            "type": "scatter3d"
           }
          ],
          "scattercarpet": [
           {
            "marker": {
             "colorbar": {
              "outlinewidth": 0,
              "ticks": ""
             }
            },
            "type": "scattercarpet"
           }
          ],
          "scattergeo": [
           {
            "marker": {
             "colorbar": {
              "outlinewidth": 0,
              "ticks": ""
             }
            },
            "type": "scattergeo"
           }
          ],
          "scattergl": [
           {
            "marker": {
             "colorbar": {
              "outlinewidth": 0,
              "ticks": ""
             }
            },
            "type": "scattergl"
           }
          ],
          "scattermapbox": [
           {
            "marker": {
             "colorbar": {
              "outlinewidth": 0,
              "ticks": ""
             }
            },
            "type": "scattermapbox"
           }
          ],
          "scatterpolar": [
           {
            "marker": {
             "colorbar": {
              "outlinewidth": 0,
              "ticks": ""
             }
            },
            "type": "scatterpolar"
           }
          ],
          "scatterpolargl": [
           {
            "marker": {
             "colorbar": {
              "outlinewidth": 0,
              "ticks": ""
             }
            },
            "type": "scatterpolargl"
           }
          ],
          "scatterternary": [
           {
            "marker": {
             "colorbar": {
              "outlinewidth": 0,
              "ticks": ""
             }
            },
            "type": "scatterternary"
           }
          ],
          "surface": [
           {
            "colorbar": {
             "outlinewidth": 0,
             "ticks": ""
            },
            "colorscale": [
             [
              0,
              "#0d0887"
             ],
             [
              0.1111111111111111,
              "#46039f"
             ],
             [
              0.2222222222222222,
              "#7201a8"
             ],
             [
              0.3333333333333333,
              "#9c179e"
             ],
             [
              0.4444444444444444,
              "#bd3786"
             ],
             [
              0.5555555555555556,
              "#d8576b"
             ],
             [
              0.6666666666666666,
              "#ed7953"
             ],
             [
              0.7777777777777778,
              "#fb9f3a"
             ],
             [
              0.8888888888888888,
              "#fdca26"
             ],
             [
              1,
              "#f0f921"
             ]
            ],
            "type": "surface"
           }
          ],
          "table": [
           {
            "cells": {
             "fill": {
              "color": "#EBF0F8"
             },
             "line": {
              "color": "white"
             }
            },
            "header": {
             "fill": {
              "color": "#C8D4E3"
             },
             "line": {
              "color": "white"
             }
            },
            "type": "table"
           }
          ]
         },
         "layout": {
          "annotationdefaults": {
           "arrowcolor": "#2a3f5f",
           "arrowhead": 0,
           "arrowwidth": 1
          },
          "autotypenumbers": "strict",
          "coloraxis": {
           "colorbar": {
            "outlinewidth": 0,
            "ticks": ""
           }
          },
          "colorscale": {
           "diverging": [
            [
             0,
             "#8e0152"
            ],
            [
             0.1,
             "#c51b7d"
            ],
            [
             0.2,
             "#de77ae"
            ],
            [
             0.3,
             "#f1b6da"
            ],
            [
             0.4,
             "#fde0ef"
            ],
            [
             0.5,
             "#f7f7f7"
            ],
            [
             0.6,
             "#e6f5d0"
            ],
            [
             0.7,
             "#b8e186"
            ],
            [
             0.8,
             "#7fbc41"
            ],
            [
             0.9,
             "#4d9221"
            ],
            [
             1,
             "#276419"
            ]
           ],
           "sequential": [
            [
             0,
             "#0d0887"
            ],
            [
             0.1111111111111111,
             "#46039f"
            ],
            [
             0.2222222222222222,
             "#7201a8"
            ],
            [
             0.3333333333333333,
             "#9c179e"
            ],
            [
             0.4444444444444444,
             "#bd3786"
            ],
            [
             0.5555555555555556,
             "#d8576b"
            ],
            [
             0.6666666666666666,
             "#ed7953"
            ],
            [
             0.7777777777777778,
             "#fb9f3a"
            ],
            [
             0.8888888888888888,
             "#fdca26"
            ],
            [
             1,
             "#f0f921"
            ]
           ],
           "sequentialminus": [
            [
             0,
             "#0d0887"
            ],
            [
             0.1111111111111111,
             "#46039f"
            ],
            [
             0.2222222222222222,
             "#7201a8"
            ],
            [
             0.3333333333333333,
             "#9c179e"
            ],
            [
             0.4444444444444444,
             "#bd3786"
            ],
            [
             0.5555555555555556,
             "#d8576b"
            ],
            [
             0.6666666666666666,
             "#ed7953"
            ],
            [
             0.7777777777777778,
             "#fb9f3a"
            ],
            [
             0.8888888888888888,
             "#fdca26"
            ],
            [
             1,
             "#f0f921"
            ]
           ]
          },
          "colorway": [
           "#636efa",
           "#EF553B",
           "#00cc96",
           "#ab63fa",
           "#FFA15A",
           "#19d3f3",
           "#FF6692",
           "#B6E880",
           "#FF97FF",
           "#FECB52"
          ],
          "font": {
           "color": "#2a3f5f"
          },
          "geo": {
           "bgcolor": "white",
           "lakecolor": "white",
           "landcolor": "#E5ECF6",
           "showlakes": true,
           "showland": true,
           "subunitcolor": "white"
          },
          "hoverlabel": {
           "align": "left"
          },
          "hovermode": "closest",
          "mapbox": {
           "style": "light"
          },
          "paper_bgcolor": "white",
          "plot_bgcolor": "#E5ECF6",
          "polar": {
           "angularaxis": {
            "gridcolor": "white",
            "linecolor": "white",
            "ticks": ""
           },
           "bgcolor": "#E5ECF6",
           "radialaxis": {
            "gridcolor": "white",
            "linecolor": "white",
            "ticks": ""
           }
          },
          "scene": {
           "xaxis": {
            "backgroundcolor": "#E5ECF6",
            "gridcolor": "white",
            "gridwidth": 2,
            "linecolor": "white",
            "showbackground": true,
            "ticks": "",
            "zerolinecolor": "white"
           },
           "yaxis": {
            "backgroundcolor": "#E5ECF6",
            "gridcolor": "white",
            "gridwidth": 2,
            "linecolor": "white",
            "showbackground": true,
            "ticks": "",
            "zerolinecolor": "white"
           },
           "zaxis": {
            "backgroundcolor": "#E5ECF6",
            "gridcolor": "white",
            "gridwidth": 2,
            "linecolor": "white",
            "showbackground": true,
            "ticks": "",
            "zerolinecolor": "white"
           }
          },
          "shapedefaults": {
           "line": {
            "color": "#2a3f5f"
           }
          },
          "ternary": {
           "aaxis": {
            "gridcolor": "white",
            "linecolor": "white",
            "ticks": ""
           },
           "baxis": {
            "gridcolor": "white",
            "linecolor": "white",
            "ticks": ""
           },
           "bgcolor": "#E5ECF6",
           "caxis": {
            "gridcolor": "white",
            "linecolor": "white",
            "ticks": ""
           }
          },
          "title": {
           "x": 0.05
          },
          "xaxis": {
           "automargin": true,
           "gridcolor": "white",
           "linecolor": "white",
           "ticks": "",
           "title": {
            "standoff": 15
           },
           "zerolinecolor": "white",
           "zerolinewidth": 2
          },
          "yaxis": {
           "automargin": true,
           "gridcolor": "white",
           "linecolor": "white",
           "ticks": "",
           "title": {
            "standoff": 15
           },
           "zerolinecolor": "white",
           "zerolinewidth": 2
          }
         }
        },
        "xaxis": {
         "dtick": 1,
         "gridcolor": "rgb(0, 0, 0)",
         "side": "top",
         "ticks": ""
        },
        "yaxis": {
         "autorange": "reversed",
         "dtick": 1,
         "ticks": "",
         "ticksuffix": "  "
        }
       }
      }
     },
     "metadata": {},
     "output_type": "display_data"
    }
   ],
   "source": [
    "columns = list(MUSIC_GENRES.values())\n",
    "fig = ff.create_annotated_heatmap(confusion_matrix(y_test_filtered, y_pred), x=columns, y=columns, colorscale='viridis')\n",
    "fig['layout']['yaxis']['autorange'] = \"reversed\"\n",
    "#fig.write_html('../data/plots/knn_confusion_matrix.html')\n",
    "fig.show()"
   ]
  },
  {
   "cell_type": "code",
   "execution_count": 188,
   "metadata": {},
   "outputs": [
    {
     "name": "stdout",
     "output_type": "stream",
     "text": [
      "Score de entrenamiento: \n",
      "0.9433297180043384\n",
      "Precisión:  0.9028051117771679  - Recall:  0.9007726718178121  - f1:  0.900877190097251\n"
     ]
    }
   ],
   "source": [
    "model = KNeighborsClassifier().fit(x_train_filtered,y_train_filtered)\n",
    "\n",
    "train_score = model.score(x_train_filtered,y_train_filtered)\n",
    "\n",
    "print('Score de entrenamiento: ')\n",
    "print(train_score)\n",
    "\n",
    "y_pred = model.predict(x_test_filtered)\n",
    "precision, recall, fscore, _ = precision_recall_fscore_support(y_test_filtered, y_pred, average='weighted')\n",
    "print('Precisión: ', precision, ' - Recall: ', recall, ' - f1: ', fscore)\n",
    "######\n",
    "modelo_list.append('Knn')\n",
    "escenario_list.append('Outliers filtrados')\n",
    "train_score_list.append(train_score)\n",
    "precision_list.append(precision)\n",
    "recall_list.append(recall)\n",
    "fscore_list.append(fscore)\n",
    "test_score = model.score(x_test_filtered,y_test_filtered)\n",
    "test_score_list.append(test_score)"
   ]
  },
  {
   "cell_type": "code",
   "execution_count": 189,
   "metadata": {},
   "outputs": [
    {
     "data": {
      "application/vnd.plotly.v1+json": {
       "config": {
        "plotlyServerURL": "https://plot.ly"
       },
       "data": [
        {
         "colorscale": [
          [
           0,
           "#440154"
          ],
          [
           0.1111111111111111,
           "#482878"
          ],
          [
           0.2222222222222222,
           "#3e4989"
          ],
          [
           0.3333333333333333,
           "#31688e"
          ],
          [
           0.4444444444444444,
           "#26828e"
          ],
          [
           0.5555555555555556,
           "#1f9e89"
          ],
          [
           0.6666666666666666,
           "#35b779"
          ],
          [
           0.7777777777777778,
           "#6ece58"
          ],
          [
           0.8888888888888888,
           "#b5de2b"
          ],
          [
           1,
           "#fde725"
          ]
         ],
         "reversescale": false,
         "showscale": false,
         "type": "heatmap",
         "x": [
          "blues",
          "classical",
          "country",
          "disco",
          "hiphop",
          "jazz",
          "metal",
          "pop",
          "reggae",
          "rock"
         ],
         "y": [
          "blues",
          "classical",
          "country",
          "disco",
          "hiphop",
          "jazz",
          "metal",
          "pop",
          "reggae",
          "rock"
         ],
         "z": [
          [
           230,
           3,
           6,
           0,
           1,
           5,
           0,
           0,
           6,
           6
          ],
          [
           1,
           239,
           3,
           0,
           0,
           6,
           0,
           0,
           0,
           0
          ],
          [
           7,
           1,
           210,
           5,
           0,
           4,
           0,
           1,
           5,
           6
          ],
          [
           1,
           2,
           2,
           231,
           2,
           1,
           2,
           2,
           1,
           1
          ],
          [
           4,
           0,
           8,
           5,
           223,
           0,
           4,
           2,
           8,
           0
          ],
          [
           3,
           20,
           8,
           1,
           1,
           210,
           0,
           1,
           1,
           0
          ],
          [
           2,
           0,
           1,
           4,
           1,
           0,
           229,
           0,
           0,
           9
          ],
          [
           0,
           0,
           3,
           8,
           4,
           3,
           0,
           203,
           7,
           2
          ],
          [
           2,
           1,
           4,
           1,
           2,
           1,
           0,
           2,
           235,
           2
          ],
          [
           5,
           1,
           13,
           12,
           1,
           2,
           3,
           1,
           1,
           205
          ]
         ]
        }
       ],
       "layout": {
        "annotations": [
         {
          "font": {
           "color": "#000000"
          },
          "showarrow": false,
          "text": "230",
          "x": "blues",
          "xref": "x",
          "y": "blues",
          "yref": "y"
         },
         {
          "font": {
           "color": "#FFFFFF"
          },
          "showarrow": false,
          "text": "3",
          "x": "classical",
          "xref": "x",
          "y": "blues",
          "yref": "y"
         },
         {
          "font": {
           "color": "#FFFFFF"
          },
          "showarrow": false,
          "text": "6",
          "x": "country",
          "xref": "x",
          "y": "blues",
          "yref": "y"
         },
         {
          "font": {
           "color": "#FFFFFF"
          },
          "showarrow": false,
          "text": "0",
          "x": "disco",
          "xref": "x",
          "y": "blues",
          "yref": "y"
         },
         {
          "font": {
           "color": "#FFFFFF"
          },
          "showarrow": false,
          "text": "1",
          "x": "hiphop",
          "xref": "x",
          "y": "blues",
          "yref": "y"
         },
         {
          "font": {
           "color": "#FFFFFF"
          },
          "showarrow": false,
          "text": "5",
          "x": "jazz",
          "xref": "x",
          "y": "blues",
          "yref": "y"
         },
         {
          "font": {
           "color": "#FFFFFF"
          },
          "showarrow": false,
          "text": "0",
          "x": "metal",
          "xref": "x",
          "y": "blues",
          "yref": "y"
         },
         {
          "font": {
           "color": "#FFFFFF"
          },
          "showarrow": false,
          "text": "0",
          "x": "pop",
          "xref": "x",
          "y": "blues",
          "yref": "y"
         },
         {
          "font": {
           "color": "#FFFFFF"
          },
          "showarrow": false,
          "text": "6",
          "x": "reggae",
          "xref": "x",
          "y": "blues",
          "yref": "y"
         },
         {
          "font": {
           "color": "#FFFFFF"
          },
          "showarrow": false,
          "text": "6",
          "x": "rock",
          "xref": "x",
          "y": "blues",
          "yref": "y"
         },
         {
          "font": {
           "color": "#FFFFFF"
          },
          "showarrow": false,
          "text": "1",
          "x": "blues",
          "xref": "x",
          "y": "classical",
          "yref": "y"
         },
         {
          "font": {
           "color": "#000000"
          },
          "showarrow": false,
          "text": "239",
          "x": "classical",
          "xref": "x",
          "y": "classical",
          "yref": "y"
         },
         {
          "font": {
           "color": "#FFFFFF"
          },
          "showarrow": false,
          "text": "3",
          "x": "country",
          "xref": "x",
          "y": "classical",
          "yref": "y"
         },
         {
          "font": {
           "color": "#FFFFFF"
          },
          "showarrow": false,
          "text": "0",
          "x": "disco",
          "xref": "x",
          "y": "classical",
          "yref": "y"
         },
         {
          "font": {
           "color": "#FFFFFF"
          },
          "showarrow": false,
          "text": "0",
          "x": "hiphop",
          "xref": "x",
          "y": "classical",
          "yref": "y"
         },
         {
          "font": {
           "color": "#FFFFFF"
          },
          "showarrow": false,
          "text": "6",
          "x": "jazz",
          "xref": "x",
          "y": "classical",
          "yref": "y"
         },
         {
          "font": {
           "color": "#FFFFFF"
          },
          "showarrow": false,
          "text": "0",
          "x": "metal",
          "xref": "x",
          "y": "classical",
          "yref": "y"
         },
         {
          "font": {
           "color": "#FFFFFF"
          },
          "showarrow": false,
          "text": "0",
          "x": "pop",
          "xref": "x",
          "y": "classical",
          "yref": "y"
         },
         {
          "font": {
           "color": "#FFFFFF"
          },
          "showarrow": false,
          "text": "0",
          "x": "reggae",
          "xref": "x",
          "y": "classical",
          "yref": "y"
         },
         {
          "font": {
           "color": "#FFFFFF"
          },
          "showarrow": false,
          "text": "0",
          "x": "rock",
          "xref": "x",
          "y": "classical",
          "yref": "y"
         },
         {
          "font": {
           "color": "#FFFFFF"
          },
          "showarrow": false,
          "text": "7",
          "x": "blues",
          "xref": "x",
          "y": "country",
          "yref": "y"
         },
         {
          "font": {
           "color": "#FFFFFF"
          },
          "showarrow": false,
          "text": "1",
          "x": "classical",
          "xref": "x",
          "y": "country",
          "yref": "y"
         },
         {
          "font": {
           "color": "#000000"
          },
          "showarrow": false,
          "text": "210",
          "x": "country",
          "xref": "x",
          "y": "country",
          "yref": "y"
         },
         {
          "font": {
           "color": "#FFFFFF"
          },
          "showarrow": false,
          "text": "5",
          "x": "disco",
          "xref": "x",
          "y": "country",
          "yref": "y"
         },
         {
          "font": {
           "color": "#FFFFFF"
          },
          "showarrow": false,
          "text": "0",
          "x": "hiphop",
          "xref": "x",
          "y": "country",
          "yref": "y"
         },
         {
          "font": {
           "color": "#FFFFFF"
          },
          "showarrow": false,
          "text": "4",
          "x": "jazz",
          "xref": "x",
          "y": "country",
          "yref": "y"
         },
         {
          "font": {
           "color": "#FFFFFF"
          },
          "showarrow": false,
          "text": "0",
          "x": "metal",
          "xref": "x",
          "y": "country",
          "yref": "y"
         },
         {
          "font": {
           "color": "#FFFFFF"
          },
          "showarrow": false,
          "text": "1",
          "x": "pop",
          "xref": "x",
          "y": "country",
          "yref": "y"
         },
         {
          "font": {
           "color": "#FFFFFF"
          },
          "showarrow": false,
          "text": "5",
          "x": "reggae",
          "xref": "x",
          "y": "country",
          "yref": "y"
         },
         {
          "font": {
           "color": "#FFFFFF"
          },
          "showarrow": false,
          "text": "6",
          "x": "rock",
          "xref": "x",
          "y": "country",
          "yref": "y"
         },
         {
          "font": {
           "color": "#FFFFFF"
          },
          "showarrow": false,
          "text": "1",
          "x": "blues",
          "xref": "x",
          "y": "disco",
          "yref": "y"
         },
         {
          "font": {
           "color": "#FFFFFF"
          },
          "showarrow": false,
          "text": "2",
          "x": "classical",
          "xref": "x",
          "y": "disco",
          "yref": "y"
         },
         {
          "font": {
           "color": "#FFFFFF"
          },
          "showarrow": false,
          "text": "2",
          "x": "country",
          "xref": "x",
          "y": "disco",
          "yref": "y"
         },
         {
          "font": {
           "color": "#000000"
          },
          "showarrow": false,
          "text": "231",
          "x": "disco",
          "xref": "x",
          "y": "disco",
          "yref": "y"
         },
         {
          "font": {
           "color": "#FFFFFF"
          },
          "showarrow": false,
          "text": "2",
          "x": "hiphop",
          "xref": "x",
          "y": "disco",
          "yref": "y"
         },
         {
          "font": {
           "color": "#FFFFFF"
          },
          "showarrow": false,
          "text": "1",
          "x": "jazz",
          "xref": "x",
          "y": "disco",
          "yref": "y"
         },
         {
          "font": {
           "color": "#FFFFFF"
          },
          "showarrow": false,
          "text": "2",
          "x": "metal",
          "xref": "x",
          "y": "disco",
          "yref": "y"
         },
         {
          "font": {
           "color": "#FFFFFF"
          },
          "showarrow": false,
          "text": "2",
          "x": "pop",
          "xref": "x",
          "y": "disco",
          "yref": "y"
         },
         {
          "font": {
           "color": "#FFFFFF"
          },
          "showarrow": false,
          "text": "1",
          "x": "reggae",
          "xref": "x",
          "y": "disco",
          "yref": "y"
         },
         {
          "font": {
           "color": "#FFFFFF"
          },
          "showarrow": false,
          "text": "1",
          "x": "rock",
          "xref": "x",
          "y": "disco",
          "yref": "y"
         },
         {
          "font": {
           "color": "#FFFFFF"
          },
          "showarrow": false,
          "text": "4",
          "x": "blues",
          "xref": "x",
          "y": "hiphop",
          "yref": "y"
         },
         {
          "font": {
           "color": "#FFFFFF"
          },
          "showarrow": false,
          "text": "0",
          "x": "classical",
          "xref": "x",
          "y": "hiphop",
          "yref": "y"
         },
         {
          "font": {
           "color": "#FFFFFF"
          },
          "showarrow": false,
          "text": "8",
          "x": "country",
          "xref": "x",
          "y": "hiphop",
          "yref": "y"
         },
         {
          "font": {
           "color": "#FFFFFF"
          },
          "showarrow": false,
          "text": "5",
          "x": "disco",
          "xref": "x",
          "y": "hiphop",
          "yref": "y"
         },
         {
          "font": {
           "color": "#000000"
          },
          "showarrow": false,
          "text": "223",
          "x": "hiphop",
          "xref": "x",
          "y": "hiphop",
          "yref": "y"
         },
         {
          "font": {
           "color": "#FFFFFF"
          },
          "showarrow": false,
          "text": "0",
          "x": "jazz",
          "xref": "x",
          "y": "hiphop",
          "yref": "y"
         },
         {
          "font": {
           "color": "#FFFFFF"
          },
          "showarrow": false,
          "text": "4",
          "x": "metal",
          "xref": "x",
          "y": "hiphop",
          "yref": "y"
         },
         {
          "font": {
           "color": "#FFFFFF"
          },
          "showarrow": false,
          "text": "2",
          "x": "pop",
          "xref": "x",
          "y": "hiphop",
          "yref": "y"
         },
         {
          "font": {
           "color": "#FFFFFF"
          },
          "showarrow": false,
          "text": "8",
          "x": "reggae",
          "xref": "x",
          "y": "hiphop",
          "yref": "y"
         },
         {
          "font": {
           "color": "#FFFFFF"
          },
          "showarrow": false,
          "text": "0",
          "x": "rock",
          "xref": "x",
          "y": "hiphop",
          "yref": "y"
         },
         {
          "font": {
           "color": "#FFFFFF"
          },
          "showarrow": false,
          "text": "3",
          "x": "blues",
          "xref": "x",
          "y": "jazz",
          "yref": "y"
         },
         {
          "font": {
           "color": "#FFFFFF"
          },
          "showarrow": false,
          "text": "20",
          "x": "classical",
          "xref": "x",
          "y": "jazz",
          "yref": "y"
         },
         {
          "font": {
           "color": "#FFFFFF"
          },
          "showarrow": false,
          "text": "8",
          "x": "country",
          "xref": "x",
          "y": "jazz",
          "yref": "y"
         },
         {
          "font": {
           "color": "#FFFFFF"
          },
          "showarrow": false,
          "text": "1",
          "x": "disco",
          "xref": "x",
          "y": "jazz",
          "yref": "y"
         },
         {
          "font": {
           "color": "#FFFFFF"
          },
          "showarrow": false,
          "text": "1",
          "x": "hiphop",
          "xref": "x",
          "y": "jazz",
          "yref": "y"
         },
         {
          "font": {
           "color": "#000000"
          },
          "showarrow": false,
          "text": "210",
          "x": "jazz",
          "xref": "x",
          "y": "jazz",
          "yref": "y"
         },
         {
          "font": {
           "color": "#FFFFFF"
          },
          "showarrow": false,
          "text": "0",
          "x": "metal",
          "xref": "x",
          "y": "jazz",
          "yref": "y"
         },
         {
          "font": {
           "color": "#FFFFFF"
          },
          "showarrow": false,
          "text": "1",
          "x": "pop",
          "xref": "x",
          "y": "jazz",
          "yref": "y"
         },
         {
          "font": {
           "color": "#FFFFFF"
          },
          "showarrow": false,
          "text": "1",
          "x": "reggae",
          "xref": "x",
          "y": "jazz",
          "yref": "y"
         },
         {
          "font": {
           "color": "#FFFFFF"
          },
          "showarrow": false,
          "text": "0",
          "x": "rock",
          "xref": "x",
          "y": "jazz",
          "yref": "y"
         },
         {
          "font": {
           "color": "#FFFFFF"
          },
          "showarrow": false,
          "text": "2",
          "x": "blues",
          "xref": "x",
          "y": "metal",
          "yref": "y"
         },
         {
          "font": {
           "color": "#FFFFFF"
          },
          "showarrow": false,
          "text": "0",
          "x": "classical",
          "xref": "x",
          "y": "metal",
          "yref": "y"
         },
         {
          "font": {
           "color": "#FFFFFF"
          },
          "showarrow": false,
          "text": "1",
          "x": "country",
          "xref": "x",
          "y": "metal",
          "yref": "y"
         },
         {
          "font": {
           "color": "#FFFFFF"
          },
          "showarrow": false,
          "text": "4",
          "x": "disco",
          "xref": "x",
          "y": "metal",
          "yref": "y"
         },
         {
          "font": {
           "color": "#FFFFFF"
          },
          "showarrow": false,
          "text": "1",
          "x": "hiphop",
          "xref": "x",
          "y": "metal",
          "yref": "y"
         },
         {
          "font": {
           "color": "#FFFFFF"
          },
          "showarrow": false,
          "text": "0",
          "x": "jazz",
          "xref": "x",
          "y": "metal",
          "yref": "y"
         },
         {
          "font": {
           "color": "#000000"
          },
          "showarrow": false,
          "text": "229",
          "x": "metal",
          "xref": "x",
          "y": "metal",
          "yref": "y"
         },
         {
          "font": {
           "color": "#FFFFFF"
          },
          "showarrow": false,
          "text": "0",
          "x": "pop",
          "xref": "x",
          "y": "metal",
          "yref": "y"
         },
         {
          "font": {
           "color": "#FFFFFF"
          },
          "showarrow": false,
          "text": "0",
          "x": "reggae",
          "xref": "x",
          "y": "metal",
          "yref": "y"
         },
         {
          "font": {
           "color": "#FFFFFF"
          },
          "showarrow": false,
          "text": "9",
          "x": "rock",
          "xref": "x",
          "y": "metal",
          "yref": "y"
         },
         {
          "font": {
           "color": "#FFFFFF"
          },
          "showarrow": false,
          "text": "0",
          "x": "blues",
          "xref": "x",
          "y": "pop",
          "yref": "y"
         },
         {
          "font": {
           "color": "#FFFFFF"
          },
          "showarrow": false,
          "text": "0",
          "x": "classical",
          "xref": "x",
          "y": "pop",
          "yref": "y"
         },
         {
          "font": {
           "color": "#FFFFFF"
          },
          "showarrow": false,
          "text": "3",
          "x": "country",
          "xref": "x",
          "y": "pop",
          "yref": "y"
         },
         {
          "font": {
           "color": "#FFFFFF"
          },
          "showarrow": false,
          "text": "8",
          "x": "disco",
          "xref": "x",
          "y": "pop",
          "yref": "y"
         },
         {
          "font": {
           "color": "#FFFFFF"
          },
          "showarrow": false,
          "text": "4",
          "x": "hiphop",
          "xref": "x",
          "y": "pop",
          "yref": "y"
         },
         {
          "font": {
           "color": "#FFFFFF"
          },
          "showarrow": false,
          "text": "3",
          "x": "jazz",
          "xref": "x",
          "y": "pop",
          "yref": "y"
         },
         {
          "font": {
           "color": "#FFFFFF"
          },
          "showarrow": false,
          "text": "0",
          "x": "metal",
          "xref": "x",
          "y": "pop",
          "yref": "y"
         },
         {
          "font": {
           "color": "#000000"
          },
          "showarrow": false,
          "text": "203",
          "x": "pop",
          "xref": "x",
          "y": "pop",
          "yref": "y"
         },
         {
          "font": {
           "color": "#FFFFFF"
          },
          "showarrow": false,
          "text": "7",
          "x": "reggae",
          "xref": "x",
          "y": "pop",
          "yref": "y"
         },
         {
          "font": {
           "color": "#FFFFFF"
          },
          "showarrow": false,
          "text": "2",
          "x": "rock",
          "xref": "x",
          "y": "pop",
          "yref": "y"
         },
         {
          "font": {
           "color": "#FFFFFF"
          },
          "showarrow": false,
          "text": "2",
          "x": "blues",
          "xref": "x",
          "y": "reggae",
          "yref": "y"
         },
         {
          "font": {
           "color": "#FFFFFF"
          },
          "showarrow": false,
          "text": "1",
          "x": "classical",
          "xref": "x",
          "y": "reggae",
          "yref": "y"
         },
         {
          "font": {
           "color": "#FFFFFF"
          },
          "showarrow": false,
          "text": "4",
          "x": "country",
          "xref": "x",
          "y": "reggae",
          "yref": "y"
         },
         {
          "font": {
           "color": "#FFFFFF"
          },
          "showarrow": false,
          "text": "1",
          "x": "disco",
          "xref": "x",
          "y": "reggae",
          "yref": "y"
         },
         {
          "font": {
           "color": "#FFFFFF"
          },
          "showarrow": false,
          "text": "2",
          "x": "hiphop",
          "xref": "x",
          "y": "reggae",
          "yref": "y"
         },
         {
          "font": {
           "color": "#FFFFFF"
          },
          "showarrow": false,
          "text": "1",
          "x": "jazz",
          "xref": "x",
          "y": "reggae",
          "yref": "y"
         },
         {
          "font": {
           "color": "#FFFFFF"
          },
          "showarrow": false,
          "text": "0",
          "x": "metal",
          "xref": "x",
          "y": "reggae",
          "yref": "y"
         },
         {
          "font": {
           "color": "#FFFFFF"
          },
          "showarrow": false,
          "text": "2",
          "x": "pop",
          "xref": "x",
          "y": "reggae",
          "yref": "y"
         },
         {
          "font": {
           "color": "#000000"
          },
          "showarrow": false,
          "text": "235",
          "x": "reggae",
          "xref": "x",
          "y": "reggae",
          "yref": "y"
         },
         {
          "font": {
           "color": "#FFFFFF"
          },
          "showarrow": false,
          "text": "2",
          "x": "rock",
          "xref": "x",
          "y": "reggae",
          "yref": "y"
         },
         {
          "font": {
           "color": "#FFFFFF"
          },
          "showarrow": false,
          "text": "5",
          "x": "blues",
          "xref": "x",
          "y": "rock",
          "yref": "y"
         },
         {
          "font": {
           "color": "#FFFFFF"
          },
          "showarrow": false,
          "text": "1",
          "x": "classical",
          "xref": "x",
          "y": "rock",
          "yref": "y"
         },
         {
          "font": {
           "color": "#FFFFFF"
          },
          "showarrow": false,
          "text": "13",
          "x": "country",
          "xref": "x",
          "y": "rock",
          "yref": "y"
         },
         {
          "font": {
           "color": "#FFFFFF"
          },
          "showarrow": false,
          "text": "12",
          "x": "disco",
          "xref": "x",
          "y": "rock",
          "yref": "y"
         },
         {
          "font": {
           "color": "#FFFFFF"
          },
          "showarrow": false,
          "text": "1",
          "x": "hiphop",
          "xref": "x",
          "y": "rock",
          "yref": "y"
         },
         {
          "font": {
           "color": "#FFFFFF"
          },
          "showarrow": false,
          "text": "2",
          "x": "jazz",
          "xref": "x",
          "y": "rock",
          "yref": "y"
         },
         {
          "font": {
           "color": "#FFFFFF"
          },
          "showarrow": false,
          "text": "3",
          "x": "metal",
          "xref": "x",
          "y": "rock",
          "yref": "y"
         },
         {
          "font": {
           "color": "#FFFFFF"
          },
          "showarrow": false,
          "text": "1",
          "x": "pop",
          "xref": "x",
          "y": "rock",
          "yref": "y"
         },
         {
          "font": {
           "color": "#FFFFFF"
          },
          "showarrow": false,
          "text": "1",
          "x": "reggae",
          "xref": "x",
          "y": "rock",
          "yref": "y"
         },
         {
          "font": {
           "color": "#000000"
          },
          "showarrow": false,
          "text": "205",
          "x": "rock",
          "xref": "x",
          "y": "rock",
          "yref": "y"
         }
        ],
        "template": {
         "data": {
          "bar": [
           {
            "error_x": {
             "color": "#2a3f5f"
            },
            "error_y": {
             "color": "#2a3f5f"
            },
            "marker": {
             "line": {
              "color": "#E5ECF6",
              "width": 0.5
             },
             "pattern": {
              "fillmode": "overlay",
              "size": 10,
              "solidity": 0.2
             }
            },
            "type": "bar"
           }
          ],
          "barpolar": [
           {
            "marker": {
             "line": {
              "color": "#E5ECF6",
              "width": 0.5
             },
             "pattern": {
              "fillmode": "overlay",
              "size": 10,
              "solidity": 0.2
             }
            },
            "type": "barpolar"
           }
          ],
          "carpet": [
           {
            "aaxis": {
             "endlinecolor": "#2a3f5f",
             "gridcolor": "white",
             "linecolor": "white",
             "minorgridcolor": "white",
             "startlinecolor": "#2a3f5f"
            },
            "baxis": {
             "endlinecolor": "#2a3f5f",
             "gridcolor": "white",
             "linecolor": "white",
             "minorgridcolor": "white",
             "startlinecolor": "#2a3f5f"
            },
            "type": "carpet"
           }
          ],
          "choropleth": [
           {
            "colorbar": {
             "outlinewidth": 0,
             "ticks": ""
            },
            "type": "choropleth"
           }
          ],
          "contour": [
           {
            "colorbar": {
             "outlinewidth": 0,
             "ticks": ""
            },
            "colorscale": [
             [
              0,
              "#0d0887"
             ],
             [
              0.1111111111111111,
              "#46039f"
             ],
             [
              0.2222222222222222,
              "#7201a8"
             ],
             [
              0.3333333333333333,
              "#9c179e"
             ],
             [
              0.4444444444444444,
              "#bd3786"
             ],
             [
              0.5555555555555556,
              "#d8576b"
             ],
             [
              0.6666666666666666,
              "#ed7953"
             ],
             [
              0.7777777777777778,
              "#fb9f3a"
             ],
             [
              0.8888888888888888,
              "#fdca26"
             ],
             [
              1,
              "#f0f921"
             ]
            ],
            "type": "contour"
           }
          ],
          "contourcarpet": [
           {
            "colorbar": {
             "outlinewidth": 0,
             "ticks": ""
            },
            "type": "contourcarpet"
           }
          ],
          "heatmap": [
           {
            "colorbar": {
             "outlinewidth": 0,
             "ticks": ""
            },
            "colorscale": [
             [
              0,
              "#0d0887"
             ],
             [
              0.1111111111111111,
              "#46039f"
             ],
             [
              0.2222222222222222,
              "#7201a8"
             ],
             [
              0.3333333333333333,
              "#9c179e"
             ],
             [
              0.4444444444444444,
              "#bd3786"
             ],
             [
              0.5555555555555556,
              "#d8576b"
             ],
             [
              0.6666666666666666,
              "#ed7953"
             ],
             [
              0.7777777777777778,
              "#fb9f3a"
             ],
             [
              0.8888888888888888,
              "#fdca26"
             ],
             [
              1,
              "#f0f921"
             ]
            ],
            "type": "heatmap"
           }
          ],
          "heatmapgl": [
           {
            "colorbar": {
             "outlinewidth": 0,
             "ticks": ""
            },
            "colorscale": [
             [
              0,
              "#0d0887"
             ],
             [
              0.1111111111111111,
              "#46039f"
             ],
             [
              0.2222222222222222,
              "#7201a8"
             ],
             [
              0.3333333333333333,
              "#9c179e"
             ],
             [
              0.4444444444444444,
              "#bd3786"
             ],
             [
              0.5555555555555556,
              "#d8576b"
             ],
             [
              0.6666666666666666,
              "#ed7953"
             ],
             [
              0.7777777777777778,
              "#fb9f3a"
             ],
             [
              0.8888888888888888,
              "#fdca26"
             ],
             [
              1,
              "#f0f921"
             ]
            ],
            "type": "heatmapgl"
           }
          ],
          "histogram": [
           {
            "marker": {
             "pattern": {
              "fillmode": "overlay",
              "size": 10,
              "solidity": 0.2
             }
            },
            "type": "histogram"
           }
          ],
          "histogram2d": [
           {
            "colorbar": {
             "outlinewidth": 0,
             "ticks": ""
            },
            "colorscale": [
             [
              0,
              "#0d0887"
             ],
             [
              0.1111111111111111,
              "#46039f"
             ],
             [
              0.2222222222222222,
              "#7201a8"
             ],
             [
              0.3333333333333333,
              "#9c179e"
             ],
             [
              0.4444444444444444,
              "#bd3786"
             ],
             [
              0.5555555555555556,
              "#d8576b"
             ],
             [
              0.6666666666666666,
              "#ed7953"
             ],
             [
              0.7777777777777778,
              "#fb9f3a"
             ],
             [
              0.8888888888888888,
              "#fdca26"
             ],
             [
              1,
              "#f0f921"
             ]
            ],
            "type": "histogram2d"
           }
          ],
          "histogram2dcontour": [
           {
            "colorbar": {
             "outlinewidth": 0,
             "ticks": ""
            },
            "colorscale": [
             [
              0,
              "#0d0887"
             ],
             [
              0.1111111111111111,
              "#46039f"
             ],
             [
              0.2222222222222222,
              "#7201a8"
             ],
             [
              0.3333333333333333,
              "#9c179e"
             ],
             [
              0.4444444444444444,
              "#bd3786"
             ],
             [
              0.5555555555555556,
              "#d8576b"
             ],
             [
              0.6666666666666666,
              "#ed7953"
             ],
             [
              0.7777777777777778,
              "#fb9f3a"
             ],
             [
              0.8888888888888888,
              "#fdca26"
             ],
             [
              1,
              "#f0f921"
             ]
            ],
            "type": "histogram2dcontour"
           }
          ],
          "mesh3d": [
           {
            "colorbar": {
             "outlinewidth": 0,
             "ticks": ""
            },
            "type": "mesh3d"
           }
          ],
          "parcoords": [
           {
            "line": {
             "colorbar": {
              "outlinewidth": 0,
              "ticks": ""
             }
            },
            "type": "parcoords"
           }
          ],
          "pie": [
           {
            "automargin": true,
            "type": "pie"
           }
          ],
          "scatter": [
           {
            "marker": {
             "colorbar": {
              "outlinewidth": 0,
              "ticks": ""
             }
            },
            "type": "scatter"
           }
          ],
          "scatter3d": [
           {
            "line": {
             "colorbar": {
              "outlinewidth": 0,
              "ticks": ""
             }
            },
            "marker": {
             "colorbar": {
              "outlinewidth": 0,
              "ticks": ""
             }
            },
            "type": "scatter3d"
           }
          ],
          "scattercarpet": [
           {
            "marker": {
             "colorbar": {
              "outlinewidth": 0,
              "ticks": ""
             }
            },
            "type": "scattercarpet"
           }
          ],
          "scattergeo": [
           {
            "marker": {
             "colorbar": {
              "outlinewidth": 0,
              "ticks": ""
             }
            },
            "type": "scattergeo"
           }
          ],
          "scattergl": [
           {
            "marker": {
             "colorbar": {
              "outlinewidth": 0,
              "ticks": ""
             }
            },
            "type": "scattergl"
           }
          ],
          "scattermapbox": [
           {
            "marker": {
             "colorbar": {
              "outlinewidth": 0,
              "ticks": ""
             }
            },
            "type": "scattermapbox"
           }
          ],
          "scatterpolar": [
           {
            "marker": {
             "colorbar": {
              "outlinewidth": 0,
              "ticks": ""
             }
            },
            "type": "scatterpolar"
           }
          ],
          "scatterpolargl": [
           {
            "marker": {
             "colorbar": {
              "outlinewidth": 0,
              "ticks": ""
             }
            },
            "type": "scatterpolargl"
           }
          ],
          "scatterternary": [
           {
            "marker": {
             "colorbar": {
              "outlinewidth": 0,
              "ticks": ""
             }
            },
            "type": "scatterternary"
           }
          ],
          "surface": [
           {
            "colorbar": {
             "outlinewidth": 0,
             "ticks": ""
            },
            "colorscale": [
             [
              0,
              "#0d0887"
             ],
             [
              0.1111111111111111,
              "#46039f"
             ],
             [
              0.2222222222222222,
              "#7201a8"
             ],
             [
              0.3333333333333333,
              "#9c179e"
             ],
             [
              0.4444444444444444,
              "#bd3786"
             ],
             [
              0.5555555555555556,
              "#d8576b"
             ],
             [
              0.6666666666666666,
              "#ed7953"
             ],
             [
              0.7777777777777778,
              "#fb9f3a"
             ],
             [
              0.8888888888888888,
              "#fdca26"
             ],
             [
              1,
              "#f0f921"
             ]
            ],
            "type": "surface"
           }
          ],
          "table": [
           {
            "cells": {
             "fill": {
              "color": "#EBF0F8"
             },
             "line": {
              "color": "white"
             }
            },
            "header": {
             "fill": {
              "color": "#C8D4E3"
             },
             "line": {
              "color": "white"
             }
            },
            "type": "table"
           }
          ]
         },
         "layout": {
          "annotationdefaults": {
           "arrowcolor": "#2a3f5f",
           "arrowhead": 0,
           "arrowwidth": 1
          },
          "autotypenumbers": "strict",
          "coloraxis": {
           "colorbar": {
            "outlinewidth": 0,
            "ticks": ""
           }
          },
          "colorscale": {
           "diverging": [
            [
             0,
             "#8e0152"
            ],
            [
             0.1,
             "#c51b7d"
            ],
            [
             0.2,
             "#de77ae"
            ],
            [
             0.3,
             "#f1b6da"
            ],
            [
             0.4,
             "#fde0ef"
            ],
            [
             0.5,
             "#f7f7f7"
            ],
            [
             0.6,
             "#e6f5d0"
            ],
            [
             0.7,
             "#b8e186"
            ],
            [
             0.8,
             "#7fbc41"
            ],
            [
             0.9,
             "#4d9221"
            ],
            [
             1,
             "#276419"
            ]
           ],
           "sequential": [
            [
             0,
             "#0d0887"
            ],
            [
             0.1111111111111111,
             "#46039f"
            ],
            [
             0.2222222222222222,
             "#7201a8"
            ],
            [
             0.3333333333333333,
             "#9c179e"
            ],
            [
             0.4444444444444444,
             "#bd3786"
            ],
            [
             0.5555555555555556,
             "#d8576b"
            ],
            [
             0.6666666666666666,
             "#ed7953"
            ],
            [
             0.7777777777777778,
             "#fb9f3a"
            ],
            [
             0.8888888888888888,
             "#fdca26"
            ],
            [
             1,
             "#f0f921"
            ]
           ],
           "sequentialminus": [
            [
             0,
             "#0d0887"
            ],
            [
             0.1111111111111111,
             "#46039f"
            ],
            [
             0.2222222222222222,
             "#7201a8"
            ],
            [
             0.3333333333333333,
             "#9c179e"
            ],
            [
             0.4444444444444444,
             "#bd3786"
            ],
            [
             0.5555555555555556,
             "#d8576b"
            ],
            [
             0.6666666666666666,
             "#ed7953"
            ],
            [
             0.7777777777777778,
             "#fb9f3a"
            ],
            [
             0.8888888888888888,
             "#fdca26"
            ],
            [
             1,
             "#f0f921"
            ]
           ]
          },
          "colorway": [
           "#636efa",
           "#EF553B",
           "#00cc96",
           "#ab63fa",
           "#FFA15A",
           "#19d3f3",
           "#FF6692",
           "#B6E880",
           "#FF97FF",
           "#FECB52"
          ],
          "font": {
           "color": "#2a3f5f"
          },
          "geo": {
           "bgcolor": "white",
           "lakecolor": "white",
           "landcolor": "#E5ECF6",
           "showlakes": true,
           "showland": true,
           "subunitcolor": "white"
          },
          "hoverlabel": {
           "align": "left"
          },
          "hovermode": "closest",
          "mapbox": {
           "style": "light"
          },
          "paper_bgcolor": "white",
          "plot_bgcolor": "#E5ECF6",
          "polar": {
           "angularaxis": {
            "gridcolor": "white",
            "linecolor": "white",
            "ticks": ""
           },
           "bgcolor": "#E5ECF6",
           "radialaxis": {
            "gridcolor": "white",
            "linecolor": "white",
            "ticks": ""
           }
          },
          "scene": {
           "xaxis": {
            "backgroundcolor": "#E5ECF6",
            "gridcolor": "white",
            "gridwidth": 2,
            "linecolor": "white",
            "showbackground": true,
            "ticks": "",
            "zerolinecolor": "white"
           },
           "yaxis": {
            "backgroundcolor": "#E5ECF6",
            "gridcolor": "white",
            "gridwidth": 2,
            "linecolor": "white",
            "showbackground": true,
            "ticks": "",
            "zerolinecolor": "white"
           },
           "zaxis": {
            "backgroundcolor": "#E5ECF6",
            "gridcolor": "white",
            "gridwidth": 2,
            "linecolor": "white",
            "showbackground": true,
            "ticks": "",
            "zerolinecolor": "white"
           }
          },
          "shapedefaults": {
           "line": {
            "color": "#2a3f5f"
           }
          },
          "ternary": {
           "aaxis": {
            "gridcolor": "white",
            "linecolor": "white",
            "ticks": ""
           },
           "baxis": {
            "gridcolor": "white",
            "linecolor": "white",
            "ticks": ""
           },
           "bgcolor": "#E5ECF6",
           "caxis": {
            "gridcolor": "white",
            "linecolor": "white",
            "ticks": ""
           }
          },
          "title": {
           "x": 0.05
          },
          "xaxis": {
           "automargin": true,
           "gridcolor": "white",
           "linecolor": "white",
           "ticks": "",
           "title": {
            "standoff": 15
           },
           "zerolinecolor": "white",
           "zerolinewidth": 2
          },
          "yaxis": {
           "automargin": true,
           "gridcolor": "white",
           "linecolor": "white",
           "ticks": "",
           "title": {
            "standoff": 15
           },
           "zerolinecolor": "white",
           "zerolinewidth": 2
          }
         }
        },
        "xaxis": {
         "dtick": 1,
         "gridcolor": "rgb(0, 0, 0)",
         "side": "top",
         "ticks": ""
        },
        "yaxis": {
         "autorange": "reversed",
         "dtick": 1,
         "ticks": "",
         "ticksuffix": "  "
        }
       }
      }
     },
     "metadata": {},
     "output_type": "display_data"
    }
   ],
   "source": [
    "columns = list(MUSIC_GENRES.values())\n",
    "fig = ff.create_annotated_heatmap(confusion_matrix(y_test_filtered, y_pred), x=columns, y=columns, colorscale='viridis')\n",
    "fig['layout']['yaxis']['autorange'] = \"reversed\"\n",
    "#fig.write_html('../data/plots/knn_confusion_matrix.html')\n",
    "fig.show()"
   ]
  },
  {
   "cell_type": "code",
   "execution_count": 190,
   "metadata": {},
   "outputs": [
    {
     "name": "stdout",
     "output_type": "stream",
     "text": [
      "Score de entrenamiento: \n",
      "0.9991865509761388\n",
      "Precisión:  0.9049185920790926  - Recall:  0.9032126880845872  - f1:  0.9031904914894593\n"
     ]
    }
   ],
   "source": [
    "model = ExtraTreesClassifier(n_estimators=500, n_jobs=-1).fit(x_train_filtered,y_train_filtered)\n",
    "\n",
    "train_score = model.score(x_train_filtered,y_train_filtered)\n",
    "\n",
    "print('Score de entrenamiento: ')\n",
    "print(train_score)\n",
    "\n",
    "y_pred = model.predict(x_test_filtered)\n",
    "precision, recall, fscore, _ = precision_recall_fscore_support(y_test_filtered, y_pred, average='weighted')\n",
    "print('Precisión: ', precision, ' - Recall: ', recall, ' - f1: ', fscore)\n",
    "######\n",
    "modelo_list.append('Extra Trees')\n",
    "escenario_list.append('Outliers filtrados')\n",
    "train_score_list.append(train_score)\n",
    "precision_list.append(precision)\n",
    "recall_list.append(recall)\n",
    "fscore_list.append(fscore)\n",
    "test_score = model.score(x_test_filtered,y_test_filtered)\n",
    "test_score_list.append(test_score)"
   ]
  },
  {
   "cell_type": "code",
   "execution_count": 191,
   "metadata": {},
   "outputs": [
    {
     "data": {
      "application/vnd.plotly.v1+json": {
       "config": {
        "plotlyServerURL": "https://plot.ly"
       },
       "data": [
        {
         "colorscale": [
          [
           0,
           "#440154"
          ],
          [
           0.1111111111111111,
           "#482878"
          ],
          [
           0.2222222222222222,
           "#3e4989"
          ],
          [
           0.3333333333333333,
           "#31688e"
          ],
          [
           0.4444444444444444,
           "#26828e"
          ],
          [
           0.5555555555555556,
           "#1f9e89"
          ],
          [
           0.6666666666666666,
           "#35b779"
          ],
          [
           0.7777777777777778,
           "#6ece58"
          ],
          [
           0.8888888888888888,
           "#b5de2b"
          ],
          [
           1,
           "#fde725"
          ]
         ],
         "reversescale": false,
         "showscale": false,
         "type": "heatmap",
         "x": [
          "blues",
          "classical",
          "country",
          "disco",
          "hiphop",
          "jazz",
          "metal",
          "pop",
          "reggae",
          "rock"
         ],
         "y": [
          "blues",
          "classical",
          "country",
          "disco",
          "hiphop",
          "jazz",
          "metal",
          "pop",
          "reggae",
          "rock"
         ],
         "z": [
          [
           230,
           3,
           9,
           2,
           2,
           4,
           3,
           0,
           3,
           1
          ],
          [
           0,
           243,
           2,
           0,
           0,
           4,
           0,
           0,
           0,
           0
          ],
          [
           6,
           1,
           207,
           5,
           0,
           5,
           0,
           1,
           11,
           3
          ],
          [
           0,
           2,
           0,
           224,
           3,
           2,
           3,
           3,
           3,
           5
          ],
          [
           1,
           0,
           5,
           4,
           226,
           1,
           7,
           6,
           3,
           1
          ],
          [
           4,
           10,
           4,
           0,
           0,
           225,
           1,
           1,
           0,
           0
          ],
          [
           1,
           0,
           3,
           3,
           0,
           0,
           232,
           0,
           1,
           6
          ],
          [
           0,
           0,
           6,
           3,
           0,
           2,
           0,
           214,
           4,
           1
          ],
          [
           0,
           1,
           6,
           3,
           3,
           2,
           1,
           7,
           225,
           2
          ],
          [
           1,
           1,
           18,
           9,
           0,
           4,
           8,
           2,
           6,
           195
          ]
         ]
        }
       ],
       "layout": {
        "annotations": [
         {
          "font": {
           "color": "#000000"
          },
          "showarrow": false,
          "text": "230",
          "x": "blues",
          "xref": "x",
          "y": "blues",
          "yref": "y"
         },
         {
          "font": {
           "color": "#FFFFFF"
          },
          "showarrow": false,
          "text": "3",
          "x": "classical",
          "xref": "x",
          "y": "blues",
          "yref": "y"
         },
         {
          "font": {
           "color": "#FFFFFF"
          },
          "showarrow": false,
          "text": "9",
          "x": "country",
          "xref": "x",
          "y": "blues",
          "yref": "y"
         },
         {
          "font": {
           "color": "#FFFFFF"
          },
          "showarrow": false,
          "text": "2",
          "x": "disco",
          "xref": "x",
          "y": "blues",
          "yref": "y"
         },
         {
          "font": {
           "color": "#FFFFFF"
          },
          "showarrow": false,
          "text": "2",
          "x": "hiphop",
          "xref": "x",
          "y": "blues",
          "yref": "y"
         },
         {
          "font": {
           "color": "#FFFFFF"
          },
          "showarrow": false,
          "text": "4",
          "x": "jazz",
          "xref": "x",
          "y": "blues",
          "yref": "y"
         },
         {
          "font": {
           "color": "#FFFFFF"
          },
          "showarrow": false,
          "text": "3",
          "x": "metal",
          "xref": "x",
          "y": "blues",
          "yref": "y"
         },
         {
          "font": {
           "color": "#FFFFFF"
          },
          "showarrow": false,
          "text": "0",
          "x": "pop",
          "xref": "x",
          "y": "blues",
          "yref": "y"
         },
         {
          "font": {
           "color": "#FFFFFF"
          },
          "showarrow": false,
          "text": "3",
          "x": "reggae",
          "xref": "x",
          "y": "blues",
          "yref": "y"
         },
         {
          "font": {
           "color": "#FFFFFF"
          },
          "showarrow": false,
          "text": "1",
          "x": "rock",
          "xref": "x",
          "y": "blues",
          "yref": "y"
         },
         {
          "font": {
           "color": "#FFFFFF"
          },
          "showarrow": false,
          "text": "0",
          "x": "blues",
          "xref": "x",
          "y": "classical",
          "yref": "y"
         },
         {
          "font": {
           "color": "#000000"
          },
          "showarrow": false,
          "text": "243",
          "x": "classical",
          "xref": "x",
          "y": "classical",
          "yref": "y"
         },
         {
          "font": {
           "color": "#FFFFFF"
          },
          "showarrow": false,
          "text": "2",
          "x": "country",
          "xref": "x",
          "y": "classical",
          "yref": "y"
         },
         {
          "font": {
           "color": "#FFFFFF"
          },
          "showarrow": false,
          "text": "0",
          "x": "disco",
          "xref": "x",
          "y": "classical",
          "yref": "y"
         },
         {
          "font": {
           "color": "#FFFFFF"
          },
          "showarrow": false,
          "text": "0",
          "x": "hiphop",
          "xref": "x",
          "y": "classical",
          "yref": "y"
         },
         {
          "font": {
           "color": "#FFFFFF"
          },
          "showarrow": false,
          "text": "4",
          "x": "jazz",
          "xref": "x",
          "y": "classical",
          "yref": "y"
         },
         {
          "font": {
           "color": "#FFFFFF"
          },
          "showarrow": false,
          "text": "0",
          "x": "metal",
          "xref": "x",
          "y": "classical",
          "yref": "y"
         },
         {
          "font": {
           "color": "#FFFFFF"
          },
          "showarrow": false,
          "text": "0",
          "x": "pop",
          "xref": "x",
          "y": "classical",
          "yref": "y"
         },
         {
          "font": {
           "color": "#FFFFFF"
          },
          "showarrow": false,
          "text": "0",
          "x": "reggae",
          "xref": "x",
          "y": "classical",
          "yref": "y"
         },
         {
          "font": {
           "color": "#FFFFFF"
          },
          "showarrow": false,
          "text": "0",
          "x": "rock",
          "xref": "x",
          "y": "classical",
          "yref": "y"
         },
         {
          "font": {
           "color": "#FFFFFF"
          },
          "showarrow": false,
          "text": "6",
          "x": "blues",
          "xref": "x",
          "y": "country",
          "yref": "y"
         },
         {
          "font": {
           "color": "#FFFFFF"
          },
          "showarrow": false,
          "text": "1",
          "x": "classical",
          "xref": "x",
          "y": "country",
          "yref": "y"
         },
         {
          "font": {
           "color": "#000000"
          },
          "showarrow": false,
          "text": "207",
          "x": "country",
          "xref": "x",
          "y": "country",
          "yref": "y"
         },
         {
          "font": {
           "color": "#FFFFFF"
          },
          "showarrow": false,
          "text": "5",
          "x": "disco",
          "xref": "x",
          "y": "country",
          "yref": "y"
         },
         {
          "font": {
           "color": "#FFFFFF"
          },
          "showarrow": false,
          "text": "0",
          "x": "hiphop",
          "xref": "x",
          "y": "country",
          "yref": "y"
         },
         {
          "font": {
           "color": "#FFFFFF"
          },
          "showarrow": false,
          "text": "5",
          "x": "jazz",
          "xref": "x",
          "y": "country",
          "yref": "y"
         },
         {
          "font": {
           "color": "#FFFFFF"
          },
          "showarrow": false,
          "text": "0",
          "x": "metal",
          "xref": "x",
          "y": "country",
          "yref": "y"
         },
         {
          "font": {
           "color": "#FFFFFF"
          },
          "showarrow": false,
          "text": "1",
          "x": "pop",
          "xref": "x",
          "y": "country",
          "yref": "y"
         },
         {
          "font": {
           "color": "#FFFFFF"
          },
          "showarrow": false,
          "text": "11",
          "x": "reggae",
          "xref": "x",
          "y": "country",
          "yref": "y"
         },
         {
          "font": {
           "color": "#FFFFFF"
          },
          "showarrow": false,
          "text": "3",
          "x": "rock",
          "xref": "x",
          "y": "country",
          "yref": "y"
         },
         {
          "font": {
           "color": "#FFFFFF"
          },
          "showarrow": false,
          "text": "0",
          "x": "blues",
          "xref": "x",
          "y": "disco",
          "yref": "y"
         },
         {
          "font": {
           "color": "#FFFFFF"
          },
          "showarrow": false,
          "text": "2",
          "x": "classical",
          "xref": "x",
          "y": "disco",
          "yref": "y"
         },
         {
          "font": {
           "color": "#FFFFFF"
          },
          "showarrow": false,
          "text": "0",
          "x": "country",
          "xref": "x",
          "y": "disco",
          "yref": "y"
         },
         {
          "font": {
           "color": "#000000"
          },
          "showarrow": false,
          "text": "224",
          "x": "disco",
          "xref": "x",
          "y": "disco",
          "yref": "y"
         },
         {
          "font": {
           "color": "#FFFFFF"
          },
          "showarrow": false,
          "text": "3",
          "x": "hiphop",
          "xref": "x",
          "y": "disco",
          "yref": "y"
         },
         {
          "font": {
           "color": "#FFFFFF"
          },
          "showarrow": false,
          "text": "2",
          "x": "jazz",
          "xref": "x",
          "y": "disco",
          "yref": "y"
         },
         {
          "font": {
           "color": "#FFFFFF"
          },
          "showarrow": false,
          "text": "3",
          "x": "metal",
          "xref": "x",
          "y": "disco",
          "yref": "y"
         },
         {
          "font": {
           "color": "#FFFFFF"
          },
          "showarrow": false,
          "text": "3",
          "x": "pop",
          "xref": "x",
          "y": "disco",
          "yref": "y"
         },
         {
          "font": {
           "color": "#FFFFFF"
          },
          "showarrow": false,
          "text": "3",
          "x": "reggae",
          "xref": "x",
          "y": "disco",
          "yref": "y"
         },
         {
          "font": {
           "color": "#FFFFFF"
          },
          "showarrow": false,
          "text": "5",
          "x": "rock",
          "xref": "x",
          "y": "disco",
          "yref": "y"
         },
         {
          "font": {
           "color": "#FFFFFF"
          },
          "showarrow": false,
          "text": "1",
          "x": "blues",
          "xref": "x",
          "y": "hiphop",
          "yref": "y"
         },
         {
          "font": {
           "color": "#FFFFFF"
          },
          "showarrow": false,
          "text": "0",
          "x": "classical",
          "xref": "x",
          "y": "hiphop",
          "yref": "y"
         },
         {
          "font": {
           "color": "#FFFFFF"
          },
          "showarrow": false,
          "text": "5",
          "x": "country",
          "xref": "x",
          "y": "hiphop",
          "yref": "y"
         },
         {
          "font": {
           "color": "#FFFFFF"
          },
          "showarrow": false,
          "text": "4",
          "x": "disco",
          "xref": "x",
          "y": "hiphop",
          "yref": "y"
         },
         {
          "font": {
           "color": "#000000"
          },
          "showarrow": false,
          "text": "226",
          "x": "hiphop",
          "xref": "x",
          "y": "hiphop",
          "yref": "y"
         },
         {
          "font": {
           "color": "#FFFFFF"
          },
          "showarrow": false,
          "text": "1",
          "x": "jazz",
          "xref": "x",
          "y": "hiphop",
          "yref": "y"
         },
         {
          "font": {
           "color": "#FFFFFF"
          },
          "showarrow": false,
          "text": "7",
          "x": "metal",
          "xref": "x",
          "y": "hiphop",
          "yref": "y"
         },
         {
          "font": {
           "color": "#FFFFFF"
          },
          "showarrow": false,
          "text": "6",
          "x": "pop",
          "xref": "x",
          "y": "hiphop",
          "yref": "y"
         },
         {
          "font": {
           "color": "#FFFFFF"
          },
          "showarrow": false,
          "text": "3",
          "x": "reggae",
          "xref": "x",
          "y": "hiphop",
          "yref": "y"
         },
         {
          "font": {
           "color": "#FFFFFF"
          },
          "showarrow": false,
          "text": "1",
          "x": "rock",
          "xref": "x",
          "y": "hiphop",
          "yref": "y"
         },
         {
          "font": {
           "color": "#FFFFFF"
          },
          "showarrow": false,
          "text": "4",
          "x": "blues",
          "xref": "x",
          "y": "jazz",
          "yref": "y"
         },
         {
          "font": {
           "color": "#FFFFFF"
          },
          "showarrow": false,
          "text": "10",
          "x": "classical",
          "xref": "x",
          "y": "jazz",
          "yref": "y"
         },
         {
          "font": {
           "color": "#FFFFFF"
          },
          "showarrow": false,
          "text": "4",
          "x": "country",
          "xref": "x",
          "y": "jazz",
          "yref": "y"
         },
         {
          "font": {
           "color": "#FFFFFF"
          },
          "showarrow": false,
          "text": "0",
          "x": "disco",
          "xref": "x",
          "y": "jazz",
          "yref": "y"
         },
         {
          "font": {
           "color": "#FFFFFF"
          },
          "showarrow": false,
          "text": "0",
          "x": "hiphop",
          "xref": "x",
          "y": "jazz",
          "yref": "y"
         },
         {
          "font": {
           "color": "#000000"
          },
          "showarrow": false,
          "text": "225",
          "x": "jazz",
          "xref": "x",
          "y": "jazz",
          "yref": "y"
         },
         {
          "font": {
           "color": "#FFFFFF"
          },
          "showarrow": false,
          "text": "1",
          "x": "metal",
          "xref": "x",
          "y": "jazz",
          "yref": "y"
         },
         {
          "font": {
           "color": "#FFFFFF"
          },
          "showarrow": false,
          "text": "1",
          "x": "pop",
          "xref": "x",
          "y": "jazz",
          "yref": "y"
         },
         {
          "font": {
           "color": "#FFFFFF"
          },
          "showarrow": false,
          "text": "0",
          "x": "reggae",
          "xref": "x",
          "y": "jazz",
          "yref": "y"
         },
         {
          "font": {
           "color": "#FFFFFF"
          },
          "showarrow": false,
          "text": "0",
          "x": "rock",
          "xref": "x",
          "y": "jazz",
          "yref": "y"
         },
         {
          "font": {
           "color": "#FFFFFF"
          },
          "showarrow": false,
          "text": "1",
          "x": "blues",
          "xref": "x",
          "y": "metal",
          "yref": "y"
         },
         {
          "font": {
           "color": "#FFFFFF"
          },
          "showarrow": false,
          "text": "0",
          "x": "classical",
          "xref": "x",
          "y": "metal",
          "yref": "y"
         },
         {
          "font": {
           "color": "#FFFFFF"
          },
          "showarrow": false,
          "text": "3",
          "x": "country",
          "xref": "x",
          "y": "metal",
          "yref": "y"
         },
         {
          "font": {
           "color": "#FFFFFF"
          },
          "showarrow": false,
          "text": "3",
          "x": "disco",
          "xref": "x",
          "y": "metal",
          "yref": "y"
         },
         {
          "font": {
           "color": "#FFFFFF"
          },
          "showarrow": false,
          "text": "0",
          "x": "hiphop",
          "xref": "x",
          "y": "metal",
          "yref": "y"
         },
         {
          "font": {
           "color": "#FFFFFF"
          },
          "showarrow": false,
          "text": "0",
          "x": "jazz",
          "xref": "x",
          "y": "metal",
          "yref": "y"
         },
         {
          "font": {
           "color": "#000000"
          },
          "showarrow": false,
          "text": "232",
          "x": "metal",
          "xref": "x",
          "y": "metal",
          "yref": "y"
         },
         {
          "font": {
           "color": "#FFFFFF"
          },
          "showarrow": false,
          "text": "0",
          "x": "pop",
          "xref": "x",
          "y": "metal",
          "yref": "y"
         },
         {
          "font": {
           "color": "#FFFFFF"
          },
          "showarrow": false,
          "text": "1",
          "x": "reggae",
          "xref": "x",
          "y": "metal",
          "yref": "y"
         },
         {
          "font": {
           "color": "#FFFFFF"
          },
          "showarrow": false,
          "text": "6",
          "x": "rock",
          "xref": "x",
          "y": "metal",
          "yref": "y"
         },
         {
          "font": {
           "color": "#FFFFFF"
          },
          "showarrow": false,
          "text": "0",
          "x": "blues",
          "xref": "x",
          "y": "pop",
          "yref": "y"
         },
         {
          "font": {
           "color": "#FFFFFF"
          },
          "showarrow": false,
          "text": "0",
          "x": "classical",
          "xref": "x",
          "y": "pop",
          "yref": "y"
         },
         {
          "font": {
           "color": "#FFFFFF"
          },
          "showarrow": false,
          "text": "6",
          "x": "country",
          "xref": "x",
          "y": "pop",
          "yref": "y"
         },
         {
          "font": {
           "color": "#FFFFFF"
          },
          "showarrow": false,
          "text": "3",
          "x": "disco",
          "xref": "x",
          "y": "pop",
          "yref": "y"
         },
         {
          "font": {
           "color": "#FFFFFF"
          },
          "showarrow": false,
          "text": "0",
          "x": "hiphop",
          "xref": "x",
          "y": "pop",
          "yref": "y"
         },
         {
          "font": {
           "color": "#FFFFFF"
          },
          "showarrow": false,
          "text": "2",
          "x": "jazz",
          "xref": "x",
          "y": "pop",
          "yref": "y"
         },
         {
          "font": {
           "color": "#FFFFFF"
          },
          "showarrow": false,
          "text": "0",
          "x": "metal",
          "xref": "x",
          "y": "pop",
          "yref": "y"
         },
         {
          "font": {
           "color": "#000000"
          },
          "showarrow": false,
          "text": "214",
          "x": "pop",
          "xref": "x",
          "y": "pop",
          "yref": "y"
         },
         {
          "font": {
           "color": "#FFFFFF"
          },
          "showarrow": false,
          "text": "4",
          "x": "reggae",
          "xref": "x",
          "y": "pop",
          "yref": "y"
         },
         {
          "font": {
           "color": "#FFFFFF"
          },
          "showarrow": false,
          "text": "1",
          "x": "rock",
          "xref": "x",
          "y": "pop",
          "yref": "y"
         },
         {
          "font": {
           "color": "#FFFFFF"
          },
          "showarrow": false,
          "text": "0",
          "x": "blues",
          "xref": "x",
          "y": "reggae",
          "yref": "y"
         },
         {
          "font": {
           "color": "#FFFFFF"
          },
          "showarrow": false,
          "text": "1",
          "x": "classical",
          "xref": "x",
          "y": "reggae",
          "yref": "y"
         },
         {
          "font": {
           "color": "#FFFFFF"
          },
          "showarrow": false,
          "text": "6",
          "x": "country",
          "xref": "x",
          "y": "reggae",
          "yref": "y"
         },
         {
          "font": {
           "color": "#FFFFFF"
          },
          "showarrow": false,
          "text": "3",
          "x": "disco",
          "xref": "x",
          "y": "reggae",
          "yref": "y"
         },
         {
          "font": {
           "color": "#FFFFFF"
          },
          "showarrow": false,
          "text": "3",
          "x": "hiphop",
          "xref": "x",
          "y": "reggae",
          "yref": "y"
         },
         {
          "font": {
           "color": "#FFFFFF"
          },
          "showarrow": false,
          "text": "2",
          "x": "jazz",
          "xref": "x",
          "y": "reggae",
          "yref": "y"
         },
         {
          "font": {
           "color": "#FFFFFF"
          },
          "showarrow": false,
          "text": "1",
          "x": "metal",
          "xref": "x",
          "y": "reggae",
          "yref": "y"
         },
         {
          "font": {
           "color": "#FFFFFF"
          },
          "showarrow": false,
          "text": "7",
          "x": "pop",
          "xref": "x",
          "y": "reggae",
          "yref": "y"
         },
         {
          "font": {
           "color": "#000000"
          },
          "showarrow": false,
          "text": "225",
          "x": "reggae",
          "xref": "x",
          "y": "reggae",
          "yref": "y"
         },
         {
          "font": {
           "color": "#FFFFFF"
          },
          "showarrow": false,
          "text": "2",
          "x": "rock",
          "xref": "x",
          "y": "reggae",
          "yref": "y"
         },
         {
          "font": {
           "color": "#FFFFFF"
          },
          "showarrow": false,
          "text": "1",
          "x": "blues",
          "xref": "x",
          "y": "rock",
          "yref": "y"
         },
         {
          "font": {
           "color": "#FFFFFF"
          },
          "showarrow": false,
          "text": "1",
          "x": "classical",
          "xref": "x",
          "y": "rock",
          "yref": "y"
         },
         {
          "font": {
           "color": "#FFFFFF"
          },
          "showarrow": false,
          "text": "18",
          "x": "country",
          "xref": "x",
          "y": "rock",
          "yref": "y"
         },
         {
          "font": {
           "color": "#FFFFFF"
          },
          "showarrow": false,
          "text": "9",
          "x": "disco",
          "xref": "x",
          "y": "rock",
          "yref": "y"
         },
         {
          "font": {
           "color": "#FFFFFF"
          },
          "showarrow": false,
          "text": "0",
          "x": "hiphop",
          "xref": "x",
          "y": "rock",
          "yref": "y"
         },
         {
          "font": {
           "color": "#FFFFFF"
          },
          "showarrow": false,
          "text": "4",
          "x": "jazz",
          "xref": "x",
          "y": "rock",
          "yref": "y"
         },
         {
          "font": {
           "color": "#FFFFFF"
          },
          "showarrow": false,
          "text": "8",
          "x": "metal",
          "xref": "x",
          "y": "rock",
          "yref": "y"
         },
         {
          "font": {
           "color": "#FFFFFF"
          },
          "showarrow": false,
          "text": "2",
          "x": "pop",
          "xref": "x",
          "y": "rock",
          "yref": "y"
         },
         {
          "font": {
           "color": "#FFFFFF"
          },
          "showarrow": false,
          "text": "6",
          "x": "reggae",
          "xref": "x",
          "y": "rock",
          "yref": "y"
         },
         {
          "font": {
           "color": "#000000"
          },
          "showarrow": false,
          "text": "195",
          "x": "rock",
          "xref": "x",
          "y": "rock",
          "yref": "y"
         }
        ],
        "template": {
         "data": {
          "bar": [
           {
            "error_x": {
             "color": "#2a3f5f"
            },
            "error_y": {
             "color": "#2a3f5f"
            },
            "marker": {
             "line": {
              "color": "#E5ECF6",
              "width": 0.5
             },
             "pattern": {
              "fillmode": "overlay",
              "size": 10,
              "solidity": 0.2
             }
            },
            "type": "bar"
           }
          ],
          "barpolar": [
           {
            "marker": {
             "line": {
              "color": "#E5ECF6",
              "width": 0.5
             },
             "pattern": {
              "fillmode": "overlay",
              "size": 10,
              "solidity": 0.2
             }
            },
            "type": "barpolar"
           }
          ],
          "carpet": [
           {
            "aaxis": {
             "endlinecolor": "#2a3f5f",
             "gridcolor": "white",
             "linecolor": "white",
             "minorgridcolor": "white",
             "startlinecolor": "#2a3f5f"
            },
            "baxis": {
             "endlinecolor": "#2a3f5f",
             "gridcolor": "white",
             "linecolor": "white",
             "minorgridcolor": "white",
             "startlinecolor": "#2a3f5f"
            },
            "type": "carpet"
           }
          ],
          "choropleth": [
           {
            "colorbar": {
             "outlinewidth": 0,
             "ticks": ""
            },
            "type": "choropleth"
           }
          ],
          "contour": [
           {
            "colorbar": {
             "outlinewidth": 0,
             "ticks": ""
            },
            "colorscale": [
             [
              0,
              "#0d0887"
             ],
             [
              0.1111111111111111,
              "#46039f"
             ],
             [
              0.2222222222222222,
              "#7201a8"
             ],
             [
              0.3333333333333333,
              "#9c179e"
             ],
             [
              0.4444444444444444,
              "#bd3786"
             ],
             [
              0.5555555555555556,
              "#d8576b"
             ],
             [
              0.6666666666666666,
              "#ed7953"
             ],
             [
              0.7777777777777778,
              "#fb9f3a"
             ],
             [
              0.8888888888888888,
              "#fdca26"
             ],
             [
              1,
              "#f0f921"
             ]
            ],
            "type": "contour"
           }
          ],
          "contourcarpet": [
           {
            "colorbar": {
             "outlinewidth": 0,
             "ticks": ""
            },
            "type": "contourcarpet"
           }
          ],
          "heatmap": [
           {
            "colorbar": {
             "outlinewidth": 0,
             "ticks": ""
            },
            "colorscale": [
             [
              0,
              "#0d0887"
             ],
             [
              0.1111111111111111,
              "#46039f"
             ],
             [
              0.2222222222222222,
              "#7201a8"
             ],
             [
              0.3333333333333333,
              "#9c179e"
             ],
             [
              0.4444444444444444,
              "#bd3786"
             ],
             [
              0.5555555555555556,
              "#d8576b"
             ],
             [
              0.6666666666666666,
              "#ed7953"
             ],
             [
              0.7777777777777778,
              "#fb9f3a"
             ],
             [
              0.8888888888888888,
              "#fdca26"
             ],
             [
              1,
              "#f0f921"
             ]
            ],
            "type": "heatmap"
           }
          ],
          "heatmapgl": [
           {
            "colorbar": {
             "outlinewidth": 0,
             "ticks": ""
            },
            "colorscale": [
             [
              0,
              "#0d0887"
             ],
             [
              0.1111111111111111,
              "#46039f"
             ],
             [
              0.2222222222222222,
              "#7201a8"
             ],
             [
              0.3333333333333333,
              "#9c179e"
             ],
             [
              0.4444444444444444,
              "#bd3786"
             ],
             [
              0.5555555555555556,
              "#d8576b"
             ],
             [
              0.6666666666666666,
              "#ed7953"
             ],
             [
              0.7777777777777778,
              "#fb9f3a"
             ],
             [
              0.8888888888888888,
              "#fdca26"
             ],
             [
              1,
              "#f0f921"
             ]
            ],
            "type": "heatmapgl"
           }
          ],
          "histogram": [
           {
            "marker": {
             "pattern": {
              "fillmode": "overlay",
              "size": 10,
              "solidity": 0.2
             }
            },
            "type": "histogram"
           }
          ],
          "histogram2d": [
           {
            "colorbar": {
             "outlinewidth": 0,
             "ticks": ""
            },
            "colorscale": [
             [
              0,
              "#0d0887"
             ],
             [
              0.1111111111111111,
              "#46039f"
             ],
             [
              0.2222222222222222,
              "#7201a8"
             ],
             [
              0.3333333333333333,
              "#9c179e"
             ],
             [
              0.4444444444444444,
              "#bd3786"
             ],
             [
              0.5555555555555556,
              "#d8576b"
             ],
             [
              0.6666666666666666,
              "#ed7953"
             ],
             [
              0.7777777777777778,
              "#fb9f3a"
             ],
             [
              0.8888888888888888,
              "#fdca26"
             ],
             [
              1,
              "#f0f921"
             ]
            ],
            "type": "histogram2d"
           }
          ],
          "histogram2dcontour": [
           {
            "colorbar": {
             "outlinewidth": 0,
             "ticks": ""
            },
            "colorscale": [
             [
              0,
              "#0d0887"
             ],
             [
              0.1111111111111111,
              "#46039f"
             ],
             [
              0.2222222222222222,
              "#7201a8"
             ],
             [
              0.3333333333333333,
              "#9c179e"
             ],
             [
              0.4444444444444444,
              "#bd3786"
             ],
             [
              0.5555555555555556,
              "#d8576b"
             ],
             [
              0.6666666666666666,
              "#ed7953"
             ],
             [
              0.7777777777777778,
              "#fb9f3a"
             ],
             [
              0.8888888888888888,
              "#fdca26"
             ],
             [
              1,
              "#f0f921"
             ]
            ],
            "type": "histogram2dcontour"
           }
          ],
          "mesh3d": [
           {
            "colorbar": {
             "outlinewidth": 0,
             "ticks": ""
            },
            "type": "mesh3d"
           }
          ],
          "parcoords": [
           {
            "line": {
             "colorbar": {
              "outlinewidth": 0,
              "ticks": ""
             }
            },
            "type": "parcoords"
           }
          ],
          "pie": [
           {
            "automargin": true,
            "type": "pie"
           }
          ],
          "scatter": [
           {
            "marker": {
             "colorbar": {
              "outlinewidth": 0,
              "ticks": ""
             }
            },
            "type": "scatter"
           }
          ],
          "scatter3d": [
           {
            "line": {
             "colorbar": {
              "outlinewidth": 0,
              "ticks": ""
             }
            },
            "marker": {
             "colorbar": {
              "outlinewidth": 0,
              "ticks": ""
             }
            },
            "type": "scatter3d"
           }
          ],
          "scattercarpet": [
           {
            "marker": {
             "colorbar": {
              "outlinewidth": 0,
              "ticks": ""
             }
            },
            "type": "scattercarpet"
           }
          ],
          "scattergeo": [
           {
            "marker": {
             "colorbar": {
              "outlinewidth": 0,
              "ticks": ""
             }
            },
            "type": "scattergeo"
           }
          ],
          "scattergl": [
           {
            "marker": {
             "colorbar": {
              "outlinewidth": 0,
              "ticks": ""
             }
            },
            "type": "scattergl"
           }
          ],
          "scattermapbox": [
           {
            "marker": {
             "colorbar": {
              "outlinewidth": 0,
              "ticks": ""
             }
            },
            "type": "scattermapbox"
           }
          ],
          "scatterpolar": [
           {
            "marker": {
             "colorbar": {
              "outlinewidth": 0,
              "ticks": ""
             }
            },
            "type": "scatterpolar"
           }
          ],
          "scatterpolargl": [
           {
            "marker": {
             "colorbar": {
              "outlinewidth": 0,
              "ticks": ""
             }
            },
            "type": "scatterpolargl"
           }
          ],
          "scatterternary": [
           {
            "marker": {
             "colorbar": {
              "outlinewidth": 0,
              "ticks": ""
             }
            },
            "type": "scatterternary"
           }
          ],
          "surface": [
           {
            "colorbar": {
             "outlinewidth": 0,
             "ticks": ""
            },
            "colorscale": [
             [
              0,
              "#0d0887"
             ],
             [
              0.1111111111111111,
              "#46039f"
             ],
             [
              0.2222222222222222,
              "#7201a8"
             ],
             [
              0.3333333333333333,
              "#9c179e"
             ],
             [
              0.4444444444444444,
              "#bd3786"
             ],
             [
              0.5555555555555556,
              "#d8576b"
             ],
             [
              0.6666666666666666,
              "#ed7953"
             ],
             [
              0.7777777777777778,
              "#fb9f3a"
             ],
             [
              0.8888888888888888,
              "#fdca26"
             ],
             [
              1,
              "#f0f921"
             ]
            ],
            "type": "surface"
           }
          ],
          "table": [
           {
            "cells": {
             "fill": {
              "color": "#EBF0F8"
             },
             "line": {
              "color": "white"
             }
            },
            "header": {
             "fill": {
              "color": "#C8D4E3"
             },
             "line": {
              "color": "white"
             }
            },
            "type": "table"
           }
          ]
         },
         "layout": {
          "annotationdefaults": {
           "arrowcolor": "#2a3f5f",
           "arrowhead": 0,
           "arrowwidth": 1
          },
          "autotypenumbers": "strict",
          "coloraxis": {
           "colorbar": {
            "outlinewidth": 0,
            "ticks": ""
           }
          },
          "colorscale": {
           "diverging": [
            [
             0,
             "#8e0152"
            ],
            [
             0.1,
             "#c51b7d"
            ],
            [
             0.2,
             "#de77ae"
            ],
            [
             0.3,
             "#f1b6da"
            ],
            [
             0.4,
             "#fde0ef"
            ],
            [
             0.5,
             "#f7f7f7"
            ],
            [
             0.6,
             "#e6f5d0"
            ],
            [
             0.7,
             "#b8e186"
            ],
            [
             0.8,
             "#7fbc41"
            ],
            [
             0.9,
             "#4d9221"
            ],
            [
             1,
             "#276419"
            ]
           ],
           "sequential": [
            [
             0,
             "#0d0887"
            ],
            [
             0.1111111111111111,
             "#46039f"
            ],
            [
             0.2222222222222222,
             "#7201a8"
            ],
            [
             0.3333333333333333,
             "#9c179e"
            ],
            [
             0.4444444444444444,
             "#bd3786"
            ],
            [
             0.5555555555555556,
             "#d8576b"
            ],
            [
             0.6666666666666666,
             "#ed7953"
            ],
            [
             0.7777777777777778,
             "#fb9f3a"
            ],
            [
             0.8888888888888888,
             "#fdca26"
            ],
            [
             1,
             "#f0f921"
            ]
           ],
           "sequentialminus": [
            [
             0,
             "#0d0887"
            ],
            [
             0.1111111111111111,
             "#46039f"
            ],
            [
             0.2222222222222222,
             "#7201a8"
            ],
            [
             0.3333333333333333,
             "#9c179e"
            ],
            [
             0.4444444444444444,
             "#bd3786"
            ],
            [
             0.5555555555555556,
             "#d8576b"
            ],
            [
             0.6666666666666666,
             "#ed7953"
            ],
            [
             0.7777777777777778,
             "#fb9f3a"
            ],
            [
             0.8888888888888888,
             "#fdca26"
            ],
            [
             1,
             "#f0f921"
            ]
           ]
          },
          "colorway": [
           "#636efa",
           "#EF553B",
           "#00cc96",
           "#ab63fa",
           "#FFA15A",
           "#19d3f3",
           "#FF6692",
           "#B6E880",
           "#FF97FF",
           "#FECB52"
          ],
          "font": {
           "color": "#2a3f5f"
          },
          "geo": {
           "bgcolor": "white",
           "lakecolor": "white",
           "landcolor": "#E5ECF6",
           "showlakes": true,
           "showland": true,
           "subunitcolor": "white"
          },
          "hoverlabel": {
           "align": "left"
          },
          "hovermode": "closest",
          "mapbox": {
           "style": "light"
          },
          "paper_bgcolor": "white",
          "plot_bgcolor": "#E5ECF6",
          "polar": {
           "angularaxis": {
            "gridcolor": "white",
            "linecolor": "white",
            "ticks": ""
           },
           "bgcolor": "#E5ECF6",
           "radialaxis": {
            "gridcolor": "white",
            "linecolor": "white",
            "ticks": ""
           }
          },
          "scene": {
           "xaxis": {
            "backgroundcolor": "#E5ECF6",
            "gridcolor": "white",
            "gridwidth": 2,
            "linecolor": "white",
            "showbackground": true,
            "ticks": "",
            "zerolinecolor": "white"
           },
           "yaxis": {
            "backgroundcolor": "#E5ECF6",
            "gridcolor": "white",
            "gridwidth": 2,
            "linecolor": "white",
            "showbackground": true,
            "ticks": "",
            "zerolinecolor": "white"
           },
           "zaxis": {
            "backgroundcolor": "#E5ECF6",
            "gridcolor": "white",
            "gridwidth": 2,
            "linecolor": "white",
            "showbackground": true,
            "ticks": "",
            "zerolinecolor": "white"
           }
          },
          "shapedefaults": {
           "line": {
            "color": "#2a3f5f"
           }
          },
          "ternary": {
           "aaxis": {
            "gridcolor": "white",
            "linecolor": "white",
            "ticks": ""
           },
           "baxis": {
            "gridcolor": "white",
            "linecolor": "white",
            "ticks": ""
           },
           "bgcolor": "#E5ECF6",
           "caxis": {
            "gridcolor": "white",
            "linecolor": "white",
            "ticks": ""
           }
          },
          "title": {
           "x": 0.05
          },
          "xaxis": {
           "automargin": true,
           "gridcolor": "white",
           "linecolor": "white",
           "ticks": "",
           "title": {
            "standoff": 15
           },
           "zerolinecolor": "white",
           "zerolinewidth": 2
          },
          "yaxis": {
           "automargin": true,
           "gridcolor": "white",
           "linecolor": "white",
           "ticks": "",
           "title": {
            "standoff": 15
           },
           "zerolinecolor": "white",
           "zerolinewidth": 2
          }
         }
        },
        "xaxis": {
         "dtick": 1,
         "gridcolor": "rgb(0, 0, 0)",
         "side": "top",
         "ticks": ""
        },
        "yaxis": {
         "autorange": "reversed",
         "dtick": 1,
         "ticks": "",
         "ticksuffix": "  "
        }
       }
      }
     },
     "metadata": {},
     "output_type": "display_data"
    }
   ],
   "source": [
    "columns = list(MUSIC_GENRES.values())\n",
    "fig = ff.create_annotated_heatmap(confusion_matrix(y_test_filtered, y_pred), x=columns, y=columns, colorscale='viridis')\n",
    "fig['layout']['yaxis']['autorange'] = \"reversed\"\n",
    "#fig.write_html('../data/plots/knn_confusion_matrix.html')\n",
    "fig.show()"
   ]
  },
  {
   "cell_type": "code",
   "execution_count": 192,
   "metadata": {},
   "outputs": [
    {
     "name": "stdout",
     "output_type": "stream",
     "text": [
      "Score de entrenamiento: \n",
      "0.9991865509761388\n",
      "Precisión:  0.8701028267991554  - Recall:  0.8678324522163481  - f1:  0.8677262714426013\n"
     ]
    }
   ],
   "source": [
    "model = RandomForestClassifier().fit(x_train_filtered,y_train_filtered)\n",
    "\n",
    "train_score = model.score(x_train_filtered,y_train_filtered)\n",
    "\n",
    "print('Score de entrenamiento: ')\n",
    "print(train_score)\n",
    "\n",
    "y_pred = model.predict(x_test_filtered)\n",
    "precision, recall, fscore, _ = precision_recall_fscore_support(y_test_filtered, y_pred, average='weighted')\n",
    "print('Precisión: ', precision, ' - Recall: ', recall, ' - f1: ', fscore)\n",
    "######\n",
    "modelo_list.append('Random Forest')\n",
    "escenario_list.append('Outliers filtrados')\n",
    "train_score_list.append(train_score)\n",
    "precision_list.append(precision)\n",
    "recall_list.append(recall)\n",
    "fscore_list.append(fscore)\n",
    "test_score = model.score(x_test_filtered,y_test_filtered)\n",
    "test_score_list.append(test_score)"
   ]
  },
  {
   "cell_type": "code",
   "execution_count": 193,
   "metadata": {},
   "outputs": [
    {
     "data": {
      "application/vnd.plotly.v1+json": {
       "config": {
        "plotlyServerURL": "https://plot.ly"
       },
       "data": [
        {
         "colorscale": [
          [
           0,
           "#440154"
          ],
          [
           0.1111111111111111,
           "#482878"
          ],
          [
           0.2222222222222222,
           "#3e4989"
          ],
          [
           0.3333333333333333,
           "#31688e"
          ],
          [
           0.4444444444444444,
           "#26828e"
          ],
          [
           0.5555555555555556,
           "#1f9e89"
          ],
          [
           0.6666666666666666,
           "#35b779"
          ],
          [
           0.7777777777777778,
           "#6ece58"
          ],
          [
           0.8888888888888888,
           "#b5de2b"
          ],
          [
           1,
           "#fde725"
          ]
         ],
         "reversescale": false,
         "showscale": false,
         "type": "heatmap",
         "x": [
          "blues",
          "classical",
          "country",
          "disco",
          "hiphop",
          "jazz",
          "metal",
          "pop",
          "reggae",
          "rock"
         ],
         "y": [
          "blues",
          "classical",
          "country",
          "disco",
          "hiphop",
          "jazz",
          "metal",
          "pop",
          "reggae",
          "rock"
         ],
         "z": [
          [
           221,
           3,
           11,
           3,
           3,
           3,
           7,
           0,
           2,
           4
          ],
          [
           0,
           240,
           1,
           0,
           0,
           8,
           0,
           0,
           0,
           0
          ],
          [
           7,
           0,
           197,
           5,
           0,
           11,
           0,
           3,
           10,
           6
          ],
          [
           0,
           3,
           5,
           214,
           6,
           2,
           5,
           4,
           2,
           4
          ],
          [
           3,
           0,
           6,
           2,
           219,
           1,
           8,
           10,
           4,
           1
          ],
          [
           3,
           11,
           6,
           0,
           0,
           225,
           0,
           0,
           0,
           0
          ],
          [
           0,
           0,
           3,
           5,
           1,
           2,
           225,
           0,
           2,
           8
          ],
          [
           0,
           0,
           9,
           5,
           5,
           4,
           0,
           199,
           4,
           4
          ],
          [
           1,
           1,
           9,
           3,
           6,
           5,
           0,
           6,
           216,
           3
          ],
          [
           4,
           1,
           23,
           10,
           0,
           7,
           11,
           2,
           8,
           178
          ]
         ]
        }
       ],
       "layout": {
        "annotations": [
         {
          "font": {
           "color": "#000000"
          },
          "showarrow": false,
          "text": "221",
          "x": "blues",
          "xref": "x",
          "y": "blues",
          "yref": "y"
         },
         {
          "font": {
           "color": "#FFFFFF"
          },
          "showarrow": false,
          "text": "3",
          "x": "classical",
          "xref": "x",
          "y": "blues",
          "yref": "y"
         },
         {
          "font": {
           "color": "#FFFFFF"
          },
          "showarrow": false,
          "text": "11",
          "x": "country",
          "xref": "x",
          "y": "blues",
          "yref": "y"
         },
         {
          "font": {
           "color": "#FFFFFF"
          },
          "showarrow": false,
          "text": "3",
          "x": "disco",
          "xref": "x",
          "y": "blues",
          "yref": "y"
         },
         {
          "font": {
           "color": "#FFFFFF"
          },
          "showarrow": false,
          "text": "3",
          "x": "hiphop",
          "xref": "x",
          "y": "blues",
          "yref": "y"
         },
         {
          "font": {
           "color": "#FFFFFF"
          },
          "showarrow": false,
          "text": "3",
          "x": "jazz",
          "xref": "x",
          "y": "blues",
          "yref": "y"
         },
         {
          "font": {
           "color": "#FFFFFF"
          },
          "showarrow": false,
          "text": "7",
          "x": "metal",
          "xref": "x",
          "y": "blues",
          "yref": "y"
         },
         {
          "font": {
           "color": "#FFFFFF"
          },
          "showarrow": false,
          "text": "0",
          "x": "pop",
          "xref": "x",
          "y": "blues",
          "yref": "y"
         },
         {
          "font": {
           "color": "#FFFFFF"
          },
          "showarrow": false,
          "text": "2",
          "x": "reggae",
          "xref": "x",
          "y": "blues",
          "yref": "y"
         },
         {
          "font": {
           "color": "#FFFFFF"
          },
          "showarrow": false,
          "text": "4",
          "x": "rock",
          "xref": "x",
          "y": "blues",
          "yref": "y"
         },
         {
          "font": {
           "color": "#FFFFFF"
          },
          "showarrow": false,
          "text": "0",
          "x": "blues",
          "xref": "x",
          "y": "classical",
          "yref": "y"
         },
         {
          "font": {
           "color": "#000000"
          },
          "showarrow": false,
          "text": "240",
          "x": "classical",
          "xref": "x",
          "y": "classical",
          "yref": "y"
         },
         {
          "font": {
           "color": "#FFFFFF"
          },
          "showarrow": false,
          "text": "1",
          "x": "country",
          "xref": "x",
          "y": "classical",
          "yref": "y"
         },
         {
          "font": {
           "color": "#FFFFFF"
          },
          "showarrow": false,
          "text": "0",
          "x": "disco",
          "xref": "x",
          "y": "classical",
          "yref": "y"
         },
         {
          "font": {
           "color": "#FFFFFF"
          },
          "showarrow": false,
          "text": "0",
          "x": "hiphop",
          "xref": "x",
          "y": "classical",
          "yref": "y"
         },
         {
          "font": {
           "color": "#FFFFFF"
          },
          "showarrow": false,
          "text": "8",
          "x": "jazz",
          "xref": "x",
          "y": "classical",
          "yref": "y"
         },
         {
          "font": {
           "color": "#FFFFFF"
          },
          "showarrow": false,
          "text": "0",
          "x": "metal",
          "xref": "x",
          "y": "classical",
          "yref": "y"
         },
         {
          "font": {
           "color": "#FFFFFF"
          },
          "showarrow": false,
          "text": "0",
          "x": "pop",
          "xref": "x",
          "y": "classical",
          "yref": "y"
         },
         {
          "font": {
           "color": "#FFFFFF"
          },
          "showarrow": false,
          "text": "0",
          "x": "reggae",
          "xref": "x",
          "y": "classical",
          "yref": "y"
         },
         {
          "font": {
           "color": "#FFFFFF"
          },
          "showarrow": false,
          "text": "0",
          "x": "rock",
          "xref": "x",
          "y": "classical",
          "yref": "y"
         },
         {
          "font": {
           "color": "#FFFFFF"
          },
          "showarrow": false,
          "text": "7",
          "x": "blues",
          "xref": "x",
          "y": "country",
          "yref": "y"
         },
         {
          "font": {
           "color": "#FFFFFF"
          },
          "showarrow": false,
          "text": "0",
          "x": "classical",
          "xref": "x",
          "y": "country",
          "yref": "y"
         },
         {
          "font": {
           "color": "#000000"
          },
          "showarrow": false,
          "text": "197",
          "x": "country",
          "xref": "x",
          "y": "country",
          "yref": "y"
         },
         {
          "font": {
           "color": "#FFFFFF"
          },
          "showarrow": false,
          "text": "5",
          "x": "disco",
          "xref": "x",
          "y": "country",
          "yref": "y"
         },
         {
          "font": {
           "color": "#FFFFFF"
          },
          "showarrow": false,
          "text": "0",
          "x": "hiphop",
          "xref": "x",
          "y": "country",
          "yref": "y"
         },
         {
          "font": {
           "color": "#FFFFFF"
          },
          "showarrow": false,
          "text": "11",
          "x": "jazz",
          "xref": "x",
          "y": "country",
          "yref": "y"
         },
         {
          "font": {
           "color": "#FFFFFF"
          },
          "showarrow": false,
          "text": "0",
          "x": "metal",
          "xref": "x",
          "y": "country",
          "yref": "y"
         },
         {
          "font": {
           "color": "#FFFFFF"
          },
          "showarrow": false,
          "text": "3",
          "x": "pop",
          "xref": "x",
          "y": "country",
          "yref": "y"
         },
         {
          "font": {
           "color": "#FFFFFF"
          },
          "showarrow": false,
          "text": "10",
          "x": "reggae",
          "xref": "x",
          "y": "country",
          "yref": "y"
         },
         {
          "font": {
           "color": "#FFFFFF"
          },
          "showarrow": false,
          "text": "6",
          "x": "rock",
          "xref": "x",
          "y": "country",
          "yref": "y"
         },
         {
          "font": {
           "color": "#FFFFFF"
          },
          "showarrow": false,
          "text": "0",
          "x": "blues",
          "xref": "x",
          "y": "disco",
          "yref": "y"
         },
         {
          "font": {
           "color": "#FFFFFF"
          },
          "showarrow": false,
          "text": "3",
          "x": "classical",
          "xref": "x",
          "y": "disco",
          "yref": "y"
         },
         {
          "font": {
           "color": "#FFFFFF"
          },
          "showarrow": false,
          "text": "5",
          "x": "country",
          "xref": "x",
          "y": "disco",
          "yref": "y"
         },
         {
          "font": {
           "color": "#000000"
          },
          "showarrow": false,
          "text": "214",
          "x": "disco",
          "xref": "x",
          "y": "disco",
          "yref": "y"
         },
         {
          "font": {
           "color": "#FFFFFF"
          },
          "showarrow": false,
          "text": "6",
          "x": "hiphop",
          "xref": "x",
          "y": "disco",
          "yref": "y"
         },
         {
          "font": {
           "color": "#FFFFFF"
          },
          "showarrow": false,
          "text": "2",
          "x": "jazz",
          "xref": "x",
          "y": "disco",
          "yref": "y"
         },
         {
          "font": {
           "color": "#FFFFFF"
          },
          "showarrow": false,
          "text": "5",
          "x": "metal",
          "xref": "x",
          "y": "disco",
          "yref": "y"
         },
         {
          "font": {
           "color": "#FFFFFF"
          },
          "showarrow": false,
          "text": "4",
          "x": "pop",
          "xref": "x",
          "y": "disco",
          "yref": "y"
         },
         {
          "font": {
           "color": "#FFFFFF"
          },
          "showarrow": false,
          "text": "2",
          "x": "reggae",
          "xref": "x",
          "y": "disco",
          "yref": "y"
         },
         {
          "font": {
           "color": "#FFFFFF"
          },
          "showarrow": false,
          "text": "4",
          "x": "rock",
          "xref": "x",
          "y": "disco",
          "yref": "y"
         },
         {
          "font": {
           "color": "#FFFFFF"
          },
          "showarrow": false,
          "text": "3",
          "x": "blues",
          "xref": "x",
          "y": "hiphop",
          "yref": "y"
         },
         {
          "font": {
           "color": "#FFFFFF"
          },
          "showarrow": false,
          "text": "0",
          "x": "classical",
          "xref": "x",
          "y": "hiphop",
          "yref": "y"
         },
         {
          "font": {
           "color": "#FFFFFF"
          },
          "showarrow": false,
          "text": "6",
          "x": "country",
          "xref": "x",
          "y": "hiphop",
          "yref": "y"
         },
         {
          "font": {
           "color": "#FFFFFF"
          },
          "showarrow": false,
          "text": "2",
          "x": "disco",
          "xref": "x",
          "y": "hiphop",
          "yref": "y"
         },
         {
          "font": {
           "color": "#000000"
          },
          "showarrow": false,
          "text": "219",
          "x": "hiphop",
          "xref": "x",
          "y": "hiphop",
          "yref": "y"
         },
         {
          "font": {
           "color": "#FFFFFF"
          },
          "showarrow": false,
          "text": "1",
          "x": "jazz",
          "xref": "x",
          "y": "hiphop",
          "yref": "y"
         },
         {
          "font": {
           "color": "#FFFFFF"
          },
          "showarrow": false,
          "text": "8",
          "x": "metal",
          "xref": "x",
          "y": "hiphop",
          "yref": "y"
         },
         {
          "font": {
           "color": "#FFFFFF"
          },
          "showarrow": false,
          "text": "10",
          "x": "pop",
          "xref": "x",
          "y": "hiphop",
          "yref": "y"
         },
         {
          "font": {
           "color": "#FFFFFF"
          },
          "showarrow": false,
          "text": "4",
          "x": "reggae",
          "xref": "x",
          "y": "hiphop",
          "yref": "y"
         },
         {
          "font": {
           "color": "#FFFFFF"
          },
          "showarrow": false,
          "text": "1",
          "x": "rock",
          "xref": "x",
          "y": "hiphop",
          "yref": "y"
         },
         {
          "font": {
           "color": "#FFFFFF"
          },
          "showarrow": false,
          "text": "3",
          "x": "blues",
          "xref": "x",
          "y": "jazz",
          "yref": "y"
         },
         {
          "font": {
           "color": "#FFFFFF"
          },
          "showarrow": false,
          "text": "11",
          "x": "classical",
          "xref": "x",
          "y": "jazz",
          "yref": "y"
         },
         {
          "font": {
           "color": "#FFFFFF"
          },
          "showarrow": false,
          "text": "6",
          "x": "country",
          "xref": "x",
          "y": "jazz",
          "yref": "y"
         },
         {
          "font": {
           "color": "#FFFFFF"
          },
          "showarrow": false,
          "text": "0",
          "x": "disco",
          "xref": "x",
          "y": "jazz",
          "yref": "y"
         },
         {
          "font": {
           "color": "#FFFFFF"
          },
          "showarrow": false,
          "text": "0",
          "x": "hiphop",
          "xref": "x",
          "y": "jazz",
          "yref": "y"
         },
         {
          "font": {
           "color": "#000000"
          },
          "showarrow": false,
          "text": "225",
          "x": "jazz",
          "xref": "x",
          "y": "jazz",
          "yref": "y"
         },
         {
          "font": {
           "color": "#FFFFFF"
          },
          "showarrow": false,
          "text": "0",
          "x": "metal",
          "xref": "x",
          "y": "jazz",
          "yref": "y"
         },
         {
          "font": {
           "color": "#FFFFFF"
          },
          "showarrow": false,
          "text": "0",
          "x": "pop",
          "xref": "x",
          "y": "jazz",
          "yref": "y"
         },
         {
          "font": {
           "color": "#FFFFFF"
          },
          "showarrow": false,
          "text": "0",
          "x": "reggae",
          "xref": "x",
          "y": "jazz",
          "yref": "y"
         },
         {
          "font": {
           "color": "#FFFFFF"
          },
          "showarrow": false,
          "text": "0",
          "x": "rock",
          "xref": "x",
          "y": "jazz",
          "yref": "y"
         },
         {
          "font": {
           "color": "#FFFFFF"
          },
          "showarrow": false,
          "text": "0",
          "x": "blues",
          "xref": "x",
          "y": "metal",
          "yref": "y"
         },
         {
          "font": {
           "color": "#FFFFFF"
          },
          "showarrow": false,
          "text": "0",
          "x": "classical",
          "xref": "x",
          "y": "metal",
          "yref": "y"
         },
         {
          "font": {
           "color": "#FFFFFF"
          },
          "showarrow": false,
          "text": "3",
          "x": "country",
          "xref": "x",
          "y": "metal",
          "yref": "y"
         },
         {
          "font": {
           "color": "#FFFFFF"
          },
          "showarrow": false,
          "text": "5",
          "x": "disco",
          "xref": "x",
          "y": "metal",
          "yref": "y"
         },
         {
          "font": {
           "color": "#FFFFFF"
          },
          "showarrow": false,
          "text": "1",
          "x": "hiphop",
          "xref": "x",
          "y": "metal",
          "yref": "y"
         },
         {
          "font": {
           "color": "#FFFFFF"
          },
          "showarrow": false,
          "text": "2",
          "x": "jazz",
          "xref": "x",
          "y": "metal",
          "yref": "y"
         },
         {
          "font": {
           "color": "#000000"
          },
          "showarrow": false,
          "text": "225",
          "x": "metal",
          "xref": "x",
          "y": "metal",
          "yref": "y"
         },
         {
          "font": {
           "color": "#FFFFFF"
          },
          "showarrow": false,
          "text": "0",
          "x": "pop",
          "xref": "x",
          "y": "metal",
          "yref": "y"
         },
         {
          "font": {
           "color": "#FFFFFF"
          },
          "showarrow": false,
          "text": "2",
          "x": "reggae",
          "xref": "x",
          "y": "metal",
          "yref": "y"
         },
         {
          "font": {
           "color": "#FFFFFF"
          },
          "showarrow": false,
          "text": "8",
          "x": "rock",
          "xref": "x",
          "y": "metal",
          "yref": "y"
         },
         {
          "font": {
           "color": "#FFFFFF"
          },
          "showarrow": false,
          "text": "0",
          "x": "blues",
          "xref": "x",
          "y": "pop",
          "yref": "y"
         },
         {
          "font": {
           "color": "#FFFFFF"
          },
          "showarrow": false,
          "text": "0",
          "x": "classical",
          "xref": "x",
          "y": "pop",
          "yref": "y"
         },
         {
          "font": {
           "color": "#FFFFFF"
          },
          "showarrow": false,
          "text": "9",
          "x": "country",
          "xref": "x",
          "y": "pop",
          "yref": "y"
         },
         {
          "font": {
           "color": "#FFFFFF"
          },
          "showarrow": false,
          "text": "5",
          "x": "disco",
          "xref": "x",
          "y": "pop",
          "yref": "y"
         },
         {
          "font": {
           "color": "#FFFFFF"
          },
          "showarrow": false,
          "text": "5",
          "x": "hiphop",
          "xref": "x",
          "y": "pop",
          "yref": "y"
         },
         {
          "font": {
           "color": "#FFFFFF"
          },
          "showarrow": false,
          "text": "4",
          "x": "jazz",
          "xref": "x",
          "y": "pop",
          "yref": "y"
         },
         {
          "font": {
           "color": "#FFFFFF"
          },
          "showarrow": false,
          "text": "0",
          "x": "metal",
          "xref": "x",
          "y": "pop",
          "yref": "y"
         },
         {
          "font": {
           "color": "#000000"
          },
          "showarrow": false,
          "text": "199",
          "x": "pop",
          "xref": "x",
          "y": "pop",
          "yref": "y"
         },
         {
          "font": {
           "color": "#FFFFFF"
          },
          "showarrow": false,
          "text": "4",
          "x": "reggae",
          "xref": "x",
          "y": "pop",
          "yref": "y"
         },
         {
          "font": {
           "color": "#FFFFFF"
          },
          "showarrow": false,
          "text": "4",
          "x": "rock",
          "xref": "x",
          "y": "pop",
          "yref": "y"
         },
         {
          "font": {
           "color": "#FFFFFF"
          },
          "showarrow": false,
          "text": "1",
          "x": "blues",
          "xref": "x",
          "y": "reggae",
          "yref": "y"
         },
         {
          "font": {
           "color": "#FFFFFF"
          },
          "showarrow": false,
          "text": "1",
          "x": "classical",
          "xref": "x",
          "y": "reggae",
          "yref": "y"
         },
         {
          "font": {
           "color": "#FFFFFF"
          },
          "showarrow": false,
          "text": "9",
          "x": "country",
          "xref": "x",
          "y": "reggae",
          "yref": "y"
         },
         {
          "font": {
           "color": "#FFFFFF"
          },
          "showarrow": false,
          "text": "3",
          "x": "disco",
          "xref": "x",
          "y": "reggae",
          "yref": "y"
         },
         {
          "font": {
           "color": "#FFFFFF"
          },
          "showarrow": false,
          "text": "6",
          "x": "hiphop",
          "xref": "x",
          "y": "reggae",
          "yref": "y"
         },
         {
          "font": {
           "color": "#FFFFFF"
          },
          "showarrow": false,
          "text": "5",
          "x": "jazz",
          "xref": "x",
          "y": "reggae",
          "yref": "y"
         },
         {
          "font": {
           "color": "#FFFFFF"
          },
          "showarrow": false,
          "text": "0",
          "x": "metal",
          "xref": "x",
          "y": "reggae",
          "yref": "y"
         },
         {
          "font": {
           "color": "#FFFFFF"
          },
          "showarrow": false,
          "text": "6",
          "x": "pop",
          "xref": "x",
          "y": "reggae",
          "yref": "y"
         },
         {
          "font": {
           "color": "#000000"
          },
          "showarrow": false,
          "text": "216",
          "x": "reggae",
          "xref": "x",
          "y": "reggae",
          "yref": "y"
         },
         {
          "font": {
           "color": "#FFFFFF"
          },
          "showarrow": false,
          "text": "3",
          "x": "rock",
          "xref": "x",
          "y": "reggae",
          "yref": "y"
         },
         {
          "font": {
           "color": "#FFFFFF"
          },
          "showarrow": false,
          "text": "4",
          "x": "blues",
          "xref": "x",
          "y": "rock",
          "yref": "y"
         },
         {
          "font": {
           "color": "#FFFFFF"
          },
          "showarrow": false,
          "text": "1",
          "x": "classical",
          "xref": "x",
          "y": "rock",
          "yref": "y"
         },
         {
          "font": {
           "color": "#FFFFFF"
          },
          "showarrow": false,
          "text": "23",
          "x": "country",
          "xref": "x",
          "y": "rock",
          "yref": "y"
         },
         {
          "font": {
           "color": "#FFFFFF"
          },
          "showarrow": false,
          "text": "10",
          "x": "disco",
          "xref": "x",
          "y": "rock",
          "yref": "y"
         },
         {
          "font": {
           "color": "#FFFFFF"
          },
          "showarrow": false,
          "text": "0",
          "x": "hiphop",
          "xref": "x",
          "y": "rock",
          "yref": "y"
         },
         {
          "font": {
           "color": "#FFFFFF"
          },
          "showarrow": false,
          "text": "7",
          "x": "jazz",
          "xref": "x",
          "y": "rock",
          "yref": "y"
         },
         {
          "font": {
           "color": "#FFFFFF"
          },
          "showarrow": false,
          "text": "11",
          "x": "metal",
          "xref": "x",
          "y": "rock",
          "yref": "y"
         },
         {
          "font": {
           "color": "#FFFFFF"
          },
          "showarrow": false,
          "text": "2",
          "x": "pop",
          "xref": "x",
          "y": "rock",
          "yref": "y"
         },
         {
          "font": {
           "color": "#FFFFFF"
          },
          "showarrow": false,
          "text": "8",
          "x": "reggae",
          "xref": "x",
          "y": "rock",
          "yref": "y"
         },
         {
          "font": {
           "color": "#000000"
          },
          "showarrow": false,
          "text": "178",
          "x": "rock",
          "xref": "x",
          "y": "rock",
          "yref": "y"
         }
        ],
        "template": {
         "data": {
          "bar": [
           {
            "error_x": {
             "color": "#2a3f5f"
            },
            "error_y": {
             "color": "#2a3f5f"
            },
            "marker": {
             "line": {
              "color": "#E5ECF6",
              "width": 0.5
             },
             "pattern": {
              "fillmode": "overlay",
              "size": 10,
              "solidity": 0.2
             }
            },
            "type": "bar"
           }
          ],
          "barpolar": [
           {
            "marker": {
             "line": {
              "color": "#E5ECF6",
              "width": 0.5
             },
             "pattern": {
              "fillmode": "overlay",
              "size": 10,
              "solidity": 0.2
             }
            },
            "type": "barpolar"
           }
          ],
          "carpet": [
           {
            "aaxis": {
             "endlinecolor": "#2a3f5f",
             "gridcolor": "white",
             "linecolor": "white",
             "minorgridcolor": "white",
             "startlinecolor": "#2a3f5f"
            },
            "baxis": {
             "endlinecolor": "#2a3f5f",
             "gridcolor": "white",
             "linecolor": "white",
             "minorgridcolor": "white",
             "startlinecolor": "#2a3f5f"
            },
            "type": "carpet"
           }
          ],
          "choropleth": [
           {
            "colorbar": {
             "outlinewidth": 0,
             "ticks": ""
            },
            "type": "choropleth"
           }
          ],
          "contour": [
           {
            "colorbar": {
             "outlinewidth": 0,
             "ticks": ""
            },
            "colorscale": [
             [
              0,
              "#0d0887"
             ],
             [
              0.1111111111111111,
              "#46039f"
             ],
             [
              0.2222222222222222,
              "#7201a8"
             ],
             [
              0.3333333333333333,
              "#9c179e"
             ],
             [
              0.4444444444444444,
              "#bd3786"
             ],
             [
              0.5555555555555556,
              "#d8576b"
             ],
             [
              0.6666666666666666,
              "#ed7953"
             ],
             [
              0.7777777777777778,
              "#fb9f3a"
             ],
             [
              0.8888888888888888,
              "#fdca26"
             ],
             [
              1,
              "#f0f921"
             ]
            ],
            "type": "contour"
           }
          ],
          "contourcarpet": [
           {
            "colorbar": {
             "outlinewidth": 0,
             "ticks": ""
            },
            "type": "contourcarpet"
           }
          ],
          "heatmap": [
           {
            "colorbar": {
             "outlinewidth": 0,
             "ticks": ""
            },
            "colorscale": [
             [
              0,
              "#0d0887"
             ],
             [
              0.1111111111111111,
              "#46039f"
             ],
             [
              0.2222222222222222,
              "#7201a8"
             ],
             [
              0.3333333333333333,
              "#9c179e"
             ],
             [
              0.4444444444444444,
              "#bd3786"
             ],
             [
              0.5555555555555556,
              "#d8576b"
             ],
             [
              0.6666666666666666,
              "#ed7953"
             ],
             [
              0.7777777777777778,
              "#fb9f3a"
             ],
             [
              0.8888888888888888,
              "#fdca26"
             ],
             [
              1,
              "#f0f921"
             ]
            ],
            "type": "heatmap"
           }
          ],
          "heatmapgl": [
           {
            "colorbar": {
             "outlinewidth": 0,
             "ticks": ""
            },
            "colorscale": [
             [
              0,
              "#0d0887"
             ],
             [
              0.1111111111111111,
              "#46039f"
             ],
             [
              0.2222222222222222,
              "#7201a8"
             ],
             [
              0.3333333333333333,
              "#9c179e"
             ],
             [
              0.4444444444444444,
              "#bd3786"
             ],
             [
              0.5555555555555556,
              "#d8576b"
             ],
             [
              0.6666666666666666,
              "#ed7953"
             ],
             [
              0.7777777777777778,
              "#fb9f3a"
             ],
             [
              0.8888888888888888,
              "#fdca26"
             ],
             [
              1,
              "#f0f921"
             ]
            ],
            "type": "heatmapgl"
           }
          ],
          "histogram": [
           {
            "marker": {
             "pattern": {
              "fillmode": "overlay",
              "size": 10,
              "solidity": 0.2
             }
            },
            "type": "histogram"
           }
          ],
          "histogram2d": [
           {
            "colorbar": {
             "outlinewidth": 0,
             "ticks": ""
            },
            "colorscale": [
             [
              0,
              "#0d0887"
             ],
             [
              0.1111111111111111,
              "#46039f"
             ],
             [
              0.2222222222222222,
              "#7201a8"
             ],
             [
              0.3333333333333333,
              "#9c179e"
             ],
             [
              0.4444444444444444,
              "#bd3786"
             ],
             [
              0.5555555555555556,
              "#d8576b"
             ],
             [
              0.6666666666666666,
              "#ed7953"
             ],
             [
              0.7777777777777778,
              "#fb9f3a"
             ],
             [
              0.8888888888888888,
              "#fdca26"
             ],
             [
              1,
              "#f0f921"
             ]
            ],
            "type": "histogram2d"
           }
          ],
          "histogram2dcontour": [
           {
            "colorbar": {
             "outlinewidth": 0,
             "ticks": ""
            },
            "colorscale": [
             [
              0,
              "#0d0887"
             ],
             [
              0.1111111111111111,
              "#46039f"
             ],
             [
              0.2222222222222222,
              "#7201a8"
             ],
             [
              0.3333333333333333,
              "#9c179e"
             ],
             [
              0.4444444444444444,
              "#bd3786"
             ],
             [
              0.5555555555555556,
              "#d8576b"
             ],
             [
              0.6666666666666666,
              "#ed7953"
             ],
             [
              0.7777777777777778,
              "#fb9f3a"
             ],
             [
              0.8888888888888888,
              "#fdca26"
             ],
             [
              1,
              "#f0f921"
             ]
            ],
            "type": "histogram2dcontour"
           }
          ],
          "mesh3d": [
           {
            "colorbar": {
             "outlinewidth": 0,
             "ticks": ""
            },
            "type": "mesh3d"
           }
          ],
          "parcoords": [
           {
            "line": {
             "colorbar": {
              "outlinewidth": 0,
              "ticks": ""
             }
            },
            "type": "parcoords"
           }
          ],
          "pie": [
           {
            "automargin": true,
            "type": "pie"
           }
          ],
          "scatter": [
           {
            "marker": {
             "colorbar": {
              "outlinewidth": 0,
              "ticks": ""
             }
            },
            "type": "scatter"
           }
          ],
          "scatter3d": [
           {
            "line": {
             "colorbar": {
              "outlinewidth": 0,
              "ticks": ""
             }
            },
            "marker": {
             "colorbar": {
              "outlinewidth": 0,
              "ticks": ""
             }
            },
            "type": "scatter3d"
           }
          ],
          "scattercarpet": [
           {
            "marker": {
             "colorbar": {
              "outlinewidth": 0,
              "ticks": ""
             }
            },
            "type": "scattercarpet"
           }
          ],
          "scattergeo": [
           {
            "marker": {
             "colorbar": {
              "outlinewidth": 0,
              "ticks": ""
             }
            },
            "type": "scattergeo"
           }
          ],
          "scattergl": [
           {
            "marker": {
             "colorbar": {
              "outlinewidth": 0,
              "ticks": ""
             }
            },
            "type": "scattergl"
           }
          ],
          "scattermapbox": [
           {
            "marker": {
             "colorbar": {
              "outlinewidth": 0,
              "ticks": ""
             }
            },
            "type": "scattermapbox"
           }
          ],
          "scatterpolar": [
           {
            "marker": {
             "colorbar": {
              "outlinewidth": 0,
              "ticks": ""
             }
            },
            "type": "scatterpolar"
           }
          ],
          "scatterpolargl": [
           {
            "marker": {
             "colorbar": {
              "outlinewidth": 0,
              "ticks": ""
             }
            },
            "type": "scatterpolargl"
           }
          ],
          "scatterternary": [
           {
            "marker": {
             "colorbar": {
              "outlinewidth": 0,
              "ticks": ""
             }
            },
            "type": "scatterternary"
           }
          ],
          "surface": [
           {
            "colorbar": {
             "outlinewidth": 0,
             "ticks": ""
            },
            "colorscale": [
             [
              0,
              "#0d0887"
             ],
             [
              0.1111111111111111,
              "#46039f"
             ],
             [
              0.2222222222222222,
              "#7201a8"
             ],
             [
              0.3333333333333333,
              "#9c179e"
             ],
             [
              0.4444444444444444,
              "#bd3786"
             ],
             [
              0.5555555555555556,
              "#d8576b"
             ],
             [
              0.6666666666666666,
              "#ed7953"
             ],
             [
              0.7777777777777778,
              "#fb9f3a"
             ],
             [
              0.8888888888888888,
              "#fdca26"
             ],
             [
              1,
              "#f0f921"
             ]
            ],
            "type": "surface"
           }
          ],
          "table": [
           {
            "cells": {
             "fill": {
              "color": "#EBF0F8"
             },
             "line": {
              "color": "white"
             }
            },
            "header": {
             "fill": {
              "color": "#C8D4E3"
             },
             "line": {
              "color": "white"
             }
            },
            "type": "table"
           }
          ]
         },
         "layout": {
          "annotationdefaults": {
           "arrowcolor": "#2a3f5f",
           "arrowhead": 0,
           "arrowwidth": 1
          },
          "autotypenumbers": "strict",
          "coloraxis": {
           "colorbar": {
            "outlinewidth": 0,
            "ticks": ""
           }
          },
          "colorscale": {
           "diverging": [
            [
             0,
             "#8e0152"
            ],
            [
             0.1,
             "#c51b7d"
            ],
            [
             0.2,
             "#de77ae"
            ],
            [
             0.3,
             "#f1b6da"
            ],
            [
             0.4,
             "#fde0ef"
            ],
            [
             0.5,
             "#f7f7f7"
            ],
            [
             0.6,
             "#e6f5d0"
            ],
            [
             0.7,
             "#b8e186"
            ],
            [
             0.8,
             "#7fbc41"
            ],
            [
             0.9,
             "#4d9221"
            ],
            [
             1,
             "#276419"
            ]
           ],
           "sequential": [
            [
             0,
             "#0d0887"
            ],
            [
             0.1111111111111111,
             "#46039f"
            ],
            [
             0.2222222222222222,
             "#7201a8"
            ],
            [
             0.3333333333333333,
             "#9c179e"
            ],
            [
             0.4444444444444444,
             "#bd3786"
            ],
            [
             0.5555555555555556,
             "#d8576b"
            ],
            [
             0.6666666666666666,
             "#ed7953"
            ],
            [
             0.7777777777777778,
             "#fb9f3a"
            ],
            [
             0.8888888888888888,
             "#fdca26"
            ],
            [
             1,
             "#f0f921"
            ]
           ],
           "sequentialminus": [
            [
             0,
             "#0d0887"
            ],
            [
             0.1111111111111111,
             "#46039f"
            ],
            [
             0.2222222222222222,
             "#7201a8"
            ],
            [
             0.3333333333333333,
             "#9c179e"
            ],
            [
             0.4444444444444444,
             "#bd3786"
            ],
            [
             0.5555555555555556,
             "#d8576b"
            ],
            [
             0.6666666666666666,
             "#ed7953"
            ],
            [
             0.7777777777777778,
             "#fb9f3a"
            ],
            [
             0.8888888888888888,
             "#fdca26"
            ],
            [
             1,
             "#f0f921"
            ]
           ]
          },
          "colorway": [
           "#636efa",
           "#EF553B",
           "#00cc96",
           "#ab63fa",
           "#FFA15A",
           "#19d3f3",
           "#FF6692",
           "#B6E880",
           "#FF97FF",
           "#FECB52"
          ],
          "font": {
           "color": "#2a3f5f"
          },
          "geo": {
           "bgcolor": "white",
           "lakecolor": "white",
           "landcolor": "#E5ECF6",
           "showlakes": true,
           "showland": true,
           "subunitcolor": "white"
          },
          "hoverlabel": {
           "align": "left"
          },
          "hovermode": "closest",
          "mapbox": {
           "style": "light"
          },
          "paper_bgcolor": "white",
          "plot_bgcolor": "#E5ECF6",
          "polar": {
           "angularaxis": {
            "gridcolor": "white",
            "linecolor": "white",
            "ticks": ""
           },
           "bgcolor": "#E5ECF6",
           "radialaxis": {
            "gridcolor": "white",
            "linecolor": "white",
            "ticks": ""
           }
          },
          "scene": {
           "xaxis": {
            "backgroundcolor": "#E5ECF6",
            "gridcolor": "white",
            "gridwidth": 2,
            "linecolor": "white",
            "showbackground": true,
            "ticks": "",
            "zerolinecolor": "white"
           },
           "yaxis": {
            "backgroundcolor": "#E5ECF6",
            "gridcolor": "white",
            "gridwidth": 2,
            "linecolor": "white",
            "showbackground": true,
            "ticks": "",
            "zerolinecolor": "white"
           },
           "zaxis": {
            "backgroundcolor": "#E5ECF6",
            "gridcolor": "white",
            "gridwidth": 2,
            "linecolor": "white",
            "showbackground": true,
            "ticks": "",
            "zerolinecolor": "white"
           }
          },
          "shapedefaults": {
           "line": {
            "color": "#2a3f5f"
           }
          },
          "ternary": {
           "aaxis": {
            "gridcolor": "white",
            "linecolor": "white",
            "ticks": ""
           },
           "baxis": {
            "gridcolor": "white",
            "linecolor": "white",
            "ticks": ""
           },
           "bgcolor": "#E5ECF6",
           "caxis": {
            "gridcolor": "white",
            "linecolor": "white",
            "ticks": ""
           }
          },
          "title": {
           "x": 0.05
          },
          "xaxis": {
           "automargin": true,
           "gridcolor": "white",
           "linecolor": "white",
           "ticks": "",
           "title": {
            "standoff": 15
           },
           "zerolinecolor": "white",
           "zerolinewidth": 2
          },
          "yaxis": {
           "automargin": true,
           "gridcolor": "white",
           "linecolor": "white",
           "ticks": "",
           "title": {
            "standoff": 15
           },
           "zerolinecolor": "white",
           "zerolinewidth": 2
          }
         }
        },
        "xaxis": {
         "dtick": 1,
         "gridcolor": "rgb(0, 0, 0)",
         "side": "top",
         "ticks": ""
        },
        "yaxis": {
         "autorange": "reversed",
         "dtick": 1,
         "ticks": "",
         "ticksuffix": "  "
        }
       }
      }
     },
     "metadata": {},
     "output_type": "display_data"
    }
   ],
   "source": [
    "columns = list(MUSIC_GENRES.values())\n",
    "fig = ff.create_annotated_heatmap(confusion_matrix(y_test_filtered, y_pred), x=columns, y=columns, colorscale='viridis')\n",
    "fig['layout']['yaxis']['autorange'] = \"reversed\"\n",
    "#fig.write_html('../data/plots/knn_confusion_matrix.html')\n",
    "fig.show()"
   ]
  },
  {
   "cell_type": "code",
   "execution_count": 194,
   "metadata": {},
   "outputs": [
    {
     "name": "stdout",
     "output_type": "stream",
     "text": [
      "Score de entrenamiento: \n",
      "0.9575650759219089\n",
      "Precisión:  0.8176663546009298  - Recall:  0.8153721024806833  - f1:  0.8158579070206793\n"
     ]
    }
   ],
   "source": [
    "model = GradientBoostingClassifier().fit(x_train_filtered,y_train_filtered)\n",
    "\n",
    "train_score = model.score(x_train_filtered,y_train_filtered)\n",
    "\n",
    "print('Score de entrenamiento: ')\n",
    "print(train_score)\n",
    "\n",
    "y_pred = model.predict(x_test_filtered)\n",
    "precision, recall, fscore, _ = precision_recall_fscore_support(y_test_filtered, y_pred, average='weighted')\n",
    "print('Precisión: ', precision, ' - Recall: ', recall, ' - f1: ', fscore)\n",
    "######\n",
    "modelo_list.append('Gradient Boosting')\n",
    "escenario_list.append('Outliers filtrados')\n",
    "train_score_list.append(train_score)\n",
    "precision_list.append(precision)\n",
    "recall_list.append(recall)\n",
    "fscore_list.append(fscore)\n",
    "test_score = model.score(x_test_filtered,y_test_filtered)\n",
    "test_score_list.append(test_score)"
   ]
  },
  {
   "cell_type": "code",
   "execution_count": 195,
   "metadata": {},
   "outputs": [
    {
     "data": {
      "application/vnd.plotly.v1+json": {
       "config": {
        "plotlyServerURL": "https://plot.ly"
       },
       "data": [
        {
         "colorscale": [
          [
           0,
           "#440154"
          ],
          [
           0.1111111111111111,
           "#482878"
          ],
          [
           0.2222222222222222,
           "#3e4989"
          ],
          [
           0.3333333333333333,
           "#31688e"
          ],
          [
           0.4444444444444444,
           "#26828e"
          ],
          [
           0.5555555555555556,
           "#1f9e89"
          ],
          [
           0.6666666666666666,
           "#35b779"
          ],
          [
           0.7777777777777778,
           "#6ece58"
          ],
          [
           0.8888888888888888,
           "#b5de2b"
          ],
          [
           1,
           "#fde725"
          ]
         ],
         "reversescale": false,
         "showscale": false,
         "type": "heatmap",
         "x": [
          "blues",
          "classical",
          "country",
          "disco",
          "hiphop",
          "jazz",
          "metal",
          "pop",
          "reggae",
          "rock"
         ],
         "y": [
          "blues",
          "classical",
          "country",
          "disco",
          "hiphop",
          "jazz",
          "metal",
          "pop",
          "reggae",
          "rock"
         ],
         "z": [
          [
           205,
           2,
           10,
           5,
           4,
           7,
           13,
           0,
           5,
           6
          ],
          [
           0,
           228,
           2,
           0,
           0,
           15,
           0,
           0,
           0,
           4
          ],
          [
           10,
           0,
           180,
           10,
           0,
           17,
           0,
           4,
           7,
           11
          ],
          [
           2,
           1,
           5,
           201,
           9,
           2,
           3,
           7,
           6,
           9
          ],
          [
           3,
           0,
           6,
           14,
           207,
           0,
           7,
           10,
           6,
           1
          ],
          [
           7,
           11,
           14,
           0,
           1,
           208,
           1,
           1,
           0,
           2
          ],
          [
           3,
           0,
           5,
           3,
           2,
           1,
           215,
           0,
           2,
           15
          ],
          [
           0,
           0,
           12,
           6,
           6,
           1,
           0,
           194,
           7,
           4
          ],
          [
           3,
           1,
           14,
           11,
           13,
           3,
           1,
           8,
           191,
           5
          ],
          [
           6,
           1,
           15,
           16,
           5,
           6,
           8,
           3,
           8,
           176
          ]
         ]
        }
       ],
       "layout": {
        "annotations": [
         {
          "font": {
           "color": "#000000"
          },
          "showarrow": false,
          "text": "205",
          "x": "blues",
          "xref": "x",
          "y": "blues",
          "yref": "y"
         },
         {
          "font": {
           "color": "#FFFFFF"
          },
          "showarrow": false,
          "text": "2",
          "x": "classical",
          "xref": "x",
          "y": "blues",
          "yref": "y"
         },
         {
          "font": {
           "color": "#FFFFFF"
          },
          "showarrow": false,
          "text": "10",
          "x": "country",
          "xref": "x",
          "y": "blues",
          "yref": "y"
         },
         {
          "font": {
           "color": "#FFFFFF"
          },
          "showarrow": false,
          "text": "5",
          "x": "disco",
          "xref": "x",
          "y": "blues",
          "yref": "y"
         },
         {
          "font": {
           "color": "#FFFFFF"
          },
          "showarrow": false,
          "text": "4",
          "x": "hiphop",
          "xref": "x",
          "y": "blues",
          "yref": "y"
         },
         {
          "font": {
           "color": "#FFFFFF"
          },
          "showarrow": false,
          "text": "7",
          "x": "jazz",
          "xref": "x",
          "y": "blues",
          "yref": "y"
         },
         {
          "font": {
           "color": "#FFFFFF"
          },
          "showarrow": false,
          "text": "13",
          "x": "metal",
          "xref": "x",
          "y": "blues",
          "yref": "y"
         },
         {
          "font": {
           "color": "#FFFFFF"
          },
          "showarrow": false,
          "text": "0",
          "x": "pop",
          "xref": "x",
          "y": "blues",
          "yref": "y"
         },
         {
          "font": {
           "color": "#FFFFFF"
          },
          "showarrow": false,
          "text": "5",
          "x": "reggae",
          "xref": "x",
          "y": "blues",
          "yref": "y"
         },
         {
          "font": {
           "color": "#FFFFFF"
          },
          "showarrow": false,
          "text": "6",
          "x": "rock",
          "xref": "x",
          "y": "blues",
          "yref": "y"
         },
         {
          "font": {
           "color": "#FFFFFF"
          },
          "showarrow": false,
          "text": "0",
          "x": "blues",
          "xref": "x",
          "y": "classical",
          "yref": "y"
         },
         {
          "font": {
           "color": "#000000"
          },
          "showarrow": false,
          "text": "228",
          "x": "classical",
          "xref": "x",
          "y": "classical",
          "yref": "y"
         },
         {
          "font": {
           "color": "#FFFFFF"
          },
          "showarrow": false,
          "text": "2",
          "x": "country",
          "xref": "x",
          "y": "classical",
          "yref": "y"
         },
         {
          "font": {
           "color": "#FFFFFF"
          },
          "showarrow": false,
          "text": "0",
          "x": "disco",
          "xref": "x",
          "y": "classical",
          "yref": "y"
         },
         {
          "font": {
           "color": "#FFFFFF"
          },
          "showarrow": false,
          "text": "0",
          "x": "hiphop",
          "xref": "x",
          "y": "classical",
          "yref": "y"
         },
         {
          "font": {
           "color": "#FFFFFF"
          },
          "showarrow": false,
          "text": "15",
          "x": "jazz",
          "xref": "x",
          "y": "classical",
          "yref": "y"
         },
         {
          "font": {
           "color": "#FFFFFF"
          },
          "showarrow": false,
          "text": "0",
          "x": "metal",
          "xref": "x",
          "y": "classical",
          "yref": "y"
         },
         {
          "font": {
           "color": "#FFFFFF"
          },
          "showarrow": false,
          "text": "0",
          "x": "pop",
          "xref": "x",
          "y": "classical",
          "yref": "y"
         },
         {
          "font": {
           "color": "#FFFFFF"
          },
          "showarrow": false,
          "text": "0",
          "x": "reggae",
          "xref": "x",
          "y": "classical",
          "yref": "y"
         },
         {
          "font": {
           "color": "#FFFFFF"
          },
          "showarrow": false,
          "text": "4",
          "x": "rock",
          "xref": "x",
          "y": "classical",
          "yref": "y"
         },
         {
          "font": {
           "color": "#FFFFFF"
          },
          "showarrow": false,
          "text": "10",
          "x": "blues",
          "xref": "x",
          "y": "country",
          "yref": "y"
         },
         {
          "font": {
           "color": "#FFFFFF"
          },
          "showarrow": false,
          "text": "0",
          "x": "classical",
          "xref": "x",
          "y": "country",
          "yref": "y"
         },
         {
          "font": {
           "color": "#000000"
          },
          "showarrow": false,
          "text": "180",
          "x": "country",
          "xref": "x",
          "y": "country",
          "yref": "y"
         },
         {
          "font": {
           "color": "#FFFFFF"
          },
          "showarrow": false,
          "text": "10",
          "x": "disco",
          "xref": "x",
          "y": "country",
          "yref": "y"
         },
         {
          "font": {
           "color": "#FFFFFF"
          },
          "showarrow": false,
          "text": "0",
          "x": "hiphop",
          "xref": "x",
          "y": "country",
          "yref": "y"
         },
         {
          "font": {
           "color": "#FFFFFF"
          },
          "showarrow": false,
          "text": "17",
          "x": "jazz",
          "xref": "x",
          "y": "country",
          "yref": "y"
         },
         {
          "font": {
           "color": "#FFFFFF"
          },
          "showarrow": false,
          "text": "0",
          "x": "metal",
          "xref": "x",
          "y": "country",
          "yref": "y"
         },
         {
          "font": {
           "color": "#FFFFFF"
          },
          "showarrow": false,
          "text": "4",
          "x": "pop",
          "xref": "x",
          "y": "country",
          "yref": "y"
         },
         {
          "font": {
           "color": "#FFFFFF"
          },
          "showarrow": false,
          "text": "7",
          "x": "reggae",
          "xref": "x",
          "y": "country",
          "yref": "y"
         },
         {
          "font": {
           "color": "#FFFFFF"
          },
          "showarrow": false,
          "text": "11",
          "x": "rock",
          "xref": "x",
          "y": "country",
          "yref": "y"
         },
         {
          "font": {
           "color": "#FFFFFF"
          },
          "showarrow": false,
          "text": "2",
          "x": "blues",
          "xref": "x",
          "y": "disco",
          "yref": "y"
         },
         {
          "font": {
           "color": "#FFFFFF"
          },
          "showarrow": false,
          "text": "1",
          "x": "classical",
          "xref": "x",
          "y": "disco",
          "yref": "y"
         },
         {
          "font": {
           "color": "#FFFFFF"
          },
          "showarrow": false,
          "text": "5",
          "x": "country",
          "xref": "x",
          "y": "disco",
          "yref": "y"
         },
         {
          "font": {
           "color": "#000000"
          },
          "showarrow": false,
          "text": "201",
          "x": "disco",
          "xref": "x",
          "y": "disco",
          "yref": "y"
         },
         {
          "font": {
           "color": "#FFFFFF"
          },
          "showarrow": false,
          "text": "9",
          "x": "hiphop",
          "xref": "x",
          "y": "disco",
          "yref": "y"
         },
         {
          "font": {
           "color": "#FFFFFF"
          },
          "showarrow": false,
          "text": "2",
          "x": "jazz",
          "xref": "x",
          "y": "disco",
          "yref": "y"
         },
         {
          "font": {
           "color": "#FFFFFF"
          },
          "showarrow": false,
          "text": "3",
          "x": "metal",
          "xref": "x",
          "y": "disco",
          "yref": "y"
         },
         {
          "font": {
           "color": "#FFFFFF"
          },
          "showarrow": false,
          "text": "7",
          "x": "pop",
          "xref": "x",
          "y": "disco",
          "yref": "y"
         },
         {
          "font": {
           "color": "#FFFFFF"
          },
          "showarrow": false,
          "text": "6",
          "x": "reggae",
          "xref": "x",
          "y": "disco",
          "yref": "y"
         },
         {
          "font": {
           "color": "#FFFFFF"
          },
          "showarrow": false,
          "text": "9",
          "x": "rock",
          "xref": "x",
          "y": "disco",
          "yref": "y"
         },
         {
          "font": {
           "color": "#FFFFFF"
          },
          "showarrow": false,
          "text": "3",
          "x": "blues",
          "xref": "x",
          "y": "hiphop",
          "yref": "y"
         },
         {
          "font": {
           "color": "#FFFFFF"
          },
          "showarrow": false,
          "text": "0",
          "x": "classical",
          "xref": "x",
          "y": "hiphop",
          "yref": "y"
         },
         {
          "font": {
           "color": "#FFFFFF"
          },
          "showarrow": false,
          "text": "6",
          "x": "country",
          "xref": "x",
          "y": "hiphop",
          "yref": "y"
         },
         {
          "font": {
           "color": "#FFFFFF"
          },
          "showarrow": false,
          "text": "14",
          "x": "disco",
          "xref": "x",
          "y": "hiphop",
          "yref": "y"
         },
         {
          "font": {
           "color": "#000000"
          },
          "showarrow": false,
          "text": "207",
          "x": "hiphop",
          "xref": "x",
          "y": "hiphop",
          "yref": "y"
         },
         {
          "font": {
           "color": "#FFFFFF"
          },
          "showarrow": false,
          "text": "0",
          "x": "jazz",
          "xref": "x",
          "y": "hiphop",
          "yref": "y"
         },
         {
          "font": {
           "color": "#FFFFFF"
          },
          "showarrow": false,
          "text": "7",
          "x": "metal",
          "xref": "x",
          "y": "hiphop",
          "yref": "y"
         },
         {
          "font": {
           "color": "#FFFFFF"
          },
          "showarrow": false,
          "text": "10",
          "x": "pop",
          "xref": "x",
          "y": "hiphop",
          "yref": "y"
         },
         {
          "font": {
           "color": "#FFFFFF"
          },
          "showarrow": false,
          "text": "6",
          "x": "reggae",
          "xref": "x",
          "y": "hiphop",
          "yref": "y"
         },
         {
          "font": {
           "color": "#FFFFFF"
          },
          "showarrow": false,
          "text": "1",
          "x": "rock",
          "xref": "x",
          "y": "hiphop",
          "yref": "y"
         },
         {
          "font": {
           "color": "#FFFFFF"
          },
          "showarrow": false,
          "text": "7",
          "x": "blues",
          "xref": "x",
          "y": "jazz",
          "yref": "y"
         },
         {
          "font": {
           "color": "#FFFFFF"
          },
          "showarrow": false,
          "text": "11",
          "x": "classical",
          "xref": "x",
          "y": "jazz",
          "yref": "y"
         },
         {
          "font": {
           "color": "#FFFFFF"
          },
          "showarrow": false,
          "text": "14",
          "x": "country",
          "xref": "x",
          "y": "jazz",
          "yref": "y"
         },
         {
          "font": {
           "color": "#FFFFFF"
          },
          "showarrow": false,
          "text": "0",
          "x": "disco",
          "xref": "x",
          "y": "jazz",
          "yref": "y"
         },
         {
          "font": {
           "color": "#FFFFFF"
          },
          "showarrow": false,
          "text": "1",
          "x": "hiphop",
          "xref": "x",
          "y": "jazz",
          "yref": "y"
         },
         {
          "font": {
           "color": "#000000"
          },
          "showarrow": false,
          "text": "208",
          "x": "jazz",
          "xref": "x",
          "y": "jazz",
          "yref": "y"
         },
         {
          "font": {
           "color": "#FFFFFF"
          },
          "showarrow": false,
          "text": "1",
          "x": "metal",
          "xref": "x",
          "y": "jazz",
          "yref": "y"
         },
         {
          "font": {
           "color": "#FFFFFF"
          },
          "showarrow": false,
          "text": "1",
          "x": "pop",
          "xref": "x",
          "y": "jazz",
          "yref": "y"
         },
         {
          "font": {
           "color": "#FFFFFF"
          },
          "showarrow": false,
          "text": "0",
          "x": "reggae",
          "xref": "x",
          "y": "jazz",
          "yref": "y"
         },
         {
          "font": {
           "color": "#FFFFFF"
          },
          "showarrow": false,
          "text": "2",
          "x": "rock",
          "xref": "x",
          "y": "jazz",
          "yref": "y"
         },
         {
          "font": {
           "color": "#FFFFFF"
          },
          "showarrow": false,
          "text": "3",
          "x": "blues",
          "xref": "x",
          "y": "metal",
          "yref": "y"
         },
         {
          "font": {
           "color": "#FFFFFF"
          },
          "showarrow": false,
          "text": "0",
          "x": "classical",
          "xref": "x",
          "y": "metal",
          "yref": "y"
         },
         {
          "font": {
           "color": "#FFFFFF"
          },
          "showarrow": false,
          "text": "5",
          "x": "country",
          "xref": "x",
          "y": "metal",
          "yref": "y"
         },
         {
          "font": {
           "color": "#FFFFFF"
          },
          "showarrow": false,
          "text": "3",
          "x": "disco",
          "xref": "x",
          "y": "metal",
          "yref": "y"
         },
         {
          "font": {
           "color": "#FFFFFF"
          },
          "showarrow": false,
          "text": "2",
          "x": "hiphop",
          "xref": "x",
          "y": "metal",
          "yref": "y"
         },
         {
          "font": {
           "color": "#FFFFFF"
          },
          "showarrow": false,
          "text": "1",
          "x": "jazz",
          "xref": "x",
          "y": "metal",
          "yref": "y"
         },
         {
          "font": {
           "color": "#000000"
          },
          "showarrow": false,
          "text": "215",
          "x": "metal",
          "xref": "x",
          "y": "metal",
          "yref": "y"
         },
         {
          "font": {
           "color": "#FFFFFF"
          },
          "showarrow": false,
          "text": "0",
          "x": "pop",
          "xref": "x",
          "y": "metal",
          "yref": "y"
         },
         {
          "font": {
           "color": "#FFFFFF"
          },
          "showarrow": false,
          "text": "2",
          "x": "reggae",
          "xref": "x",
          "y": "metal",
          "yref": "y"
         },
         {
          "font": {
           "color": "#FFFFFF"
          },
          "showarrow": false,
          "text": "15",
          "x": "rock",
          "xref": "x",
          "y": "metal",
          "yref": "y"
         },
         {
          "font": {
           "color": "#FFFFFF"
          },
          "showarrow": false,
          "text": "0",
          "x": "blues",
          "xref": "x",
          "y": "pop",
          "yref": "y"
         },
         {
          "font": {
           "color": "#FFFFFF"
          },
          "showarrow": false,
          "text": "0",
          "x": "classical",
          "xref": "x",
          "y": "pop",
          "yref": "y"
         },
         {
          "font": {
           "color": "#FFFFFF"
          },
          "showarrow": false,
          "text": "12",
          "x": "country",
          "xref": "x",
          "y": "pop",
          "yref": "y"
         },
         {
          "font": {
           "color": "#FFFFFF"
          },
          "showarrow": false,
          "text": "6",
          "x": "disco",
          "xref": "x",
          "y": "pop",
          "yref": "y"
         },
         {
          "font": {
           "color": "#FFFFFF"
          },
          "showarrow": false,
          "text": "6",
          "x": "hiphop",
          "xref": "x",
          "y": "pop",
          "yref": "y"
         },
         {
          "font": {
           "color": "#FFFFFF"
          },
          "showarrow": false,
          "text": "1",
          "x": "jazz",
          "xref": "x",
          "y": "pop",
          "yref": "y"
         },
         {
          "font": {
           "color": "#FFFFFF"
          },
          "showarrow": false,
          "text": "0",
          "x": "metal",
          "xref": "x",
          "y": "pop",
          "yref": "y"
         },
         {
          "font": {
           "color": "#000000"
          },
          "showarrow": false,
          "text": "194",
          "x": "pop",
          "xref": "x",
          "y": "pop",
          "yref": "y"
         },
         {
          "font": {
           "color": "#FFFFFF"
          },
          "showarrow": false,
          "text": "7",
          "x": "reggae",
          "xref": "x",
          "y": "pop",
          "yref": "y"
         },
         {
          "font": {
           "color": "#FFFFFF"
          },
          "showarrow": false,
          "text": "4",
          "x": "rock",
          "xref": "x",
          "y": "pop",
          "yref": "y"
         },
         {
          "font": {
           "color": "#FFFFFF"
          },
          "showarrow": false,
          "text": "3",
          "x": "blues",
          "xref": "x",
          "y": "reggae",
          "yref": "y"
         },
         {
          "font": {
           "color": "#FFFFFF"
          },
          "showarrow": false,
          "text": "1",
          "x": "classical",
          "xref": "x",
          "y": "reggae",
          "yref": "y"
         },
         {
          "font": {
           "color": "#FFFFFF"
          },
          "showarrow": false,
          "text": "14",
          "x": "country",
          "xref": "x",
          "y": "reggae",
          "yref": "y"
         },
         {
          "font": {
           "color": "#FFFFFF"
          },
          "showarrow": false,
          "text": "11",
          "x": "disco",
          "xref": "x",
          "y": "reggae",
          "yref": "y"
         },
         {
          "font": {
           "color": "#FFFFFF"
          },
          "showarrow": false,
          "text": "13",
          "x": "hiphop",
          "xref": "x",
          "y": "reggae",
          "yref": "y"
         },
         {
          "font": {
           "color": "#FFFFFF"
          },
          "showarrow": false,
          "text": "3",
          "x": "jazz",
          "xref": "x",
          "y": "reggae",
          "yref": "y"
         },
         {
          "font": {
           "color": "#FFFFFF"
          },
          "showarrow": false,
          "text": "1",
          "x": "metal",
          "xref": "x",
          "y": "reggae",
          "yref": "y"
         },
         {
          "font": {
           "color": "#FFFFFF"
          },
          "showarrow": false,
          "text": "8",
          "x": "pop",
          "xref": "x",
          "y": "reggae",
          "yref": "y"
         },
         {
          "font": {
           "color": "#000000"
          },
          "showarrow": false,
          "text": "191",
          "x": "reggae",
          "xref": "x",
          "y": "reggae",
          "yref": "y"
         },
         {
          "font": {
           "color": "#FFFFFF"
          },
          "showarrow": false,
          "text": "5",
          "x": "rock",
          "xref": "x",
          "y": "reggae",
          "yref": "y"
         },
         {
          "font": {
           "color": "#FFFFFF"
          },
          "showarrow": false,
          "text": "6",
          "x": "blues",
          "xref": "x",
          "y": "rock",
          "yref": "y"
         },
         {
          "font": {
           "color": "#FFFFFF"
          },
          "showarrow": false,
          "text": "1",
          "x": "classical",
          "xref": "x",
          "y": "rock",
          "yref": "y"
         },
         {
          "font": {
           "color": "#FFFFFF"
          },
          "showarrow": false,
          "text": "15",
          "x": "country",
          "xref": "x",
          "y": "rock",
          "yref": "y"
         },
         {
          "font": {
           "color": "#FFFFFF"
          },
          "showarrow": false,
          "text": "16",
          "x": "disco",
          "xref": "x",
          "y": "rock",
          "yref": "y"
         },
         {
          "font": {
           "color": "#FFFFFF"
          },
          "showarrow": false,
          "text": "5",
          "x": "hiphop",
          "xref": "x",
          "y": "rock",
          "yref": "y"
         },
         {
          "font": {
           "color": "#FFFFFF"
          },
          "showarrow": false,
          "text": "6",
          "x": "jazz",
          "xref": "x",
          "y": "rock",
          "yref": "y"
         },
         {
          "font": {
           "color": "#FFFFFF"
          },
          "showarrow": false,
          "text": "8",
          "x": "metal",
          "xref": "x",
          "y": "rock",
          "yref": "y"
         },
         {
          "font": {
           "color": "#FFFFFF"
          },
          "showarrow": false,
          "text": "3",
          "x": "pop",
          "xref": "x",
          "y": "rock",
          "yref": "y"
         },
         {
          "font": {
           "color": "#FFFFFF"
          },
          "showarrow": false,
          "text": "8",
          "x": "reggae",
          "xref": "x",
          "y": "rock",
          "yref": "y"
         },
         {
          "font": {
           "color": "#000000"
          },
          "showarrow": false,
          "text": "176",
          "x": "rock",
          "xref": "x",
          "y": "rock",
          "yref": "y"
         }
        ],
        "template": {
         "data": {
          "bar": [
           {
            "error_x": {
             "color": "#2a3f5f"
            },
            "error_y": {
             "color": "#2a3f5f"
            },
            "marker": {
             "line": {
              "color": "#E5ECF6",
              "width": 0.5
             },
             "pattern": {
              "fillmode": "overlay",
              "size": 10,
              "solidity": 0.2
             }
            },
            "type": "bar"
           }
          ],
          "barpolar": [
           {
            "marker": {
             "line": {
              "color": "#E5ECF6",
              "width": 0.5
             },
             "pattern": {
              "fillmode": "overlay",
              "size": 10,
              "solidity": 0.2
             }
            },
            "type": "barpolar"
           }
          ],
          "carpet": [
           {
            "aaxis": {
             "endlinecolor": "#2a3f5f",
             "gridcolor": "white",
             "linecolor": "white",
             "minorgridcolor": "white",
             "startlinecolor": "#2a3f5f"
            },
            "baxis": {
             "endlinecolor": "#2a3f5f",
             "gridcolor": "white",
             "linecolor": "white",
             "minorgridcolor": "white",
             "startlinecolor": "#2a3f5f"
            },
            "type": "carpet"
           }
          ],
          "choropleth": [
           {
            "colorbar": {
             "outlinewidth": 0,
             "ticks": ""
            },
            "type": "choropleth"
           }
          ],
          "contour": [
           {
            "colorbar": {
             "outlinewidth": 0,
             "ticks": ""
            },
            "colorscale": [
             [
              0,
              "#0d0887"
             ],
             [
              0.1111111111111111,
              "#46039f"
             ],
             [
              0.2222222222222222,
              "#7201a8"
             ],
             [
              0.3333333333333333,
              "#9c179e"
             ],
             [
              0.4444444444444444,
              "#bd3786"
             ],
             [
              0.5555555555555556,
              "#d8576b"
             ],
             [
              0.6666666666666666,
              "#ed7953"
             ],
             [
              0.7777777777777778,
              "#fb9f3a"
             ],
             [
              0.8888888888888888,
              "#fdca26"
             ],
             [
              1,
              "#f0f921"
             ]
            ],
            "type": "contour"
           }
          ],
          "contourcarpet": [
           {
            "colorbar": {
             "outlinewidth": 0,
             "ticks": ""
            },
            "type": "contourcarpet"
           }
          ],
          "heatmap": [
           {
            "colorbar": {
             "outlinewidth": 0,
             "ticks": ""
            },
            "colorscale": [
             [
              0,
              "#0d0887"
             ],
             [
              0.1111111111111111,
              "#46039f"
             ],
             [
              0.2222222222222222,
              "#7201a8"
             ],
             [
              0.3333333333333333,
              "#9c179e"
             ],
             [
              0.4444444444444444,
              "#bd3786"
             ],
             [
              0.5555555555555556,
              "#d8576b"
             ],
             [
              0.6666666666666666,
              "#ed7953"
             ],
             [
              0.7777777777777778,
              "#fb9f3a"
             ],
             [
              0.8888888888888888,
              "#fdca26"
             ],
             [
              1,
              "#f0f921"
             ]
            ],
            "type": "heatmap"
           }
          ],
          "heatmapgl": [
           {
            "colorbar": {
             "outlinewidth": 0,
             "ticks": ""
            },
            "colorscale": [
             [
              0,
              "#0d0887"
             ],
             [
              0.1111111111111111,
              "#46039f"
             ],
             [
              0.2222222222222222,
              "#7201a8"
             ],
             [
              0.3333333333333333,
              "#9c179e"
             ],
             [
              0.4444444444444444,
              "#bd3786"
             ],
             [
              0.5555555555555556,
              "#d8576b"
             ],
             [
              0.6666666666666666,
              "#ed7953"
             ],
             [
              0.7777777777777778,
              "#fb9f3a"
             ],
             [
              0.8888888888888888,
              "#fdca26"
             ],
             [
              1,
              "#f0f921"
             ]
            ],
            "type": "heatmapgl"
           }
          ],
          "histogram": [
           {
            "marker": {
             "pattern": {
              "fillmode": "overlay",
              "size": 10,
              "solidity": 0.2
             }
            },
            "type": "histogram"
           }
          ],
          "histogram2d": [
           {
            "colorbar": {
             "outlinewidth": 0,
             "ticks": ""
            },
            "colorscale": [
             [
              0,
              "#0d0887"
             ],
             [
              0.1111111111111111,
              "#46039f"
             ],
             [
              0.2222222222222222,
              "#7201a8"
             ],
             [
              0.3333333333333333,
              "#9c179e"
             ],
             [
              0.4444444444444444,
              "#bd3786"
             ],
             [
              0.5555555555555556,
              "#d8576b"
             ],
             [
              0.6666666666666666,
              "#ed7953"
             ],
             [
              0.7777777777777778,
              "#fb9f3a"
             ],
             [
              0.8888888888888888,
              "#fdca26"
             ],
             [
              1,
              "#f0f921"
             ]
            ],
            "type": "histogram2d"
           }
          ],
          "histogram2dcontour": [
           {
            "colorbar": {
             "outlinewidth": 0,
             "ticks": ""
            },
            "colorscale": [
             [
              0,
              "#0d0887"
             ],
             [
              0.1111111111111111,
              "#46039f"
             ],
             [
              0.2222222222222222,
              "#7201a8"
             ],
             [
              0.3333333333333333,
              "#9c179e"
             ],
             [
              0.4444444444444444,
              "#bd3786"
             ],
             [
              0.5555555555555556,
              "#d8576b"
             ],
             [
              0.6666666666666666,
              "#ed7953"
             ],
             [
              0.7777777777777778,
              "#fb9f3a"
             ],
             [
              0.8888888888888888,
              "#fdca26"
             ],
             [
              1,
              "#f0f921"
             ]
            ],
            "type": "histogram2dcontour"
           }
          ],
          "mesh3d": [
           {
            "colorbar": {
             "outlinewidth": 0,
             "ticks": ""
            },
            "type": "mesh3d"
           }
          ],
          "parcoords": [
           {
            "line": {
             "colorbar": {
              "outlinewidth": 0,
              "ticks": ""
             }
            },
            "type": "parcoords"
           }
          ],
          "pie": [
           {
            "automargin": true,
            "type": "pie"
           }
          ],
          "scatter": [
           {
            "marker": {
             "colorbar": {
              "outlinewidth": 0,
              "ticks": ""
             }
            },
            "type": "scatter"
           }
          ],
          "scatter3d": [
           {
            "line": {
             "colorbar": {
              "outlinewidth": 0,
              "ticks": ""
             }
            },
            "marker": {
             "colorbar": {
              "outlinewidth": 0,
              "ticks": ""
             }
            },
            "type": "scatter3d"
           }
          ],
          "scattercarpet": [
           {
            "marker": {
             "colorbar": {
              "outlinewidth": 0,
              "ticks": ""
             }
            },
            "type": "scattercarpet"
           }
          ],
          "scattergeo": [
           {
            "marker": {
             "colorbar": {
              "outlinewidth": 0,
              "ticks": ""
             }
            },
            "type": "scattergeo"
           }
          ],
          "scattergl": [
           {
            "marker": {
             "colorbar": {
              "outlinewidth": 0,
              "ticks": ""
             }
            },
            "type": "scattergl"
           }
          ],
          "scattermapbox": [
           {
            "marker": {
             "colorbar": {
              "outlinewidth": 0,
              "ticks": ""
             }
            },
            "type": "scattermapbox"
           }
          ],
          "scatterpolar": [
           {
            "marker": {
             "colorbar": {
              "outlinewidth": 0,
              "ticks": ""
             }
            },
            "type": "scatterpolar"
           }
          ],
          "scatterpolargl": [
           {
            "marker": {
             "colorbar": {
              "outlinewidth": 0,
              "ticks": ""
             }
            },
            "type": "scatterpolargl"
           }
          ],
          "scatterternary": [
           {
            "marker": {
             "colorbar": {
              "outlinewidth": 0,
              "ticks": ""
             }
            },
            "type": "scatterternary"
           }
          ],
          "surface": [
           {
            "colorbar": {
             "outlinewidth": 0,
             "ticks": ""
            },
            "colorscale": [
             [
              0,
              "#0d0887"
             ],
             [
              0.1111111111111111,
              "#46039f"
             ],
             [
              0.2222222222222222,
              "#7201a8"
             ],
             [
              0.3333333333333333,
              "#9c179e"
             ],
             [
              0.4444444444444444,
              "#bd3786"
             ],
             [
              0.5555555555555556,
              "#d8576b"
             ],
             [
              0.6666666666666666,
              "#ed7953"
             ],
             [
              0.7777777777777778,
              "#fb9f3a"
             ],
             [
              0.8888888888888888,
              "#fdca26"
             ],
             [
              1,
              "#f0f921"
             ]
            ],
            "type": "surface"
           }
          ],
          "table": [
           {
            "cells": {
             "fill": {
              "color": "#EBF0F8"
             },
             "line": {
              "color": "white"
             }
            },
            "header": {
             "fill": {
              "color": "#C8D4E3"
             },
             "line": {
              "color": "white"
             }
            },
            "type": "table"
           }
          ]
         },
         "layout": {
          "annotationdefaults": {
           "arrowcolor": "#2a3f5f",
           "arrowhead": 0,
           "arrowwidth": 1
          },
          "autotypenumbers": "strict",
          "coloraxis": {
           "colorbar": {
            "outlinewidth": 0,
            "ticks": ""
           }
          },
          "colorscale": {
           "diverging": [
            [
             0,
             "#8e0152"
            ],
            [
             0.1,
             "#c51b7d"
            ],
            [
             0.2,
             "#de77ae"
            ],
            [
             0.3,
             "#f1b6da"
            ],
            [
             0.4,
             "#fde0ef"
            ],
            [
             0.5,
             "#f7f7f7"
            ],
            [
             0.6,
             "#e6f5d0"
            ],
            [
             0.7,
             "#b8e186"
            ],
            [
             0.8,
             "#7fbc41"
            ],
            [
             0.9,
             "#4d9221"
            ],
            [
             1,
             "#276419"
            ]
           ],
           "sequential": [
            [
             0,
             "#0d0887"
            ],
            [
             0.1111111111111111,
             "#46039f"
            ],
            [
             0.2222222222222222,
             "#7201a8"
            ],
            [
             0.3333333333333333,
             "#9c179e"
            ],
            [
             0.4444444444444444,
             "#bd3786"
            ],
            [
             0.5555555555555556,
             "#d8576b"
            ],
            [
             0.6666666666666666,
             "#ed7953"
            ],
            [
             0.7777777777777778,
             "#fb9f3a"
            ],
            [
             0.8888888888888888,
             "#fdca26"
            ],
            [
             1,
             "#f0f921"
            ]
           ],
           "sequentialminus": [
            [
             0,
             "#0d0887"
            ],
            [
             0.1111111111111111,
             "#46039f"
            ],
            [
             0.2222222222222222,
             "#7201a8"
            ],
            [
             0.3333333333333333,
             "#9c179e"
            ],
            [
             0.4444444444444444,
             "#bd3786"
            ],
            [
             0.5555555555555556,
             "#d8576b"
            ],
            [
             0.6666666666666666,
             "#ed7953"
            ],
            [
             0.7777777777777778,
             "#fb9f3a"
            ],
            [
             0.8888888888888888,
             "#fdca26"
            ],
            [
             1,
             "#f0f921"
            ]
           ]
          },
          "colorway": [
           "#636efa",
           "#EF553B",
           "#00cc96",
           "#ab63fa",
           "#FFA15A",
           "#19d3f3",
           "#FF6692",
           "#B6E880",
           "#FF97FF",
           "#FECB52"
          ],
          "font": {
           "color": "#2a3f5f"
          },
          "geo": {
           "bgcolor": "white",
           "lakecolor": "white",
           "landcolor": "#E5ECF6",
           "showlakes": true,
           "showland": true,
           "subunitcolor": "white"
          },
          "hoverlabel": {
           "align": "left"
          },
          "hovermode": "closest",
          "mapbox": {
           "style": "light"
          },
          "paper_bgcolor": "white",
          "plot_bgcolor": "#E5ECF6",
          "polar": {
           "angularaxis": {
            "gridcolor": "white",
            "linecolor": "white",
            "ticks": ""
           },
           "bgcolor": "#E5ECF6",
           "radialaxis": {
            "gridcolor": "white",
            "linecolor": "white",
            "ticks": ""
           }
          },
          "scene": {
           "xaxis": {
            "backgroundcolor": "#E5ECF6",
            "gridcolor": "white",
            "gridwidth": 2,
            "linecolor": "white",
            "showbackground": true,
            "ticks": "",
            "zerolinecolor": "white"
           },
           "yaxis": {
            "backgroundcolor": "#E5ECF6",
            "gridcolor": "white",
            "gridwidth": 2,
            "linecolor": "white",
            "showbackground": true,
            "ticks": "",
            "zerolinecolor": "white"
           },
           "zaxis": {
            "backgroundcolor": "#E5ECF6",
            "gridcolor": "white",
            "gridwidth": 2,
            "linecolor": "white",
            "showbackground": true,
            "ticks": "",
            "zerolinecolor": "white"
           }
          },
          "shapedefaults": {
           "line": {
            "color": "#2a3f5f"
           }
          },
          "ternary": {
           "aaxis": {
            "gridcolor": "white",
            "linecolor": "white",
            "ticks": ""
           },
           "baxis": {
            "gridcolor": "white",
            "linecolor": "white",
            "ticks": ""
           },
           "bgcolor": "#E5ECF6",
           "caxis": {
            "gridcolor": "white",
            "linecolor": "white",
            "ticks": ""
           }
          },
          "title": {
           "x": 0.05
          },
          "xaxis": {
           "automargin": true,
           "gridcolor": "white",
           "linecolor": "white",
           "ticks": "",
           "title": {
            "standoff": 15
           },
           "zerolinecolor": "white",
           "zerolinewidth": 2
          },
          "yaxis": {
           "automargin": true,
           "gridcolor": "white",
           "linecolor": "white",
           "ticks": "",
           "title": {
            "standoff": 15
           },
           "zerolinecolor": "white",
           "zerolinewidth": 2
          }
         }
        },
        "xaxis": {
         "dtick": 1,
         "gridcolor": "rgb(0, 0, 0)",
         "side": "top",
         "ticks": ""
        },
        "yaxis": {
         "autorange": "reversed",
         "dtick": 1,
         "ticks": "",
         "ticksuffix": "  "
        }
       }
      }
     },
     "metadata": {},
     "output_type": "display_data"
    }
   ],
   "source": [
    "columns = list(MUSIC_GENRES.values())\n",
    "fig = ff.create_annotated_heatmap(confusion_matrix(y_test_filtered, y_pred), x=columns, y=columns, colorscale='viridis')\n",
    "fig['layout']['yaxis']['autorange'] = \"reversed\"\n",
    "#fig.write_html('../data/plots/knn_confusion_matrix.html')\n",
    "fig.show()"
   ]
  }
 ],
 "metadata": {
  "interpreter": {
   "hash": "672f7affa5d7a2528902e5307c8d7c1ad39fed9ff332a8fdf3ee18432021f53e"
  },
  "kernelspec": {
   "display_name": "Python 3.9.6 64-bit",
   "language": "python",
   "name": "python3"
  },
  "language_info": {
   "codemirror_mode": {
    "name": "ipython",
    "version": 3
   },
   "file_extension": ".py",
   "mimetype": "text/x-python",
   "name": "python",
   "nbconvert_exporter": "python",
   "pygments_lexer": "ipython3",
   "version": "3.9.6"
  },
  "orig_nbformat": 4
 },
 "nbformat": 4,
 "nbformat_minor": 2
}
